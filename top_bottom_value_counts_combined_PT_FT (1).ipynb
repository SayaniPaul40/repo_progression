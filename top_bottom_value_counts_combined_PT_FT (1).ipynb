{
 "cells": [
  {
   "cell_type": "markdown",
   "id": "e8ffeac2-16ee-4b72-9fbf-4176f0506e47",
   "metadata": {
    "microsoft": {
     "language": "python",
     "language_group": "synapse_pyspark"
    },
    "nteract": {
     "transient": {
      "deleting": false
     }
    }
   },
   "source": [
    "**'top_bottom_value_counts_combined_PT_FT' Notebook:**\n",
    "Historical Progression data along with their predicted outcome rate of progression is sorted  in ascending order by rate. We are manually checking the categories with their counts influencing least progression rate (top 30,100,200) and maximum  progression rate (bottom 30,100,200). Thus conclude by observing which categories of characteristics are mainly influential to Progression of students."
   ]
  },
  {
   "cell_type": "markdown",
   "id": "e59551ef-5ab2-441a-abdc-1c280badfc4a",
   "metadata": {
    "microsoft": {
     "language": "python",
     "language_group": "synapse_pyspark"
    },
    "nteract": {
     "transient": {
      "deleting": false
     }
    }
   },
   "source": [
    "**Installing required libraries**"
   ]
  },
  {
   "cell_type": "code",
   "execution_count": 51,
   "id": "c6b20d92-3915-4abd-ad71-cd748162ec17",
   "metadata": {
    "jupyter": {
     "outputs_hidden": false,
     "source_hidden": false
    },
    "microsoft": {
     "language": "python",
     "language_group": "synapse_pyspark"
    },
    "nteract": {
     "transient": {
      "deleting": false
     }
    }
   },
   "outputs": [
    {
     "data": {
      "application/vnd.livy.statement-meta+json": {
       "execution_finish_time": "2024-12-04T10:39:33.0879203Z",
       "execution_start_time": "2024-12-04T10:39:24.7789442Z",
       "livy_statement_state": "available",
       "normalized_state": "finished",
       "parent_msg_id": "d78c306d-e842-4e43-a278-a9ebe88d1295",
       "queued_time": "2024-12-04T10:39:24.3035271Z",
       "session_id": "c3362933-4b99-4fc4-b98a-e8b07e6c5a39",
       "session_start_time": null,
       "spark_pool": null,
       "state": "finished",
       "statement_id": 53,
       "statement_ids": [
        53
       ]
      },
      "text/plain": [
       "StatementMeta(, c3362933-4b99-4fc4-b98a-e8b07e6c5a39, 53, Finished, Available, Finished)"
      ]
     },
     "metadata": {},
     "output_type": "display_data"
    },
    {
     "name": "stdout",
     "output_type": "stream",
     "text": [
      "Requirement already satisfied: pycaret in /home/trusted-service-user/cluster-env/trident_env/lib/python3.10/site-packages (3.3.2)\n",
      "Requirement already satisfied: ipython>=5.5.0 in /home/trusted-service-user/cluster-env/trident_env/lib/python3.10/site-packages (from pycaret) (8.14.0)\n",
      "Requirement already satisfied: ipywidgets>=7.6.5 in /home/trusted-service-user/cluster-env/trident_env/lib/python3.10/site-packages (from pycaret) (8.0.7)\n",
      "Requirement already satisfied: tqdm>=4.62.0 in /home/trusted-service-user/cluster-env/trident_env/lib/python3.10/site-packages (from pycaret) (4.66.1)\n",
      "Requirement already satisfied: numpy<1.27,>=1.21 in /home/trusted-service-user/cluster-env/trident_env/lib/python3.10/site-packages (from pycaret) (1.24.3)\n",
      "Requirement already satisfied: pandas<2.2.0 in /home/trusted-service-user/cluster-env/trident_env/lib/python3.10/site-packages (from pycaret) (2.0.3)\n",
      "Requirement already satisfied: jinja2>=3 in /home/trusted-service-user/cluster-env/trident_env/lib/python3.10/site-packages (from pycaret) (3.1.2)\n",
      "Requirement already satisfied: scipy<=1.11.4,>=1.6.1 in /home/trusted-service-user/cluster-env/trident_env/lib/python3.10/site-packages (from pycaret) (1.10.1)\n",
      "Requirement already satisfied: joblib<1.4,>=1.2.0 in /home/trusted-service-user/cluster-env/trident_env/lib/python3.10/site-packages (from pycaret) (1.3.2)\n",
      "Requirement already satisfied: scikit-learn>1.4.0 in /home/trusted-service-user/cluster-env/trident_env/lib/python3.10/site-packages (from pycaret) (1.4.2)\n",
      "Requirement already satisfied: pyod>=1.1.3 in /home/trusted-service-user/cluster-env/trident_env/lib/python3.10/site-packages (from pycaret) (2.0.2)\n",
      "Requirement already satisfied: imbalanced-learn>=0.12.0 in /home/trusted-service-user/cluster-env/trident_env/lib/python3.10/site-packages (from pycaret) (0.12.4)\n",
      "Requirement already satisfied: category-encoders>=2.4.0 in /home/trusted-service-user/cluster-env/trident_env/lib/python3.10/site-packages (from pycaret) (2.6.4)\n",
      "Requirement already satisfied: lightgbm>=3.0.0 in /home/trusted-service-user/cluster-env/trident_env/lib/python3.10/site-packages (from pycaret) (4.0.0)\n",
      "Requirement already satisfied: numba>=0.55.0 in /home/trusted-service-user/cluster-env/trident_env/lib/python3.10/site-packages (from pycaret) (0.57.1)\n",
      "Requirement already satisfied: requests>=2.27.1 in /home/trusted-service-user/cluster-env/trident_env/lib/python3.10/site-packages (from pycaret) (2.31.0)\n",
      "Requirement already satisfied: psutil>=5.9.0 in /home/trusted-service-user/cluster-env/trident_env/lib/python3.10/site-packages (from pycaret) (5.9.5)\n",
      "Requirement already satisfied: markupsafe>=2.0.1 in /home/trusted-service-user/cluster-env/trident_env/lib/python3.10/site-packages (from pycaret) (2.1.3)\n",
      "Requirement already satisfied: importlib-metadata>=4.12.0 in /home/trusted-service-user/cluster-env/trident_env/lib/python3.10/site-packages (from pycaret) (6.8.0)\n",
      "Requirement already satisfied: nbformat>=4.2.0 in /home/trusted-service-user/cluster-env/trident_env/lib/python3.10/site-packages (from pycaret) (5.9.2)\n",
      "Requirement already satisfied: cloudpickle in /home/trusted-service-user/cluster-env/trident_env/lib/python3.10/site-packages (from pycaret) (2.2.1)\n",
      "Requirement already satisfied: deprecation>=2.1.0 in /home/trusted-service-user/cluster-env/trident_env/lib/python3.10/site-packages (from pycaret) (2.1.0)\n",
      "Requirement already satisfied: xxhash in /home/trusted-service-user/cluster-env/trident_env/lib/python3.10/site-packages (from pycaret) (3.4.1)\n",
      "Requirement already satisfied: matplotlib<3.8.0 in /home/trusted-service-user/cluster-env/trident_env/lib/python3.10/site-packages (from pycaret) (3.7.2)\n",
      "Requirement already satisfied: scikit-plot>=0.3.7 in /home/trusted-service-user/cluster-env/trident_env/lib/python3.10/site-packages (from pycaret) (0.3.7)\n",
      "Requirement already satisfied: yellowbrick>=1.4 in /home/trusted-service-user/cluster-env/trident_env/lib/python3.10/site-packages (from pycaret) (1.5)\n",
      "Requirement already satisfied: plotly>=5.14.0 in /home/trusted-service-user/cluster-env/trident_env/lib/python3.10/site-packages (from pycaret) (5.16.1)\n",
      "Requirement already satisfied: kaleido>=0.2.1 in /home/trusted-service-user/cluster-env/trident_env/lib/python3.10/site-packages (from pycaret) (0.2.1)\n",
      "Requirement already satisfied: schemdraw==0.15 in /home/trusted-service-user/cluster-env/trident_env/lib/python3.10/site-packages (from pycaret) (0.15)\n",
      "Requirement already satisfied: plotly-resampler>=0.8.3.1 in /home/trusted-service-user/cluster-env/trident_env/lib/python3.10/site-packages (from pycaret) (0.10.0)\n",
      "Requirement already satisfied: statsmodels>=0.12.1 in /home/trusted-service-user/cluster-env/trident_env/lib/python3.10/site-packages (from pycaret) (0.14.0)\n",
      "Requirement already satisfied: sktime==0.26.0 in /home/trusted-service-user/cluster-env/trident_env/lib/python3.10/site-packages (from pycaret) (0.26.0)\n",
      "Requirement already satisfied: tbats>=1.1.3 in /home/trusted-service-user/cluster-env/trident_env/lib/python3.10/site-packages (from pycaret) (1.1.3)\n",
      "Requirement already satisfied: pmdarima>=2.0.4 in /home/trusted-service-user/cluster-env/trident_env/lib/python3.10/site-packages (from pycaret) (2.0.4)\n",
      "Requirement already satisfied: wurlitzer in /home/trusted-service-user/cluster-env/trident_env/lib/python3.10/site-packages (from pycaret) (3.1.1)\n",
      "Requirement already satisfied: packaging in /home/trusted-service-user/cluster-env/trident_env/lib/python3.10/site-packages (from sktime==0.26.0->pycaret) (23.2)\n",
      "Requirement already satisfied: scikit-base<0.8.0 in /home/trusted-service-user/cluster-env/trident_env/lib/python3.10/site-packages (from sktime==0.26.0->pycaret) (0.7.8)\n",
      "Requirement already satisfied: patsy>=0.5.1 in /home/trusted-service-user/cluster-env/trident_env/lib/python3.10/site-packages (from category-encoders>=2.4.0->pycaret) (0.5.3)\n",
      "Requirement already satisfied: threadpoolctl>=2.0.0 in /home/trusted-service-user/cluster-env/trident_env/lib/python3.10/site-packages (from imbalanced-learn>=0.12.0->pycaret) (3.2.0)\n",
      "Requirement already satisfied: zipp>=0.5 in /home/trusted-service-user/cluster-env/trident_env/lib/python3.10/site-packages (from importlib-metadata>=4.12.0->pycaret) (3.17.0)\n",
      "Requirement already satisfied: backcall in /home/trusted-service-user/cluster-env/trident_env/lib/python3.10/site-packages (from ipython>=5.5.0->pycaret) (0.2.0)\n",
      "Requirement already satisfied: decorator in /home/trusted-service-user/cluster-env/trident_env/lib/python3.10/site-packages (from ipython>=5.5.0->pycaret) (5.1.1)\n",
      "Requirement already satisfied: jedi>=0.16 in /home/trusted-service-user/cluster-env/trident_env/lib/python3.10/site-packages (from ipython>=5.5.0->pycaret) (0.19.1)\n",
      "Requirement already satisfied: matplotlib-inline in /home/trusted-service-user/cluster-env/trident_env/lib/python3.10/site-packages (from ipython>=5.5.0->pycaret) (0.1.6)\n",
      "Requirement already satisfied: pickleshare in /home/trusted-service-user/cluster-env/trident_env/lib/python3.10/site-packages (from ipython>=5.5.0->pycaret) (0.7.5)\n",
      "Requirement already satisfied: prompt-toolkit!=3.0.37,<3.1.0,>=3.0.30 in /home/trusted-service-user/cluster-env/trident_env/lib/python3.10/site-packages (from ipython>=5.5.0->pycaret) (3.0.39)\n",
      "Requirement already satisfied: pygments>=2.4.0 in /home/trusted-service-user/cluster-env/trident_env/lib/python3.10/site-packages (from ipython>=5.5.0->pycaret) (2.16.1)\n",
      "Requirement already satisfied: stack-data in /home/trusted-service-user/cluster-env/trident_env/lib/python3.10/site-packages (from ipython>=5.5.0->pycaret) (0.6.2)\n",
      "Requirement already satisfied: traitlets>=5 in /home/trusted-service-user/cluster-env/trident_env/lib/python3.10/site-packages (from ipython>=5.5.0->pycaret) (5.12.0)\n",
      "Requirement already satisfied: pexpect>4.3 in /home/trusted-service-user/cluster-env/trident_env/lib/python3.10/site-packages (from ipython>=5.5.0->pycaret) (4.8.0)\n",
      "Requirement already satisfied: ipykernel>=4.5.1 in /home/trusted-service-user/cluster-env/trident_env/lib/python3.10/site-packages (from ipywidgets>=7.6.5->pycaret) (6.26.0)\n",
      "Requirement already satisfied: widgetsnbextension~=4.0.7 in /home/trusted-service-user/cluster-env/trident_env/lib/python3.10/site-packages (from ipywidgets>=7.6.5->pycaret) (4.0.9)\n",
      "Requirement already satisfied: jupyterlab-widgets~=3.0.7 in /home/trusted-service-user/cluster-env/trident_env/lib/python3.10/site-packages (from ipywidgets>=7.6.5->pycaret) (3.0.9)\n",
      "Requirement already satisfied: contourpy>=1.0.1 in /home/trusted-service-user/cluster-env/trident_env/lib/python3.10/site-packages (from matplotlib<3.8.0->pycaret) (1.1.1)\n",
      "Requirement already satisfied: cycler>=0.10 in /home/trusted-service-user/cluster-env/trident_env/lib/python3.10/site-packages (from matplotlib<3.8.0->pycaret) (0.12.1)\n",
      "Requirement already satisfied: fonttools>=4.22.0 in /home/trusted-service-user/cluster-env/trident_env/lib/python3.10/site-packages (from matplotlib<3.8.0->pycaret) (4.43.1)\n",
      "Requirement already satisfied: kiwisolver>=1.0.1 in /home/trusted-service-user/cluster-env/trident_env/lib/python3.10/site-packages (from matplotlib<3.8.0->pycaret) (1.4.5)\n",
      "Requirement already satisfied: pillow>=6.2.0 in /home/trusted-service-user/cluster-env/trident_env/lib/python3.10/site-packages (from matplotlib<3.8.0->pycaret) (10.0.1)\n",
      "Requirement already satisfied: pyparsing<3.1,>=2.3.1 in /home/trusted-service-user/cluster-env/trident_env/lib/python3.10/site-packages (from matplotlib<3.8.0->pycaret) (3.0.9)\n",
      "Requirement already satisfied: python-dateutil>=2.7 in /home/trusted-service-user/cluster-env/trident_env/lib/python3.10/site-packages (from matplotlib<3.8.0->pycaret) (2.8.2)\n",
      "Requirement already satisfied: fastjsonschema in /home/trusted-service-user/cluster-env/trident_env/lib/python3.10/site-packages (from nbformat>=4.2.0->pycaret) (2.18.1)\n",
      "Requirement already satisfied: jsonschema>=2.6 in /home/trusted-service-user/cluster-env/trident_env/lib/python3.10/site-packages (from nbformat>=4.2.0->pycaret) (4.19.1)\n",
      "Requirement already satisfied: jupyter-core in /home/trusted-service-user/cluster-env/trident_env/lib/python3.10/site-packages (from nbformat>=4.2.0->pycaret) (5.4.0)\n",
      "Requirement already satisfied: llvmlite<0.41,>=0.40.0dev0 in /home/trusted-service-user/cluster-env/trident_env/lib/python3.10/site-packages (from numba>=0.55.0->pycaret) (0.40.1)\n",
      "Requirement already satisfied: pytz>=2020.1 in /home/trusted-service-user/cluster-env/trident_env/lib/python3.10/site-packages (from pandas<2.2.0->pycaret) (2023.3.post1)\n",
      "Requirement already satisfied: tzdata>=2022.1 in /home/trusted-service-user/cluster-env/trident_env/lib/python3.10/site-packages (from pandas<2.2.0->pycaret) (2023.3)\n",
      "Requirement already satisfied: tenacity>=6.2.0 in /home/trusted-service-user/cluster-env/trident_env/lib/python3.10/site-packages (from plotly>=5.14.0->pycaret) (8.2.3)\n",
      "Requirement already satisfied: dash>=2.9.0 in /home/trusted-service-user/cluster-env/trident_env/lib/python3.10/site-packages (from plotly-resampler>=0.8.3.1->pycaret) (2.14.0)\n",
      "Requirement already satisfied: orjson<4.0.0,>=3.8.0 in /home/trusted-service-user/cluster-env/trident_env/lib/python3.10/site-packages (from plotly-resampler>=0.8.3.1->pycaret) (3.10.12)\n",
      "Requirement already satisfied: tsdownsample>=0.1.3 in /home/trusted-service-user/cluster-env/trident_env/lib/python3.10/site-packages (from plotly-resampler>=0.8.3.1->pycaret) (0.1.3)\n",
      "Requirement already satisfied: Cython!=0.29.18,!=0.29.31,>=0.29 in /home/trusted-service-user/cluster-env/trident_env/lib/python3.10/site-packages (from pmdarima>=2.0.4->pycaret) (3.0.4)\n",
      "Requirement already satisfied: urllib3 in /home/trusted-service-user/cluster-env/trident_env/lib/python3.10/site-packages (from pmdarima>=2.0.4->pycaret) (1.26.17)\n",
      "Requirement already satisfied: setuptools!=50.0.0,>=38.6.0 in /home/trusted-service-user/cluster-env/trident_env/lib/python3.10/site-packages (from pmdarima>=2.0.4->pycaret) (68.2.2)\n",
      "Requirement already satisfied: charset-normalizer<4,>=2 in /home/trusted-service-user/cluster-env/trident_env/lib/python3.10/site-packages (from requests>=2.27.1->pycaret) (3.3.1)\n",
      "Requirement already satisfied: idna<4,>=2.5 in /home/trusted-service-user/cluster-env/trident_env/lib/python3.10/site-packages (from requests>=2.27.1->pycaret) (3.4)\n",
      "Requirement already satisfied: certifi>=2017.4.17 in /home/trusted-service-user/cluster-env/trident_env/lib/python3.10/site-packages (from requests>=2.27.1->pycaret) (2023.7.22)\n",
      "Requirement already satisfied: Flask<2.3.0,>=1.0.4 in /home/trusted-service-user/cluster-env/trident_env/lib/python3.10/site-packages (from dash>=2.9.0->plotly-resampler>=0.8.3.1->pycaret) (2.2.5)\n",
      "Requirement already satisfied: Werkzeug<2.3.0 in /home/trusted-service-user/cluster-env/trident_env/lib/python3.10/site-packages (from dash>=2.9.0->plotly-resampler>=0.8.3.1->pycaret) (2.2.3)\n",
      "Requirement already satisfied: dash-html-components==2.0.0 in /home/trusted-service-user/cluster-env/trident_env/lib/python3.10/site-packages (from dash>=2.9.0->plotly-resampler>=0.8.3.1->pycaret) (2.0.0)\n",
      "Requirement already satisfied: dash-core-components==2.0.0 in /home/trusted-service-user/cluster-env/trident_env/lib/python3.10/site-packages (from dash>=2.9.0->plotly-resampler>=0.8.3.1->pycaret) (2.0.0)\n",
      "Requirement already satisfied: dash-table==5.0.0 in /home/trusted-service-user/cluster-env/trident_env/lib/python3.10/site-packages (from dash>=2.9.0->plotly-resampler>=0.8.3.1->pycaret) (5.0.0)\n",
      "Requirement already satisfied: typing-extensions>=4.1.1 in /home/trusted-service-user/cluster-env/trident_env/lib/python3.10/site-packages (from dash>=2.9.0->plotly-resampler>=0.8.3.1->pycaret) (4.5.0)\n",
      "Requirement already satisfied: retrying in /home/trusted-service-user/cluster-env/trident_env/lib/python3.10/site-packages (from dash>=2.9.0->plotly-resampler>=0.8.3.1->pycaret) (1.3.3)\n",
      "Requirement already satisfied: ansi2html in /home/trusted-service-user/cluster-env/trident_env/lib/python3.10/site-packages (from dash>=2.9.0->plotly-resampler>=0.8.3.1->pycaret) (0.0.0)\n",
      "Requirement already satisfied: nest-asyncio in /home/trusted-service-user/cluster-env/trident_env/lib/python3.10/site-packages (from dash>=2.9.0->plotly-resampler>=0.8.3.1->pycaret) (1.5.8)\n",
      "Requirement already satisfied: comm>=0.1.1 in /home/trusted-service-user/cluster-env/trident_env/lib/python3.10/site-packages (from ipykernel>=4.5.1->ipywidgets>=7.6.5->pycaret) (0.1.4)\n",
      "Requirement already satisfied: debugpy>=1.6.5 in /home/trusted-service-user/cluster-env/trident_env/lib/python3.10/site-packages (from ipykernel>=4.5.1->ipywidgets>=7.6.5->pycaret) (1.8.0)\n",
      "Requirement already satisfied: jupyter-client>=6.1.12 in /home/trusted-service-user/cluster-env/trident_env/lib/python3.10/site-packages (from ipykernel>=4.5.1->ipywidgets>=7.6.5->pycaret) (8.5.0)\n",
      "Requirement already satisfied: pyzmq>=20 in /home/trusted-service-user/cluster-env/trident_env/lib/python3.10/site-packages (from ipykernel>=4.5.1->ipywidgets>=7.6.5->pycaret) (25.1.1)\n",
      "Requirement already satisfied: tornado>=6.1 in /home/trusted-service-user/cluster-env/trident_env/lib/python3.10/site-packages (from ipykernel>=4.5.1->ipywidgets>=7.6.5->pycaret) (6.3.3)\n",
      "Requirement already satisfied: parso<0.9.0,>=0.8.3 in /home/trusted-service-user/cluster-env/trident_env/lib/python3.10/site-packages (from jedi>=0.16->ipython>=5.5.0->pycaret) (0.8.3)\n",
      "Requirement already satisfied: attrs>=22.2.0 in /home/trusted-service-user/cluster-env/trident_env/lib/python3.10/site-packages (from jsonschema>=2.6->nbformat>=4.2.0->pycaret) (23.1.0)\n",
      "Requirement already satisfied: jsonschema-specifications>=2023.03.6 in /home/trusted-service-user/cluster-env/trident_env/lib/python3.10/site-packages (from jsonschema>=2.6->nbformat>=4.2.0->pycaret) (2023.7.1)\n",
      "Requirement already satisfied: referencing>=0.28.4 in /home/trusted-service-user/cluster-env/trident_env/lib/python3.10/site-packages (from jsonschema>=2.6->nbformat>=4.2.0->pycaret) (0.30.2)\n",
      "Requirement already satisfied: rpds-py>=0.7.1 in /home/trusted-service-user/cluster-env/trident_env/lib/python3.10/site-packages (from jsonschema>=2.6->nbformat>=4.2.0->pycaret) (0.10.6)\n",
      "Requirement already satisfied: platformdirs>=2.5 in /home/trusted-service-user/cluster-env/trident_env/lib/python3.10/site-packages (from jupyter-core->nbformat>=4.2.0->pycaret) (3.5.1)\n",
      "Requirement already satisfied: six in /home/trusted-service-user/cluster-env/trident_env/lib/python3.10/site-packages (from patsy>=0.5.1->category-encoders>=2.4.0->pycaret) (1.16.0)\n",
      "Requirement already satisfied: ptyprocess>=0.5 in /home/trusted-service-user/cluster-env/trident_env/lib/python3.10/site-packages (from pexpect>4.3->ipython>=5.5.0->pycaret) (0.7.0)\n",
      "Requirement already satisfied: wcwidth in /home/trusted-service-user/cluster-env/trident_env/lib/python3.10/site-packages (from prompt-toolkit!=3.0.37,<3.1.0,>=3.0.30->ipython>=5.5.0->pycaret) (0.2.8)\n",
      "Requirement already satisfied: executing>=1.2.0 in /home/trusted-service-user/cluster-env/trident_env/lib/python3.10/site-packages (from stack-data->ipython>=5.5.0->pycaret) (1.2.0)\n",
      "Requirement already satisfied: asttokens>=2.1.0 in /home/trusted-service-user/cluster-env/trident_env/lib/python3.10/site-packages (from stack-data->ipython>=5.5.0->pycaret) (2.4.0)\n",
      "Requirement already satisfied: pure-eval in /home/trusted-service-user/cluster-env/trident_env/lib/python3.10/site-packages (from stack-data->ipython>=5.5.0->pycaret) (0.2.2)\n",
      "Requirement already satisfied: itsdangerous>=2.0 in /home/trusted-service-user/cluster-env/trident_env/lib/python3.10/site-packages (from Flask<2.3.0,>=1.0.4->dash>=2.9.0->plotly-resampler>=0.8.3.1->pycaret) (2.1.2)\n",
      "Requirement already satisfied: click>=8.0 in /home/trusted-service-user/cluster-env/trident_env/lib/python3.10/site-packages (from Flask<2.3.0,>=1.0.4->dash>=2.9.0->plotly-resampler>=0.8.3.1->pycaret) (8.1.7)\n",
      "Requirement already satisfied: scikit-optimize in /home/trusted-service-user/cluster-env/trident_env/lib/python3.10/site-packages (0.10.2)\n",
      "Requirement already satisfied: joblib>=0.11 in /home/trusted-service-user/cluster-env/trident_env/lib/python3.10/site-packages (from scikit-optimize) (1.3.2)\n",
      "Requirement already satisfied: pyaml>=16.9 in /home/trusted-service-user/cluster-env/trident_env/lib/python3.10/site-packages (from scikit-optimize) (24.9.0)\n",
      "Requirement already satisfied: numpy>=1.20.3 in /home/trusted-service-user/cluster-env/trident_env/lib/python3.10/site-packages (from scikit-optimize) (1.24.3)\n",
      "Requirement already satisfied: scipy>=1.1.0 in /home/trusted-service-user/cluster-env/trident_env/lib/python3.10/site-packages (from scikit-optimize) (1.10.1)\n",
      "Requirement already satisfied: scikit-learn>=1.0.0 in /home/trusted-service-user/cluster-env/trident_env/lib/python3.10/site-packages (from scikit-optimize) (1.4.2)\n",
      "Requirement already satisfied: packaging>=21.3 in /home/trusted-service-user/cluster-env/trident_env/lib/python3.10/site-packages (from scikit-optimize) (23.2)\n",
      "Requirement already satisfied: PyYAML in /home/trusted-service-user/cluster-env/trident_env/lib/python3.10/site-packages (from pyaml>=16.9->scikit-optimize) (6.0.1)\n",
      "Requirement already satisfied: threadpoolctl>=2.0.0 in /home/trusted-service-user/cluster-env/trident_env/lib/python3.10/site-packages (from scikit-learn>=1.0.0->scikit-optimize) (3.2.0)\n"
     ]
    }
   ],
   "source": [
    "!pip install pycaret\n",
    "!pip install scikit-optimize"
   ]
  },
  {
   "cell_type": "markdown",
   "id": "6a5b8edb-2705-43d9-a6cc-1d029f53da4e",
   "metadata": {
    "microsoft": {
     "language": "python",
     "language_group": "synapse_pyspark"
    },
    "nteract": {
     "transient": {
      "deleting": false
     }
    }
   },
   "source": [
    "**Importing required libraries/modules**"
   ]
  },
  {
   "cell_type": "code",
   "execution_count": 52,
   "id": "87196936-c0be-4e2b-86ef-9af3302f770e",
   "metadata": {
    "jupyter": {
     "outputs_hidden": false,
     "source_hidden": false
    },
    "microsoft": {
     "language": "python",
     "language_group": "synapse_pyspark"
    },
    "nteract": {
     "transient": {
      "deleting": false
     }
    }
   },
   "outputs": [
    {
     "data": {
      "application/vnd.livy.statement-meta+json": {
       "execution_finish_time": "2024-12-04T10:39:33.7870362Z",
       "execution_start_time": "2024-12-04T10:39:33.5497044Z",
       "livy_statement_state": "available",
       "normalized_state": "finished",
       "parent_msg_id": "f1854ae3-e024-4362-861f-cab09798eb7d",
       "queued_time": "2024-12-04T10:39:25.6365633Z",
       "session_id": "c3362933-4b99-4fc4-b98a-e8b07e6c5a39",
       "session_start_time": null,
       "spark_pool": null,
       "state": "finished",
       "statement_id": 54,
       "statement_ids": [
        54
       ]
      },
      "text/plain": [
       "StatementMeta(, c3362933-4b99-4fc4-b98a-e8b07e6c5a39, 54, Finished, Available, Finished)"
      ]
     },
     "metadata": {},
     "output_type": "display_data"
    }
   ],
   "source": [
    "import pycaret\n",
    "import numpy as np\n",
    "import pandas as pd\n",
    "import random\n",
    "import json\n",
    "import os\n",
    "import logging\n",
    "import cloudpickle\n",
    "import matplotlib.pyplot as plt\n",
    "from pycaret.classification import *\n",
    "from sklearn.metrics import confusion_matrix,classification_report, ConfusionMatrixDisplay\n",
    "from sklearn.ensemble import RandomForestRegressor\n",
    "from sklearn.model_selection import train_test_split, GridSearchCV,RandomizedSearchCV\n",
    "from sklearn.metrics import mean_absolute_percentage_error, mean_squared_error,precision_score,roc_auc_score,accuracy_score, precision_score, recall_score\n",
    "from sklearn.ensemble import RandomForestClassifier\n",
    "from sklearn import metrics\n",
    "from sklearn.preprocessing import OrdinalEncoder\n",
    "import pickle\n",
    "from datetime import date\n",
    "from sklearn.model_selection import StratifiedKFold\n",
    "from imblearn.over_sampling import SMOTE\n",
    "from sklearn.multiclass import OneVsOneClassifier, OneVsRestClassifier\n",
    "from collections import Counter\n",
    "from imblearn.combine import SMOTEENN\n",
    "from datetime import datetime \n",
    "from pyspark.sql import SparkSession\n",
    "from pyspark.sql import SparkSession\n",
    "from pyspark.sql import Row\n",
    "from pyspark.sql import functions as F\n",
    "from lime import lime_tabular \n",
    "from lime.lime_tabular import LimeTabularExplainer\n",
    "from datetime import datetime \n",
    "from sklearn.model_selection import cross_val_score\n",
    "from sklearn.metrics import classification_report\n",
    "import joblib\n",
    "import skopt\n",
    "import shutil\n",
    "import shap\n",
    "from enum import Enum\n",
    "import warnings\n",
    "import pandas as pd\n",
    "import numpy as np\n",
    "from sklearn.preprocessing import LabelEncoder, OrdinalEncoder, OneHotEncoder, StandardScaler, MinMaxScaler\n",
    "import seaborn as sns\n",
    "import matplotlib.pyplot as plt\n",
    "from datetime import datetime\n",
    "from statsmodels.stats.outliers_influence import variance_inflation_factor\n",
    "from sklearn.ensemble import RandomForestClassifier\n",
    "from sklearn.feature_selection import VarianceThreshold\n",
    "from sklearn.impute import KNNImputer\n",
    "from sklearn.preprocessing import PolynomialFeatures\n",
    "from collections import Counter\n",
    "from pyspark.sql import SparkSession\n",
    "from pyspark.sql import Row\n",
    "from pyspark.sql import functions as F\n",
    "from enum import Enum\n",
    "import scipy.stats as stats\n",
    "import pickle\n",
    "from datetime import datetime\n",
    "import joblib\n",
    "import json\n",
    "from datetime import datetime \n",
    "from dateutil.relativedelta import relativedelta\n",
    "import pandas as pd\n",
    "from pyspark.sql.functions import from_json, col\n",
    "from pyspark.sql.types import MapType, StringType"
   ]
  },
  {
   "cell_type": "markdown",
   "id": "1ca5a2ea-e1cf-4414-9ac8-8aeeb4be03f9",
   "metadata": {
    "microsoft": {
     "language": "python",
     "language_group": "synapse_pyspark"
    },
    "nteract": {
     "transient": {
      "deleting": false
     }
    }
   },
   "source": [
    "**Importing progression data from silver layer to do PT analysis**"
   ]
  },
  {
   "cell_type": "code",
   "execution_count": null,
   "id": "99ad978b",
   "metadata": {},
   "outputs": [],
   "source": [
    "print(\"hi there i am abhisek\")"
   ]
  },
  {
   "cell_type": "code",
   "execution_count": 53,
   "id": "56e163c8-5b27-4070-8ac5-f4173eabe0a3",
   "metadata": {
    "jupyter": {
     "outputs_hidden": false,
     "source_hidden": false
    },
    "microsoft": {
     "language": "python",
     "language_group": "synapse_pyspark"
    },
    "nteract": {
     "transient": {
      "deleting": false
     }
    }
   },
   "outputs": [
    {
     "data": {
      "application/vnd.livy.statement-meta+json": {
       "execution_finish_time": "2024-12-04T10:39:39.1531123Z",
       "execution_start_time": "2024-12-04T10:39:34.2297183Z",
       "livy_statement_state": "available",
       "normalized_state": "finished",
       "parent_msg_id": "82ed435c-81d4-476b-8c09-007a28764a10",
       "queued_time": "2024-12-04T10:39:27.8818241Z",
       "session_id": "c3362933-4b99-4fc4-b98a-e8b07e6c5a39",
       "session_start_time": null,
       "spark_pool": null,
       "state": "finished",
       "statement_id": 55,
       "statement_ids": [
        55
       ]
      },
      "text/plain": [
       "StatementMeta(, c3362933-4b99-4fc4-b98a-e8b07e6c5a39, 55, Finished, Available, Finished)"
      ]
     },
     "metadata": {},
     "output_type": "display_data"
    },
    {
     "data": {
      "text/html": [
       "<div>\n",
       "<style scoped>\n",
       "    .dataframe tbody tr th:only-of-type {\n",
       "        vertical-align: middle;\n",
       "    }\n",
       "\n",
       "    .dataframe tbody tr th {\n",
       "        vertical-align: top;\n",
       "    }\n",
       "\n",
       "    .dataframe thead th {\n",
       "        text-align: right;\n",
       "    }\n",
       "</style>\n",
       "<table border=\"1\" class=\"dataframe\">\n",
       "  <thead>\n",
       "    <tr style=\"text-align: right;\">\n",
       "      <th></th>\n",
       "      <th>Adult_HE_quintile</th>\n",
       "      <th>Age_group</th>\n",
       "      <th>Disability</th>\n",
       "      <th>Ethnicity</th>\n",
       "      <th>IDACI</th>\n",
       "      <th>IMD</th>\n",
       "      <th>Local_or_distance_learner</th>\n",
       "      <th>Sex</th>\n",
       "      <th>Predicted_outcome_rate</th>\n",
       "      <th>Derived_progression_quintile</th>\n",
       "      <th>createdAt</th>\n",
       "    </tr>\n",
       "  </thead>\n",
       "  <tbody>\n",
       "    <tr>\n",
       "      <th>0</th>\n",
       "      <td>-- Any quintile --</td>\n",
       "      <td>21-25</td>\n",
       "      <td>Cognitive or learning difficulties</td>\n",
       "      <td>Asian or Asian British - Pakistani</td>\n",
       "      <td>-- Any quintile --</td>\n",
       "      <td>-- Any quintile --</td>\n",
       "      <td>Local</td>\n",
       "      <td>Female</td>\n",
       "      <td>0.620000</td>\n",
       "      <td>1</td>\n",
       "      <td>2024-11-25 08:59:18.184056</td>\n",
       "    </tr>\n",
       "    <tr>\n",
       "      <th>1</th>\n",
       "      <td>-- Any quintile --</td>\n",
       "      <td>21-25</td>\n",
       "      <td>Cognitive or learning difficulties</td>\n",
       "      <td>Black or black British - African</td>\n",
       "      <td>-- Any quintile --</td>\n",
       "      <td>-- Any quintile --</td>\n",
       "      <td>Local</td>\n",
       "      <td>Female</td>\n",
       "      <td>0.730000</td>\n",
       "      <td>1</td>\n",
       "      <td>2024-11-25 08:59:18.184056</td>\n",
       "    </tr>\n",
       "    <tr>\n",
       "      <th>2</th>\n",
       "      <td>-- Any quintile --</td>\n",
       "      <td>21-25</td>\n",
       "      <td>Cognitive or learning difficulties</td>\n",
       "      <td>Black or black British - Caribbean</td>\n",
       "      <td>-- Any quintile --</td>\n",
       "      <td>-- Any quintile --</td>\n",
       "      <td>Local</td>\n",
       "      <td>Female</td>\n",
       "      <td>0.670000</td>\n",
       "      <td>1</td>\n",
       "      <td>2024-11-25 08:59:18.184056</td>\n",
       "    </tr>\n",
       "    <tr>\n",
       "      <th>3</th>\n",
       "      <td>-- Any quintile --</td>\n",
       "      <td>21-25</td>\n",
       "      <td>Cognitive or learning difficulties</td>\n",
       "      <td>Mixed - other</td>\n",
       "      <td>-- Any quintile --</td>\n",
       "      <td>-- Any quintile --</td>\n",
       "      <td>Local</td>\n",
       "      <td>Female</td>\n",
       "      <td>0.740000</td>\n",
       "      <td>1</td>\n",
       "      <td>2024-11-25 08:59:18.184056</td>\n",
       "    </tr>\n",
       "    <tr>\n",
       "      <th>4</th>\n",
       "      <td>-- Any quintile --</td>\n",
       "      <td>21-25</td>\n",
       "      <td>Cognitive or learning difficulties</td>\n",
       "      <td>Mixed - other</td>\n",
       "      <td>-- Any quintile --</td>\n",
       "      <td>-- Any quintile --</td>\n",
       "      <td>Local</td>\n",
       "      <td>Female</td>\n",
       "      <td>0.740000</td>\n",
       "      <td>1</td>\n",
       "      <td>2024-11-25 08:59:18.184056</td>\n",
       "    </tr>\n",
       "    <tr>\n",
       "      <th>...</th>\n",
       "      <td>...</td>\n",
       "      <td>...</td>\n",
       "      <td>...</td>\n",
       "      <td>...</td>\n",
       "      <td>...</td>\n",
       "      <td>...</td>\n",
       "      <td>...</td>\n",
       "      <td>...</td>\n",
       "      <td>...</td>\n",
       "      <td>...</td>\n",
       "      <td>...</td>\n",
       "    </tr>\n",
       "    <tr>\n",
       "      <th>770852</th>\n",
       "      <td>-- Any quintile --</td>\n",
       "      <td>-- Any age group --</td>\n",
       "      <td>No disability reported</td>\n",
       "      <td>Asian or Asian British - Indian</td>\n",
       "      <td>-- Any quintile --</td>\n",
       "      <td>-- Any quintile --</td>\n",
       "      <td>Neither</td>\n",
       "      <td>Male</td>\n",
       "      <td>0.820000</td>\n",
       "      <td>3</td>\n",
       "      <td>2024-11-25 08:59:18.184056</td>\n",
       "    </tr>\n",
       "    <tr>\n",
       "      <th>770853</th>\n",
       "      <td>-- Any quintile --</td>\n",
       "      <td>-- Any age group --</td>\n",
       "      <td>No disability reported</td>\n",
       "      <td>Asian or Asian British - Indian</td>\n",
       "      <td>-- Any quintile --</td>\n",
       "      <td>-- Any quintile --</td>\n",
       "      <td>Neither</td>\n",
       "      <td>Male</td>\n",
       "      <td>0.820000</td>\n",
       "      <td>3</td>\n",
       "      <td>2024-11-25 08:59:18.184056</td>\n",
       "    </tr>\n",
       "    <tr>\n",
       "      <th>770854</th>\n",
       "      <td>-- Any quintile --</td>\n",
       "      <td>-- Any age group --</td>\n",
       "      <td>No disability reported</td>\n",
       "      <td>Asian or Asian British - Indian</td>\n",
       "      <td>-- Any quintile --</td>\n",
       "      <td>-- Any quintile --</td>\n",
       "      <td>Neither</td>\n",
       "      <td>Male</td>\n",
       "      <td>0.820000</td>\n",
       "      <td>3</td>\n",
       "      <td>2024-11-25 08:59:18.184056</td>\n",
       "    </tr>\n",
       "    <tr>\n",
       "      <th>770855</th>\n",
       "      <td>-- Any quintile --</td>\n",
       "      <td>-- Any age group --</td>\n",
       "      <td>No disability reported</td>\n",
       "      <td>Asian or Asian British - Indian</td>\n",
       "      <td>-- Any quintile --</td>\n",
       "      <td>-- Any quintile --</td>\n",
       "      <td>Neither</td>\n",
       "      <td>Male</td>\n",
       "      <td>0.820000</td>\n",
       "      <td>3</td>\n",
       "      <td>2024-11-25 08:59:18.184056</td>\n",
       "    </tr>\n",
       "    <tr>\n",
       "      <th>770856</th>\n",
       "      <td>-- Any quintile --</td>\n",
       "      <td>-- Any age group --</td>\n",
       "      <td>No disability reported</td>\n",
       "      <td>Asian or Asian British - Indian</td>\n",
       "      <td>-- Any quintile --</td>\n",
       "      <td>-- Any quintile --</td>\n",
       "      <td>Neither</td>\n",
       "      <td>Male</td>\n",
       "      <td>0.820000</td>\n",
       "      <td>3</td>\n",
       "      <td>2024-11-25 08:59:18.184056</td>\n",
       "    </tr>\n",
       "  </tbody>\n",
       "</table>\n",
       "<p>770857 rows × 11 columns</p>\n",
       "</div>"
      ],
      "text/plain": [
       "         Adult_HE_quintile            Age_group  \\\n",
       "0       -- Any quintile --                21-25   \n",
       "1       -- Any quintile --                21-25   \n",
       "2       -- Any quintile --                21-25   \n",
       "3       -- Any quintile --                21-25   \n",
       "4       -- Any quintile --                21-25   \n",
       "...                    ...                  ...   \n",
       "770852  -- Any quintile --  -- Any age group --   \n",
       "770853  -- Any quintile --  -- Any age group --   \n",
       "770854  -- Any quintile --  -- Any age group --   \n",
       "770855  -- Any quintile --  -- Any age group --   \n",
       "770856  -- Any quintile --  -- Any age group --   \n",
       "\n",
       "                                Disability  \\\n",
       "0       Cognitive or learning difficulties   \n",
       "1       Cognitive or learning difficulties   \n",
       "2       Cognitive or learning difficulties   \n",
       "3       Cognitive or learning difficulties   \n",
       "4       Cognitive or learning difficulties   \n",
       "...                                    ...   \n",
       "770852              No disability reported   \n",
       "770853              No disability reported   \n",
       "770854              No disability reported   \n",
       "770855              No disability reported   \n",
       "770856              No disability reported   \n",
       "\n",
       "                                 Ethnicity               IDACI  \\\n",
       "0       Asian or Asian British - Pakistani  -- Any quintile --   \n",
       "1         Black or black British - African  -- Any quintile --   \n",
       "2       Black or black British - Caribbean  -- Any quintile --   \n",
       "3                            Mixed - other  -- Any quintile --   \n",
       "4                            Mixed - other  -- Any quintile --   \n",
       "...                                    ...                 ...   \n",
       "770852     Asian or Asian British - Indian  -- Any quintile --   \n",
       "770853     Asian or Asian British - Indian  -- Any quintile --   \n",
       "770854     Asian or Asian British - Indian  -- Any quintile --   \n",
       "770855     Asian or Asian British - Indian  -- Any quintile --   \n",
       "770856     Asian or Asian British - Indian  -- Any quintile --   \n",
       "\n",
       "                       IMD Local_or_distance_learner     Sex  \\\n",
       "0       -- Any quintile --                     Local  Female   \n",
       "1       -- Any quintile --                     Local  Female   \n",
       "2       -- Any quintile --                     Local  Female   \n",
       "3       -- Any quintile --                     Local  Female   \n",
       "4       -- Any quintile --                     Local  Female   \n",
       "...                    ...                       ...     ...   \n",
       "770852  -- Any quintile --                   Neither    Male   \n",
       "770853  -- Any quintile --                   Neither    Male   \n",
       "770854  -- Any quintile --                   Neither    Male   \n",
       "770855  -- Any quintile --                   Neither    Male   \n",
       "770856  -- Any quintile --                   Neither    Male   \n",
       "\n",
       "       Predicted_outcome_rate  Derived_progression_quintile  \\\n",
       "0                    0.620000                             1   \n",
       "1                    0.730000                             1   \n",
       "2                    0.670000                             1   \n",
       "3                    0.740000                             1   \n",
       "4                    0.740000                             1   \n",
       "...                       ...                           ...   \n",
       "770852               0.820000                             3   \n",
       "770853               0.820000                             3   \n",
       "770854               0.820000                             3   \n",
       "770855               0.820000                             3   \n",
       "770856               0.820000                             3   \n",
       "\n",
       "                        createdAt  \n",
       "0      2024-11-25 08:59:18.184056  \n",
       "1      2024-11-25 08:59:18.184056  \n",
       "2      2024-11-25 08:59:18.184056  \n",
       "3      2024-11-25 08:59:18.184056  \n",
       "4      2024-11-25 08:59:18.184056  \n",
       "...                           ...  \n",
       "770852 2024-11-25 08:59:18.184056  \n",
       "770853 2024-11-25 08:59:18.184056  \n",
       "770854 2024-11-25 08:59:18.184056  \n",
       "770855 2024-11-25 08:59:18.184056  \n",
       "770856 2024-11-25 08:59:18.184056  \n",
       "\n",
       "[770857 rows x 11 columns]"
      ]
     },
     "execution_count": 164,
     "metadata": {},
     "output_type": "execute_result"
    }
   ],
   "source": [
    "df_p = spark.sql(\"SELECT * FROM SilverData.external_progression_data\")\n",
    "df_pt=df_p.toPandas()\n",
    "df_pt"
   ]
  },
  {
   "cell_type": "markdown",
   "id": "a9338f51-eb03-4d1f-a67f-a4132c596f85",
   "metadata": {
    "microsoft": {
     "language": "python",
     "language_group": "synapse_pyspark"
    },
    "nteract": {
     "transient": {
      "deleting": false
     }
    }
   },
   "source": [
    "**Mapping Any categories as blanks and Local as FT and Distance as PT**"
   ]
  },
  {
   "cell_type": "code",
   "execution_count": 54,
   "id": "f2a8d752-8cd2-4b4a-abeb-c36b691bda7b",
   "metadata": {
    "jupyter": {
     "outputs_hidden": false,
     "source_hidden": false
    },
    "microsoft": {
     "language": "python",
     "language_group": "synapse_pyspark"
    },
    "nteract": {
     "transient": {
      "deleting": false
     }
    }
   },
   "outputs": [
    {
     "data": {
      "application/vnd.livy.statement-meta+json": {
       "execution_finish_time": "2024-12-04T10:39:43.3205219Z",
       "execution_start_time": "2024-12-04T10:39:39.6719308Z",
       "livy_statement_state": "available",
       "normalized_state": "finished",
       "parent_msg_id": "ac45e144-e815-4b17-9683-2f3bddb17022",
       "queued_time": "2024-12-04T10:39:29.8337708Z",
       "session_id": "c3362933-4b99-4fc4-b98a-e8b07e6c5a39",
       "session_start_time": null,
       "spark_pool": null,
       "state": "finished",
       "statement_id": 56,
       "statement_ids": [
        56
       ]
      },
      "text/plain": [
       "StatementMeta(, c3362933-4b99-4fc4-b98a-e8b07e6c5a39, 56, Finished, Available, Finished)"
      ]
     },
     "metadata": {},
     "output_type": "display_data"
    }
   ],
   "source": [
    "df_pt1 = df_pt.replace({\n",
    "    '-- Any quintile --':'', \n",
    "    '-- Any disability --':'', \n",
    "    '-- Any ethnicity --':'', \n",
    "    '-- Any quintile --':'', \n",
    "    '-- Any learner --': '',\n",
    "    '-- Any sex --': '',\n",
    "    'Distance':'PT',\n",
    "    '-- Any age group --':''  \n",
    "})"
   ]
  },
  {
   "cell_type": "markdown",
   "id": "5689e3f3-bcdc-4d7d-8f4b-d920f1154e85",
   "metadata": {
    "microsoft": {
     "language": "python",
     "language_group": "synapse_pyspark"
    },
    "nteract": {
     "transient": {
      "deleting": false
     }
    }
   },
   "source": [
    "**Selecting PT combinaation only**"
   ]
  },
  {
   "cell_type": "code",
   "execution_count": 55,
   "id": "4bc519c6-4263-4f5a-b817-a549055a2342",
   "metadata": {
    "jupyter": {
     "outputs_hidden": false,
     "source_hidden": false
    },
    "microsoft": {
     "language": "python",
     "language_group": "synapse_pyspark"
    },
    "nteract": {
     "transient": {
      "deleting": false
     }
    }
   },
   "outputs": [
    {
     "data": {
      "application/vnd.livy.statement-meta+json": {
       "execution_finish_time": "2024-12-04T10:39:44.1963917Z",
       "execution_start_time": "2024-12-04T10:39:43.8547165Z",
       "livy_statement_state": "available",
       "normalized_state": "finished",
       "parent_msg_id": "527de286-1b30-43e8-8120-3002dd78a64f",
       "queued_time": "2024-12-04T10:39:31.5846897Z",
       "session_id": "c3362933-4b99-4fc4-b98a-e8b07e6c5a39",
       "session_start_time": null,
       "spark_pool": null,
       "state": "finished",
       "statement_id": 57,
       "statement_ids": [
        57
       ]
      },
      "text/plain": [
       "StatementMeta(, c3362933-4b99-4fc4-b98a-e8b07e6c5a39, 57, Finished, Available, Finished)"
      ]
     },
     "metadata": {},
     "output_type": "display_data"
    },
    {
     "data": {
      "text/html": [
       "<div>\n",
       "<style scoped>\n",
       "    .dataframe tbody tr th:only-of-type {\n",
       "        vertical-align: middle;\n",
       "    }\n",
       "\n",
       "    .dataframe tbody tr th {\n",
       "        vertical-align: top;\n",
       "    }\n",
       "\n",
       "    .dataframe thead th {\n",
       "        text-align: right;\n",
       "    }\n",
       "</style>\n",
       "<table border=\"1\" class=\"dataframe\">\n",
       "  <thead>\n",
       "    <tr style=\"text-align: right;\">\n",
       "      <th></th>\n",
       "      <th>Adult_HE_quintile</th>\n",
       "      <th>Age_group</th>\n",
       "      <th>Disability</th>\n",
       "      <th>Ethnicity</th>\n",
       "      <th>IDACI</th>\n",
       "      <th>IMD</th>\n",
       "      <th>Local_or_distance_learner</th>\n",
       "      <th>Sex</th>\n",
       "      <th>Predicted_outcome_rate</th>\n",
       "      <th>Derived_progression_quintile</th>\n",
       "      <th>createdAt</th>\n",
       "    </tr>\n",
       "  </thead>\n",
       "  <tbody>\n",
       "    <tr>\n",
       "      <th>1003</th>\n",
       "      <td></td>\n",
       "      <td>21-25</td>\n",
       "      <td>Cognitive or learning difficulties</td>\n",
       "      <td>Mixed - white and black African</td>\n",
       "      <td></td>\n",
       "      <td></td>\n",
       "      <td>PT</td>\n",
       "      <td>Female</td>\n",
       "      <td>0.750000</td>\n",
       "      <td>1</td>\n",
       "      <td>2024-11-25 08:59:18.184056</td>\n",
       "    </tr>\n",
       "    <tr>\n",
       "      <th>1004</th>\n",
       "      <td>Quintile 1</td>\n",
       "      <td>21-25</td>\n",
       "      <td>Cognitive or learning difficulties</td>\n",
       "      <td></td>\n",
       "      <td></td>\n",
       "      <td></td>\n",
       "      <td>PT</td>\n",
       "      <td>Female</td>\n",
       "      <td>0.720000</td>\n",
       "      <td>1</td>\n",
       "      <td>2024-11-25 08:59:18.184056</td>\n",
       "    </tr>\n",
       "    <tr>\n",
       "      <th>1005</th>\n",
       "      <td></td>\n",
       "      <td>21-25</td>\n",
       "      <td>Cognitive or learning difficulties</td>\n",
       "      <td></td>\n",
       "      <td>Quintile 1</td>\n",
       "      <td></td>\n",
       "      <td>PT</td>\n",
       "      <td>Female</td>\n",
       "      <td>0.740000</td>\n",
       "      <td>1</td>\n",
       "      <td>2024-11-25 08:59:18.184056</td>\n",
       "    </tr>\n",
       "    <tr>\n",
       "      <th>1006</th>\n",
       "      <td></td>\n",
       "      <td>21-25</td>\n",
       "      <td>Cognitive or learning difficulties</td>\n",
       "      <td></td>\n",
       "      <td>Quintile 1</td>\n",
       "      <td></td>\n",
       "      <td>PT</td>\n",
       "      <td>Female</td>\n",
       "      <td>0.740000</td>\n",
       "      <td>1</td>\n",
       "      <td>2024-11-25 08:59:18.184056</td>\n",
       "    </tr>\n",
       "    <tr>\n",
       "      <th>1007</th>\n",
       "      <td></td>\n",
       "      <td>21-25</td>\n",
       "      <td>Cognitive or learning difficulties</td>\n",
       "      <td></td>\n",
       "      <td></td>\n",
       "      <td>Quintile 1</td>\n",
       "      <td>PT</td>\n",
       "      <td>Female</td>\n",
       "      <td>0.730000</td>\n",
       "      <td>1</td>\n",
       "      <td>2024-11-25 08:59:18.184056</td>\n",
       "    </tr>\n",
       "    <tr>\n",
       "      <th>...</th>\n",
       "      <td>...</td>\n",
       "      <td>...</td>\n",
       "      <td>...</td>\n",
       "      <td>...</td>\n",
       "      <td>...</td>\n",
       "      <td>...</td>\n",
       "      <td>...</td>\n",
       "      <td>...</td>\n",
       "      <td>...</td>\n",
       "      <td>...</td>\n",
       "      <td>...</td>\n",
       "    </tr>\n",
       "    <tr>\n",
       "      <th>770847</th>\n",
       "      <td></td>\n",
       "      <td></td>\n",
       "      <td>No disability reported</td>\n",
       "      <td>Asian or Asian British - Indian</td>\n",
       "      <td></td>\n",
       "      <td></td>\n",
       "      <td>PT</td>\n",
       "      <td>Male</td>\n",
       "      <td>0.820000</td>\n",
       "      <td>3</td>\n",
       "      <td>2024-11-25 08:59:18.184056</td>\n",
       "    </tr>\n",
       "    <tr>\n",
       "      <th>770848</th>\n",
       "      <td></td>\n",
       "      <td></td>\n",
       "      <td>No disability reported</td>\n",
       "      <td>Asian or Asian British - Indian</td>\n",
       "      <td></td>\n",
       "      <td></td>\n",
       "      <td>PT</td>\n",
       "      <td>Male</td>\n",
       "      <td>0.820000</td>\n",
       "      <td>3</td>\n",
       "      <td>2024-11-25 08:59:18.184056</td>\n",
       "    </tr>\n",
       "    <tr>\n",
       "      <th>770849</th>\n",
       "      <td></td>\n",
       "      <td></td>\n",
       "      <td>No disability reported</td>\n",
       "      <td>Asian or Asian British - Indian</td>\n",
       "      <td></td>\n",
       "      <td></td>\n",
       "      <td>PT</td>\n",
       "      <td>Male</td>\n",
       "      <td>0.820000</td>\n",
       "      <td>3</td>\n",
       "      <td>2024-11-25 08:59:18.184056</td>\n",
       "    </tr>\n",
       "    <tr>\n",
       "      <th>770850</th>\n",
       "      <td></td>\n",
       "      <td></td>\n",
       "      <td>No disability reported</td>\n",
       "      <td>Asian or Asian British - Indian</td>\n",
       "      <td></td>\n",
       "      <td></td>\n",
       "      <td>PT</td>\n",
       "      <td>Male</td>\n",
       "      <td>0.820000</td>\n",
       "      <td>3</td>\n",
       "      <td>2024-11-25 08:59:18.184056</td>\n",
       "    </tr>\n",
       "    <tr>\n",
       "      <th>770851</th>\n",
       "      <td></td>\n",
       "      <td></td>\n",
       "      <td>No disability reported</td>\n",
       "      <td>Asian or Asian British - Indian</td>\n",
       "      <td></td>\n",
       "      <td></td>\n",
       "      <td>PT</td>\n",
       "      <td>Male</td>\n",
       "      <td>0.820000</td>\n",
       "      <td>3</td>\n",
       "      <td>2024-11-25 08:59:18.184056</td>\n",
       "    </tr>\n",
       "  </tbody>\n",
       "</table>\n",
       "<p>204784 rows × 11 columns</p>\n",
       "</div>"
      ],
      "text/plain": [
       "       Adult_HE_quintile Age_group                          Disability  \\\n",
       "1003                         21-25  Cognitive or learning difficulties   \n",
       "1004          Quintile 1     21-25  Cognitive or learning difficulties   \n",
       "1005                         21-25  Cognitive or learning difficulties   \n",
       "1006                         21-25  Cognitive or learning difficulties   \n",
       "1007                         21-25  Cognitive or learning difficulties   \n",
       "...                  ...       ...                                 ...   \n",
       "770847                                          No disability reported   \n",
       "770848                                          No disability reported   \n",
       "770849                                          No disability reported   \n",
       "770850                                          No disability reported   \n",
       "770851                                          No disability reported   \n",
       "\n",
       "                              Ethnicity       IDACI         IMD  \\\n",
       "1003    Mixed - white and black African                           \n",
       "1004                                                              \n",
       "1005                                     Quintile 1               \n",
       "1006                                     Quintile 1               \n",
       "1007                                                 Quintile 1   \n",
       "...                                 ...         ...         ...   \n",
       "770847  Asian or Asian British - Indian                           \n",
       "770848  Asian or Asian British - Indian                           \n",
       "770849  Asian or Asian British - Indian                           \n",
       "770850  Asian or Asian British - Indian                           \n",
       "770851  Asian or Asian British - Indian                           \n",
       "\n",
       "       Local_or_distance_learner     Sex Predicted_outcome_rate  \\\n",
       "1003                          PT  Female               0.750000   \n",
       "1004                          PT  Female               0.720000   \n",
       "1005                          PT  Female               0.740000   \n",
       "1006                          PT  Female               0.740000   \n",
       "1007                          PT  Female               0.730000   \n",
       "...                          ...     ...                    ...   \n",
       "770847                        PT    Male               0.820000   \n",
       "770848                        PT    Male               0.820000   \n",
       "770849                        PT    Male               0.820000   \n",
       "770850                        PT    Male               0.820000   \n",
       "770851                        PT    Male               0.820000   \n",
       "\n",
       "        Derived_progression_quintile                  createdAt  \n",
       "1003                               1 2024-11-25 08:59:18.184056  \n",
       "1004                               1 2024-11-25 08:59:18.184056  \n",
       "1005                               1 2024-11-25 08:59:18.184056  \n",
       "1006                               1 2024-11-25 08:59:18.184056  \n",
       "1007                               1 2024-11-25 08:59:18.184056  \n",
       "...                              ...                        ...  \n",
       "770847                             3 2024-11-25 08:59:18.184056  \n",
       "770848                             3 2024-11-25 08:59:18.184056  \n",
       "770849                             3 2024-11-25 08:59:18.184056  \n",
       "770850                             3 2024-11-25 08:59:18.184056  \n",
       "770851                             3 2024-11-25 08:59:18.184056  \n",
       "\n",
       "[204784 rows x 11 columns]"
      ]
     },
     "execution_count": 170,
     "metadata": {},
     "output_type": "execute_result"
    }
   ],
   "source": [
    "df_pt1= df_pt1[df_pt1['Local_or_distance_learner']=='PT']\n",
    "df_pt1"
   ]
  },
  {
   "cell_type": "markdown",
   "id": "742b8bef-f8fb-4369-8d77-8f7a0fc838d4",
   "metadata": {
    "microsoft": {
     "language": "python",
     "language_group": "synapse_pyspark"
    },
    "nteract": {
     "transient": {
      "deleting": false
     }
    }
   },
   "source": [
    "**Created a Concatenated column by adding all the characteristics- Adult he quintile, age group, disability, ethnicity, idaci, imd, local or distance learner, sex**\n"
   ]
  },
  {
   "cell_type": "code",
   "execution_count": 56,
   "id": "ea76984f-6533-4112-8218-e41cd5dd6d65",
   "metadata": {
    "jupyter": {
     "outputs_hidden": false,
     "source_hidden": false
    },
    "microsoft": {
     "language": "python",
     "language_group": "synapse_pyspark"
    },
    "nteract": {
     "transient": {
      "deleting": false
     }
    }
   },
   "outputs": [
    {
     "data": {
      "application/vnd.livy.statement-meta+json": {
       "execution_finish_time": "2024-12-04T10:39:45.0531454Z",
       "execution_start_time": "2024-12-04T10:39:44.7475682Z",
       "livy_statement_state": "available",
       "normalized_state": "finished",
       "parent_msg_id": "3d543781-a6a4-4c06-8a42-18987906ddd6",
       "queued_time": "2024-12-04T10:39:33.2053994Z",
       "session_id": "c3362933-4b99-4fc4-b98a-e8b07e6c5a39",
       "session_start_time": null,
       "spark_pool": null,
       "state": "finished",
       "statement_id": 58,
       "statement_ids": [
        58
       ]
      },
      "text/plain": [
       "StatementMeta(, c3362933-4b99-4fc4-b98a-e8b07e6c5a39, 58, Finished, Available, Finished)"
      ]
     },
     "metadata": {},
     "output_type": "display_data"
    }
   ],
   "source": [
    "# Concatenate columns by converting all values to strings\n",
    "df_pt1['Concatenated_column'] = (\n",
    "    df_pt1['Adult_HE_quintile'].astype(str) + \n",
    "    df_pt1['Age_group'].astype(str) + \n",
    "    df_pt1['Disability'].astype(str) + \n",
    "    df_pt1['Ethnicity'].astype(str) + \n",
    "    df_pt1['IDACI'].astype(str) + \n",
    "    df_pt1['IMD'].astype(str) + \n",
    "    df_pt1['Local_or_distance_learner'].astype(str) + \n",
    "    df_pt1['Sex'].astype(str)\n",
    ")\n"
   ]
  },
  {
   "cell_type": "markdown",
   "id": "5cbb23c0-f92c-473a-b51c-d30158f75b98",
   "metadata": {
    "microsoft": {
     "language": "python",
     "language_group": "synapse_pyspark"
    },
    "nteract": {
     "transient": {
      "deleting": false
     }
    }
   },
   "source": [
    "**Selecting some necessary columns and saving as a dataframe**"
   ]
  },
  {
   "cell_type": "code",
   "execution_count": 57,
   "id": "2d21cf9e-b5ad-4e7f-9f1f-b5986ef06df8",
   "metadata": {
    "jupyter": {
     "outputs_hidden": false,
     "source_hidden": false
    },
    "microsoft": {
     "language": "python",
     "language_group": "synapse_pyspark"
    },
    "nteract": {
     "transient": {
      "deleting": false
     }
    }
   },
   "outputs": [
    {
     "data": {
      "application/vnd.livy.statement-meta+json": {
       "execution_finish_time": "2024-12-04T10:39:45.941723Z",
       "execution_start_time": "2024-12-04T10:39:45.6682844Z",
       "livy_statement_state": "available",
       "normalized_state": "finished",
       "parent_msg_id": "435e1eba-52f0-4cc7-b930-57cc5629861c",
       "queued_time": "2024-12-04T10:39:35.1742551Z",
       "session_id": "c3362933-4b99-4fc4-b98a-e8b07e6c5a39",
       "session_start_time": null,
       "spark_pool": null,
       "state": "finished",
       "statement_id": 59,
       "statement_ids": [
        59
       ]
      },
      "text/plain": [
       "StatementMeta(, c3362933-4b99-4fc4-b98a-e8b07e6c5a39, 59, Finished, Available, Finished)"
      ]
     },
     "metadata": {},
     "output_type": "display_data"
    },
    {
     "data": {
      "text/html": [
       "<div>\n",
       "<style scoped>\n",
       "    .dataframe tbody tr th:only-of-type {\n",
       "        vertical-align: middle;\n",
       "    }\n",
       "\n",
       "    .dataframe tbody tr th {\n",
       "        vertical-align: top;\n",
       "    }\n",
       "\n",
       "    .dataframe thead th {\n",
       "        text-align: right;\n",
       "    }\n",
       "</style>\n",
       "<table border=\"1\" class=\"dataframe\">\n",
       "  <thead>\n",
       "    <tr style=\"text-align: right;\">\n",
       "      <th></th>\n",
       "      <th>Predicted_outcome_rate</th>\n",
       "      <th>Derived_progression_quintile</th>\n",
       "      <th>Concatenated_column</th>\n",
       "    </tr>\n",
       "  </thead>\n",
       "  <tbody>\n",
       "    <tr>\n",
       "      <th>1003</th>\n",
       "      <td>0.750000</td>\n",
       "      <td>1</td>\n",
       "      <td>21-25Cognitive or learning difficultiesMixed -...</td>\n",
       "    </tr>\n",
       "    <tr>\n",
       "      <th>1004</th>\n",
       "      <td>0.720000</td>\n",
       "      <td>1</td>\n",
       "      <td>Quintile 121-25Cognitive or learning difficult...</td>\n",
       "    </tr>\n",
       "    <tr>\n",
       "      <th>1005</th>\n",
       "      <td>0.740000</td>\n",
       "      <td>1</td>\n",
       "      <td>21-25Cognitive or learning difficultiesQuintil...</td>\n",
       "    </tr>\n",
       "    <tr>\n",
       "      <th>1006</th>\n",
       "      <td>0.740000</td>\n",
       "      <td>1</td>\n",
       "      <td>21-25Cognitive or learning difficultiesQuintil...</td>\n",
       "    </tr>\n",
       "    <tr>\n",
       "      <th>1007</th>\n",
       "      <td>0.730000</td>\n",
       "      <td>1</td>\n",
       "      <td>21-25Cognitive or learning difficultiesQuintil...</td>\n",
       "    </tr>\n",
       "    <tr>\n",
       "      <th>...</th>\n",
       "      <td>...</td>\n",
       "      <td>...</td>\n",
       "      <td>...</td>\n",
       "    </tr>\n",
       "    <tr>\n",
       "      <th>770847</th>\n",
       "      <td>0.820000</td>\n",
       "      <td>3</td>\n",
       "      <td>No disability reportedAsian or Asian British -...</td>\n",
       "    </tr>\n",
       "    <tr>\n",
       "      <th>770848</th>\n",
       "      <td>0.820000</td>\n",
       "      <td>3</td>\n",
       "      <td>No disability reportedAsian or Asian British -...</td>\n",
       "    </tr>\n",
       "    <tr>\n",
       "      <th>770849</th>\n",
       "      <td>0.820000</td>\n",
       "      <td>3</td>\n",
       "      <td>No disability reportedAsian or Asian British -...</td>\n",
       "    </tr>\n",
       "    <tr>\n",
       "      <th>770850</th>\n",
       "      <td>0.820000</td>\n",
       "      <td>3</td>\n",
       "      <td>No disability reportedAsian or Asian British -...</td>\n",
       "    </tr>\n",
       "    <tr>\n",
       "      <th>770851</th>\n",
       "      <td>0.820000</td>\n",
       "      <td>3</td>\n",
       "      <td>No disability reportedAsian or Asian British -...</td>\n",
       "    </tr>\n",
       "  </tbody>\n",
       "</table>\n",
       "<p>204784 rows × 3 columns</p>\n",
       "</div>"
      ],
      "text/plain": [
       "       Predicted_outcome_rate  Derived_progression_quintile  \\\n",
       "1003                 0.750000                             1   \n",
       "1004                 0.720000                             1   \n",
       "1005                 0.740000                             1   \n",
       "1006                 0.740000                             1   \n",
       "1007                 0.730000                             1   \n",
       "...                       ...                           ...   \n",
       "770847               0.820000                             3   \n",
       "770848               0.820000                             3   \n",
       "770849               0.820000                             3   \n",
       "770850               0.820000                             3   \n",
       "770851               0.820000                             3   \n",
       "\n",
       "                                      Concatenated_column  \n",
       "1003    21-25Cognitive or learning difficultiesMixed -...  \n",
       "1004    Quintile 121-25Cognitive or learning difficult...  \n",
       "1005    21-25Cognitive or learning difficultiesQuintil...  \n",
       "1006    21-25Cognitive or learning difficultiesQuintil...  \n",
       "1007    21-25Cognitive or learning difficultiesQuintil...  \n",
       "...                                                   ...  \n",
       "770847  No disability reportedAsian or Asian British -...  \n",
       "770848  No disability reportedAsian or Asian British -...  \n",
       "770849  No disability reportedAsian or Asian British -...  \n",
       "770850  No disability reportedAsian or Asian British -...  \n",
       "770851  No disability reportedAsian or Asian British -...  \n",
       "\n",
       "[204784 rows x 3 columns]"
      ]
     },
     "execution_count": 176,
     "metadata": {},
     "output_type": "execute_result"
    }
   ],
   "source": [
    "df_pt1=df_pt1[['Predicted_outcome_rate','Derived_progression_quintile','Concatenated_column']]\n",
    "\n",
    "df_pt1"
   ]
  },
  {
   "cell_type": "markdown",
   "id": "34c1fdf1-4db6-47e6-8a80-e8514aea57a5",
   "metadata": {
    "microsoft": {
     "language": "python",
     "language_group": "synapse_pyspark"
    },
    "nteract": {
     "transient": {
      "deleting": false
     }
    }
   },
   "source": [
    "**Fetching student characteristics table from silver layer**"
   ]
  },
  {
   "cell_type": "code",
   "execution_count": 58,
   "id": "87bf3a1f-693f-461c-b297-a6a69e263eba",
   "metadata": {
    "jupyter": {
     "outputs_hidden": false,
     "source_hidden": false
    },
    "microsoft": {
     "language": "python",
     "language_group": "synapse_pyspark"
    },
    "nteract": {
     "transient": {
      "deleting": false
     }
    }
   },
   "outputs": [
    {
     "data": {
      "application/vnd.livy.statement-meta+json": {
       "execution_finish_time": "2024-12-04T10:39:48.1061041Z",
       "execution_start_time": "2024-12-04T10:39:46.4191142Z",
       "livy_statement_state": "available",
       "normalized_state": "finished",
       "parent_msg_id": "4f8d165e-29d2-4a5e-80df-aaff524d942f",
       "queued_time": "2024-12-04T10:39:39.3372884Z",
       "session_id": "c3362933-4b99-4fc4-b98a-e8b07e6c5a39",
       "session_start_time": null,
       "spark_pool": null,
       "state": "finished",
       "statement_id": 60,
       "statement_ids": [
        60
       ]
      },
      "text/plain": [
       "StatementMeta(, c3362933-4b99-4fc4-b98a-e8b07e6c5a39, 60, Finished, Available, Finished)"
      ]
     },
     "metadata": {},
     "output_type": "display_data"
    },
    {
     "data": {
      "text/html": [
       "<div>\n",
       "<style scoped>\n",
       "    .dataframe tbody tr th:only-of-type {\n",
       "        vertical-align: middle;\n",
       "    }\n",
       "\n",
       "    .dataframe tbody tr th {\n",
       "        vertical-align: top;\n",
       "    }\n",
       "\n",
       "    .dataframe thead th {\n",
       "        text-align: right;\n",
       "    }\n",
       "</style>\n",
       "<table border=\"1\" class=\"dataframe\">\n",
       "  <thead>\n",
       "    <tr style=\"text-align: right;\">\n",
       "      <th></th>\n",
       "      <th>StudentNumber</th>\n",
       "      <th>age_on_entry</th>\n",
       "      <th>ethnicity_16_groups</th>\n",
       "      <th>sex</th>\n",
       "      <th>ethnicity_6_groups</th>\n",
       "      <th>gender_identity</th>\n",
       "      <th>tundra_msoa_quintile_desc</th>\n",
       "      <th>adult_he_2011_quintile_desc</th>\n",
       "      <th>polar4_quintile_desc</th>\n",
       "      <th>imd_desc</th>\n",
       "      <th>idaci_desc</th>\n",
       "      <th>religion_or_belief</th>\n",
       "      <th>sexual_orientation</th>\n",
       "      <th>parental_education</th>\n",
       "      <th>disability_type</th>\n",
       "      <th>disability_status</th>\n",
       "      <th>care_leaver</th>\n",
       "      <th>entry_qualification_desc</th>\n",
       "    </tr>\n",
       "  </thead>\n",
       "  <tbody>\n",
       "    <tr>\n",
       "      <th>0</th>\n",
       "      <td>STU223216</td>\n",
       "      <td>Under 21 years on entry</td>\n",
       "      <td>Refused_or_Unknown</td>\n",
       "      <td>Male</td>\n",
       "      <td>Refused_unknown_or_not_collected</td>\n",
       "      <td>Yes</td>\n",
       "      <td>Unknown or invalid home postcode</td>\n",
       "      <td>Unknown or invalid home postcode</td>\n",
       "      <td>Unknown or invalid home postcode</td>\n",
       "      <td>Unknown or invalid home postcode</td>\n",
       "      <td>Unknown or invalid home postcode</td>\n",
       "      <td>Hindu</td>\n",
       "      <td>Heterosexual</td>\n",
       "      <td>Yes</td>\n",
       "      <td>No_disability_reported_or_unknown</td>\n",
       "      <td>No_Disability_Reported</td>\n",
       "      <td>Refused, unknown or not collected</td>\n",
       "      <td>Other qualification at level 3</td>\n",
       "    </tr>\n",
       "    <tr>\n",
       "      <th>1</th>\n",
       "      <td>STU233638</td>\n",
       "      <td>21 to 25 years on entry</td>\n",
       "      <td>Refused_or_Unknown</td>\n",
       "      <td>Male</td>\n",
       "      <td>Refused_unknown_or_not_collected</td>\n",
       "      <td>Yes</td>\n",
       "      <td>Unknown or invalid home postcode</td>\n",
       "      <td>Unknown or invalid home postcode</td>\n",
       "      <td>Unknown or invalid home postcode</td>\n",
       "      <td>Unknown or invalid home postcode</td>\n",
       "      <td>Unknown or invalid home postcode</td>\n",
       "      <td>Hindu</td>\n",
       "      <td>Other_Sexual_Orientation</td>\n",
       "      <td>Not_known</td>\n",
       "      <td>No_disability_reported_or_unknown</td>\n",
       "      <td>No_Disability_Reported</td>\n",
       "      <td>Care_experienced</td>\n",
       "      <td>Other qualification at level 3</td>\n",
       "    </tr>\n",
       "    <tr>\n",
       "      <th>2</th>\n",
       "      <td>STU232679</td>\n",
       "      <td>21 to 25 years on entry</td>\n",
       "      <td>Refused_or_Unknown</td>\n",
       "      <td>Male</td>\n",
       "      <td>Refused_unknown_or_not_collected</td>\n",
       "      <td>Yes</td>\n",
       "      <td>Unknown or invalid home postcode</td>\n",
       "      <td>Unknown or invalid home postcode</td>\n",
       "      <td>Unknown or invalid home postcode</td>\n",
       "      <td>Unknown or invalid home postcode</td>\n",
       "      <td>Unknown or invalid home postcode</td>\n",
       "      <td>Hindu</td>\n",
       "      <td>Refused_Unknown_or_not_collected</td>\n",
       "      <td>Yes</td>\n",
       "      <td>No_disability_reported_or_unknown</td>\n",
       "      <td>No_Disability_Reported</td>\n",
       "      <td>Refused, unknown or not collected</td>\n",
       "      <td>Other qualification at level 3</td>\n",
       "    </tr>\n",
       "    <tr>\n",
       "      <th>3</th>\n",
       "      <td>STU226091</td>\n",
       "      <td>21 to 25 years on entry</td>\n",
       "      <td>Refused_or_Unknown</td>\n",
       "      <td>Female</td>\n",
       "      <td>Refused_unknown_or_not_collected</td>\n",
       "      <td>Information refused</td>\n",
       "      <td>Unknown or invalid home postcode</td>\n",
       "      <td>Unknown or invalid home postcode</td>\n",
       "      <td>Unknown or invalid home postcode</td>\n",
       "      <td>Unknown or invalid home postcode</td>\n",
       "      <td>Unknown or invalid home postcode</td>\n",
       "      <td>Hindu</td>\n",
       "      <td>Refused_Unknown_or_not_collected</td>\n",
       "      <td>Yes</td>\n",
       "      <td>No_disability_reported_or_unknown</td>\n",
       "      <td>No_Disability_Reported</td>\n",
       "      <td>Refused, unknown or not collected</td>\n",
       "      <td>Other qualification at level 3</td>\n",
       "    </tr>\n",
       "    <tr>\n",
       "      <th>4</th>\n",
       "      <td>STU226874</td>\n",
       "      <td>Under 21 years on entry</td>\n",
       "      <td>Refused_or_Unknown</td>\n",
       "      <td>Male</td>\n",
       "      <td>Refused_unknown_or_not_collected</td>\n",
       "      <td>No</td>\n",
       "      <td>Unknown or invalid home postcode</td>\n",
       "      <td>Unknown or invalid home postcode</td>\n",
       "      <td>Unknown or invalid home postcode</td>\n",
       "      <td>Unknown or invalid home postcode</td>\n",
       "      <td>Unknown or invalid home postcode</td>\n",
       "      <td>Hindu</td>\n",
       "      <td>Refused_Unknown_or_not_collected</td>\n",
       "      <td>Not_known</td>\n",
       "      <td>No_disability_reported_or_unknown</td>\n",
       "      <td>No_Disability_Reported</td>\n",
       "      <td>Refused, unknown or not collected</td>\n",
       "      <td>Other qualification at level 3</td>\n",
       "    </tr>\n",
       "    <tr>\n",
       "      <th>...</th>\n",
       "      <td>...</td>\n",
       "      <td>...</td>\n",
       "      <td>...</td>\n",
       "      <td>...</td>\n",
       "      <td>...</td>\n",
       "      <td>...</td>\n",
       "      <td>...</td>\n",
       "      <td>...</td>\n",
       "      <td>...</td>\n",
       "      <td>...</td>\n",
       "      <td>...</td>\n",
       "      <td>...</td>\n",
       "      <td>...</td>\n",
       "      <td>...</td>\n",
       "      <td>...</td>\n",
       "      <td>...</td>\n",
       "      <td>...</td>\n",
       "      <td>...</td>\n",
       "    </tr>\n",
       "    <tr>\n",
       "      <th>96210</th>\n",
       "      <td>STU113403</td>\n",
       "      <td>31 to 40 years on entry</td>\n",
       "      <td>White</td>\n",
       "      <td>Female</td>\n",
       "      <td>White</td>\n",
       "      <td>Yes</td>\n",
       "      <td>Quintile 5</td>\n",
       "      <td>Quintile 3</td>\n",
       "      <td>Quintile 4</td>\n",
       "      <td>Quintile 2 England</td>\n",
       "      <td>Quintile 2</td>\n",
       "      <td>Christian</td>\n",
       "      <td>Heterosexual</td>\n",
       "      <td>No</td>\n",
       "      <td>No_disability_reported_or_unknown</td>\n",
       "      <td>No_Disability_Reported</td>\n",
       "      <td>Care_experienced</td>\n",
       "      <td>Higher National Diploma (HND)</td>\n",
       "    </tr>\n",
       "    <tr>\n",
       "      <th>96211</th>\n",
       "      <td>STU146681</td>\n",
       "      <td>31 to 40 years on entry</td>\n",
       "      <td>White</td>\n",
       "      <td>Female</td>\n",
       "      <td>White</td>\n",
       "      <td>Yes</td>\n",
       "      <td>Quintile 5</td>\n",
       "      <td>Quintile 3</td>\n",
       "      <td>Quintile 4</td>\n",
       "      <td>Quintile 2 England</td>\n",
       "      <td>Quintile 2</td>\n",
       "      <td>Christian</td>\n",
       "      <td>Heterosexual</td>\n",
       "      <td>No</td>\n",
       "      <td>No_disability_reported_or_unknown</td>\n",
       "      <td>No_Disability_Reported</td>\n",
       "      <td>Care_experienced</td>\n",
       "      <td>Other qualification at level 3</td>\n",
       "    </tr>\n",
       "    <tr>\n",
       "      <th>96212</th>\n",
       "      <td>STU152040</td>\n",
       "      <td>31 to 40 years on entry</td>\n",
       "      <td>White</td>\n",
       "      <td>Female</td>\n",
       "      <td>White</td>\n",
       "      <td>Yes</td>\n",
       "      <td>Quintile 5</td>\n",
       "      <td>Quintile 3</td>\n",
       "      <td>Quintile 4</td>\n",
       "      <td>Quintile 2 England</td>\n",
       "      <td>Quintile 2</td>\n",
       "      <td>Christian</td>\n",
       "      <td>Heterosexual</td>\n",
       "      <td>No</td>\n",
       "      <td>No_disability_reported_or_unknown</td>\n",
       "      <td>No_Disability_Reported</td>\n",
       "      <td>Care_experienced</td>\n",
       "      <td>UK first degree with honours</td>\n",
       "    </tr>\n",
       "    <tr>\n",
       "      <th>96213</th>\n",
       "      <td>STU129002</td>\n",
       "      <td>31 to 40 years on entry</td>\n",
       "      <td>White</td>\n",
       "      <td>Female</td>\n",
       "      <td>White</td>\n",
       "      <td>Yes</td>\n",
       "      <td>Quintile 5</td>\n",
       "      <td>Quintile 3</td>\n",
       "      <td>Quintile 4</td>\n",
       "      <td>Quintile 2 England</td>\n",
       "      <td>Quintile 2</td>\n",
       "      <td>Christian</td>\n",
       "      <td>Heterosexual</td>\n",
       "      <td>No</td>\n",
       "      <td>No_disability_reported_or_unknown</td>\n",
       "      <td>No_Disability_Reported</td>\n",
       "      <td>Care_experienced</td>\n",
       "      <td>Other qualification at level C</td>\n",
       "    </tr>\n",
       "    <tr>\n",
       "      <th>96214</th>\n",
       "      <td>STU191381</td>\n",
       "      <td>31 to 40 years on entry</td>\n",
       "      <td>White</td>\n",
       "      <td>Female</td>\n",
       "      <td>White</td>\n",
       "      <td>Yes</td>\n",
       "      <td>Quintile 5</td>\n",
       "      <td>Quintile 3</td>\n",
       "      <td>Quintile 4</td>\n",
       "      <td>Quintile 2 England</td>\n",
       "      <td>Quintile 2</td>\n",
       "      <td>Christian</td>\n",
       "      <td>Heterosexual</td>\n",
       "      <td>No</td>\n",
       "      <td>No_disability_reported_or_unknown</td>\n",
       "      <td>No_Disability_Reported</td>\n",
       "      <td>Care_experienced</td>\n",
       "      <td>Other qualification at level 3</td>\n",
       "    </tr>\n",
       "  </tbody>\n",
       "</table>\n",
       "<p>96215 rows × 18 columns</p>\n",
       "</div>"
      ],
      "text/plain": [
       "      StudentNumber             age_on_entry ethnicity_16_groups     sex  \\\n",
       "0         STU223216  Under 21 years on entry  Refused_or_Unknown    Male   \n",
       "1         STU233638  21 to 25 years on entry  Refused_or_Unknown    Male   \n",
       "2         STU232679  21 to 25 years on entry  Refused_or_Unknown    Male   \n",
       "3         STU226091  21 to 25 years on entry  Refused_or_Unknown  Female   \n",
       "4         STU226874  Under 21 years on entry  Refused_or_Unknown    Male   \n",
       "...             ...                      ...                 ...     ...   \n",
       "96210     STU113403  31 to 40 years on entry               White  Female   \n",
       "96211     STU146681  31 to 40 years on entry               White  Female   \n",
       "96212     STU152040  31 to 40 years on entry               White  Female   \n",
       "96213     STU129002  31 to 40 years on entry               White  Female   \n",
       "96214     STU191381  31 to 40 years on entry               White  Female   \n",
       "\n",
       "                     ethnicity_6_groups      gender_identity  \\\n",
       "0      Refused_unknown_or_not_collected                  Yes   \n",
       "1      Refused_unknown_or_not_collected                  Yes   \n",
       "2      Refused_unknown_or_not_collected                  Yes   \n",
       "3      Refused_unknown_or_not_collected  Information refused   \n",
       "4      Refused_unknown_or_not_collected                   No   \n",
       "...                                 ...                  ...   \n",
       "96210                             White                  Yes   \n",
       "96211                             White                  Yes   \n",
       "96212                             White                  Yes   \n",
       "96213                             White                  Yes   \n",
       "96214                             White                  Yes   \n",
       "\n",
       "              tundra_msoa_quintile_desc       adult_he_2011_quintile_desc  \\\n",
       "0      Unknown or invalid home postcode  Unknown or invalid home postcode   \n",
       "1      Unknown or invalid home postcode  Unknown or invalid home postcode   \n",
       "2      Unknown or invalid home postcode  Unknown or invalid home postcode   \n",
       "3      Unknown or invalid home postcode  Unknown or invalid home postcode   \n",
       "4      Unknown or invalid home postcode  Unknown or invalid home postcode   \n",
       "...                                 ...                               ...   \n",
       "96210                        Quintile 5                        Quintile 3   \n",
       "96211                        Quintile 5                        Quintile 3   \n",
       "96212                        Quintile 5                        Quintile 3   \n",
       "96213                        Quintile 5                        Quintile 3   \n",
       "96214                        Quintile 5                        Quintile 3   \n",
       "\n",
       "                   polar4_quintile_desc                          imd_desc  \\\n",
       "0      Unknown or invalid home postcode  Unknown or invalid home postcode   \n",
       "1      Unknown or invalid home postcode  Unknown or invalid home postcode   \n",
       "2      Unknown or invalid home postcode  Unknown or invalid home postcode   \n",
       "3      Unknown or invalid home postcode  Unknown or invalid home postcode   \n",
       "4      Unknown or invalid home postcode  Unknown or invalid home postcode   \n",
       "...                                 ...                               ...   \n",
       "96210                        Quintile 4                Quintile 2 England   \n",
       "96211                        Quintile 4                Quintile 2 England   \n",
       "96212                        Quintile 4                Quintile 2 England   \n",
       "96213                        Quintile 4                Quintile 2 England   \n",
       "96214                        Quintile 4                Quintile 2 England   \n",
       "\n",
       "                             idaci_desc religion_or_belief  \\\n",
       "0      Unknown or invalid home postcode              Hindu   \n",
       "1      Unknown or invalid home postcode              Hindu   \n",
       "2      Unknown or invalid home postcode              Hindu   \n",
       "3      Unknown or invalid home postcode              Hindu   \n",
       "4      Unknown or invalid home postcode              Hindu   \n",
       "...                                 ...                ...   \n",
       "96210                        Quintile 2          Christian   \n",
       "96211                        Quintile 2          Christian   \n",
       "96212                        Quintile 2          Christian   \n",
       "96213                        Quintile 2          Christian   \n",
       "96214                        Quintile 2          Christian   \n",
       "\n",
       "                     sexual_orientation parental_education  \\\n",
       "0                          Heterosexual                Yes   \n",
       "1              Other_Sexual_Orientation          Not_known   \n",
       "2      Refused_Unknown_or_not_collected                Yes   \n",
       "3      Refused_Unknown_or_not_collected                Yes   \n",
       "4      Refused_Unknown_or_not_collected          Not_known   \n",
       "...                                 ...                ...   \n",
       "96210                      Heterosexual                 No   \n",
       "96211                      Heterosexual                 No   \n",
       "96212                      Heterosexual                 No   \n",
       "96213                      Heterosexual                 No   \n",
       "96214                      Heterosexual                 No   \n",
       "\n",
       "                         disability_type       disability_status  \\\n",
       "0      No_disability_reported_or_unknown  No_Disability_Reported   \n",
       "1      No_disability_reported_or_unknown  No_Disability_Reported   \n",
       "2      No_disability_reported_or_unknown  No_Disability_Reported   \n",
       "3      No_disability_reported_or_unknown  No_Disability_Reported   \n",
       "4      No_disability_reported_or_unknown  No_Disability_Reported   \n",
       "...                                  ...                     ...   \n",
       "96210  No_disability_reported_or_unknown  No_Disability_Reported   \n",
       "96211  No_disability_reported_or_unknown  No_Disability_Reported   \n",
       "96212  No_disability_reported_or_unknown  No_Disability_Reported   \n",
       "96213  No_disability_reported_or_unknown  No_Disability_Reported   \n",
       "96214  No_disability_reported_or_unknown  No_Disability_Reported   \n",
       "\n",
       "                             care_leaver        entry_qualification_desc  \n",
       "0      Refused, unknown or not collected  Other qualification at level 3  \n",
       "1                       Care_experienced  Other qualification at level 3  \n",
       "2      Refused, unknown or not collected  Other qualification at level 3  \n",
       "3      Refused, unknown or not collected  Other qualification at level 3  \n",
       "4      Refused, unknown or not collected  Other qualification at level 3  \n",
       "...                                  ...                             ...  \n",
       "96210                   Care_experienced   Higher National Diploma (HND)  \n",
       "96211                   Care_experienced  Other qualification at level 3  \n",
       "96212                   Care_experienced    UK first degree with honours  \n",
       "96213                   Care_experienced  Other qualification at level C  \n",
       "96214                   Care_experienced  Other qualification at level 3  \n",
       "\n",
       "[96215 rows x 18 columns]"
      ]
     },
     "execution_count": 179,
     "metadata": {},
     "output_type": "execute_result"
    }
   ],
   "source": [
    "df_char = spark.sql(\"SELECT * FROM SilverData.event_student_characteristics\")\n",
    "df_characteristics=df_char.toPandas()\n",
    "#renaming 'stunumber' with 'StudentNumber'\n",
    "df_characteristics=df_characteristics.rename(columns={'stunumber':'StudentNumber'}, inplace=False)\n",
    "# Remove columns that end with 'value'\n",
    "df_characteristics = df_characteristics[[col for col in df_characteristics.columns if not col.endswith('value')]]\n",
    "#dropping some columns('student_id','created_at','modified_at') as those are not required\n",
    "df_characteristics=df_characteristics.drop(columns=['student_id','created_at','modified_at'])\n",
    "df_characteristics"
   ]
  },
  {
   "cell_type": "markdown",
   "id": "18239f62-90fa-43cf-a410-9ebdda3a063f",
   "metadata": {
    "microsoft": {
     "language": "python",
     "language_group": "synapse_pyspark"
    },
    "nteract": {
     "transient": {
      "deleting": false
     }
    }
   },
   "source": [
    "**Changing some mappings as per ABCS data**"
   ]
  },
  {
   "cell_type": "code",
   "execution_count": 59,
   "id": "38899f00-efb1-46a9-befb-cd9cd17f8a3c",
   "metadata": {
    "jupyter": {
     "outputs_hidden": false,
     "source_hidden": false
    },
    "microsoft": {
     "language": "python",
     "language_group": "synapse_pyspark"
    },
    "nteract": {
     "transient": {
      "deleting": false
     }
    }
   },
   "outputs": [
    {
     "data": {
      "application/vnd.livy.statement-meta+json": {
       "execution_finish_time": "2024-12-04T10:39:50.7270615Z",
       "execution_start_time": "2024-12-04T10:39:49.0193826Z",
       "livy_statement_state": "available",
       "normalized_state": "finished",
       "parent_msg_id": "adcb5358-e397-4bcf-8a9f-4a0a95936ed7",
       "queued_time": "2024-12-04T10:39:44.7959209Z",
       "session_id": "c3362933-4b99-4fc4-b98a-e8b07e6c5a39",
       "session_start_time": null,
       "spark_pool": null,
       "state": "finished",
       "statement_id": 61,
       "statement_ids": [
        61
       ]
      },
      "text/plain": [
       "StatementMeta(, c3362933-4b99-4fc4-b98a-e8b07e6c5a39, 61, Finished, Available, Finished)"
      ]
     },
     "metadata": {},
     "output_type": "display_data"
    }
   ],
   "source": [
    "df_characteristics = df_characteristics.replace({\n",
    "    '51 years and over on entry':'51+', \n",
    "    '41 to 50 years on entry':'41-50', \n",
    "    '26 to 30 years on entry':'26-30', \n",
    "    'Under 21 years on entry':'20', \n",
    "    '21 to 25 years on entry': '21-25', \n",
    "    '31 to 40 years on entry': '31-40', \n",
    "    'Unknown':'',\n",
    "\n",
    "    'Refused_or_Unknown':'Refused or unknown',\n",
    "    \n",
    "  \n",
    "    'White':'White',\n",
    "    'Black_or_black_British_African':'Black or black British - African',\n",
    "    'Other_ethnic_group':'Other ethnic group', \n",
    "    'Mixed_other':'Mixed - other',\n",
    "    'Gypsy_or_Traveller':'',\n",
    "    'Black_or_black_British_Caribbean':'Black or black British - Caribbean',\n",
    "    'Asian_or_Asian_British_Bangladeshi':'Asian or Asian British - Bangladeshi',\n",
    "    'Asian_or_Asian_British_Pakistani':'Asian or Asian British - Pakistani',\n",
    "    'Mixed_White_and_black_African':'Mixed - white and black African',\n",
    "    'Mixed_White_and_black_Caribbean':'Mixed - white and black Caribbean',\n",
    "    'Asian_or_Asian_British_other':'Asian or Asian British - other', \n",
    "    'Asian_or_Asian_British_Chinese':'Asian or Asian British - Chinese',\n",
    "    'Mixed_White_and_Asian':'Mixed - white and Asian', \n",
    "    'Asian_or_Asian_British_Indian':'Asian or Asian British - Indian',\n",
    "    \n",
    "    'Refused_unknown_or_not_collected':'',\n",
    "    'Other_sex':'',\n",
    "\n",
    "    'Unknown or invalid home postcode':'',\n",
    "    'Quintile 1 England':'Quintile 1', \n",
    "    'Quintile 3 England':'Quintile 3', \n",
    "    'Quintile 2 England':'Quintile 2',\n",
    "    'Quintile 4 England':'Quintile 4', \n",
    "    'Quintile 5 England':'Quintile 5',\n",
    "\n",
    "    'No_disability_reported_or_unknown':'No disability reported', \n",
    "    'Mental_health_condition':'Mental health condition',\n",
    "    'Cognitive_or_learning_difficulties':'Cognitive or learning difficulties',\n",
    "    'Sensory_medical_or_physical_impairment':'Sensory, medical or physical impairments',\n",
    "    'Multiple_or_other_impairments':'Multiple or other impairments',\n",
    "    'Social_or_communication_impairment':'Social or communication impairment'\n",
    "    \n",
    "})\n"
   ]
  },
  {
   "cell_type": "markdown",
   "id": "adc4a4ec-100c-4f76-8dbc-cf8cfd9f8126",
   "metadata": {
    "microsoft": {
     "language": "python",
     "language_group": "synapse_pyspark"
    },
    "nteract": {
     "transient": {
      "deleting": false
     }
    }
   },
   "source": [
    "**Fetching student_code, study mode details and event_description from event table and applied filter Event_Type= 'Progression Outcome'**"
   ]
  },
  {
   "cell_type": "code",
   "execution_count": 60,
   "id": "1a86de3f-8ac8-4ad0-a3bd-4f8591b31eca",
   "metadata": {
    "advisor": {
     "adviceMetadata": "{\"artifactId\":\"9d83a238-046b-4c78-8f7e-0ebc92985a88\",\"activityId\":\"c3362933-4b99-4fc4-b98a-e8b07e6c5a39\",\"applicationId\":\"application_1733308242592_0001\",\"jobGroupId\":\"62\",\"advices\":{\"warn\":1}}"
    },
    "jupyter": {
     "outputs_hidden": false,
     "source_hidden": false
    },
    "microsoft": {
     "language": "python",
     "language_group": "synapse_pyspark"
    },
    "nteract": {
     "transient": {
      "deleting": false
     }
    }
   },
   "outputs": [
    {
     "data": {
      "application/vnd.livy.statement-meta+json": {
       "execution_finish_time": "2024-12-04T10:39:55.0386718Z",
       "execution_start_time": "2024-12-04T10:39:52.6283697Z",
       "livy_statement_state": "available",
       "normalized_state": "finished",
       "parent_msg_id": "655addd9-0629-4d01-9a93-7d811f8390be",
       "queued_time": "2024-12-04T10:39:52.0723135Z",
       "session_id": "c3362933-4b99-4fc4-b98a-e8b07e6c5a39",
       "session_start_time": null,
       "spark_pool": null,
       "state": "finished",
       "statement_id": 62,
       "statement_ids": [
        62
       ]
      },
      "text/plain": [
       "StatementMeta(, c3362933-4b99-4fc4-b98a-e8b07e6c5a39, 62, Finished, Available, Finished)"
      ]
     },
     "metadata": {},
     "output_type": "display_data"
    },
    {
     "data": {
      "text/html": [
       "<div>\n",
       "<style scoped>\n",
       "    .dataframe tbody tr th:only-of-type {\n",
       "        vertical-align: middle;\n",
       "    }\n",
       "\n",
       "    .dataframe tbody tr th {\n",
       "        vertical-align: top;\n",
       "    }\n",
       "\n",
       "    .dataframe thead th {\n",
       "        text-align: right;\n",
       "    }\n",
       "</style>\n",
       "<table border=\"1\" class=\"dataframe\">\n",
       "  <thead>\n",
       "    <tr style=\"text-align: right;\">\n",
       "      <th></th>\n",
       "      <th>Student_Code</th>\n",
       "      <th>Study Mode Details</th>\n",
       "      <th>Event_Description</th>\n",
       "    </tr>\n",
       "  </thead>\n",
       "  <tbody>\n",
       "    <tr>\n",
       "      <th>0</th>\n",
       "      <td>STU37252</td>\n",
       "      <td>{\"Ipstartmode\":\"PT\",\"Iplevel\":\"PGTM\"}</td>\n",
       "      <td>Progression: Positive</td>\n",
       "    </tr>\n",
       "    <tr>\n",
       "      <th>1</th>\n",
       "      <td>STU64336</td>\n",
       "      <td>{\"Ipstartmode\":\"PT\",\"Iplevel\":\"PGTM\"}</td>\n",
       "      <td>Progression: Positive</td>\n",
       "    </tr>\n",
       "    <tr>\n",
       "      <th>2</th>\n",
       "      <td>STU51841</td>\n",
       "      <td>{\"Ipstartmode\":\"PT\",\"Iplevel\":\"PGTM\"}</td>\n",
       "      <td>Progression: Positive</td>\n",
       "    </tr>\n",
       "    <tr>\n",
       "      <th>3</th>\n",
       "      <td>STU58143</td>\n",
       "      <td>{\"Ipstartmode\":\"PT\",\"Iplevel\":\"PGTM\"}</td>\n",
       "      <td>Progression: Positive</td>\n",
       "    </tr>\n",
       "    <tr>\n",
       "      <th>4</th>\n",
       "      <td>STU37792</td>\n",
       "      <td>{\"Ipstartmode\":\"PT\",\"Iplevel\":\"PGTM\"}</td>\n",
       "      <td>Progression: Positive</td>\n",
       "    </tr>\n",
       "    <tr>\n",
       "      <th>...</th>\n",
       "      <td>...</td>\n",
       "      <td>...</td>\n",
       "      <td>...</td>\n",
       "    </tr>\n",
       "    <tr>\n",
       "      <th>1573</th>\n",
       "      <td>STU53397</td>\n",
       "      <td>{\"Ipstartmode\":\"FT\",\"Iplevel\":\"DEG\"}</td>\n",
       "      <td>Progression: Negative</td>\n",
       "    </tr>\n",
       "    <tr>\n",
       "      <th>1574</th>\n",
       "      <td>STU58274</td>\n",
       "      <td>{\"Ipstartmode\":\"FT\",\"Iplevel\":\"DEG\"}</td>\n",
       "      <td>Progression: Positive</td>\n",
       "    </tr>\n",
       "    <tr>\n",
       "      <th>1575</th>\n",
       "      <td>STU53864</td>\n",
       "      <td>{\"Ipstartmode\":\"FT\",\"Iplevel\":\"DEG\"}</td>\n",
       "      <td>Progression: Negative</td>\n",
       "    </tr>\n",
       "    <tr>\n",
       "      <th>1576</th>\n",
       "      <td>STU53853</td>\n",
       "      <td>{\"Ipstartmode\":\"FT\",\"Iplevel\":\"DEG\"}</td>\n",
       "      <td>Progression: Negative</td>\n",
       "    </tr>\n",
       "    <tr>\n",
       "      <th>1577</th>\n",
       "      <td>STU53384</td>\n",
       "      <td>{\"Ipstartmode\":\"FT\",\"Iplevel\":\"DEG\"}</td>\n",
       "      <td>Progression: Positive</td>\n",
       "    </tr>\n",
       "  </tbody>\n",
       "</table>\n",
       "<p>1578 rows × 3 columns</p>\n",
       "</div>"
      ],
      "text/plain": [
       "     Student_Code                     Study Mode Details  \\\n",
       "0        STU37252  {\"Ipstartmode\":\"PT\",\"Iplevel\":\"PGTM\"}   \n",
       "1        STU64336  {\"Ipstartmode\":\"PT\",\"Iplevel\":\"PGTM\"}   \n",
       "2        STU51841  {\"Ipstartmode\":\"PT\",\"Iplevel\":\"PGTM\"}   \n",
       "3        STU58143  {\"Ipstartmode\":\"PT\",\"Iplevel\":\"PGTM\"}   \n",
       "4        STU37792  {\"Ipstartmode\":\"PT\",\"Iplevel\":\"PGTM\"}   \n",
       "...           ...                                    ...   \n",
       "1573     STU53397   {\"Ipstartmode\":\"FT\",\"Iplevel\":\"DEG\"}   \n",
       "1574     STU58274   {\"Ipstartmode\":\"FT\",\"Iplevel\":\"DEG\"}   \n",
       "1575     STU53864   {\"Ipstartmode\":\"FT\",\"Iplevel\":\"DEG\"}   \n",
       "1576     STU53853   {\"Ipstartmode\":\"FT\",\"Iplevel\":\"DEG\"}   \n",
       "1577     STU53384   {\"Ipstartmode\":\"FT\",\"Iplevel\":\"DEG\"}   \n",
       "\n",
       "          Event_Description  \n",
       "0     Progression: Positive  \n",
       "1     Progression: Positive  \n",
       "2     Progression: Positive  \n",
       "3     Progression: Positive  \n",
       "4     Progression: Positive  \n",
       "...                     ...  \n",
       "1573  Progression: Negative  \n",
       "1574  Progression: Positive  \n",
       "1575  Progression: Negative  \n",
       "1576  Progression: Negative  \n",
       "1577  Progression: Positive  \n",
       "\n",
       "[1578 rows x 3 columns]"
      ]
     },
     "execution_count": 185,
     "metadata": {},
     "output_type": "execute_result"
    }
   ],
   "source": [
    "df_study_mode = spark.sql(\"Select Student_Code,Event_Context,Event_Description from event_students where Event_Type = 'Progression Outcome'\")\n",
    "df_study_mode_pandas = df_study_mode.toPandas()\n",
    "df_study_mode_pandas['Study Mode Details'] = df_study_mode_pandas['Event_Context']\n",
    "df_study_mode_pandas = df_study_mode_pandas[['Student_Code', 'Study Mode Details','Event_Description']]\n",
    "df_study_mode_pandas"
   ]
  },
  {
   "cell_type": "markdown",
   "id": "bb1e7441-1855-4e3d-a673-c17e59938852",
   "metadata": {
    "microsoft": {
     "language": "python",
     "language_group": "synapse_pyspark"
    },
    "nteract": {
     "transient": {
      "deleting": false
     }
    }
   },
   "source": [
    "**Fetching details like ipstartmode and iplevel**"
   ]
  },
  {
   "cell_type": "code",
   "execution_count": 61,
   "id": "da5f31a7-7336-4752-a067-82d3b4b26fd6",
   "metadata": {
    "jupyter": {
     "outputs_hidden": false,
     "source_hidden": false
    },
    "microsoft": {
     "language": "python",
     "language_group": "synapse_pyspark"
    },
    "nteract": {
     "transient": {
      "deleting": false
     }
    }
   },
   "outputs": [
    {
     "data": {
      "application/vnd.livy.statement-meta+json": {
       "execution_finish_time": "2024-12-04T10:40:04.9949401Z",
       "execution_start_time": "2024-12-04T10:40:04.7059027Z",
       "livy_statement_state": "available",
       "normalized_state": "finished",
       "parent_msg_id": "5892adc4-9213-4611-bf98-643fb5c456b1",
       "queued_time": "2024-12-04T10:40:04.2028656Z",
       "session_id": "c3362933-4b99-4fc4-b98a-e8b07e6c5a39",
       "session_start_time": null,
       "spark_pool": null,
       "state": "finished",
       "statement_id": 63,
       "statement_ids": [
        63
       ]
      },
      "text/plain": [
       "StatementMeta(, c3362933-4b99-4fc4-b98a-e8b07e6c5a39, 63, Finished, Available, Finished)"
      ]
     },
     "metadata": {},
     "output_type": "display_data"
    }
   ],
   "source": [
    "# Define a schema as a MapType where both keys and values are of StringType\n",
    "schema = MapType(StringType(), StringType())\n",
    "\n",
    "# Convert a Pandas DataFrame (df_study_mode_pandas) to a Spark DataFrame\n",
    "df_spark_study_mode = spark.createDataFrame(df_study_mode_pandas)\n",
    "\n",
    "# Parse the JSON string in the 'Study Mode Details' column into a MapType using the defined schema\n",
    "df_spark_study_mode = df_spark_study_mode.withColumn(\"Study Mode Details\", from_json(col(\"Study Mode Details\"), schema))\n",
    "\n",
    "# Extract the value associated with the key 'Ipstartmode' from the 'Study Mode Details' map and create a new column 'IPSTARTMODE'\n",
    "df_spark_study_mode = df_spark_study_mode.withColumn(\"IPSTARTMODE\", col(\"Study Mode Details\").getItem(\"Ipstartmode\"))\n",
    "\n",
    "# Extract the value associated with the key 'Iplevel' from the 'Study Mode Details' map and create a new column 'IPLEVEL'\n",
    "df_spark_study_mode = df_spark_study_mode.withColumn(\"IPLEVEL\", col(\"Study Mode Details\").getItem(\"Iplevel\"))\n",
    "\n",
    "# Drop the original 'Study Mode Details' column as it's no longer needed\n",
    "df_spark_study_mode=df_spark_study_mode.drop(\"Study Mode Details\")"
   ]
  },
  {
   "cell_type": "markdown",
   "id": "47ee7300-8649-4a85-bf40-bee5e0a3c4f1",
   "metadata": {
    "microsoft": {
     "language": "python",
     "language_group": "synapse_pyspark"
    },
    "nteract": {
     "transient": {
      "deleting": false
     }
    }
   },
   "source": [
    "**Converting spark dataframe('df_spark_study_mode') into pandas dataframe**"
   ]
  },
  {
   "cell_type": "code",
   "execution_count": 62,
   "id": "f4f62768-0cd6-45e9-ab70-2dad77aa8fc4",
   "metadata": {
    "jupyter": {
     "outputs_hidden": false,
     "source_hidden": false
    },
    "microsoft": {
     "language": "python",
     "language_group": "synapse_pyspark"
    },
    "nteract": {
     "transient": {
      "deleting": false
     }
    }
   },
   "outputs": [
    {
     "data": {
      "application/vnd.livy.statement-meta+json": {
       "execution_finish_time": "2024-12-04T10:40:10.4306612Z",
       "execution_start_time": "2024-12-04T10:40:10.1120185Z",
       "livy_statement_state": "available",
       "normalized_state": "finished",
       "parent_msg_id": "799e7b5c-9b30-4515-9777-29273a33405f",
       "queued_time": "2024-12-04T10:40:09.587693Z",
       "session_id": "c3362933-4b99-4fc4-b98a-e8b07e6c5a39",
       "session_start_time": null,
       "spark_pool": null,
       "state": "finished",
       "statement_id": 64,
       "statement_ids": [
        64
       ]
      },
      "text/plain": [
       "StatementMeta(, c3362933-4b99-4fc4-b98a-e8b07e6c5a39, 64, Finished, Available, Finished)"
      ]
     },
     "metadata": {},
     "output_type": "display_data"
    },
    {
     "data": {
      "text/html": [
       "<div>\n",
       "<style scoped>\n",
       "    .dataframe tbody tr th:only-of-type {\n",
       "        vertical-align: middle;\n",
       "    }\n",
       "\n",
       "    .dataframe tbody tr th {\n",
       "        vertical-align: top;\n",
       "    }\n",
       "\n",
       "    .dataframe thead th {\n",
       "        text-align: right;\n",
       "    }\n",
       "</style>\n",
       "<table border=\"1\" class=\"dataframe\">\n",
       "  <thead>\n",
       "    <tr style=\"text-align: right;\">\n",
       "      <th></th>\n",
       "      <th>Student_Code</th>\n",
       "      <th>Event_Description</th>\n",
       "      <th>IPSTARTMODE</th>\n",
       "      <th>IPLEVEL</th>\n",
       "    </tr>\n",
       "  </thead>\n",
       "  <tbody>\n",
       "    <tr>\n",
       "      <th>0</th>\n",
       "      <td>STU37252</td>\n",
       "      <td>Progression: Positive</td>\n",
       "      <td>PT</td>\n",
       "      <td>PGTM</td>\n",
       "    </tr>\n",
       "    <tr>\n",
       "      <th>1</th>\n",
       "      <td>STU64336</td>\n",
       "      <td>Progression: Positive</td>\n",
       "      <td>PT</td>\n",
       "      <td>PGTM</td>\n",
       "    </tr>\n",
       "    <tr>\n",
       "      <th>2</th>\n",
       "      <td>STU51841</td>\n",
       "      <td>Progression: Positive</td>\n",
       "      <td>PT</td>\n",
       "      <td>PGTM</td>\n",
       "    </tr>\n",
       "    <tr>\n",
       "      <th>3</th>\n",
       "      <td>STU58143</td>\n",
       "      <td>Progression: Positive</td>\n",
       "      <td>PT</td>\n",
       "      <td>PGTM</td>\n",
       "    </tr>\n",
       "    <tr>\n",
       "      <th>4</th>\n",
       "      <td>STU37792</td>\n",
       "      <td>Progression: Positive</td>\n",
       "      <td>PT</td>\n",
       "      <td>PGTM</td>\n",
       "    </tr>\n",
       "    <tr>\n",
       "      <th>...</th>\n",
       "      <td>...</td>\n",
       "      <td>...</td>\n",
       "      <td>...</td>\n",
       "      <td>...</td>\n",
       "    </tr>\n",
       "    <tr>\n",
       "      <th>1573</th>\n",
       "      <td>STU53397</td>\n",
       "      <td>Progression: Negative</td>\n",
       "      <td>FT</td>\n",
       "      <td>DEG</td>\n",
       "    </tr>\n",
       "    <tr>\n",
       "      <th>1574</th>\n",
       "      <td>STU58274</td>\n",
       "      <td>Progression: Positive</td>\n",
       "      <td>FT</td>\n",
       "      <td>DEG</td>\n",
       "    </tr>\n",
       "    <tr>\n",
       "      <th>1575</th>\n",
       "      <td>STU53864</td>\n",
       "      <td>Progression: Negative</td>\n",
       "      <td>FT</td>\n",
       "      <td>DEG</td>\n",
       "    </tr>\n",
       "    <tr>\n",
       "      <th>1576</th>\n",
       "      <td>STU53853</td>\n",
       "      <td>Progression: Negative</td>\n",
       "      <td>FT</td>\n",
       "      <td>DEG</td>\n",
       "    </tr>\n",
       "    <tr>\n",
       "      <th>1577</th>\n",
       "      <td>STU53384</td>\n",
       "      <td>Progression: Positive</td>\n",
       "      <td>FT</td>\n",
       "      <td>DEG</td>\n",
       "    </tr>\n",
       "  </tbody>\n",
       "</table>\n",
       "<p>1578 rows × 4 columns</p>\n",
       "</div>"
      ],
      "text/plain": [
       "     Student_Code      Event_Description IPSTARTMODE IPLEVEL\n",
       "0        STU37252  Progression: Positive          PT    PGTM\n",
       "1        STU64336  Progression: Positive          PT    PGTM\n",
       "2        STU51841  Progression: Positive          PT    PGTM\n",
       "3        STU58143  Progression: Positive          PT    PGTM\n",
       "4        STU37792  Progression: Positive          PT    PGTM\n",
       "...           ...                    ...         ...     ...\n",
       "1573     STU53397  Progression: Negative          FT     DEG\n",
       "1574     STU58274  Progression: Positive          FT     DEG\n",
       "1575     STU53864  Progression: Negative          FT     DEG\n",
       "1576     STU53853  Progression: Negative          FT     DEG\n",
       "1577     STU53384  Progression: Positive          FT     DEG\n",
       "\n",
       "[1578 rows x 4 columns]"
      ]
     },
     "execution_count": 191,
     "metadata": {},
     "output_type": "execute_result"
    }
   ],
   "source": [
    "df_progression_historical = df_spark_study_mode.toPandas()\n",
    "df_progression_historical"
   ]
  },
  {
   "cell_type": "markdown",
   "id": "86075113-d0c3-495c-8e17-7501bfc7b7c9",
   "metadata": {
    "microsoft": {
     "language": "python",
     "language_group": "synapse_pyspark"
    },
    "nteract": {
     "transient": {
      "deleting": false
     }
    }
   },
   "source": [
    "**Fetching the actual progression flags for students**"
   ]
  },
  {
   "cell_type": "code",
   "execution_count": 63,
   "id": "f79bf055-a62e-495c-90ef-6f6d05cc53ef",
   "metadata": {
    "jupyter": {
     "outputs_hidden": false,
     "source_hidden": false
    },
    "microsoft": {
     "language": "python",
     "language_group": "synapse_pyspark"
    },
    "nteract": {
     "transient": {
      "deleting": false
     }
    }
   },
   "outputs": [
    {
     "data": {
      "application/vnd.livy.statement-meta+json": {
       "execution_finish_time": "2024-12-04T10:40:14.5496777Z",
       "execution_start_time": "2024-12-04T10:40:14.3013772Z",
       "livy_statement_state": "available",
       "normalized_state": "finished",
       "parent_msg_id": "f9d18474-b879-4263-9411-e6bf2b920e85",
       "queued_time": "2024-12-04T10:40:13.8998311Z",
       "session_id": "c3362933-4b99-4fc4-b98a-e8b07e6c5a39",
       "session_start_time": null,
       "spark_pool": null,
       "state": "finished",
       "statement_id": 65,
       "statement_ids": [
        65
       ]
      },
      "text/plain": [
       "StatementMeta(, c3362933-4b99-4fc4-b98a-e8b07e6c5a39, 65, Finished, Available, Finished)"
      ]
     },
     "metadata": {},
     "output_type": "display_data"
    }
   ],
   "source": [
    "df_progression_historical['Outcome'] = df_progression_historical['Event_Description'].str.split(': ').str[1]"
   ]
  },
  {
   "cell_type": "markdown",
   "id": "6afb2891-1213-438a-b53e-773b94116a08",
   "metadata": {
    "microsoft": {
     "language": "python",
     "language_group": "synapse_pyspark"
    },
    "nteract": {
     "transient": {
      "deleting": false
     }
    }
   },
   "source": [
    "**Dropping 'Event_Description' column from the dataframe**"
   ]
  },
  {
   "cell_type": "code",
   "execution_count": 64,
   "id": "d8816d59-5f2b-4d85-9e17-730b4606bae2",
   "metadata": {
    "jupyter": {
     "outputs_hidden": false,
     "source_hidden": false
    },
    "microsoft": {
     "language": "python",
     "language_group": "synapse_pyspark"
    },
    "nteract": {
     "transient": {
      "deleting": false
     }
    }
   },
   "outputs": [
    {
     "data": {
      "application/vnd.livy.statement-meta+json": {
       "execution_finish_time": "2024-12-04T10:40:18.818369Z",
       "execution_start_time": "2024-12-04T10:40:18.5737202Z",
       "livy_statement_state": "available",
       "normalized_state": "finished",
       "parent_msg_id": "8d46e6d9-e7d6-48c0-ae53-8c0a8a2ecd45",
       "queued_time": "2024-12-04T10:40:18.0322469Z",
       "session_id": "c3362933-4b99-4fc4-b98a-e8b07e6c5a39",
       "session_start_time": null,
       "spark_pool": null,
       "state": "finished",
       "statement_id": 66,
       "statement_ids": [
        66
       ]
      },
      "text/plain": [
       "StatementMeta(, c3362933-4b99-4fc4-b98a-e8b07e6c5a39, 66, Finished, Available, Finished)"
      ]
     },
     "metadata": {},
     "output_type": "display_data"
    },
    {
     "data": {
      "text/html": [
       "<div>\n",
       "<style scoped>\n",
       "    .dataframe tbody tr th:only-of-type {\n",
       "        vertical-align: middle;\n",
       "    }\n",
       "\n",
       "    .dataframe tbody tr th {\n",
       "        vertical-align: top;\n",
       "    }\n",
       "\n",
       "    .dataframe thead th {\n",
       "        text-align: right;\n",
       "    }\n",
       "</style>\n",
       "<table border=\"1\" class=\"dataframe\">\n",
       "  <thead>\n",
       "    <tr style=\"text-align: right;\">\n",
       "      <th></th>\n",
       "      <th>Student_Code</th>\n",
       "      <th>IPSTARTMODE</th>\n",
       "      <th>IPLEVEL</th>\n",
       "      <th>Outcome</th>\n",
       "    </tr>\n",
       "  </thead>\n",
       "  <tbody>\n",
       "    <tr>\n",
       "      <th>0</th>\n",
       "      <td>STU37252</td>\n",
       "      <td>PT</td>\n",
       "      <td>PGTM</td>\n",
       "      <td>Positive</td>\n",
       "    </tr>\n",
       "    <tr>\n",
       "      <th>1</th>\n",
       "      <td>STU64336</td>\n",
       "      <td>PT</td>\n",
       "      <td>PGTM</td>\n",
       "      <td>Positive</td>\n",
       "    </tr>\n",
       "    <tr>\n",
       "      <th>2</th>\n",
       "      <td>STU51841</td>\n",
       "      <td>PT</td>\n",
       "      <td>PGTM</td>\n",
       "      <td>Positive</td>\n",
       "    </tr>\n",
       "    <tr>\n",
       "      <th>3</th>\n",
       "      <td>STU58143</td>\n",
       "      <td>PT</td>\n",
       "      <td>PGTM</td>\n",
       "      <td>Positive</td>\n",
       "    </tr>\n",
       "    <tr>\n",
       "      <th>4</th>\n",
       "      <td>STU37792</td>\n",
       "      <td>PT</td>\n",
       "      <td>PGTM</td>\n",
       "      <td>Positive</td>\n",
       "    </tr>\n",
       "    <tr>\n",
       "      <th>...</th>\n",
       "      <td>...</td>\n",
       "      <td>...</td>\n",
       "      <td>...</td>\n",
       "      <td>...</td>\n",
       "    </tr>\n",
       "    <tr>\n",
       "      <th>1573</th>\n",
       "      <td>STU53397</td>\n",
       "      <td>FT</td>\n",
       "      <td>DEG</td>\n",
       "      <td>Negative</td>\n",
       "    </tr>\n",
       "    <tr>\n",
       "      <th>1574</th>\n",
       "      <td>STU58274</td>\n",
       "      <td>FT</td>\n",
       "      <td>DEG</td>\n",
       "      <td>Positive</td>\n",
       "    </tr>\n",
       "    <tr>\n",
       "      <th>1575</th>\n",
       "      <td>STU53864</td>\n",
       "      <td>FT</td>\n",
       "      <td>DEG</td>\n",
       "      <td>Negative</td>\n",
       "    </tr>\n",
       "    <tr>\n",
       "      <th>1576</th>\n",
       "      <td>STU53853</td>\n",
       "      <td>FT</td>\n",
       "      <td>DEG</td>\n",
       "      <td>Negative</td>\n",
       "    </tr>\n",
       "    <tr>\n",
       "      <th>1577</th>\n",
       "      <td>STU53384</td>\n",
       "      <td>FT</td>\n",
       "      <td>DEG</td>\n",
       "      <td>Positive</td>\n",
       "    </tr>\n",
       "  </tbody>\n",
       "</table>\n",
       "<p>1578 rows × 4 columns</p>\n",
       "</div>"
      ],
      "text/plain": [
       "     Student_Code IPSTARTMODE IPLEVEL   Outcome\n",
       "0        STU37252          PT    PGTM  Positive\n",
       "1        STU64336          PT    PGTM  Positive\n",
       "2        STU51841          PT    PGTM  Positive\n",
       "3        STU58143          PT    PGTM  Positive\n",
       "4        STU37792          PT    PGTM  Positive\n",
       "...           ...         ...     ...       ...\n",
       "1573     STU53397          FT     DEG  Negative\n",
       "1574     STU58274          FT     DEG  Positive\n",
       "1575     STU53864          FT     DEG  Negative\n",
       "1576     STU53853          FT     DEG  Negative\n",
       "1577     STU53384          FT     DEG  Positive\n",
       "\n",
       "[1578 rows x 4 columns]"
      ]
     },
     "execution_count": 197,
     "metadata": {},
     "output_type": "execute_result"
    }
   ],
   "source": [
    "df_hist = df_progression_historical.drop('Event_Description', axis=1)\n",
    "df_hist"
   ]
  },
  {
   "cell_type": "markdown",
   "id": "9a511d75-53b7-4c62-8e40-925182ee703f",
   "metadata": {
    "microsoft": {
     "language": "python",
     "language_group": "synapse_pyspark"
    },
    "nteract": {
     "transient": {
      "deleting": false
     }
    }
   },
   "source": [
    "**Selecting some columns for the dataframe('df_hist')**"
   ]
  },
  {
   "cell_type": "code",
   "execution_count": 65,
   "id": "1ae28824-dd08-421f-9d7e-b2a04c166596",
   "metadata": {
    "jupyter": {
     "outputs_hidden": false,
     "source_hidden": false
    },
    "microsoft": {
     "language": "python",
     "language_group": "synapse_pyspark"
    },
    "nteract": {
     "transient": {
      "deleting": false
     }
    }
   },
   "outputs": [
    {
     "data": {
      "application/vnd.livy.statement-meta+json": {
       "execution_finish_time": "2024-12-04T10:40:23.7401716Z",
       "execution_start_time": "2024-12-04T10:40:23.4121012Z",
       "livy_statement_state": "available",
       "normalized_state": "finished",
       "parent_msg_id": "f9045805-8df1-4392-bd27-9326fd5c78a9",
       "queued_time": "2024-12-04T10:40:23.0053978Z",
       "session_id": "c3362933-4b99-4fc4-b98a-e8b07e6c5a39",
       "session_start_time": null,
       "spark_pool": null,
       "state": "finished",
       "statement_id": 67,
       "statement_ids": [
        67
       ]
      },
      "text/plain": [
       "StatementMeta(, c3362933-4b99-4fc4-b98a-e8b07e6c5a39, 67, Finished, Available, Finished)"
      ]
     },
     "metadata": {},
     "output_type": "display_data"
    }
   ],
   "source": [
    "df_hist.columns = ['StudentNumber', 'IPSTARTMODE', 'IPLEVEL', 'Outcome']"
   ]
  },
  {
   "cell_type": "markdown",
   "id": "b08afce1-8785-43ad-98e5-b5f2d95f1c6f",
   "metadata": {
    "microsoft": {
     "language": "python",
     "language_group": "synapse_pyspark"
    },
    "nteract": {
     "transient": {
      "deleting": false
     }
    }
   },
   "source": [
    "**Applying filter on 'PT' combination and deselecting 'Neutral' combination**"
   ]
  },
  {
   "cell_type": "code",
   "execution_count": 66,
   "id": "e3cd09b0-72a3-4d25-8d99-72320949582d",
   "metadata": {
    "jupyter": {
     "outputs_hidden": false,
     "source_hidden": false
    },
    "microsoft": {
     "language": "python",
     "language_group": "synapse_pyspark"
    },
    "nteract": {
     "transient": {
      "deleting": false
     }
    }
   },
   "outputs": [
    {
     "data": {
      "application/vnd.livy.statement-meta+json": {
       "execution_finish_time": "2024-12-04T10:40:27.4417448Z",
       "execution_start_time": "2024-12-04T10:40:27.1820597Z",
       "livy_statement_state": "available",
       "normalized_state": "finished",
       "parent_msg_id": "ca8093a3-e4c0-4713-b098-00376402f2eb",
       "queued_time": "2024-12-04T10:40:26.7541046Z",
       "session_id": "c3362933-4b99-4fc4-b98a-e8b07e6c5a39",
       "session_start_time": null,
       "spark_pool": null,
       "state": "finished",
       "statement_id": 68,
       "statement_ids": [
        68
       ]
      },
      "text/plain": [
       "StatementMeta(, c3362933-4b99-4fc4-b98a-e8b07e6c5a39, 68, Finished, Available, Finished)"
      ]
     },
     "metadata": {},
     "output_type": "display_data"
    },
    {
     "data": {
      "text/html": [
       "<div>\n",
       "<style scoped>\n",
       "    .dataframe tbody tr th:only-of-type {\n",
       "        vertical-align: middle;\n",
       "    }\n",
       "\n",
       "    .dataframe tbody tr th {\n",
       "        vertical-align: top;\n",
       "    }\n",
       "\n",
       "    .dataframe thead th {\n",
       "        text-align: right;\n",
       "    }\n",
       "</style>\n",
       "<table border=\"1\" class=\"dataframe\">\n",
       "  <thead>\n",
       "    <tr style=\"text-align: right;\">\n",
       "      <th></th>\n",
       "      <th>StudentNumber</th>\n",
       "      <th>IPSTARTMODE</th>\n",
       "      <th>IPLEVEL</th>\n",
       "      <th>Outcome</th>\n",
       "    </tr>\n",
       "  </thead>\n",
       "  <tbody>\n",
       "    <tr>\n",
       "      <th>0</th>\n",
       "      <td>STU37252</td>\n",
       "      <td>PT</td>\n",
       "      <td>PGTM</td>\n",
       "      <td>Positive</td>\n",
       "    </tr>\n",
       "    <tr>\n",
       "      <th>1</th>\n",
       "      <td>STU64336</td>\n",
       "      <td>PT</td>\n",
       "      <td>PGTM</td>\n",
       "      <td>Positive</td>\n",
       "    </tr>\n",
       "    <tr>\n",
       "      <th>2</th>\n",
       "      <td>STU51841</td>\n",
       "      <td>PT</td>\n",
       "      <td>PGTM</td>\n",
       "      <td>Positive</td>\n",
       "    </tr>\n",
       "    <tr>\n",
       "      <th>3</th>\n",
       "      <td>STU58143</td>\n",
       "      <td>PT</td>\n",
       "      <td>PGTM</td>\n",
       "      <td>Positive</td>\n",
       "    </tr>\n",
       "    <tr>\n",
       "      <th>4</th>\n",
       "      <td>STU37792</td>\n",
       "      <td>PT</td>\n",
       "      <td>PGTM</td>\n",
       "      <td>Positive</td>\n",
       "    </tr>\n",
       "    <tr>\n",
       "      <th>...</th>\n",
       "      <td>...</td>\n",
       "      <td>...</td>\n",
       "      <td>...</td>\n",
       "      <td>...</td>\n",
       "    </tr>\n",
       "    <tr>\n",
       "      <th>1195</th>\n",
       "      <td>STU43922</td>\n",
       "      <td>PT</td>\n",
       "      <td>DEG</td>\n",
       "      <td>Positive</td>\n",
       "    </tr>\n",
       "    <tr>\n",
       "      <th>1196</th>\n",
       "      <td>STU52911</td>\n",
       "      <td>PT</td>\n",
       "      <td>DEG</td>\n",
       "      <td>Positive</td>\n",
       "    </tr>\n",
       "    <tr>\n",
       "      <th>1197</th>\n",
       "      <td>STU53541</td>\n",
       "      <td>PT</td>\n",
       "      <td>DEG</td>\n",
       "      <td>Positive</td>\n",
       "    </tr>\n",
       "    <tr>\n",
       "      <th>1198</th>\n",
       "      <td>STU102116</td>\n",
       "      <td>PT</td>\n",
       "      <td>DEG</td>\n",
       "      <td>Positive</td>\n",
       "    </tr>\n",
       "    <tr>\n",
       "      <th>1199</th>\n",
       "      <td>STU56079</td>\n",
       "      <td>PT</td>\n",
       "      <td>DEG</td>\n",
       "      <td>Positive</td>\n",
       "    </tr>\n",
       "  </tbody>\n",
       "</table>\n",
       "<p>756 rows × 4 columns</p>\n",
       "</div>"
      ],
      "text/plain": [
       "     StudentNumber IPSTARTMODE IPLEVEL   Outcome\n",
       "0         STU37252          PT    PGTM  Positive\n",
       "1         STU64336          PT    PGTM  Positive\n",
       "2         STU51841          PT    PGTM  Positive\n",
       "3         STU58143          PT    PGTM  Positive\n",
       "4         STU37792          PT    PGTM  Positive\n",
       "...            ...         ...     ...       ...\n",
       "1195      STU43922          PT     DEG  Positive\n",
       "1196      STU52911          PT     DEG  Positive\n",
       "1197      STU53541          PT     DEG  Positive\n",
       "1198     STU102116          PT     DEG  Positive\n",
       "1199      STU56079          PT     DEG  Positive\n",
       "\n",
       "[756 rows x 4 columns]"
      ]
     },
     "execution_count": 203,
     "metadata": {},
     "output_type": "execute_result"
    }
   ],
   "source": [
    "df_hist= df_hist[df_hist['IPSTARTMODE']=='PT']\n",
    "df_hist= df_hist[df_hist['Outcome']!='Neutral']\n",
    "\n",
    "df_hist"
   ]
  },
  {
   "cell_type": "markdown",
   "id": "abc2ff5f-8bf5-4bcb-898b-dcfac3fa5a8e",
   "metadata": {
    "microsoft": {
     "language": "python",
     "language_group": "synapse_pyspark"
    },
    "nteract": {
     "transient": {
      "deleting": false
     }
    }
   },
   "source": [
    "**Appyling inner join operation on historical data and characteristics data**"
   ]
  },
  {
   "cell_type": "code",
   "execution_count": 67,
   "id": "c2d91c31-ac2b-49d5-a152-2b60174f18ff",
   "metadata": {
    "jupyter": {
     "outputs_hidden": false,
     "source_hidden": false
    },
    "microsoft": {
     "language": "python",
     "language_group": "synapse_pyspark"
    },
    "nteract": {
     "transient": {
      "deleting": false
     }
    }
   },
   "outputs": [
    {
     "data": {
      "application/vnd.livy.statement-meta+json": {
       "execution_finish_time": "2024-12-04T10:40:31.3318873Z",
       "execution_start_time": "2024-12-04T10:40:31.0122401Z",
       "livy_statement_state": "available",
       "normalized_state": "finished",
       "parent_msg_id": "2068616e-0da1-46bb-a04a-3247f701e0c3",
       "queued_time": "2024-12-04T10:40:30.4858302Z",
       "session_id": "c3362933-4b99-4fc4-b98a-e8b07e6c5a39",
       "session_start_time": null,
       "spark_pool": null,
       "state": "finished",
       "statement_id": 69,
       "statement_ids": [
        69
       ]
      },
      "text/plain": [
       "StatementMeta(, c3362933-4b99-4fc4-b98a-e8b07e6c5a39, 69, Finished, Available, Finished)"
      ]
     },
     "metadata": {},
     "output_type": "display_data"
    }
   ],
   "source": [
    "concat_hist_char = df_characteristics.merge(df_hist,on='StudentNumber', how='inner')\n",
    "concat_hist_char = concat_hist_char.drop_duplicates()"
   ]
  },
  {
   "cell_type": "markdown",
   "id": "ce95b324-b506-4686-9f91-43cd28e6c3fa",
   "metadata": {
    "microsoft": {
     "language": "python",
     "language_group": "synapse_pyspark"
    },
    "nteract": {
     "transient": {
      "deleting": false
     }
    }
   },
   "source": [
    "**Printing the dataframe**"
   ]
  },
  {
   "cell_type": "code",
   "execution_count": 68,
   "id": "a07a9993-0869-409c-b9f4-54b69253d6cd",
   "metadata": {
    "jupyter": {
     "outputs_hidden": false,
     "source_hidden": false
    },
    "microsoft": {
     "language": "python",
     "language_group": "synapse_pyspark"
    },
    "nteract": {
     "transient": {
      "deleting": false
     }
    }
   },
   "outputs": [
    {
     "data": {
      "application/vnd.livy.statement-meta+json": {
       "execution_finish_time": "2024-12-04T10:40:36.0080464Z",
       "execution_start_time": "2024-12-04T10:40:35.7186947Z",
       "livy_statement_state": "available",
       "normalized_state": "finished",
       "parent_msg_id": "e10213d6-5ae6-4a54-ba56-bb8c3c9346c3",
       "queued_time": "2024-12-04T10:40:35.1674376Z",
       "session_id": "c3362933-4b99-4fc4-b98a-e8b07e6c5a39",
       "session_start_time": null,
       "spark_pool": null,
       "state": "finished",
       "statement_id": 70,
       "statement_ids": [
        70
       ]
      },
      "text/plain": [
       "StatementMeta(, c3362933-4b99-4fc4-b98a-e8b07e6c5a39, 70, Finished, Available, Finished)"
      ]
     },
     "metadata": {},
     "output_type": "display_data"
    },
    {
     "data": {
      "text/html": [
       "<div>\n",
       "<style scoped>\n",
       "    .dataframe tbody tr th:only-of-type {\n",
       "        vertical-align: middle;\n",
       "    }\n",
       "\n",
       "    .dataframe tbody tr th {\n",
       "        vertical-align: top;\n",
       "    }\n",
       "\n",
       "    .dataframe thead th {\n",
       "        text-align: right;\n",
       "    }\n",
       "</style>\n",
       "<table border=\"1\" class=\"dataframe\">\n",
       "  <thead>\n",
       "    <tr style=\"text-align: right;\">\n",
       "      <th></th>\n",
       "      <th>StudentNumber</th>\n",
       "      <th>age_on_entry</th>\n",
       "      <th>ethnicity_16_groups</th>\n",
       "      <th>sex</th>\n",
       "      <th>ethnicity_6_groups</th>\n",
       "      <th>gender_identity</th>\n",
       "      <th>tundra_msoa_quintile_desc</th>\n",
       "      <th>adult_he_2011_quintile_desc</th>\n",
       "      <th>polar4_quintile_desc</th>\n",
       "      <th>imd_desc</th>\n",
       "      <th>...</th>\n",
       "      <th>religion_or_belief</th>\n",
       "      <th>sexual_orientation</th>\n",
       "      <th>parental_education</th>\n",
       "      <th>disability_type</th>\n",
       "      <th>disability_status</th>\n",
       "      <th>care_leaver</th>\n",
       "      <th>entry_qualification_desc</th>\n",
       "      <th>IPSTARTMODE</th>\n",
       "      <th>IPLEVEL</th>\n",
       "      <th>Outcome</th>\n",
       "    </tr>\n",
       "  </thead>\n",
       "  <tbody>\n",
       "    <tr>\n",
       "      <th>0</th>\n",
       "      <td>STU71842</td>\n",
       "      <td>26-30</td>\n",
       "      <td>White</td>\n",
       "      <td></td>\n",
       "      <td>White</td>\n",
       "      <td>No</td>\n",
       "      <td>Quintile 3</td>\n",
       "      <td>Quintile 5</td>\n",
       "      <td>Quintile 3</td>\n",
       "      <td>Quintile 5</td>\n",
       "      <td>...</td>\n",
       "      <td>Any_other_religion_or_belief</td>\n",
       "      <td>Other_Sexual_Orientation</td>\n",
       "      <td>No</td>\n",
       "      <td>Mental health condition</td>\n",
       "      <td>Disability_Reported</td>\n",
       "      <td>Care_experienced</td>\n",
       "      <td>UK first degree with honours</td>\n",
       "      <td>PT</td>\n",
       "      <td>PGTM</td>\n",
       "      <td>Positive</td>\n",
       "    </tr>\n",
       "    <tr>\n",
       "      <th>1</th>\n",
       "      <td>STU66810</td>\n",
       "      <td>31-40</td>\n",
       "      <td>White</td>\n",
       "      <td>Female</td>\n",
       "      <td>White</td>\n",
       "      <td>Not available</td>\n",
       "      <td>Quintile 1</td>\n",
       "      <td>Quintile 2</td>\n",
       "      <td>Quintile 1</td>\n",
       "      <td>Quintile 3</td>\n",
       "      <td>...</td>\n",
       "      <td>Any_other_religion_or_belief</td>\n",
       "      <td>Heterosexual</td>\n",
       "      <td>Not_known</td>\n",
       "      <td>Sensory, medical or physical impairments</td>\n",
       "      <td>Disability_Reported</td>\n",
       "      <td>Refused, unknown or not collected</td>\n",
       "      <td>Other taught qualification at level M</td>\n",
       "      <td>PT</td>\n",
       "      <td>PGTM</td>\n",
       "      <td>Positive</td>\n",
       "    </tr>\n",
       "    <tr>\n",
       "      <th>2</th>\n",
       "      <td>STU24349</td>\n",
       "      <td>41-50</td>\n",
       "      <td>White</td>\n",
       "      <td>Female</td>\n",
       "      <td>White</td>\n",
       "      <td>Not available</td>\n",
       "      <td>Quintile 4</td>\n",
       "      <td>Quintile 5</td>\n",
       "      <td>Quintile 5</td>\n",
       "      <td>Quintile 4</td>\n",
       "      <td>...</td>\n",
       "      <td></td>\n",
       "      <td>Refused_Unknown_or_not_collected</td>\n",
       "      <td>Not_known</td>\n",
       "      <td>Sensory, medical or physical impairments</td>\n",
       "      <td>Disability_Reported</td>\n",
       "      <td>Refused, unknown or not collected</td>\n",
       "      <td>Other qualification at level C</td>\n",
       "      <td>PT</td>\n",
       "      <td>DEG</td>\n",
       "      <td>Positive</td>\n",
       "    </tr>\n",
       "    <tr>\n",
       "      <th>3</th>\n",
       "      <td>STU56498</td>\n",
       "      <td>20</td>\n",
       "      <td>White</td>\n",
       "      <td>Female</td>\n",
       "      <td>White</td>\n",
       "      <td>Not available</td>\n",
       "      <td>Quintile 1</td>\n",
       "      <td>Quintile 1</td>\n",
       "      <td>Quintile 1</td>\n",
       "      <td>Quintile 1</td>\n",
       "      <td>...</td>\n",
       "      <td></td>\n",
       "      <td>Heterosexual</td>\n",
       "      <td>Not_known</td>\n",
       "      <td>Mental health condition</td>\n",
       "      <td>Disability_Reported</td>\n",
       "      <td>Refused, unknown or not collected</td>\n",
       "      <td>Higher National Diploma (HND)</td>\n",
       "      <td>PT</td>\n",
       "      <td>DEG</td>\n",
       "      <td>Positive</td>\n",
       "    </tr>\n",
       "    <tr>\n",
       "      <th>4</th>\n",
       "      <td>STU62198</td>\n",
       "      <td>26-30</td>\n",
       "      <td>White</td>\n",
       "      <td>Male</td>\n",
       "      <td>White</td>\n",
       "      <td>Not available</td>\n",
       "      <td>Quintile 1</td>\n",
       "      <td>Quintile 1</td>\n",
       "      <td>Quintile 1</td>\n",
       "      <td>Quintile 1</td>\n",
       "      <td>...</td>\n",
       "      <td></td>\n",
       "      <td>Refused_Unknown_or_not_collected</td>\n",
       "      <td>Not_known</td>\n",
       "      <td>Sensory, medical or physical impairments</td>\n",
       "      <td>Disability_Reported</td>\n",
       "      <td>Refused, unknown or not collected</td>\n",
       "      <td>UK first degree with honours</td>\n",
       "      <td>PT</td>\n",
       "      <td>PGTM</td>\n",
       "      <td>Positive</td>\n",
       "    </tr>\n",
       "    <tr>\n",
       "      <th>...</th>\n",
       "      <td>...</td>\n",
       "      <td>...</td>\n",
       "      <td>...</td>\n",
       "      <td>...</td>\n",
       "      <td>...</td>\n",
       "      <td>...</td>\n",
       "      <td>...</td>\n",
       "      <td>...</td>\n",
       "      <td>...</td>\n",
       "      <td>...</td>\n",
       "      <td>...</td>\n",
       "      <td>...</td>\n",
       "      <td>...</td>\n",
       "      <td>...</td>\n",
       "      <td>...</td>\n",
       "      <td>...</td>\n",
       "      <td>...</td>\n",
       "      <td>...</td>\n",
       "      <td>...</td>\n",
       "      <td>...</td>\n",
       "      <td>...</td>\n",
       "    </tr>\n",
       "    <tr>\n",
       "      <th>749</th>\n",
       "      <td>STU72329</td>\n",
       "      <td>31-40</td>\n",
       "      <td>White</td>\n",
       "      <td>Female</td>\n",
       "      <td>White</td>\n",
       "      <td>Yes</td>\n",
       "      <td>Quintile 2</td>\n",
       "      <td>Quintile 2</td>\n",
       "      <td>Quintile 2</td>\n",
       "      <td>Quintile 2</td>\n",
       "      <td>...</td>\n",
       "      <td>Christian</td>\n",
       "      <td>Heterosexual</td>\n",
       "      <td>No</td>\n",
       "      <td>No disability reported</td>\n",
       "      <td>No_Disability_Reported</td>\n",
       "      <td>Care_experienced</td>\n",
       "      <td>UK first degree with honours</td>\n",
       "      <td>PT</td>\n",
       "      <td>PGTM</td>\n",
       "      <td>Positive</td>\n",
       "    </tr>\n",
       "    <tr>\n",
       "      <th>750</th>\n",
       "      <td>STU46308</td>\n",
       "      <td>31-40</td>\n",
       "      <td>White</td>\n",
       "      <td>Female</td>\n",
       "      <td>White</td>\n",
       "      <td>Yes</td>\n",
       "      <td>Quintile 5</td>\n",
       "      <td>Quintile 5</td>\n",
       "      <td>Quintile 5</td>\n",
       "      <td>Quintile 3</td>\n",
       "      <td>...</td>\n",
       "      <td>Christian</td>\n",
       "      <td>Heterosexual</td>\n",
       "      <td>No</td>\n",
       "      <td>No disability reported</td>\n",
       "      <td>No_Disability_Reported</td>\n",
       "      <td>Care_experienced</td>\n",
       "      <td>Level 3 qualifications of which none are subje...</td>\n",
       "      <td>PT</td>\n",
       "      <td>DEG</td>\n",
       "      <td>Positive</td>\n",
       "    </tr>\n",
       "    <tr>\n",
       "      <th>752</th>\n",
       "      <td>STU54442</td>\n",
       "      <td>31-40</td>\n",
       "      <td>White</td>\n",
       "      <td>Female</td>\n",
       "      <td>White</td>\n",
       "      <td>Yes</td>\n",
       "      <td>Quintile 3</td>\n",
       "      <td>Quintile 4</td>\n",
       "      <td>Quintile 4</td>\n",
       "      <td>Quintile 3</td>\n",
       "      <td>...</td>\n",
       "      <td>Christian</td>\n",
       "      <td>Heterosexual</td>\n",
       "      <td>No</td>\n",
       "      <td>No disability reported</td>\n",
       "      <td>No_Disability_Reported</td>\n",
       "      <td>Care_experienced</td>\n",
       "      <td>Level 3 qualifications of which some are subje...</td>\n",
       "      <td>PT</td>\n",
       "      <td>DEG</td>\n",
       "      <td>Positive</td>\n",
       "    </tr>\n",
       "    <tr>\n",
       "      <th>753</th>\n",
       "      <td>STU80079</td>\n",
       "      <td>31-40</td>\n",
       "      <td>White</td>\n",
       "      <td>Female</td>\n",
       "      <td>White</td>\n",
       "      <td>Yes</td>\n",
       "      <td>Quintile 1</td>\n",
       "      <td>Quintile 1</td>\n",
       "      <td>Quintile 1</td>\n",
       "      <td>Quintile 2</td>\n",
       "      <td>...</td>\n",
       "      <td>Christian</td>\n",
       "      <td>Heterosexual</td>\n",
       "      <td>No</td>\n",
       "      <td>No disability reported</td>\n",
       "      <td>No_Disability_Reported</td>\n",
       "      <td>Care_experienced</td>\n",
       "      <td>UK first degree with honours</td>\n",
       "      <td>PT</td>\n",
       "      <td>PGTM</td>\n",
       "      <td>Positive</td>\n",
       "    </tr>\n",
       "    <tr>\n",
       "      <th>754</th>\n",
       "      <td>STU78224</td>\n",
       "      <td>31-40</td>\n",
       "      <td>White</td>\n",
       "      <td>Female</td>\n",
       "      <td>White</td>\n",
       "      <td>Yes</td>\n",
       "      <td>Quintile 1</td>\n",
       "      <td>Quintile 1</td>\n",
       "      <td>Quintile 1</td>\n",
       "      <td>Quintile 2</td>\n",
       "      <td>...</td>\n",
       "      <td>Christian</td>\n",
       "      <td>Heterosexual</td>\n",
       "      <td>No</td>\n",
       "      <td>No disability reported</td>\n",
       "      <td>No_Disability_Reported</td>\n",
       "      <td>Care_experienced</td>\n",
       "      <td>UK first degree with honours</td>\n",
       "      <td>PT</td>\n",
       "      <td>PGTM</td>\n",
       "      <td>Positive</td>\n",
       "    </tr>\n",
       "  </tbody>\n",
       "</table>\n",
       "<p>695 rows × 21 columns</p>\n",
       "</div>"
      ],
      "text/plain": [
       "    StudentNumber age_on_entry ethnicity_16_groups     sex ethnicity_6_groups  \\\n",
       "0        STU71842        26-30               White                      White   \n",
       "1        STU66810        31-40               White  Female              White   \n",
       "2        STU24349        41-50               White  Female              White   \n",
       "3        STU56498           20               White  Female              White   \n",
       "4        STU62198        26-30               White    Male              White   \n",
       "..            ...          ...                 ...     ...                ...   \n",
       "749      STU72329        31-40               White  Female              White   \n",
       "750      STU46308        31-40               White  Female              White   \n",
       "752      STU54442        31-40               White  Female              White   \n",
       "753      STU80079        31-40               White  Female              White   \n",
       "754      STU78224        31-40               White  Female              White   \n",
       "\n",
       "    gender_identity tundra_msoa_quintile_desc adult_he_2011_quintile_desc  \\\n",
       "0                No                Quintile 3                  Quintile 5   \n",
       "1     Not available                Quintile 1                  Quintile 2   \n",
       "2     Not available                Quintile 4                  Quintile 5   \n",
       "3     Not available                Quintile 1                  Quintile 1   \n",
       "4     Not available                Quintile 1                  Quintile 1   \n",
       "..              ...                       ...                         ...   \n",
       "749             Yes                Quintile 2                  Quintile 2   \n",
       "750             Yes                Quintile 5                  Quintile 5   \n",
       "752             Yes                Quintile 3                  Quintile 4   \n",
       "753             Yes                Quintile 1                  Quintile 1   \n",
       "754             Yes                Quintile 1                  Quintile 1   \n",
       "\n",
       "    polar4_quintile_desc    imd_desc  ...            religion_or_belief  \\\n",
       "0             Quintile 3  Quintile 5  ...  Any_other_religion_or_belief   \n",
       "1             Quintile 1  Quintile 3  ...  Any_other_religion_or_belief   \n",
       "2             Quintile 5  Quintile 4  ...                                 \n",
       "3             Quintile 1  Quintile 1  ...                                 \n",
       "4             Quintile 1  Quintile 1  ...                                 \n",
       "..                   ...         ...  ...                           ...   \n",
       "749           Quintile 2  Quintile 2  ...                     Christian   \n",
       "750           Quintile 5  Quintile 3  ...                     Christian   \n",
       "752           Quintile 4  Quintile 3  ...                     Christian   \n",
       "753           Quintile 1  Quintile 2  ...                     Christian   \n",
       "754           Quintile 1  Quintile 2  ...                     Christian   \n",
       "\n",
       "                   sexual_orientation parental_education  \\\n",
       "0            Other_Sexual_Orientation                 No   \n",
       "1                        Heterosexual          Not_known   \n",
       "2    Refused_Unknown_or_not_collected          Not_known   \n",
       "3                        Heterosexual          Not_known   \n",
       "4    Refused_Unknown_or_not_collected          Not_known   \n",
       "..                                ...                ...   \n",
       "749                      Heterosexual                 No   \n",
       "750                      Heterosexual                 No   \n",
       "752                      Heterosexual                 No   \n",
       "753                      Heterosexual                 No   \n",
       "754                      Heterosexual                 No   \n",
       "\n",
       "                              disability_type       disability_status  \\\n",
       "0                     Mental health condition     Disability_Reported   \n",
       "1    Sensory, medical or physical impairments     Disability_Reported   \n",
       "2    Sensory, medical or physical impairments     Disability_Reported   \n",
       "3                     Mental health condition     Disability_Reported   \n",
       "4    Sensory, medical or physical impairments     Disability_Reported   \n",
       "..                                        ...                     ...   \n",
       "749                    No disability reported  No_Disability_Reported   \n",
       "750                    No disability reported  No_Disability_Reported   \n",
       "752                    No disability reported  No_Disability_Reported   \n",
       "753                    No disability reported  No_Disability_Reported   \n",
       "754                    No disability reported  No_Disability_Reported   \n",
       "\n",
       "                           care_leaver  \\\n",
       "0                     Care_experienced   \n",
       "1    Refused, unknown or not collected   \n",
       "2    Refused, unknown or not collected   \n",
       "3    Refused, unknown or not collected   \n",
       "4    Refused, unknown or not collected   \n",
       "..                                 ...   \n",
       "749                   Care_experienced   \n",
       "750                   Care_experienced   \n",
       "752                   Care_experienced   \n",
       "753                   Care_experienced   \n",
       "754                   Care_experienced   \n",
       "\n",
       "                              entry_qualification_desc IPSTARTMODE IPLEVEL  \\\n",
       "0                         UK first degree with honours          PT    PGTM   \n",
       "1                Other taught qualification at level M          PT    PGTM   \n",
       "2                       Other qualification at level C          PT     DEG   \n",
       "3                        Higher National Diploma (HND)          PT     DEG   \n",
       "4                         UK first degree with honours          PT    PGTM   \n",
       "..                                                 ...         ...     ...   \n",
       "749                       UK first degree with honours          PT    PGTM   \n",
       "750  Level 3 qualifications of which none are subje...          PT     DEG   \n",
       "752  Level 3 qualifications of which some are subje...          PT     DEG   \n",
       "753                       UK first degree with honours          PT    PGTM   \n",
       "754                       UK first degree with honours          PT    PGTM   \n",
       "\n",
       "      Outcome  \n",
       "0    Positive  \n",
       "1    Positive  \n",
       "2    Positive  \n",
       "3    Positive  \n",
       "4    Positive  \n",
       "..        ...  \n",
       "749  Positive  \n",
       "750  Positive  \n",
       "752  Positive  \n",
       "753  Positive  \n",
       "754  Positive  \n",
       "\n",
       "[695 rows x 21 columns]"
      ]
     },
     "execution_count": 209,
     "metadata": {},
     "output_type": "execute_result"
    }
   ],
   "source": [
    "concat_hist_char"
   ]
  },
  {
   "cell_type": "markdown",
   "id": "c6c5cb99-1aaa-41b7-8566-449f27cf52be",
   "metadata": {
    "microsoft": {
     "language": "python",
     "language_group": "synapse_pyspark"
    },
    "nteract": {
     "transient": {
      "deleting": false
     }
    }
   },
   "source": [
    "**Selecting relevant columns from the below dataframe**"
   ]
  },
  {
   "cell_type": "code",
   "execution_count": 69,
   "id": "1e263f6e-a9c8-4186-aa62-e2beff9f0b86",
   "metadata": {
    "jupyter": {
     "outputs_hidden": false,
     "source_hidden": false
    },
    "microsoft": {
     "language": "python",
     "language_group": "synapse_pyspark"
    },
    "nteract": {
     "transient": {
      "deleting": false
     }
    }
   },
   "outputs": [
    {
     "data": {
      "application/vnd.livy.statement-meta+json": {
       "execution_finish_time": "2024-12-04T10:40:39.549958Z",
       "execution_start_time": "2024-12-04T10:40:39.3077255Z",
       "livy_statement_state": "available",
       "normalized_state": "finished",
       "parent_msg_id": "5c82e055-0159-4634-b9c6-a1c53cc4e921",
       "queued_time": "2024-12-04T10:40:38.886779Z",
       "session_id": "c3362933-4b99-4fc4-b98a-e8b07e6c5a39",
       "session_start_time": null,
       "spark_pool": null,
       "state": "finished",
       "statement_id": 71,
       "statement_ids": [
        71
       ]
      },
      "text/plain": [
       "StatementMeta(, c3362933-4b99-4fc4-b98a-e8b07e6c5a39, 71, Finished, Available, Finished)"
      ]
     },
     "metadata": {},
     "output_type": "display_data"
    }
   ],
   "source": [
    "concat_hist_char = concat_hist_char[['StudentNumber', 'age_on_entry', 'ethnicity_16_groups', 'sex',\n",
    "       'adult_he_2011_quintile_desc', 'imd_desc',\n",
    "       'idaci_desc',  'disability_type', 'IPLEVEL','IPSTARTMODE',\n",
    "       'Outcome']]"
   ]
  },
  {
   "cell_type": "markdown",
   "id": "17c9bca4-aa40-4c0f-805f-c0185ea834c5",
   "metadata": {
    "microsoft": {
     "language": "python",
     "language_group": "synapse_pyspark"
    },
    "nteract": {
     "transient": {
      "deleting": false
     }
    }
   },
   "source": [
    "**Creating copy of the below dataframe and saving in another dataframe**"
   ]
  },
  {
   "cell_type": "code",
   "execution_count": 70,
   "id": "eb481ab4-df95-4b68-a41c-147bf8b867fb",
   "metadata": {
    "jupyter": {
     "outputs_hidden": false,
     "source_hidden": false
    },
    "microsoft": {
     "language": "python",
     "language_group": "synapse_pyspark"
    },
    "nteract": {
     "transient": {
      "deleting": false
     }
    }
   },
   "outputs": [
    {
     "data": {
      "application/vnd.livy.statement-meta+json": {
       "execution_finish_time": "2024-12-04T10:40:43.7420823Z",
       "execution_start_time": "2024-12-04T10:40:43.478777Z",
       "livy_statement_state": "available",
       "normalized_state": "finished",
       "parent_msg_id": "4769cc7f-9590-499c-b83f-5a1a89444ec6",
       "queued_time": "2024-12-04T10:40:43.0837643Z",
       "session_id": "c3362933-4b99-4fc4-b98a-e8b07e6c5a39",
       "session_start_time": null,
       "spark_pool": null,
       "state": "finished",
       "statement_id": 72,
       "statement_ids": [
        72
       ]
      },
      "text/plain": [
       "StatementMeta(, c3362933-4b99-4fc4-b98a-e8b07e6c5a39, 72, Finished, Available, Finished)"
      ]
     },
     "metadata": {},
     "output_type": "display_data"
    }
   ],
   "source": [
    "concat_hist_char1 = concat_hist_char.copy()\n",
    "concat_hist_char_export = concat_hist_char.copy()"
   ]
  },
  {
   "cell_type": "markdown",
   "id": "70cd685d-8358-4f74-bc66-4d06043737b3",
   "metadata": {
    "microsoft": {
     "language": "python",
     "language_group": "synapse_pyspark"
    },
    "nteract": {
     "transient": {
      "deleting": false
     }
    }
   },
   "source": [
    "**Creating concatenated column by joining characteristics in same order as above to map with external progression data**"
   ]
  },
  {
   "cell_type": "code",
   "execution_count": 71,
   "id": "0c22009a-a16c-4b37-883e-122b269f7107",
   "metadata": {
    "jupyter": {
     "outputs_hidden": false,
     "source_hidden": false
    },
    "microsoft": {
     "language": "python",
     "language_group": "synapse_pyspark"
    },
    "nteract": {
     "transient": {
      "deleting": false
     }
    }
   },
   "outputs": [
    {
     "data": {
      "application/vnd.livy.statement-meta+json": {
       "execution_finish_time": "2024-12-04T10:40:47.9843656Z",
       "execution_start_time": "2024-12-04T10:40:47.6877659Z",
       "livy_statement_state": "available",
       "normalized_state": "finished",
       "parent_msg_id": "d7300536-a4b5-48a7-b9ce-a004959c1f45",
       "queued_time": "2024-12-04T10:40:47.285936Z",
       "session_id": "c3362933-4b99-4fc4-b98a-e8b07e6c5a39",
       "session_start_time": null,
       "spark_pool": null,
       "state": "finished",
       "statement_id": 73,
       "statement_ids": [
        73
       ]
      },
      "text/plain": [
       "StatementMeta(, c3362933-4b99-4fc4-b98a-e8b07e6c5a39, 73, Finished, Available, Finished)"
      ]
     },
     "metadata": {},
     "output_type": "display_data"
    },
    {
     "data": {
      "text/html": [
       "<div>\n",
       "<style scoped>\n",
       "    .dataframe tbody tr th:only-of-type {\n",
       "        vertical-align: middle;\n",
       "    }\n",
       "\n",
       "    .dataframe tbody tr th {\n",
       "        vertical-align: top;\n",
       "    }\n",
       "\n",
       "    .dataframe thead th {\n",
       "        text-align: right;\n",
       "    }\n",
       "</style>\n",
       "<table border=\"1\" class=\"dataframe\">\n",
       "  <thead>\n",
       "    <tr style=\"text-align: right;\">\n",
       "      <th></th>\n",
       "      <th>StudentNumber</th>\n",
       "      <th>IPLEVEL</th>\n",
       "      <th>Actual_Outcome</th>\n",
       "      <th>Concatenated_column</th>\n",
       "    </tr>\n",
       "  </thead>\n",
       "  <tbody>\n",
       "    <tr>\n",
       "      <th>0</th>\n",
       "      <td>STU71842</td>\n",
       "      <td>PGTM</td>\n",
       "      <td>Positive</td>\n",
       "      <td>Quintile 526-30Mental health conditionWhiteQui...</td>\n",
       "    </tr>\n",
       "    <tr>\n",
       "      <th>1</th>\n",
       "      <td>STU66810</td>\n",
       "      <td>PGTM</td>\n",
       "      <td>Positive</td>\n",
       "      <td>Quintile 231-40Sensory, medical or physical im...</td>\n",
       "    </tr>\n",
       "    <tr>\n",
       "      <th>2</th>\n",
       "      <td>STU24349</td>\n",
       "      <td>DEG</td>\n",
       "      <td>Positive</td>\n",
       "      <td>Quintile 541-50Sensory, medical or physical im...</td>\n",
       "    </tr>\n",
       "    <tr>\n",
       "      <th>3</th>\n",
       "      <td>STU56498</td>\n",
       "      <td>DEG</td>\n",
       "      <td>Positive</td>\n",
       "      <td>Quintile 120Mental health conditionWhiteQuinti...</td>\n",
       "    </tr>\n",
       "    <tr>\n",
       "      <th>4</th>\n",
       "      <td>STU62198</td>\n",
       "      <td>PGTM</td>\n",
       "      <td>Positive</td>\n",
       "      <td>Quintile 126-30Sensory, medical or physical im...</td>\n",
       "    </tr>\n",
       "    <tr>\n",
       "      <th>...</th>\n",
       "      <td>...</td>\n",
       "      <td>...</td>\n",
       "      <td>...</td>\n",
       "      <td>...</td>\n",
       "    </tr>\n",
       "    <tr>\n",
       "      <th>749</th>\n",
       "      <td>STU72329</td>\n",
       "      <td>PGTM</td>\n",
       "      <td>Positive</td>\n",
       "      <td>Quintile 231-40No disability reportedWhiteQuin...</td>\n",
       "    </tr>\n",
       "    <tr>\n",
       "      <th>750</th>\n",
       "      <td>STU46308</td>\n",
       "      <td>DEG</td>\n",
       "      <td>Positive</td>\n",
       "      <td>Quintile 531-40No disability reportedWhiteQuin...</td>\n",
       "    </tr>\n",
       "    <tr>\n",
       "      <th>752</th>\n",
       "      <td>STU54442</td>\n",
       "      <td>DEG</td>\n",
       "      <td>Positive</td>\n",
       "      <td>Quintile 431-40No disability reportedWhiteQuin...</td>\n",
       "    </tr>\n",
       "    <tr>\n",
       "      <th>753</th>\n",
       "      <td>STU80079</td>\n",
       "      <td>PGTM</td>\n",
       "      <td>Positive</td>\n",
       "      <td>Quintile 131-40No disability reportedWhiteQuin...</td>\n",
       "    </tr>\n",
       "    <tr>\n",
       "      <th>754</th>\n",
       "      <td>STU78224</td>\n",
       "      <td>PGTM</td>\n",
       "      <td>Positive</td>\n",
       "      <td>Quintile 131-40No disability reportedWhiteQuin...</td>\n",
       "    </tr>\n",
       "  </tbody>\n",
       "</table>\n",
       "<p>695 rows × 4 columns</p>\n",
       "</div>"
      ],
      "text/plain": [
       "    StudentNumber IPLEVEL Actual_Outcome  \\\n",
       "0        STU71842    PGTM       Positive   \n",
       "1        STU66810    PGTM       Positive   \n",
       "2        STU24349     DEG       Positive   \n",
       "3        STU56498     DEG       Positive   \n",
       "4        STU62198    PGTM       Positive   \n",
       "..            ...     ...            ...   \n",
       "749      STU72329    PGTM       Positive   \n",
       "750      STU46308     DEG       Positive   \n",
       "752      STU54442     DEG       Positive   \n",
       "753      STU80079    PGTM       Positive   \n",
       "754      STU78224    PGTM       Positive   \n",
       "\n",
       "                                   Concatenated_column  \n",
       "0    Quintile 526-30Mental health conditionWhiteQui...  \n",
       "1    Quintile 231-40Sensory, medical or physical im...  \n",
       "2    Quintile 541-50Sensory, medical or physical im...  \n",
       "3    Quintile 120Mental health conditionWhiteQuinti...  \n",
       "4    Quintile 126-30Sensory, medical or physical im...  \n",
       "..                                                 ...  \n",
       "749  Quintile 231-40No disability reportedWhiteQuin...  \n",
       "750  Quintile 531-40No disability reportedWhiteQuin...  \n",
       "752  Quintile 431-40No disability reportedWhiteQuin...  \n",
       "753  Quintile 131-40No disability reportedWhiteQuin...  \n",
       "754  Quintile 131-40No disability reportedWhiteQuin...  \n",
       "\n",
       "[695 rows x 4 columns]"
      ]
     },
     "execution_count": 218,
     "metadata": {},
     "output_type": "execute_result"
    }
   ],
   "source": [
    "# Concatenate columns by converting all values to strings\n",
    "concat_hist_char['Concatenated_column'] = (\n",
    "    concat_hist_char['adult_he_2011_quintile_desc'].astype(str) + \n",
    "    concat_hist_char['age_on_entry'].astype(str) + \n",
    "    concat_hist_char['disability_type'].astype(str) + \n",
    "    concat_hist_char['ethnicity_16_groups'].astype(str) + \n",
    "    concat_hist_char['idaci_desc'].astype(str) + \n",
    "    concat_hist_char['imd_desc'].astype(str) + \n",
    "    concat_hist_char['IPSTARTMODE'].astype(str) + \n",
    "    concat_hist_char['sex'].astype(str)\n",
    ")\n",
    "\n",
    "#renaming col name and slecting some columns \n",
    "concat_hist_char.rename(columns={'Outcome': 'Actual_Outcome'}, inplace=True)\n",
    "concat_hist_char=concat_hist_char[['StudentNumber','IPLEVEL','Actual_Outcome','Concatenated_column']]\n",
    "concat_hist_char"
   ]
  },
  {
   "cell_type": "code",
   "execution_count": 72,
   "id": "d62b738a-6250-4ba2-85c9-4675bc49cd72",
   "metadata": {
    "jupyter": {
     "outputs_hidden": false,
     "source_hidden": false
    },
    "microsoft": {
     "language": "python",
     "language_group": "synapse_pyspark"
    },
    "nteract": {
     "transient": {
      "deleting": false
     }
    }
   },
   "outputs": [
    {
     "data": {
      "application/vnd.livy.statement-meta+json": {
       "execution_finish_time": "2024-12-04T10:40:52.1901866Z",
       "execution_start_time": "2024-12-04T10:40:51.4423842Z",
       "livy_statement_state": "available",
       "normalized_state": "finished",
       "parent_msg_id": "fc483ac2-6fbe-4706-a5ff-df047cd8c94f",
       "queued_time": "2024-12-04T10:40:51.004027Z",
       "session_id": "c3362933-4b99-4fc4-b98a-e8b07e6c5a39",
       "session_start_time": null,
       "spark_pool": null,
       "state": "finished",
       "statement_id": 74,
       "statement_ids": [
        74
       ]
      },
      "text/plain": [
       "StatementMeta(, c3362933-4b99-4fc4-b98a-e8b07e6c5a39, 74, Finished, Available, Finished)"
      ]
     },
     "metadata": {},
     "output_type": "display_data"
    }
   ],
   "source": [
    "#dropping duplicates from the dataframe\n",
    "df_pt1 = df_pt1.drop_duplicates()"
   ]
  },
  {
   "cell_type": "markdown",
   "id": "e54018d4-b9c7-4fcb-8674-5267cffa323c",
   "metadata": {
    "microsoft": {
     "language": "python",
     "language_group": "synapse_pyspark"
    },
    "nteract": {
     "transient": {
      "deleting": false
     }
    }
   },
   "source": [
    "**Inner joining with historical Arden data with external progression data on concatenated column**"
   ]
  },
  {
   "cell_type": "code",
   "execution_count": 73,
   "id": "781e0bc7-9d82-4327-a7e3-0112c7ca45e7",
   "metadata": {
    "jupyter": {
     "outputs_hidden": false,
     "source_hidden": false
    },
    "microsoft": {
     "language": "python",
     "language_group": "synapse_pyspark"
    },
    "nteract": {
     "transient": {
      "deleting": false
     }
    }
   },
   "outputs": [
    {
     "data": {
      "application/vnd.livy.statement-meta+json": {
       "execution_finish_time": "2024-12-04T10:40:55.9788481Z",
       "execution_start_time": "2024-12-04T10:40:55.7403088Z",
       "livy_statement_state": "available",
       "normalized_state": "finished",
       "parent_msg_id": "e3734d7a-c3ea-4772-9c47-b62aba5a7f4c",
       "queued_time": "2024-12-04T10:40:55.2325478Z",
       "session_id": "c3362933-4b99-4fc4-b98a-e8b07e6c5a39",
       "session_start_time": null,
       "spark_pool": null,
       "state": "finished",
       "statement_id": 75,
       "statement_ids": [
        75
       ]
      },
      "text/plain": [
       "StatementMeta(, c3362933-4b99-4fc4-b98a-e8b07e6c5a39, 75, Finished, Available, Finished)"
      ]
     },
     "metadata": {},
     "output_type": "display_data"
    }
   ],
   "source": [
    "joined_df = df_pt1.merge(concat_hist_char,on='Concatenated_column', how='inner')\n",
    "joined_df = joined_df.drop_duplicates()"
   ]
  },
  {
   "cell_type": "code",
   "execution_count": 74,
   "id": "d2cb9a5c-f00f-4667-9ba0-cf8c858503ba",
   "metadata": {
    "jupyter": {
     "outputs_hidden": false,
     "source_hidden": false
    },
    "microsoft": {
     "language": "python",
     "language_group": "synapse_pyspark"
    },
    "nteract": {
     "transient": {
      "deleting": false
     }
    }
   },
   "outputs": [
    {
     "data": {
      "application/vnd.livy.statement-meta+json": {
       "execution_finish_time": "2024-12-04T10:40:59.2854503Z",
       "execution_start_time": "2024-12-04T10:40:58.9830676Z",
       "livy_statement_state": "available",
       "normalized_state": "finished",
       "parent_msg_id": "2c34cef2-fbff-4c13-b305-7d69ec51259e",
       "queued_time": "2024-12-04T10:40:58.5748465Z",
       "session_id": "c3362933-4b99-4fc4-b98a-e8b07e6c5a39",
       "session_start_time": null,
       "spark_pool": null,
       "state": "finished",
       "statement_id": 76,
       "statement_ids": [
        76
       ]
      },
      "text/plain": [
       "StatementMeta(, c3362933-4b99-4fc4-b98a-e8b07e6c5a39, 76, Finished, Available, Finished)"
      ]
     },
     "metadata": {},
     "output_type": "display_data"
    },
    {
     "data": {
      "text/html": [
       "<div>\n",
       "<style scoped>\n",
       "    .dataframe tbody tr th:only-of-type {\n",
       "        vertical-align: middle;\n",
       "    }\n",
       "\n",
       "    .dataframe tbody tr th {\n",
       "        vertical-align: top;\n",
       "    }\n",
       "\n",
       "    .dataframe thead th {\n",
       "        text-align: right;\n",
       "    }\n",
       "</style>\n",
       "<table border=\"1\" class=\"dataframe\">\n",
       "  <thead>\n",
       "    <tr style=\"text-align: right;\">\n",
       "      <th></th>\n",
       "      <th>Predicted_outcome_rate</th>\n",
       "      <th>Derived_progression_quintile</th>\n",
       "      <th>Concatenated_column</th>\n",
       "      <th>StudentNumber</th>\n",
       "      <th>IPLEVEL</th>\n",
       "      <th>Actual_Outcome</th>\n",
       "    </tr>\n",
       "  </thead>\n",
       "  <tbody>\n",
       "    <tr>\n",
       "      <th>0</th>\n",
       "      <td>0.730000</td>\n",
       "      <td>1</td>\n",
       "      <td>Quintile 321-25Sensory, medical or physical im...</td>\n",
       "      <td>STU59079</td>\n",
       "      <td>PGTM</td>\n",
       "      <td>Positive</td>\n",
       "    </tr>\n",
       "    <tr>\n",
       "      <th>1</th>\n",
       "      <td>0.750000</td>\n",
       "      <td>1</td>\n",
       "      <td>Quintile 221-25Sensory, medical or physical im...</td>\n",
       "      <td>STU59158</td>\n",
       "      <td>PGTM</td>\n",
       "      <td>Negative</td>\n",
       "    </tr>\n",
       "    <tr>\n",
       "      <th>2</th>\n",
       "      <td>0.660000</td>\n",
       "      <td>1</td>\n",
       "      <td>Quintile 321-25Social or communication impairm...</td>\n",
       "      <td>STU69756</td>\n",
       "      <td>PGTM</td>\n",
       "      <td>Positive</td>\n",
       "    </tr>\n",
       "    <tr>\n",
       "      <th>3</th>\n",
       "      <td>0.600000</td>\n",
       "      <td>1</td>\n",
       "      <td>Quintile 121-25Mental health conditionWhiteQui...</td>\n",
       "      <td>STU56579</td>\n",
       "      <td>DEG</td>\n",
       "      <td>Negative</td>\n",
       "    </tr>\n",
       "    <tr>\n",
       "      <th>4</th>\n",
       "      <td>0.530000</td>\n",
       "      <td>1</td>\n",
       "      <td>Quintile 221-25Mental health conditionAsian or...</td>\n",
       "      <td>STU74215</td>\n",
       "      <td>DEG</td>\n",
       "      <td>Negative</td>\n",
       "    </tr>\n",
       "    <tr>\n",
       "      <th>...</th>\n",
       "      <td>...</td>\n",
       "      <td>...</td>\n",
       "      <td>...</td>\n",
       "      <td>...</td>\n",
       "      <td>...</td>\n",
       "      <td>...</td>\n",
       "    </tr>\n",
       "    <tr>\n",
       "      <th>665</th>\n",
       "      <td>0.820000</td>\n",
       "      <td>3</td>\n",
       "      <td>Quintile 231-40No disability reportedOther eth...</td>\n",
       "      <td>STU54158</td>\n",
       "      <td>DEG</td>\n",
       "      <td>Positive</td>\n",
       "    </tr>\n",
       "    <tr>\n",
       "      <th>666</th>\n",
       "      <td>0.900000</td>\n",
       "      <td>5</td>\n",
       "      <td>Quintile 531-40No disability reportedAsian or ...</td>\n",
       "      <td>STU42083</td>\n",
       "      <td>DEG</td>\n",
       "      <td>Positive</td>\n",
       "    </tr>\n",
       "    <tr>\n",
       "      <th>667</th>\n",
       "      <td>0.890000</td>\n",
       "      <td>5</td>\n",
       "      <td>Quintile 531-40No disability reportedAsian or ...</td>\n",
       "      <td>STU49976</td>\n",
       "      <td>PGTM</td>\n",
       "      <td>Positive</td>\n",
       "    </tr>\n",
       "    <tr>\n",
       "      <th>668</th>\n",
       "      <td>0.860000</td>\n",
       "      <td>5</td>\n",
       "      <td>Quintile 531-40No disability reportedAsian or ...</td>\n",
       "      <td>STU40896</td>\n",
       "      <td>PGTM</td>\n",
       "      <td>Positive</td>\n",
       "    </tr>\n",
       "    <tr>\n",
       "      <th>669</th>\n",
       "      <td>0.880000</td>\n",
       "      <td>5</td>\n",
       "      <td>Quintile 531-40No disability reportedRefused o...</td>\n",
       "      <td>STU56512</td>\n",
       "      <td>PGTM</td>\n",
       "      <td>Negative</td>\n",
       "    </tr>\n",
       "  </tbody>\n",
       "</table>\n",
       "<p>670 rows × 6 columns</p>\n",
       "</div>"
      ],
      "text/plain": [
       "    Predicted_outcome_rate  Derived_progression_quintile  \\\n",
       "0                 0.730000                             1   \n",
       "1                 0.750000                             1   \n",
       "2                 0.660000                             1   \n",
       "3                 0.600000                             1   \n",
       "4                 0.530000                             1   \n",
       "..                     ...                           ...   \n",
       "665               0.820000                             3   \n",
       "666               0.900000                             5   \n",
       "667               0.890000                             5   \n",
       "668               0.860000                             5   \n",
       "669               0.880000                             5   \n",
       "\n",
       "                                   Concatenated_column StudentNumber IPLEVEL  \\\n",
       "0    Quintile 321-25Sensory, medical or physical im...      STU59079    PGTM   \n",
       "1    Quintile 221-25Sensory, medical or physical im...      STU59158    PGTM   \n",
       "2    Quintile 321-25Social or communication impairm...      STU69756    PGTM   \n",
       "3    Quintile 121-25Mental health conditionWhiteQui...      STU56579     DEG   \n",
       "4    Quintile 221-25Mental health conditionAsian or...      STU74215     DEG   \n",
       "..                                                 ...           ...     ...   \n",
       "665  Quintile 231-40No disability reportedOther eth...      STU54158     DEG   \n",
       "666  Quintile 531-40No disability reportedAsian or ...      STU42083     DEG   \n",
       "667  Quintile 531-40No disability reportedAsian or ...      STU49976    PGTM   \n",
       "668  Quintile 531-40No disability reportedAsian or ...      STU40896    PGTM   \n",
       "669  Quintile 531-40No disability reportedRefused o...      STU56512    PGTM   \n",
       "\n",
       "    Actual_Outcome  \n",
       "0         Positive  \n",
       "1         Negative  \n",
       "2         Positive  \n",
       "3         Negative  \n",
       "4         Negative  \n",
       "..             ...  \n",
       "665       Positive  \n",
       "666       Positive  \n",
       "667       Positive  \n",
       "668       Positive  \n",
       "669       Negative  \n",
       "\n",
       "[670 rows x 6 columns]"
      ]
     },
     "execution_count": 227,
     "metadata": {},
     "output_type": "execute_result"
    }
   ],
   "source": [
    "#displaying the dataframe\n",
    "joined_df"
   ]
  },
  {
   "cell_type": "markdown",
   "id": "f16a2758-6fc9-4546-ad23-682eab4765c0",
   "metadata": {
    "microsoft": {
     "language": "python",
     "language_group": "synapse_pyspark"
    },
    "nteract": {
     "transient": {
      "deleting": false
     }
    }
   },
   "source": [
    "**Applying inner join to tag predicted outcome rate and derive quintile to each student**"
   ]
  },
  {
   "cell_type": "code",
   "execution_count": 75,
   "id": "8b1535f5-0422-4332-b996-2a9b772dfeb0",
   "metadata": {
    "jupyter": {
     "outputs_hidden": false,
     "source_hidden": false
    },
    "microsoft": {
     "language": "python",
     "language_group": "synapse_pyspark"
    },
    "nteract": {
     "transient": {
      "deleting": false
     }
    }
   },
   "outputs": [
    {
     "data": {
      "application/vnd.livy.statement-meta+json": {
       "execution_finish_time": "2024-12-04T10:41:04.0053586Z",
       "execution_start_time": "2024-12-04T10:41:03.7682049Z",
       "livy_statement_state": "available",
       "normalized_state": "finished",
       "parent_msg_id": "06a0ce97-ba4d-40e6-9220-caf3c96cfe3e",
       "queued_time": "2024-12-04T10:41:03.2795951Z",
       "session_id": "c3362933-4b99-4fc4-b98a-e8b07e6c5a39",
       "session_start_time": null,
       "spark_pool": null,
       "state": "finished",
       "statement_id": 77,
       "statement_ids": [
        77
       ]
      },
      "text/plain": [
       "StatementMeta(, c3362933-4b99-4fc4-b98a-e8b07e6c5a39, 77, Finished, Available, Finished)"
      ]
     },
     "metadata": {},
     "output_type": "display_data"
    }
   ],
   "source": [
    "export_pt_df = pd.merge(joined_df,concat_hist_char1,on='StudentNumber',how = 'inner')"
   ]
  },
  {
   "cell_type": "markdown",
   "id": "80ac6778-f880-45ac-b129-5ef3597fc886",
   "metadata": {
    "microsoft": {
     "language": "python",
     "language_group": "synapse_pyspark"
    },
    "nteract": {
     "transient": {
      "deleting": false
     }
    }
   },
   "source": [
    "**Selecting relevant columns**"
   ]
  },
  {
   "cell_type": "code",
   "execution_count": 76,
   "id": "9306ebbd-f442-403b-9e18-dd5a391d10c4",
   "metadata": {
    "jupyter": {
     "outputs_hidden": false,
     "source_hidden": false
    },
    "microsoft": {
     "language": "python",
     "language_group": "synapse_pyspark"
    },
    "nteract": {
     "transient": {
      "deleting": false
     }
    }
   },
   "outputs": [
    {
     "data": {
      "application/vnd.livy.statement-meta+json": {
       "execution_finish_time": "2024-12-04T10:41:07.5413722Z",
       "execution_start_time": "2024-12-04T10:41:07.305156Z",
       "livy_statement_state": "available",
       "normalized_state": "finished",
       "parent_msg_id": "bff6b949-411f-4717-bf59-7964af5ab557",
       "queued_time": "2024-12-04T10:41:06.8132312Z",
       "session_id": "c3362933-4b99-4fc4-b98a-e8b07e6c5a39",
       "session_start_time": null,
       "spark_pool": null,
       "state": "finished",
       "statement_id": 78,
       "statement_ids": [
        78
       ]
      },
      "text/plain": [
       "StatementMeta(, c3362933-4b99-4fc4-b98a-e8b07e6c5a39, 78, Finished, Available, Finished)"
      ]
     },
     "metadata": {},
     "output_type": "display_data"
    }
   ],
   "source": [
    "export_pt_df = export_pt_df[[ 'StudentNumber', 'IPLEVEL_x', \n",
    "       'age_on_entry', 'ethnicity_16_groups', 'sex',\n",
    "       'adult_he_2011_quintile_desc', 'imd_desc', 'idaci_desc',\n",
    "       'disability_type', 'IPSTARTMODE',\n",
    "       'Concatenated_column','Actual_Outcome','Predicted_outcome_rate', 'Derived_progression_quintile']]"
   ]
  },
  {
   "cell_type": "code",
   "execution_count": 77,
   "id": "156f8852-eda2-41a6-8b90-500c9bb9ad22",
   "metadata": {
    "jupyter": {
     "outputs_hidden": false,
     "source_hidden": false
    },
    "microsoft": {
     "language": "python",
     "language_group": "synapse_pyspark"
    },
    "nteract": {
     "transient": {
      "deleting": false
     }
    }
   },
   "outputs": [
    {
     "data": {
      "application/vnd.livy.statement-meta+json": {
       "execution_finish_time": "2024-12-04T10:41:11.5371193Z",
       "execution_start_time": "2024-12-04T10:41:11.2443317Z",
       "livy_statement_state": "available",
       "normalized_state": "finished",
       "parent_msg_id": "6d1def75-5a8d-4769-9543-7877ebcbcebd",
       "queued_time": "2024-12-04T10:41:10.7588998Z",
       "session_id": "c3362933-4b99-4fc4-b98a-e8b07e6c5a39",
       "session_start_time": null,
       "spark_pool": null,
       "state": "finished",
       "statement_id": 79,
       "statement_ids": [
        79
       ]
      },
      "text/plain": [
       "StatementMeta(, c3362933-4b99-4fc4-b98a-e8b07e6c5a39, 79, Finished, Available, Finished)"
      ]
     },
     "metadata": {},
     "output_type": "display_data"
    },
    {
     "data": {
      "text/html": [
       "<div>\n",
       "<style scoped>\n",
       "    .dataframe tbody tr th:only-of-type {\n",
       "        vertical-align: middle;\n",
       "    }\n",
       "\n",
       "    .dataframe tbody tr th {\n",
       "        vertical-align: top;\n",
       "    }\n",
       "\n",
       "    .dataframe thead th {\n",
       "        text-align: right;\n",
       "    }\n",
       "</style>\n",
       "<table border=\"1\" class=\"dataframe\">\n",
       "  <thead>\n",
       "    <tr style=\"text-align: right;\">\n",
       "      <th></th>\n",
       "      <th>StudentNumber</th>\n",
       "      <th>IPLEVEL_x</th>\n",
       "      <th>age_on_entry</th>\n",
       "      <th>ethnicity_16_groups</th>\n",
       "      <th>sex</th>\n",
       "      <th>adult_he_2011_quintile_desc</th>\n",
       "      <th>imd_desc</th>\n",
       "      <th>idaci_desc</th>\n",
       "      <th>disability_type</th>\n",
       "      <th>IPSTARTMODE</th>\n",
       "      <th>Concatenated_column</th>\n",
       "      <th>Actual_Outcome</th>\n",
       "      <th>Predicted_outcome_rate</th>\n",
       "      <th>Derived_progression_quintile</th>\n",
       "    </tr>\n",
       "  </thead>\n",
       "  <tbody>\n",
       "    <tr>\n",
       "      <th>0</th>\n",
       "      <td>STU59079</td>\n",
       "      <td>PGTM</td>\n",
       "      <td>21-25</td>\n",
       "      <td>White</td>\n",
       "      <td>Female</td>\n",
       "      <td>Quintile 3</td>\n",
       "      <td>Quintile 2</td>\n",
       "      <td>Quintile 4</td>\n",
       "      <td>Sensory, medical or physical impairments</td>\n",
       "      <td>PT</td>\n",
       "      <td>Quintile 321-25Sensory, medical or physical im...</td>\n",
       "      <td>Positive</td>\n",
       "      <td>0.730000</td>\n",
       "      <td>1</td>\n",
       "    </tr>\n",
       "    <tr>\n",
       "      <th>1</th>\n",
       "      <td>STU59158</td>\n",
       "      <td>PGTM</td>\n",
       "      <td>21-25</td>\n",
       "      <td>White</td>\n",
       "      <td>Female</td>\n",
       "      <td>Quintile 2</td>\n",
       "      <td>Quintile 3</td>\n",
       "      <td>Quintile 4</td>\n",
       "      <td>Sensory, medical or physical impairments</td>\n",
       "      <td>PT</td>\n",
       "      <td>Quintile 221-25Sensory, medical or physical im...</td>\n",
       "      <td>Negative</td>\n",
       "      <td>0.750000</td>\n",
       "      <td>1</td>\n",
       "    </tr>\n",
       "    <tr>\n",
       "      <th>2</th>\n",
       "      <td>STU69756</td>\n",
       "      <td>PGTM</td>\n",
       "      <td>21-25</td>\n",
       "      <td>White</td>\n",
       "      <td>Female</td>\n",
       "      <td>Quintile 3</td>\n",
       "      <td>Quintile 2</td>\n",
       "      <td>Quintile 2</td>\n",
       "      <td>Social or communication impairment</td>\n",
       "      <td>PT</td>\n",
       "      <td>Quintile 321-25Social or communication impairm...</td>\n",
       "      <td>Positive</td>\n",
       "      <td>0.660000</td>\n",
       "      <td>1</td>\n",
       "    </tr>\n",
       "    <tr>\n",
       "      <th>3</th>\n",
       "      <td>STU56579</td>\n",
       "      <td>DEG</td>\n",
       "      <td>21-25</td>\n",
       "      <td>White</td>\n",
       "      <td>Female</td>\n",
       "      <td>Quintile 1</td>\n",
       "      <td>Quintile 1</td>\n",
       "      <td>Quintile 1</td>\n",
       "      <td>Mental health condition</td>\n",
       "      <td>PT</td>\n",
       "      <td>Quintile 121-25Mental health conditionWhiteQui...</td>\n",
       "      <td>Negative</td>\n",
       "      <td>0.600000</td>\n",
       "      <td>1</td>\n",
       "    </tr>\n",
       "    <tr>\n",
       "      <th>4</th>\n",
       "      <td>STU74215</td>\n",
       "      <td>DEG</td>\n",
       "      <td>21-25</td>\n",
       "      <td>Asian or Asian British - Pakistani</td>\n",
       "      <td>Female</td>\n",
       "      <td>Quintile 2</td>\n",
       "      <td>Quintile 1</td>\n",
       "      <td>Quintile 1</td>\n",
       "      <td>Mental health condition</td>\n",
       "      <td>PT</td>\n",
       "      <td>Quintile 221-25Mental health conditionAsian or...</td>\n",
       "      <td>Negative</td>\n",
       "      <td>0.530000</td>\n",
       "      <td>1</td>\n",
       "    </tr>\n",
       "    <tr>\n",
       "      <th>...</th>\n",
       "      <td>...</td>\n",
       "      <td>...</td>\n",
       "      <td>...</td>\n",
       "      <td>...</td>\n",
       "      <td>...</td>\n",
       "      <td>...</td>\n",
       "      <td>...</td>\n",
       "      <td>...</td>\n",
       "      <td>...</td>\n",
       "      <td>...</td>\n",
       "      <td>...</td>\n",
       "      <td>...</td>\n",
       "      <td>...</td>\n",
       "      <td>...</td>\n",
       "    </tr>\n",
       "    <tr>\n",
       "      <th>681</th>\n",
       "      <td>STU54158</td>\n",
       "      <td>DEG</td>\n",
       "      <td>31-40</td>\n",
       "      <td>Other ethnic group</td>\n",
       "      <td>Male</td>\n",
       "      <td>Quintile 2</td>\n",
       "      <td>Quintile 3</td>\n",
       "      <td>Quintile 4</td>\n",
       "      <td>No disability reported</td>\n",
       "      <td>PT</td>\n",
       "      <td>Quintile 231-40No disability reportedOther eth...</td>\n",
       "      <td>Positive</td>\n",
       "      <td>0.820000</td>\n",
       "      <td>3</td>\n",
       "    </tr>\n",
       "    <tr>\n",
       "      <th>682</th>\n",
       "      <td>STU42083</td>\n",
       "      <td>DEG</td>\n",
       "      <td>31-40</td>\n",
       "      <td>Asian or Asian British - Indian</td>\n",
       "      <td>Male</td>\n",
       "      <td>Quintile 5</td>\n",
       "      <td>Quintile 5</td>\n",
       "      <td>Quintile 5</td>\n",
       "      <td>No disability reported</td>\n",
       "      <td>PT</td>\n",
       "      <td>Quintile 531-40No disability reportedAsian or ...</td>\n",
       "      <td>Positive</td>\n",
       "      <td>0.900000</td>\n",
       "      <td>5</td>\n",
       "    </tr>\n",
       "    <tr>\n",
       "      <th>683</th>\n",
       "      <td>STU49976</td>\n",
       "      <td>PGTM</td>\n",
       "      <td>31-40</td>\n",
       "      <td>Asian or Asian British - Indian</td>\n",
       "      <td>Male</td>\n",
       "      <td>Quintile 5</td>\n",
       "      <td>Quintile 5</td>\n",
       "      <td>Quintile 4</td>\n",
       "      <td>No disability reported</td>\n",
       "      <td>PT</td>\n",
       "      <td>Quintile 531-40No disability reportedAsian or ...</td>\n",
       "      <td>Positive</td>\n",
       "      <td>0.890000</td>\n",
       "      <td>5</td>\n",
       "    </tr>\n",
       "    <tr>\n",
       "      <th>684</th>\n",
       "      <td>STU40896</td>\n",
       "      <td>PGTM</td>\n",
       "      <td>31-40</td>\n",
       "      <td>Asian or Asian British - Indian</td>\n",
       "      <td>Male</td>\n",
       "      <td>Quintile 5</td>\n",
       "      <td>Quintile 4</td>\n",
       "      <td>Quintile 2</td>\n",
       "      <td>No disability reported</td>\n",
       "      <td>PT</td>\n",
       "      <td>Quintile 531-40No disability reportedAsian or ...</td>\n",
       "      <td>Positive</td>\n",
       "      <td>0.860000</td>\n",
       "      <td>5</td>\n",
       "    </tr>\n",
       "    <tr>\n",
       "      <th>685</th>\n",
       "      <td>STU56512</td>\n",
       "      <td>PGTM</td>\n",
       "      <td>31-40</td>\n",
       "      <td>Refused or unknown</td>\n",
       "      <td>Male</td>\n",
       "      <td>Quintile 5</td>\n",
       "      <td>Quintile 4</td>\n",
       "      <td>Quintile 5</td>\n",
       "      <td>No disability reported</td>\n",
       "      <td>PT</td>\n",
       "      <td>Quintile 531-40No disability reportedRefused o...</td>\n",
       "      <td>Negative</td>\n",
       "      <td>0.880000</td>\n",
       "      <td>5</td>\n",
       "    </tr>\n",
       "  </tbody>\n",
       "</table>\n",
       "<p>686 rows × 14 columns</p>\n",
       "</div>"
      ],
      "text/plain": [
       "    StudentNumber IPLEVEL_x age_on_entry                 ethnicity_16_groups  \\\n",
       "0        STU59079      PGTM        21-25                               White   \n",
       "1        STU59158      PGTM        21-25                               White   \n",
       "2        STU69756      PGTM        21-25                               White   \n",
       "3        STU56579       DEG        21-25                               White   \n",
       "4        STU74215       DEG        21-25  Asian or Asian British - Pakistani   \n",
       "..            ...       ...          ...                                 ...   \n",
       "681      STU54158       DEG        31-40                  Other ethnic group   \n",
       "682      STU42083       DEG        31-40     Asian or Asian British - Indian   \n",
       "683      STU49976      PGTM        31-40     Asian or Asian British - Indian   \n",
       "684      STU40896      PGTM        31-40     Asian or Asian British - Indian   \n",
       "685      STU56512      PGTM        31-40                  Refused or unknown   \n",
       "\n",
       "        sex adult_he_2011_quintile_desc    imd_desc  idaci_desc  \\\n",
       "0    Female                  Quintile 3  Quintile 2  Quintile 4   \n",
       "1    Female                  Quintile 2  Quintile 3  Quintile 4   \n",
       "2    Female                  Quintile 3  Quintile 2  Quintile 2   \n",
       "3    Female                  Quintile 1  Quintile 1  Quintile 1   \n",
       "4    Female                  Quintile 2  Quintile 1  Quintile 1   \n",
       "..      ...                         ...         ...         ...   \n",
       "681    Male                  Quintile 2  Quintile 3  Quintile 4   \n",
       "682    Male                  Quintile 5  Quintile 5  Quintile 5   \n",
       "683    Male                  Quintile 5  Quintile 5  Quintile 4   \n",
       "684    Male                  Quintile 5  Quintile 4  Quintile 2   \n",
       "685    Male                  Quintile 5  Quintile 4  Quintile 5   \n",
       "\n",
       "                              disability_type IPSTARTMODE  \\\n",
       "0    Sensory, medical or physical impairments          PT   \n",
       "1    Sensory, medical or physical impairments          PT   \n",
       "2          Social or communication impairment          PT   \n",
       "3                     Mental health condition          PT   \n",
       "4                     Mental health condition          PT   \n",
       "..                                        ...         ...   \n",
       "681                    No disability reported          PT   \n",
       "682                    No disability reported          PT   \n",
       "683                    No disability reported          PT   \n",
       "684                    No disability reported          PT   \n",
       "685                    No disability reported          PT   \n",
       "\n",
       "                                   Concatenated_column Actual_Outcome  \\\n",
       "0    Quintile 321-25Sensory, medical or physical im...       Positive   \n",
       "1    Quintile 221-25Sensory, medical or physical im...       Negative   \n",
       "2    Quintile 321-25Social or communication impairm...       Positive   \n",
       "3    Quintile 121-25Mental health conditionWhiteQui...       Negative   \n",
       "4    Quintile 221-25Mental health conditionAsian or...       Negative   \n",
       "..                                                 ...            ...   \n",
       "681  Quintile 231-40No disability reportedOther eth...       Positive   \n",
       "682  Quintile 531-40No disability reportedAsian or ...       Positive   \n",
       "683  Quintile 531-40No disability reportedAsian or ...       Positive   \n",
       "684  Quintile 531-40No disability reportedAsian or ...       Positive   \n",
       "685  Quintile 531-40No disability reportedRefused o...       Negative   \n",
       "\n",
       "    Predicted_outcome_rate  Derived_progression_quintile  \n",
       "0                 0.730000                             1  \n",
       "1                 0.750000                             1  \n",
       "2                 0.660000                             1  \n",
       "3                 0.600000                             1  \n",
       "4                 0.530000                             1  \n",
       "..                     ...                           ...  \n",
       "681               0.820000                             3  \n",
       "682               0.900000                             5  \n",
       "683               0.890000                             5  \n",
       "684               0.860000                             5  \n",
       "685               0.880000                             5  \n",
       "\n",
       "[686 rows x 14 columns]"
      ]
     },
     "execution_count": 236,
     "metadata": {},
     "output_type": "execute_result"
    }
   ],
   "source": [
    "#displaying dataframe\n",
    "export_pt_df"
   ]
  },
  {
   "cell_type": "markdown",
   "id": "164b7cac-d333-4ef7-b00d-ff6db5c962c8",
   "metadata": {
    "microsoft": {
     "language": "python",
     "language_group": "synapse_pyspark"
    },
    "nteract": {
     "transient": {
      "deleting": false
     }
    }
   },
   "source": [
    "**Creating copy of the below dataframe and saving in another dataframe**"
   ]
  },
  {
   "cell_type": "code",
   "execution_count": 78,
   "id": "02a495b9-4ea6-4bf4-8539-e842ea113dd5",
   "metadata": {
    "jupyter": {
     "outputs_hidden": false,
     "source_hidden": false
    },
    "microsoft": {
     "language": "python",
     "language_group": "synapse_pyspark"
    },
    "nteract": {
     "transient": {
      "deleting": false
     }
    }
   },
   "outputs": [
    {
     "data": {
      "application/vnd.livy.statement-meta+json": {
       "execution_finish_time": "2024-12-04T10:41:15.5768001Z",
       "execution_start_time": "2024-12-04T10:41:15.2964164Z",
       "livy_statement_state": "available",
       "normalized_state": "finished",
       "parent_msg_id": "0bb746bf-a64f-4d6d-ade8-d5034c4c1f05",
       "queued_time": "2024-12-04T10:41:14.8303027Z",
       "session_id": "c3362933-4b99-4fc4-b98a-e8b07e6c5a39",
       "session_start_time": null,
       "spark_pool": null,
       "state": "finished",
       "statement_id": 80,
       "statement_ids": [
        80
       ]
      },
      "text/plain": [
       "StatementMeta(, c3362933-4b99-4fc4-b98a-e8b07e6c5a39, 80, Finished, Available, Finished)"
      ]
     },
     "metadata": {},
     "output_type": "display_data"
    }
   ],
   "source": [
    "raw_data_pt=export_pt_df.copy()"
   ]
  },
  {
   "cell_type": "markdown",
   "id": "f69d9f4c-0ad4-4bc1-9e52-0dff4607dcdb",
   "metadata": {
    "microsoft": {
     "language": "python",
     "language_group": "synapse_pyspark"
    },
    "nteract": {
     "transient": {
      "deleting": false
     }
    }
   },
   "source": [
    "**Importing progression data again to do FT analysis**"
   ]
  },
  {
   "cell_type": "code",
   "execution_count": 79,
   "id": "7d37b033-5f44-482a-98a1-221a5d6697a7",
   "metadata": {
    "jupyter": {
     "outputs_hidden": false,
     "source_hidden": false
    },
    "microsoft": {
     "language": "python",
     "language_group": "synapse_pyspark"
    },
    "nteract": {
     "transient": {
      "deleting": false
     }
    }
   },
   "outputs": [
    {
     "data": {
      "application/vnd.livy.statement-meta+json": {
       "execution_finish_time": "2024-12-04T10:41:22.0411247Z",
       "execution_start_time": "2024-12-04T10:41:19.580538Z",
       "livy_statement_state": "available",
       "normalized_state": "finished",
       "parent_msg_id": "0bfb954e-2d9c-43c0-aad8-6b59b37b1a90",
       "queued_time": "2024-12-04T10:41:19.1620393Z",
       "session_id": "c3362933-4b99-4fc4-b98a-e8b07e6c5a39",
       "session_start_time": null,
       "spark_pool": null,
       "state": "finished",
       "statement_id": 81,
       "statement_ids": [
        81
       ]
      },
      "text/plain": [
       "StatementMeta(, c3362933-4b99-4fc4-b98a-e8b07e6c5a39, 81, Finished, Available, Finished)"
      ]
     },
     "metadata": {},
     "output_type": "display_data"
    },
    {
     "data": {
      "text/html": [
       "<div>\n",
       "<style scoped>\n",
       "    .dataframe tbody tr th:only-of-type {\n",
       "        vertical-align: middle;\n",
       "    }\n",
       "\n",
       "    .dataframe tbody tr th {\n",
       "        vertical-align: top;\n",
       "    }\n",
       "\n",
       "    .dataframe thead th {\n",
       "        text-align: right;\n",
       "    }\n",
       "</style>\n",
       "<table border=\"1\" class=\"dataframe\">\n",
       "  <thead>\n",
       "    <tr style=\"text-align: right;\">\n",
       "      <th></th>\n",
       "      <th>Adult_HE_quintile</th>\n",
       "      <th>Age_group</th>\n",
       "      <th>Disability</th>\n",
       "      <th>Ethnicity</th>\n",
       "      <th>IDACI</th>\n",
       "      <th>IMD</th>\n",
       "      <th>Local_or_distance_learner</th>\n",
       "      <th>Sex</th>\n",
       "      <th>Predicted_outcome_rate</th>\n",
       "      <th>Derived_progression_quintile</th>\n",
       "      <th>createdAt</th>\n",
       "    </tr>\n",
       "  </thead>\n",
       "  <tbody>\n",
       "    <tr>\n",
       "      <th>0</th>\n",
       "      <td>-- Any quintile --</td>\n",
       "      <td>21-25</td>\n",
       "      <td>Cognitive or learning difficulties</td>\n",
       "      <td>Asian or Asian British - Pakistani</td>\n",
       "      <td>-- Any quintile --</td>\n",
       "      <td>-- Any quintile --</td>\n",
       "      <td>Local</td>\n",
       "      <td>Female</td>\n",
       "      <td>0.620000</td>\n",
       "      <td>1</td>\n",
       "      <td>2024-11-25 08:59:18.184056</td>\n",
       "    </tr>\n",
       "    <tr>\n",
       "      <th>1</th>\n",
       "      <td>-- Any quintile --</td>\n",
       "      <td>21-25</td>\n",
       "      <td>Cognitive or learning difficulties</td>\n",
       "      <td>Black or black British - African</td>\n",
       "      <td>-- Any quintile --</td>\n",
       "      <td>-- Any quintile --</td>\n",
       "      <td>Local</td>\n",
       "      <td>Female</td>\n",
       "      <td>0.730000</td>\n",
       "      <td>1</td>\n",
       "      <td>2024-11-25 08:59:18.184056</td>\n",
       "    </tr>\n",
       "    <tr>\n",
       "      <th>2</th>\n",
       "      <td>-- Any quintile --</td>\n",
       "      <td>21-25</td>\n",
       "      <td>Cognitive or learning difficulties</td>\n",
       "      <td>Black or black British - Caribbean</td>\n",
       "      <td>-- Any quintile --</td>\n",
       "      <td>-- Any quintile --</td>\n",
       "      <td>Local</td>\n",
       "      <td>Female</td>\n",
       "      <td>0.670000</td>\n",
       "      <td>1</td>\n",
       "      <td>2024-11-25 08:59:18.184056</td>\n",
       "    </tr>\n",
       "    <tr>\n",
       "      <th>3</th>\n",
       "      <td>-- Any quintile --</td>\n",
       "      <td>21-25</td>\n",
       "      <td>Cognitive or learning difficulties</td>\n",
       "      <td>Mixed - other</td>\n",
       "      <td>-- Any quintile --</td>\n",
       "      <td>-- Any quintile --</td>\n",
       "      <td>Local</td>\n",
       "      <td>Female</td>\n",
       "      <td>0.740000</td>\n",
       "      <td>1</td>\n",
       "      <td>2024-11-25 08:59:18.184056</td>\n",
       "    </tr>\n",
       "    <tr>\n",
       "      <th>4</th>\n",
       "      <td>-- Any quintile --</td>\n",
       "      <td>21-25</td>\n",
       "      <td>Cognitive or learning difficulties</td>\n",
       "      <td>Mixed - other</td>\n",
       "      <td>-- Any quintile --</td>\n",
       "      <td>-- Any quintile --</td>\n",
       "      <td>Local</td>\n",
       "      <td>Female</td>\n",
       "      <td>0.740000</td>\n",
       "      <td>1</td>\n",
       "      <td>2024-11-25 08:59:18.184056</td>\n",
       "    </tr>\n",
       "    <tr>\n",
       "      <th>...</th>\n",
       "      <td>...</td>\n",
       "      <td>...</td>\n",
       "      <td>...</td>\n",
       "      <td>...</td>\n",
       "      <td>...</td>\n",
       "      <td>...</td>\n",
       "      <td>...</td>\n",
       "      <td>...</td>\n",
       "      <td>...</td>\n",
       "      <td>...</td>\n",
       "      <td>...</td>\n",
       "    </tr>\n",
       "    <tr>\n",
       "      <th>770852</th>\n",
       "      <td>-- Any quintile --</td>\n",
       "      <td>-- Any age group --</td>\n",
       "      <td>No disability reported</td>\n",
       "      <td>Asian or Asian British - Indian</td>\n",
       "      <td>-- Any quintile --</td>\n",
       "      <td>-- Any quintile --</td>\n",
       "      <td>Neither</td>\n",
       "      <td>Male</td>\n",
       "      <td>0.820000</td>\n",
       "      <td>3</td>\n",
       "      <td>2024-11-25 08:59:18.184056</td>\n",
       "    </tr>\n",
       "    <tr>\n",
       "      <th>770853</th>\n",
       "      <td>-- Any quintile --</td>\n",
       "      <td>-- Any age group --</td>\n",
       "      <td>No disability reported</td>\n",
       "      <td>Asian or Asian British - Indian</td>\n",
       "      <td>-- Any quintile --</td>\n",
       "      <td>-- Any quintile --</td>\n",
       "      <td>Neither</td>\n",
       "      <td>Male</td>\n",
       "      <td>0.820000</td>\n",
       "      <td>3</td>\n",
       "      <td>2024-11-25 08:59:18.184056</td>\n",
       "    </tr>\n",
       "    <tr>\n",
       "      <th>770854</th>\n",
       "      <td>-- Any quintile --</td>\n",
       "      <td>-- Any age group --</td>\n",
       "      <td>No disability reported</td>\n",
       "      <td>Asian or Asian British - Indian</td>\n",
       "      <td>-- Any quintile --</td>\n",
       "      <td>-- Any quintile --</td>\n",
       "      <td>Neither</td>\n",
       "      <td>Male</td>\n",
       "      <td>0.820000</td>\n",
       "      <td>3</td>\n",
       "      <td>2024-11-25 08:59:18.184056</td>\n",
       "    </tr>\n",
       "    <tr>\n",
       "      <th>770855</th>\n",
       "      <td>-- Any quintile --</td>\n",
       "      <td>-- Any age group --</td>\n",
       "      <td>No disability reported</td>\n",
       "      <td>Asian or Asian British - Indian</td>\n",
       "      <td>-- Any quintile --</td>\n",
       "      <td>-- Any quintile --</td>\n",
       "      <td>Neither</td>\n",
       "      <td>Male</td>\n",
       "      <td>0.820000</td>\n",
       "      <td>3</td>\n",
       "      <td>2024-11-25 08:59:18.184056</td>\n",
       "    </tr>\n",
       "    <tr>\n",
       "      <th>770856</th>\n",
       "      <td>-- Any quintile --</td>\n",
       "      <td>-- Any age group --</td>\n",
       "      <td>No disability reported</td>\n",
       "      <td>Asian or Asian British - Indian</td>\n",
       "      <td>-- Any quintile --</td>\n",
       "      <td>-- Any quintile --</td>\n",
       "      <td>Neither</td>\n",
       "      <td>Male</td>\n",
       "      <td>0.820000</td>\n",
       "      <td>3</td>\n",
       "      <td>2024-11-25 08:59:18.184056</td>\n",
       "    </tr>\n",
       "  </tbody>\n",
       "</table>\n",
       "<p>770857 rows × 11 columns</p>\n",
       "</div>"
      ],
      "text/plain": [
       "         Adult_HE_quintile            Age_group  \\\n",
       "0       -- Any quintile --                21-25   \n",
       "1       -- Any quintile --                21-25   \n",
       "2       -- Any quintile --                21-25   \n",
       "3       -- Any quintile --                21-25   \n",
       "4       -- Any quintile --                21-25   \n",
       "...                    ...                  ...   \n",
       "770852  -- Any quintile --  -- Any age group --   \n",
       "770853  -- Any quintile --  -- Any age group --   \n",
       "770854  -- Any quintile --  -- Any age group --   \n",
       "770855  -- Any quintile --  -- Any age group --   \n",
       "770856  -- Any quintile --  -- Any age group --   \n",
       "\n",
       "                                Disability  \\\n",
       "0       Cognitive or learning difficulties   \n",
       "1       Cognitive or learning difficulties   \n",
       "2       Cognitive or learning difficulties   \n",
       "3       Cognitive or learning difficulties   \n",
       "4       Cognitive or learning difficulties   \n",
       "...                                    ...   \n",
       "770852              No disability reported   \n",
       "770853              No disability reported   \n",
       "770854              No disability reported   \n",
       "770855              No disability reported   \n",
       "770856              No disability reported   \n",
       "\n",
       "                                 Ethnicity               IDACI  \\\n",
       "0       Asian or Asian British - Pakistani  -- Any quintile --   \n",
       "1         Black or black British - African  -- Any quintile --   \n",
       "2       Black or black British - Caribbean  -- Any quintile --   \n",
       "3                            Mixed - other  -- Any quintile --   \n",
       "4                            Mixed - other  -- Any quintile --   \n",
       "...                                    ...                 ...   \n",
       "770852     Asian or Asian British - Indian  -- Any quintile --   \n",
       "770853     Asian or Asian British - Indian  -- Any quintile --   \n",
       "770854     Asian or Asian British - Indian  -- Any quintile --   \n",
       "770855     Asian or Asian British - Indian  -- Any quintile --   \n",
       "770856     Asian or Asian British - Indian  -- Any quintile --   \n",
       "\n",
       "                       IMD Local_or_distance_learner     Sex  \\\n",
       "0       -- Any quintile --                     Local  Female   \n",
       "1       -- Any quintile --                     Local  Female   \n",
       "2       -- Any quintile --                     Local  Female   \n",
       "3       -- Any quintile --                     Local  Female   \n",
       "4       -- Any quintile --                     Local  Female   \n",
       "...                    ...                       ...     ...   \n",
       "770852  -- Any quintile --                   Neither    Male   \n",
       "770853  -- Any quintile --                   Neither    Male   \n",
       "770854  -- Any quintile --                   Neither    Male   \n",
       "770855  -- Any quintile --                   Neither    Male   \n",
       "770856  -- Any quintile --                   Neither    Male   \n",
       "\n",
       "       Predicted_outcome_rate  Derived_progression_quintile  \\\n",
       "0                    0.620000                             1   \n",
       "1                    0.730000                             1   \n",
       "2                    0.670000                             1   \n",
       "3                    0.740000                             1   \n",
       "4                    0.740000                             1   \n",
       "...                       ...                           ...   \n",
       "770852               0.820000                             3   \n",
       "770853               0.820000                             3   \n",
       "770854               0.820000                             3   \n",
       "770855               0.820000                             3   \n",
       "770856               0.820000                             3   \n",
       "\n",
       "                        createdAt  \n",
       "0      2024-11-25 08:59:18.184056  \n",
       "1      2024-11-25 08:59:18.184056  \n",
       "2      2024-11-25 08:59:18.184056  \n",
       "3      2024-11-25 08:59:18.184056  \n",
       "4      2024-11-25 08:59:18.184056  \n",
       "...                           ...  \n",
       "770852 2024-11-25 08:59:18.184056  \n",
       "770853 2024-11-25 08:59:18.184056  \n",
       "770854 2024-11-25 08:59:18.184056  \n",
       "770855 2024-11-25 08:59:18.184056  \n",
       "770856 2024-11-25 08:59:18.184056  \n",
       "\n",
       "[770857 rows x 11 columns]"
      ]
     },
     "execution_count": 242,
     "metadata": {},
     "output_type": "execute_result"
    }
   ],
   "source": [
    "df_ft_p = spark.sql(\"SELECT * FROM SilverData.external_progression_data\")\n",
    "df_ft=df_ft_p.toPandas()\n",
    "df_ft"
   ]
  },
  {
   "cell_type": "markdown",
   "id": "70dc9da4-7968-436e-992d-5e0b31a76d9e",
   "metadata": {
    "microsoft": {
     "language": "python",
     "language_group": "synapse_pyspark"
    },
    "nteract": {
     "transient": {
      "deleting": false
     }
    }
   },
   "source": [
    "**Mapping Any categories as blanks and Local as FT and Distance as PT**"
   ]
  },
  {
   "cell_type": "code",
   "execution_count": 80,
   "id": "68927cc0-05d9-4d1c-9c9b-4f2c736af94a",
   "metadata": {
    "jupyter": {
     "outputs_hidden": false,
     "source_hidden": false
    },
    "microsoft": {
     "language": "python",
     "language_group": "synapse_pyspark"
    },
    "nteract": {
     "transient": {
      "deleting": false
     }
    }
   },
   "outputs": [
    {
     "data": {
      "application/vnd.livy.statement-meta+json": {
       "execution_finish_time": "2024-12-04T10:41:27.6667616Z",
       "execution_start_time": "2024-12-04T10:41:24.0930361Z",
       "livy_statement_state": "available",
       "normalized_state": "finished",
       "parent_msg_id": "d9850cc0-db5f-4b34-91d8-dbeab83d0928",
       "queued_time": "2024-12-04T10:41:23.6846724Z",
       "session_id": "c3362933-4b99-4fc4-b98a-e8b07e6c5a39",
       "session_start_time": null,
       "spark_pool": null,
       "state": "finished",
       "statement_id": 82,
       "statement_ids": [
        82
       ]
      },
      "text/plain": [
       "StatementMeta(, c3362933-4b99-4fc4-b98a-e8b07e6c5a39, 82, Finished, Available, Finished)"
      ]
     },
     "metadata": {},
     "output_type": "display_data"
    }
   ],
   "source": [
    "df_ft1 = df_ft.replace({\n",
    "    '-- Any quintile --':'', \n",
    "    '-- Any disability --':'', \n",
    "    '-- Any ethnicity --':'', \n",
    "    '-- Any quintile --':'', \n",
    "    '-- Any learner --': '',\n",
    "    '-- Any sex --': '',\n",
    "    'Local':'FT',\n",
    "    'Distance':'PT',\n",
    "    '-- Any age group --':''  \n",
    "})"
   ]
  },
  {
   "cell_type": "markdown",
   "id": "132e4468-34d3-4c06-825a-02a171b23f9f",
   "metadata": {
    "microsoft": {
     "language": "python",
     "language_group": "synapse_pyspark"
    },
    "nteract": {
     "transient": {
      "deleting": false
     }
    }
   },
   "source": [
    "**Selecting FT combination only**"
   ]
  },
  {
   "cell_type": "code",
   "execution_count": 81,
   "id": "aa8f5064-dcc5-4a28-aaf4-f87c2447dc25",
   "metadata": {
    "jupyter": {
     "outputs_hidden": false,
     "source_hidden": false
    },
    "microsoft": {
     "language": "python",
     "language_group": "synapse_pyspark"
    },
    "nteract": {
     "transient": {
      "deleting": false
     }
    }
   },
   "outputs": [
    {
     "data": {
      "application/vnd.livy.statement-meta+json": {
       "execution_finish_time": "2024-12-04T10:41:31.1518155Z",
       "execution_start_time": "2024-12-04T10:41:30.8973095Z",
       "livy_statement_state": "available",
       "normalized_state": "finished",
       "parent_msg_id": "6baae6f9-7a7f-4ca3-991d-37e0e2083ed9",
       "queued_time": "2024-12-04T10:41:30.3778239Z",
       "session_id": "c3362933-4b99-4fc4-b98a-e8b07e6c5a39",
       "session_start_time": null,
       "spark_pool": null,
       "state": "finished",
       "statement_id": 83,
       "statement_ids": [
        83
       ]
      },
      "text/plain": [
       "StatementMeta(, c3362933-4b99-4fc4-b98a-e8b07e6c5a39, 83, Finished, Available, Finished)"
      ]
     },
     "metadata": {},
     "output_type": "display_data"
    },
    {
     "data": {
      "text/html": [
       "<div>\n",
       "<style scoped>\n",
       "    .dataframe tbody tr th:only-of-type {\n",
       "        vertical-align: middle;\n",
       "    }\n",
       "\n",
       "    .dataframe tbody tr th {\n",
       "        vertical-align: top;\n",
       "    }\n",
       "\n",
       "    .dataframe thead th {\n",
       "        text-align: right;\n",
       "    }\n",
       "</style>\n",
       "<table border=\"1\" class=\"dataframe\">\n",
       "  <thead>\n",
       "    <tr style=\"text-align: right;\">\n",
       "      <th></th>\n",
       "      <th>Adult_HE_quintile</th>\n",
       "      <th>Age_group</th>\n",
       "      <th>Disability</th>\n",
       "      <th>Ethnicity</th>\n",
       "      <th>IDACI</th>\n",
       "      <th>IMD</th>\n",
       "      <th>Local_or_distance_learner</th>\n",
       "      <th>Sex</th>\n",
       "      <th>Predicted_outcome_rate</th>\n",
       "      <th>Derived_progression_quintile</th>\n",
       "      <th>createdAt</th>\n",
       "    </tr>\n",
       "  </thead>\n",
       "  <tbody>\n",
       "    <tr>\n",
       "      <th>0</th>\n",
       "      <td></td>\n",
       "      <td>21-25</td>\n",
       "      <td>Cognitive or learning difficulties</td>\n",
       "      <td>Asian or Asian British - Pakistani</td>\n",
       "      <td></td>\n",
       "      <td></td>\n",
       "      <td>FT</td>\n",
       "      <td>Female</td>\n",
       "      <td>0.620000</td>\n",
       "      <td>1</td>\n",
       "      <td>2024-11-25 08:59:18.184056</td>\n",
       "    </tr>\n",
       "    <tr>\n",
       "      <th>1</th>\n",
       "      <td></td>\n",
       "      <td>21-25</td>\n",
       "      <td>Cognitive or learning difficulties</td>\n",
       "      <td>Black or black British - African</td>\n",
       "      <td></td>\n",
       "      <td></td>\n",
       "      <td>FT</td>\n",
       "      <td>Female</td>\n",
       "      <td>0.730000</td>\n",
       "      <td>1</td>\n",
       "      <td>2024-11-25 08:59:18.184056</td>\n",
       "    </tr>\n",
       "    <tr>\n",
       "      <th>2</th>\n",
       "      <td></td>\n",
       "      <td>21-25</td>\n",
       "      <td>Cognitive or learning difficulties</td>\n",
       "      <td>Black or black British - Caribbean</td>\n",
       "      <td></td>\n",
       "      <td></td>\n",
       "      <td>FT</td>\n",
       "      <td>Female</td>\n",
       "      <td>0.670000</td>\n",
       "      <td>1</td>\n",
       "      <td>2024-11-25 08:59:18.184056</td>\n",
       "    </tr>\n",
       "    <tr>\n",
       "      <th>3</th>\n",
       "      <td></td>\n",
       "      <td>21-25</td>\n",
       "      <td>Cognitive or learning difficulties</td>\n",
       "      <td>Mixed - other</td>\n",
       "      <td></td>\n",
       "      <td></td>\n",
       "      <td>FT</td>\n",
       "      <td>Female</td>\n",
       "      <td>0.740000</td>\n",
       "      <td>1</td>\n",
       "      <td>2024-11-25 08:59:18.184056</td>\n",
       "    </tr>\n",
       "    <tr>\n",
       "      <th>4</th>\n",
       "      <td></td>\n",
       "      <td>21-25</td>\n",
       "      <td>Cognitive or learning difficulties</td>\n",
       "      <td>Mixed - other</td>\n",
       "      <td></td>\n",
       "      <td></td>\n",
       "      <td>FT</td>\n",
       "      <td>Female</td>\n",
       "      <td>0.740000</td>\n",
       "      <td>1</td>\n",
       "      <td>2024-11-25 08:59:18.184056</td>\n",
       "    </tr>\n",
       "    <tr>\n",
       "      <th>...</th>\n",
       "      <td>...</td>\n",
       "      <td>...</td>\n",
       "      <td>...</td>\n",
       "      <td>...</td>\n",
       "      <td>...</td>\n",
       "      <td>...</td>\n",
       "      <td>...</td>\n",
       "      <td>...</td>\n",
       "      <td>...</td>\n",
       "      <td>...</td>\n",
       "      <td>...</td>\n",
       "    </tr>\n",
       "    <tr>\n",
       "      <th>770837</th>\n",
       "      <td></td>\n",
       "      <td></td>\n",
       "      <td>No disability reported</td>\n",
       "      <td>Mixed - white and black Caribbean</td>\n",
       "      <td></td>\n",
       "      <td></td>\n",
       "      <td>FT</td>\n",
       "      <td>Male</td>\n",
       "      <td>0.820000</td>\n",
       "      <td>3</td>\n",
       "      <td>2024-11-25 08:59:18.184056</td>\n",
       "    </tr>\n",
       "    <tr>\n",
       "      <th>770838</th>\n",
       "      <td></td>\n",
       "      <td></td>\n",
       "      <td>No disability reported</td>\n",
       "      <td>Mixed - white and black Caribbean</td>\n",
       "      <td></td>\n",
       "      <td></td>\n",
       "      <td>FT</td>\n",
       "      <td>Male</td>\n",
       "      <td>0.820000</td>\n",
       "      <td>3</td>\n",
       "      <td>2024-11-25 08:59:18.184056</td>\n",
       "    </tr>\n",
       "    <tr>\n",
       "      <th>770839</th>\n",
       "      <td></td>\n",
       "      <td></td>\n",
       "      <td>No disability reported</td>\n",
       "      <td>Mixed - white and black Caribbean</td>\n",
       "      <td></td>\n",
       "      <td></td>\n",
       "      <td>FT</td>\n",
       "      <td>Male</td>\n",
       "      <td>0.820000</td>\n",
       "      <td>3</td>\n",
       "      <td>2024-11-25 08:59:18.184056</td>\n",
       "    </tr>\n",
       "    <tr>\n",
       "      <th>770840</th>\n",
       "      <td></td>\n",
       "      <td></td>\n",
       "      <td>No disability reported</td>\n",
       "      <td>Mixed - white and black Caribbean</td>\n",
       "      <td></td>\n",
       "      <td></td>\n",
       "      <td>FT</td>\n",
       "      <td>Male</td>\n",
       "      <td>0.820000</td>\n",
       "      <td>3</td>\n",
       "      <td>2024-11-25 08:59:18.184056</td>\n",
       "    </tr>\n",
       "    <tr>\n",
       "      <th>770841</th>\n",
       "      <td></td>\n",
       "      <td></td>\n",
       "      <td>No disability reported</td>\n",
       "      <td>Mixed - white and black Caribbean</td>\n",
       "      <td></td>\n",
       "      <td></td>\n",
       "      <td>FT</td>\n",
       "      <td>Male</td>\n",
       "      <td>0.820000</td>\n",
       "      <td>3</td>\n",
       "      <td>2024-11-25 08:59:18.184056</td>\n",
       "    </tr>\n",
       "  </tbody>\n",
       "</table>\n",
       "<p>199901 rows × 11 columns</p>\n",
       "</div>"
      ],
      "text/plain": [
       "       Adult_HE_quintile Age_group                          Disability  \\\n",
       "0                            21-25  Cognitive or learning difficulties   \n",
       "1                            21-25  Cognitive or learning difficulties   \n",
       "2                            21-25  Cognitive or learning difficulties   \n",
       "3                            21-25  Cognitive or learning difficulties   \n",
       "4                            21-25  Cognitive or learning difficulties   \n",
       "...                  ...       ...                                 ...   \n",
       "770837                                          No disability reported   \n",
       "770838                                          No disability reported   \n",
       "770839                                          No disability reported   \n",
       "770840                                          No disability reported   \n",
       "770841                                          No disability reported   \n",
       "\n",
       "                                 Ethnicity IDACI IMD  \\\n",
       "0       Asian or Asian British - Pakistani             \n",
       "1         Black or black British - African             \n",
       "2       Black or black British - Caribbean             \n",
       "3                            Mixed - other             \n",
       "4                            Mixed - other             \n",
       "...                                    ...   ...  ..   \n",
       "770837   Mixed - white and black Caribbean             \n",
       "770838   Mixed - white and black Caribbean             \n",
       "770839   Mixed - white and black Caribbean             \n",
       "770840   Mixed - white and black Caribbean             \n",
       "770841   Mixed - white and black Caribbean             \n",
       "\n",
       "       Local_or_distance_learner     Sex Predicted_outcome_rate  \\\n",
       "0                             FT  Female               0.620000   \n",
       "1                             FT  Female               0.730000   \n",
       "2                             FT  Female               0.670000   \n",
       "3                             FT  Female               0.740000   \n",
       "4                             FT  Female               0.740000   \n",
       "...                          ...     ...                    ...   \n",
       "770837                        FT    Male               0.820000   \n",
       "770838                        FT    Male               0.820000   \n",
       "770839                        FT    Male               0.820000   \n",
       "770840                        FT    Male               0.820000   \n",
       "770841                        FT    Male               0.820000   \n",
       "\n",
       "        Derived_progression_quintile                  createdAt  \n",
       "0                                  1 2024-11-25 08:59:18.184056  \n",
       "1                                  1 2024-11-25 08:59:18.184056  \n",
       "2                                  1 2024-11-25 08:59:18.184056  \n",
       "3                                  1 2024-11-25 08:59:18.184056  \n",
       "4                                  1 2024-11-25 08:59:18.184056  \n",
       "...                              ...                        ...  \n",
       "770837                             3 2024-11-25 08:59:18.184056  \n",
       "770838                             3 2024-11-25 08:59:18.184056  \n",
       "770839                             3 2024-11-25 08:59:18.184056  \n",
       "770840                             3 2024-11-25 08:59:18.184056  \n",
       "770841                             3 2024-11-25 08:59:18.184056  \n",
       "\n",
       "[199901 rows x 11 columns]"
      ]
     },
     "execution_count": 248,
     "metadata": {},
     "output_type": "execute_result"
    }
   ],
   "source": [
    "df_ft1= df_ft1[df_ft1['Local_or_distance_learner']=='FT']\n",
    "df_ft1"
   ]
  },
  {
   "cell_type": "markdown",
   "id": "23d18bcd-2fa5-48cf-b5d0-c2c6326d8550",
   "metadata": {
    "microsoft": {
     "language": "python",
     "language_group": "synapse_pyspark"
    },
    "nteract": {
     "transient": {
      "deleting": false
     }
    }
   },
   "source": [
    "**Created a Concatenated column by adding all the characteristics- Adult he quintile, age group, disability, ethnicity, idaci, imd, local or distance learner, sex**"
   ]
  },
  {
   "cell_type": "code",
   "execution_count": 82,
   "id": "27589f8e-c2f3-413d-adc0-0e9d63edf856",
   "metadata": {
    "jupyter": {
     "outputs_hidden": false,
     "source_hidden": false
    },
    "microsoft": {
     "language": "python",
     "language_group": "synapse_pyspark"
    },
    "nteract": {
     "transient": {
      "deleting": false
     }
    }
   },
   "outputs": [
    {
     "data": {
      "application/vnd.livy.statement-meta+json": {
       "execution_finish_time": "2024-12-04T10:41:35.53705Z",
       "execution_start_time": "2024-12-04T10:41:35.2570799Z",
       "livy_statement_state": "available",
       "normalized_state": "finished",
       "parent_msg_id": "aa6168a1-030d-4e42-b075-d73e800efe4f",
       "queued_time": "2024-12-04T10:41:34.7428723Z",
       "session_id": "c3362933-4b99-4fc4-b98a-e8b07e6c5a39",
       "session_start_time": null,
       "spark_pool": null,
       "state": "finished",
       "statement_id": 84,
       "statement_ids": [
        84
       ]
      },
      "text/plain": [
       "StatementMeta(, c3362933-4b99-4fc4-b98a-e8b07e6c5a39, 84, Finished, Available, Finished)"
      ]
     },
     "metadata": {},
     "output_type": "display_data"
    }
   ],
   "source": [
    "# Concatenate columns by converting all values to strings\n",
    "df_ft1['Concatenated_column'] = (\n",
    "    df_ft1['Adult_HE_quintile'].astype(str) + \n",
    "    df_ft1['Age_group'].astype(str) + \n",
    "    df_ft1['Disability'].astype(str) + \n",
    "    df_ft1['Ethnicity'].astype(str) + \n",
    "    df_ft1['IDACI'].astype(str) + \n",
    "    df_ft1['IMD'].astype(str) + \n",
    "    df_ft1['Local_or_distance_learner'].astype(str) + \n",
    "    df_ft1['Sex'].astype(str)\n",
    ")\n"
   ]
  },
  {
   "cell_type": "markdown",
   "id": "bf8addf5-baf1-4062-80ed-703738f49488",
   "metadata": {
    "microsoft": {
     "language": "python",
     "language_group": "synapse_pyspark"
    },
    "nteract": {
     "transient": {
      "deleting": false
     }
    }
   },
   "source": [
    "**Selecting some necessary columns and saving as a dataframe**"
   ]
  },
  {
   "cell_type": "code",
   "execution_count": 83,
   "id": "44019ef4-6f86-460a-b8e0-4a149e958572",
   "metadata": {
    "jupyter": {
     "outputs_hidden": false,
     "source_hidden": false
    },
    "microsoft": {
     "language": "python",
     "language_group": "synapse_pyspark"
    },
    "nteract": {
     "transient": {
      "deleting": false
     }
    }
   },
   "outputs": [
    {
     "data": {
      "application/vnd.livy.statement-meta+json": {
       "execution_finish_time": "2024-12-04T10:41:39.4307957Z",
       "execution_start_time": "2024-12-04T10:41:39.1891846Z",
       "livy_statement_state": "available",
       "normalized_state": "finished",
       "parent_msg_id": "24e3f5d7-f996-4174-b8c6-7b2bc9005a46",
       "queued_time": "2024-12-04T10:41:38.7434347Z",
       "session_id": "c3362933-4b99-4fc4-b98a-e8b07e6c5a39",
       "session_start_time": null,
       "spark_pool": null,
       "state": "finished",
       "statement_id": 85,
       "statement_ids": [
        85
       ]
      },
      "text/plain": [
       "StatementMeta(, c3362933-4b99-4fc4-b98a-e8b07e6c5a39, 85, Finished, Available, Finished)"
      ]
     },
     "metadata": {},
     "output_type": "display_data"
    },
    {
     "data": {
      "text/html": [
       "<div>\n",
       "<style scoped>\n",
       "    .dataframe tbody tr th:only-of-type {\n",
       "        vertical-align: middle;\n",
       "    }\n",
       "\n",
       "    .dataframe tbody tr th {\n",
       "        vertical-align: top;\n",
       "    }\n",
       "\n",
       "    .dataframe thead th {\n",
       "        text-align: right;\n",
       "    }\n",
       "</style>\n",
       "<table border=\"1\" class=\"dataframe\">\n",
       "  <thead>\n",
       "    <tr style=\"text-align: right;\">\n",
       "      <th></th>\n",
       "      <th>Predicted_outcome_rate</th>\n",
       "      <th>Derived_progression_quintile</th>\n",
       "      <th>Concatenated_column</th>\n",
       "    </tr>\n",
       "  </thead>\n",
       "  <tbody>\n",
       "    <tr>\n",
       "      <th>0</th>\n",
       "      <td>0.620000</td>\n",
       "      <td>1</td>\n",
       "      <td>21-25Cognitive or learning difficultiesAsian o...</td>\n",
       "    </tr>\n",
       "    <tr>\n",
       "      <th>1</th>\n",
       "      <td>0.730000</td>\n",
       "      <td>1</td>\n",
       "      <td>21-25Cognitive or learning difficultiesBlack o...</td>\n",
       "    </tr>\n",
       "    <tr>\n",
       "      <th>2</th>\n",
       "      <td>0.670000</td>\n",
       "      <td>1</td>\n",
       "      <td>21-25Cognitive or learning difficultiesBlack o...</td>\n",
       "    </tr>\n",
       "    <tr>\n",
       "      <th>3</th>\n",
       "      <td>0.740000</td>\n",
       "      <td>1</td>\n",
       "      <td>21-25Cognitive or learning difficultiesMixed -...</td>\n",
       "    </tr>\n",
       "    <tr>\n",
       "      <th>4</th>\n",
       "      <td>0.740000</td>\n",
       "      <td>1</td>\n",
       "      <td>21-25Cognitive or learning difficultiesMixed -...</td>\n",
       "    </tr>\n",
       "    <tr>\n",
       "      <th>...</th>\n",
       "      <td>...</td>\n",
       "      <td>...</td>\n",
       "      <td>...</td>\n",
       "    </tr>\n",
       "    <tr>\n",
       "      <th>770837</th>\n",
       "      <td>0.820000</td>\n",
       "      <td>3</td>\n",
       "      <td>No disability reportedMixed - white and black ...</td>\n",
       "    </tr>\n",
       "    <tr>\n",
       "      <th>770838</th>\n",
       "      <td>0.820000</td>\n",
       "      <td>3</td>\n",
       "      <td>No disability reportedMixed - white and black ...</td>\n",
       "    </tr>\n",
       "    <tr>\n",
       "      <th>770839</th>\n",
       "      <td>0.820000</td>\n",
       "      <td>3</td>\n",
       "      <td>No disability reportedMixed - white and black ...</td>\n",
       "    </tr>\n",
       "    <tr>\n",
       "      <th>770840</th>\n",
       "      <td>0.820000</td>\n",
       "      <td>3</td>\n",
       "      <td>No disability reportedMixed - white and black ...</td>\n",
       "    </tr>\n",
       "    <tr>\n",
       "      <th>770841</th>\n",
       "      <td>0.820000</td>\n",
       "      <td>3</td>\n",
       "      <td>No disability reportedMixed - white and black ...</td>\n",
       "    </tr>\n",
       "  </tbody>\n",
       "</table>\n",
       "<p>199901 rows × 3 columns</p>\n",
       "</div>"
      ],
      "text/plain": [
       "       Predicted_outcome_rate  Derived_progression_quintile  \\\n",
       "0                    0.620000                             1   \n",
       "1                    0.730000                             1   \n",
       "2                    0.670000                             1   \n",
       "3                    0.740000                             1   \n",
       "4                    0.740000                             1   \n",
       "...                       ...                           ...   \n",
       "770837               0.820000                             3   \n",
       "770838               0.820000                             3   \n",
       "770839               0.820000                             3   \n",
       "770840               0.820000                             3   \n",
       "770841               0.820000                             3   \n",
       "\n",
       "                                      Concatenated_column  \n",
       "0       21-25Cognitive or learning difficultiesAsian o...  \n",
       "1       21-25Cognitive or learning difficultiesBlack o...  \n",
       "2       21-25Cognitive or learning difficultiesBlack o...  \n",
       "3       21-25Cognitive or learning difficultiesMixed -...  \n",
       "4       21-25Cognitive or learning difficultiesMixed -...  \n",
       "...                                                   ...  \n",
       "770837  No disability reportedMixed - white and black ...  \n",
       "770838  No disability reportedMixed - white and black ...  \n",
       "770839  No disability reportedMixed - white and black ...  \n",
       "770840  No disability reportedMixed - white and black ...  \n",
       "770841  No disability reportedMixed - white and black ...  \n",
       "\n",
       "[199901 rows x 3 columns]"
      ]
     },
     "execution_count": 254,
     "metadata": {},
     "output_type": "execute_result"
    }
   ],
   "source": [
    "df_ft1=df_ft1[['Predicted_outcome_rate','Derived_progression_quintile','Concatenated_column']]\n",
    "\n",
    "df_ft1"
   ]
  },
  {
   "cell_type": "markdown",
   "id": "8f04b70a-a8f9-456b-9d09-2289edba0e43",
   "metadata": {
    "microsoft": {
     "language": "python",
     "language_group": "synapse_pyspark"
    },
    "nteract": {
     "transient": {
      "deleting": false
     }
    }
   },
   "source": [
    "**Converting spark dataframe('df_spark_study_mode') into pandas dataframe**"
   ]
  },
  {
   "cell_type": "code",
   "execution_count": 84,
   "id": "1e2b5f54-97b0-42c7-bfea-dc386451bf5d",
   "metadata": {
    "jupyter": {
     "outputs_hidden": false,
     "source_hidden": false
    },
    "microsoft": {
     "language": "python",
     "language_group": "synapse_pyspark"
    },
    "nteract": {
     "transient": {
      "deleting": false
     }
    }
   },
   "outputs": [
    {
     "data": {
      "application/vnd.livy.statement-meta+json": {
       "execution_finish_time": "2024-12-04T10:41:44.6530855Z",
       "execution_start_time": "2024-12-04T10:41:44.4176336Z",
       "livy_statement_state": "available",
       "normalized_state": "finished",
       "parent_msg_id": "b3d88be9-92c6-443b-80a5-9d7d833aeeee",
       "queued_time": "2024-12-04T10:41:43.9247702Z",
       "session_id": "c3362933-4b99-4fc4-b98a-e8b07e6c5a39",
       "session_start_time": null,
       "spark_pool": null,
       "state": "finished",
       "statement_id": 86,
       "statement_ids": [
        86
       ]
      },
      "text/plain": [
       "StatementMeta(, c3362933-4b99-4fc4-b98a-e8b07e6c5a39, 86, Finished, Available, Finished)"
      ]
     },
     "metadata": {},
     "output_type": "display_data"
    },
    {
     "data": {
      "text/html": [
       "<div>\n",
       "<style scoped>\n",
       "    .dataframe tbody tr th:only-of-type {\n",
       "        vertical-align: middle;\n",
       "    }\n",
       "\n",
       "    .dataframe tbody tr th {\n",
       "        vertical-align: top;\n",
       "    }\n",
       "\n",
       "    .dataframe thead th {\n",
       "        text-align: right;\n",
       "    }\n",
       "</style>\n",
       "<table border=\"1\" class=\"dataframe\">\n",
       "  <thead>\n",
       "    <tr style=\"text-align: right;\">\n",
       "      <th></th>\n",
       "      <th>Student_Code</th>\n",
       "      <th>Event_Description</th>\n",
       "      <th>IPSTARTMODE</th>\n",
       "      <th>IPLEVEL</th>\n",
       "    </tr>\n",
       "  </thead>\n",
       "  <tbody>\n",
       "    <tr>\n",
       "      <th>0</th>\n",
       "      <td>STU37252</td>\n",
       "      <td>Progression: Positive</td>\n",
       "      <td>PT</td>\n",
       "      <td>PGTM</td>\n",
       "    </tr>\n",
       "    <tr>\n",
       "      <th>1</th>\n",
       "      <td>STU64336</td>\n",
       "      <td>Progression: Positive</td>\n",
       "      <td>PT</td>\n",
       "      <td>PGTM</td>\n",
       "    </tr>\n",
       "    <tr>\n",
       "      <th>2</th>\n",
       "      <td>STU51841</td>\n",
       "      <td>Progression: Positive</td>\n",
       "      <td>PT</td>\n",
       "      <td>PGTM</td>\n",
       "    </tr>\n",
       "    <tr>\n",
       "      <th>3</th>\n",
       "      <td>STU58143</td>\n",
       "      <td>Progression: Positive</td>\n",
       "      <td>PT</td>\n",
       "      <td>PGTM</td>\n",
       "    </tr>\n",
       "    <tr>\n",
       "      <th>4</th>\n",
       "      <td>STU37792</td>\n",
       "      <td>Progression: Positive</td>\n",
       "      <td>PT</td>\n",
       "      <td>PGTM</td>\n",
       "    </tr>\n",
       "    <tr>\n",
       "      <th>...</th>\n",
       "      <td>...</td>\n",
       "      <td>...</td>\n",
       "      <td>...</td>\n",
       "      <td>...</td>\n",
       "    </tr>\n",
       "    <tr>\n",
       "      <th>1573</th>\n",
       "      <td>STU53397</td>\n",
       "      <td>Progression: Negative</td>\n",
       "      <td>FT</td>\n",
       "      <td>DEG</td>\n",
       "    </tr>\n",
       "    <tr>\n",
       "      <th>1574</th>\n",
       "      <td>STU58274</td>\n",
       "      <td>Progression: Positive</td>\n",
       "      <td>FT</td>\n",
       "      <td>DEG</td>\n",
       "    </tr>\n",
       "    <tr>\n",
       "      <th>1575</th>\n",
       "      <td>STU53864</td>\n",
       "      <td>Progression: Negative</td>\n",
       "      <td>FT</td>\n",
       "      <td>DEG</td>\n",
       "    </tr>\n",
       "    <tr>\n",
       "      <th>1576</th>\n",
       "      <td>STU53853</td>\n",
       "      <td>Progression: Negative</td>\n",
       "      <td>FT</td>\n",
       "      <td>DEG</td>\n",
       "    </tr>\n",
       "    <tr>\n",
       "      <th>1577</th>\n",
       "      <td>STU53384</td>\n",
       "      <td>Progression: Positive</td>\n",
       "      <td>FT</td>\n",
       "      <td>DEG</td>\n",
       "    </tr>\n",
       "  </tbody>\n",
       "</table>\n",
       "<p>1578 rows × 4 columns</p>\n",
       "</div>"
      ],
      "text/plain": [
       "     Student_Code      Event_Description IPSTARTMODE IPLEVEL\n",
       "0        STU37252  Progression: Positive          PT    PGTM\n",
       "1        STU64336  Progression: Positive          PT    PGTM\n",
       "2        STU51841  Progression: Positive          PT    PGTM\n",
       "3        STU58143  Progression: Positive          PT    PGTM\n",
       "4        STU37792  Progression: Positive          PT    PGTM\n",
       "...           ...                    ...         ...     ...\n",
       "1573     STU53397  Progression: Negative          FT     DEG\n",
       "1574     STU58274  Progression: Positive          FT     DEG\n",
       "1575     STU53864  Progression: Negative          FT     DEG\n",
       "1576     STU53853  Progression: Negative          FT     DEG\n",
       "1577     STU53384  Progression: Positive          FT     DEG\n",
       "\n",
       "[1578 rows x 4 columns]"
      ]
     },
     "execution_count": 257,
     "metadata": {},
     "output_type": "execute_result"
    }
   ],
   "source": [
    "df_progression_historical_f = df_spark_study_mode.toPandas()\n",
    "df_progression_historical_f"
   ]
  },
  {
   "cell_type": "markdown",
   "id": "6d116f50-7463-44d4-8ce8-bda22ab59294",
   "metadata": {
    "microsoft": {
     "language": "python",
     "language_group": "synapse_pyspark"
    },
    "nteract": {
     "transient": {
      "deleting": false
     }
    }
   },
   "source": [
    "**Fetching the actual progression flags for students**"
   ]
  },
  {
   "cell_type": "code",
   "execution_count": 85,
   "id": "ad73436b-d25b-4e09-b1c3-17f6af8833b0",
   "metadata": {
    "jupyter": {
     "outputs_hidden": false,
     "source_hidden": false
    },
    "microsoft": {
     "language": "python",
     "language_group": "synapse_pyspark"
    },
    "nteract": {
     "transient": {
      "deleting": false
     }
    }
   },
   "outputs": [
    {
     "data": {
      "application/vnd.livy.statement-meta+json": {
       "execution_finish_time": "2024-12-04T10:41:48.883085Z",
       "execution_start_time": "2024-12-04T10:41:48.6388555Z",
       "livy_statement_state": "available",
       "normalized_state": "finished",
       "parent_msg_id": "5896a9d7-d8e7-4cb0-8352-26593537ba8a",
       "queued_time": "2024-12-04T10:41:48.111387Z",
       "session_id": "c3362933-4b99-4fc4-b98a-e8b07e6c5a39",
       "session_start_time": null,
       "spark_pool": null,
       "state": "finished",
       "statement_id": 87,
       "statement_ids": [
        87
       ]
      },
      "text/plain": [
       "StatementMeta(, c3362933-4b99-4fc4-b98a-e8b07e6c5a39, 87, Finished, Available, Finished)"
      ]
     },
     "metadata": {},
     "output_type": "display_data"
    }
   ],
   "source": [
    "df_progression_historical_f['Outcome'] = df_progression_historical_f['Event_Description'].str.split(': ').str[1]"
   ]
  },
  {
   "cell_type": "markdown",
   "id": "0d602902-9d6e-467b-a156-1f83d30ee57e",
   "metadata": {
    "microsoft": {
     "language": "python",
     "language_group": "synapse_pyspark"
    },
    "nteract": {
     "transient": {
      "deleting": false
     }
    }
   },
   "source": [
    "**Dropping 'Event_Description' column from the dataframe**"
   ]
  },
  {
   "cell_type": "code",
   "execution_count": 86,
   "id": "694354c6-93e0-45ca-9fbc-3eec5258805a",
   "metadata": {
    "jupyter": {
     "outputs_hidden": false,
     "source_hidden": false
    },
    "microsoft": {
     "language": "python",
     "language_group": "synapse_pyspark"
    },
    "nteract": {
     "transient": {
      "deleting": false
     }
    }
   },
   "outputs": [
    {
     "data": {
      "application/vnd.livy.statement-meta+json": {
       "execution_finish_time": "2024-12-04T10:41:53.2226288Z",
       "execution_start_time": "2024-12-04T10:41:52.9622445Z",
       "livy_statement_state": "available",
       "normalized_state": "finished",
       "parent_msg_id": "0bff894a-bfea-4ebf-a71d-af9132378bda",
       "queued_time": "2024-12-04T10:41:52.3332706Z",
       "session_id": "c3362933-4b99-4fc4-b98a-e8b07e6c5a39",
       "session_start_time": null,
       "spark_pool": null,
       "state": "finished",
       "statement_id": 88,
       "statement_ids": [
        88
       ]
      },
      "text/plain": [
       "StatementMeta(, c3362933-4b99-4fc4-b98a-e8b07e6c5a39, 88, Finished, Available, Finished)"
      ]
     },
     "metadata": {},
     "output_type": "display_data"
    }
   ],
   "source": [
    "df_hist_f = df_progression_historical_f.drop('Event_Description', axis=1)"
   ]
  },
  {
   "cell_type": "markdown",
   "id": "04d6efa9-6fe2-48b3-8534-f7dc13b9c53d",
   "metadata": {
    "microsoft": {
     "language": "python",
     "language_group": "synapse_pyspark"
    },
    "nteract": {
     "transient": {
      "deleting": false
     }
    }
   },
   "source": [
    "**Selecting some columns for the dataframe('df_hist_f')**"
   ]
  },
  {
   "cell_type": "code",
   "execution_count": 87,
   "id": "38b2ff8f-b375-4af3-b459-886532ff9335",
   "metadata": {
    "jupyter": {
     "outputs_hidden": false,
     "source_hidden": false
    },
    "microsoft": {
     "language": "python",
     "language_group": "synapse_pyspark"
    },
    "nteract": {
     "transient": {
      "deleting": false
     }
    }
   },
   "outputs": [
    {
     "data": {
      "application/vnd.livy.statement-meta+json": {
       "execution_finish_time": "2024-12-04T10:41:56.8238541Z",
       "execution_start_time": "2024-12-04T10:41:56.5634593Z",
       "livy_statement_state": "available",
       "normalized_state": "finished",
       "parent_msg_id": "dce44505-deb3-48b2-8459-51109f5c38fa",
       "queued_time": "2024-12-04T10:41:55.8119705Z",
       "session_id": "c3362933-4b99-4fc4-b98a-e8b07e6c5a39",
       "session_start_time": null,
       "spark_pool": null,
       "state": "finished",
       "statement_id": 89,
       "statement_ids": [
        89
       ]
      },
      "text/plain": [
       "StatementMeta(, c3362933-4b99-4fc4-b98a-e8b07e6c5a39, 89, Finished, Available, Finished)"
      ]
     },
     "metadata": {},
     "output_type": "display_data"
    }
   ],
   "source": [
    "df_hist_f.columns = ['StudentNumber', 'IPSTARTMODE', 'IPLEVEL', 'Outcome']"
   ]
  },
  {
   "cell_type": "markdown",
   "id": "c1361718-2821-40d8-a47e-dda8435a7183",
   "metadata": {
    "microsoft": {
     "language": "python",
     "language_group": "synapse_pyspark"
    },
    "nteract": {
     "transient": {
      "deleting": false
     }
    }
   },
   "source": [
    "**Applying filter on 'FT' combination and deselecting 'Neutral' combination**"
   ]
  },
  {
   "cell_type": "code",
   "execution_count": 88,
   "id": "7eb5a4b9-b447-459c-a8c3-39295c29dceb",
   "metadata": {
    "jupyter": {
     "outputs_hidden": false,
     "source_hidden": false
    },
    "microsoft": {
     "language": "python",
     "language_group": "synapse_pyspark"
    },
    "nteract": {
     "transient": {
      "deleting": false
     }
    }
   },
   "outputs": [
    {
     "data": {
      "application/vnd.livy.statement-meta+json": {
       "execution_finish_time": "2024-12-04T10:42:01.0120387Z",
       "execution_start_time": "2024-12-04T10:42:00.750043Z",
       "livy_statement_state": "available",
       "normalized_state": "finished",
       "parent_msg_id": "1ba08688-65b4-4f05-9128-cb0e63e6c80c",
       "queued_time": "2024-12-04T10:42:00.2966715Z",
       "session_id": "c3362933-4b99-4fc4-b98a-e8b07e6c5a39",
       "session_start_time": null,
       "spark_pool": null,
       "state": "finished",
       "statement_id": 90,
       "statement_ids": [
        90
       ]
      },
      "text/plain": [
       "StatementMeta(, c3362933-4b99-4fc4-b98a-e8b07e6c5a39, 90, Finished, Available, Finished)"
      ]
     },
     "metadata": {},
     "output_type": "display_data"
    },
    {
     "data": {
      "text/html": [
       "<div>\n",
       "<style scoped>\n",
       "    .dataframe tbody tr th:only-of-type {\n",
       "        vertical-align: middle;\n",
       "    }\n",
       "\n",
       "    .dataframe tbody tr th {\n",
       "        vertical-align: top;\n",
       "    }\n",
       "\n",
       "    .dataframe thead th {\n",
       "        text-align: right;\n",
       "    }\n",
       "</style>\n",
       "<table border=\"1\" class=\"dataframe\">\n",
       "  <thead>\n",
       "    <tr style=\"text-align: right;\">\n",
       "      <th></th>\n",
       "      <th>StudentNumber</th>\n",
       "      <th>IPSTARTMODE</th>\n",
       "      <th>IPLEVEL</th>\n",
       "      <th>Outcome</th>\n",
       "    </tr>\n",
       "  </thead>\n",
       "  <tbody>\n",
       "    <tr>\n",
       "      <th>143</th>\n",
       "      <td>STU51724</td>\n",
       "      <td>FT</td>\n",
       "      <td>PGTM</td>\n",
       "      <td>Negative</td>\n",
       "    </tr>\n",
       "    <tr>\n",
       "      <th>421</th>\n",
       "      <td>STU70305</td>\n",
       "      <td>FT</td>\n",
       "      <td>DEG</td>\n",
       "      <td>Negative</td>\n",
       "    </tr>\n",
       "    <tr>\n",
       "      <th>422</th>\n",
       "      <td>STU62921</td>\n",
       "      <td>FT</td>\n",
       "      <td>DEG</td>\n",
       "      <td>Negative</td>\n",
       "    </tr>\n",
       "    <tr>\n",
       "      <th>423</th>\n",
       "      <td>STU64009</td>\n",
       "      <td>FT</td>\n",
       "      <td>DEG</td>\n",
       "      <td>Negative</td>\n",
       "    </tr>\n",
       "    <tr>\n",
       "      <th>424</th>\n",
       "      <td>STU46216</td>\n",
       "      <td>FT</td>\n",
       "      <td>DEG</td>\n",
       "      <td>Negative</td>\n",
       "    </tr>\n",
       "    <tr>\n",
       "      <th>...</th>\n",
       "      <td>...</td>\n",
       "      <td>...</td>\n",
       "      <td>...</td>\n",
       "      <td>...</td>\n",
       "    </tr>\n",
       "    <tr>\n",
       "      <th>1573</th>\n",
       "      <td>STU53397</td>\n",
       "      <td>FT</td>\n",
       "      <td>DEG</td>\n",
       "      <td>Negative</td>\n",
       "    </tr>\n",
       "    <tr>\n",
       "      <th>1574</th>\n",
       "      <td>STU58274</td>\n",
       "      <td>FT</td>\n",
       "      <td>DEG</td>\n",
       "      <td>Positive</td>\n",
       "    </tr>\n",
       "    <tr>\n",
       "      <th>1575</th>\n",
       "      <td>STU53864</td>\n",
       "      <td>FT</td>\n",
       "      <td>DEG</td>\n",
       "      <td>Negative</td>\n",
       "    </tr>\n",
       "    <tr>\n",
       "      <th>1576</th>\n",
       "      <td>STU53853</td>\n",
       "      <td>FT</td>\n",
       "      <td>DEG</td>\n",
       "      <td>Negative</td>\n",
       "    </tr>\n",
       "    <tr>\n",
       "      <th>1577</th>\n",
       "      <td>STU53384</td>\n",
       "      <td>FT</td>\n",
       "      <td>DEG</td>\n",
       "      <td>Positive</td>\n",
       "    </tr>\n",
       "  </tbody>\n",
       "</table>\n",
       "<p>747 rows × 4 columns</p>\n",
       "</div>"
      ],
      "text/plain": [
       "     StudentNumber IPSTARTMODE IPLEVEL   Outcome\n",
       "143       STU51724          FT    PGTM  Negative\n",
       "421       STU70305          FT     DEG  Negative\n",
       "422       STU62921          FT     DEG  Negative\n",
       "423       STU64009          FT     DEG  Negative\n",
       "424       STU46216          FT     DEG  Negative\n",
       "...            ...         ...     ...       ...\n",
       "1573      STU53397          FT     DEG  Negative\n",
       "1574      STU58274          FT     DEG  Positive\n",
       "1575      STU53864          FT     DEG  Negative\n",
       "1576      STU53853          FT     DEG  Negative\n",
       "1577      STU53384          FT     DEG  Positive\n",
       "\n",
       "[747 rows x 4 columns]"
      ]
     },
     "execution_count": 269,
     "metadata": {},
     "output_type": "execute_result"
    }
   ],
   "source": [
    "df_hist_f= df_hist_f[df_hist_f['IPSTARTMODE']=='FT']\n",
    "df_hist_f= df_hist_f[df_hist_f['Outcome']!='Neutral']\n",
    "\n",
    "df_hist_f"
   ]
  },
  {
   "cell_type": "markdown",
   "id": "4c33a129-d64a-4eb2-bdc2-df4aa40dd5f7",
   "metadata": {
    "microsoft": {
     "language": "python",
     "language_group": "synapse_pyspark"
    },
    "nteract": {
     "transient": {
      "deleting": false
     }
    }
   },
   "source": [
    "**Appyling inner join operation on historical data and characteristics data**"
   ]
  },
  {
   "cell_type": "code",
   "execution_count": 89,
   "id": "831e9bd9-fc19-4526-819d-a6319a483796",
   "metadata": {
    "jupyter": {
     "outputs_hidden": false,
     "source_hidden": false
    },
    "microsoft": {
     "language": "python",
     "language_group": "synapse_pyspark"
    },
    "nteract": {
     "transient": {
      "deleting": false
     }
    }
   },
   "outputs": [
    {
     "data": {
      "application/vnd.livy.statement-meta+json": {
       "execution_finish_time": "2024-12-04T10:42:04.5818544Z",
       "execution_start_time": "2024-12-04T10:42:04.3041408Z",
       "livy_statement_state": "available",
       "normalized_state": "finished",
       "parent_msg_id": "e8c7c3a7-cf01-41e3-80a0-f1ec96f8acf1",
       "queued_time": "2024-12-04T10:42:03.874813Z",
       "session_id": "c3362933-4b99-4fc4-b98a-e8b07e6c5a39",
       "session_start_time": null,
       "spark_pool": null,
       "state": "finished",
       "statement_id": 91,
       "statement_ids": [
        91
       ]
      },
      "text/plain": [
       "StatementMeta(, c3362933-4b99-4fc4-b98a-e8b07e6c5a39, 91, Finished, Available, Finished)"
      ]
     },
     "metadata": {},
     "output_type": "display_data"
    }
   ],
   "source": [
    "concat_hist_char_f = df_characteristics.merge(df_hist_f,on='StudentNumber', how='inner')\n",
    "concat_hist_char_f = concat_hist_char_f.drop_duplicates()"
   ]
  },
  {
   "cell_type": "markdown",
   "id": "a2c1d413-f316-4281-b62b-b91d84e2582a",
   "metadata": {
    "microsoft": {
     "language": "python",
     "language_group": "synapse_pyspark"
    },
    "nteract": {
     "transient": {
      "deleting": false
     }
    }
   },
   "source": [
    "**Displaying the dataframe**"
   ]
  },
  {
   "cell_type": "code",
   "execution_count": 90,
   "id": "abf5bc2d-c313-4469-9040-b42ebc8ac4ba",
   "metadata": {
    "jupyter": {
     "outputs_hidden": false,
     "source_hidden": false
    },
    "microsoft": {
     "language": "python",
     "language_group": "synapse_pyspark"
    },
    "nteract": {
     "transient": {
      "deleting": false
     }
    }
   },
   "outputs": [
    {
     "data": {
      "application/vnd.livy.statement-meta+json": {
       "execution_finish_time": "2024-12-04T10:42:09.2163904Z",
       "execution_start_time": "2024-12-04T10:42:08.9341256Z",
       "livy_statement_state": "available",
       "normalized_state": "finished",
       "parent_msg_id": "be997905-55e5-4248-80a4-0a0eff0351fa",
       "queued_time": "2024-12-04T10:42:08.4508039Z",
       "session_id": "c3362933-4b99-4fc4-b98a-e8b07e6c5a39",
       "session_start_time": null,
       "spark_pool": null,
       "state": "finished",
       "statement_id": 92,
       "statement_ids": [
        92
       ]
      },
      "text/plain": [
       "StatementMeta(, c3362933-4b99-4fc4-b98a-e8b07e6c5a39, 92, Finished, Available, Finished)"
      ]
     },
     "metadata": {},
     "output_type": "display_data"
    },
    {
     "data": {
      "text/html": [
       "<div>\n",
       "<style scoped>\n",
       "    .dataframe tbody tr th:only-of-type {\n",
       "        vertical-align: middle;\n",
       "    }\n",
       "\n",
       "    .dataframe tbody tr th {\n",
       "        vertical-align: top;\n",
       "    }\n",
       "\n",
       "    .dataframe thead th {\n",
       "        text-align: right;\n",
       "    }\n",
       "</style>\n",
       "<table border=\"1\" class=\"dataframe\">\n",
       "  <thead>\n",
       "    <tr style=\"text-align: right;\">\n",
       "      <th></th>\n",
       "      <th>StudentNumber</th>\n",
       "      <th>age_on_entry</th>\n",
       "      <th>ethnicity_16_groups</th>\n",
       "      <th>sex</th>\n",
       "      <th>ethnicity_6_groups</th>\n",
       "      <th>gender_identity</th>\n",
       "      <th>tundra_msoa_quintile_desc</th>\n",
       "      <th>adult_he_2011_quintile_desc</th>\n",
       "      <th>polar4_quintile_desc</th>\n",
       "      <th>imd_desc</th>\n",
       "      <th>...</th>\n",
       "      <th>religion_or_belief</th>\n",
       "      <th>sexual_orientation</th>\n",
       "      <th>parental_education</th>\n",
       "      <th>disability_type</th>\n",
       "      <th>disability_status</th>\n",
       "      <th>care_leaver</th>\n",
       "      <th>entry_qualification_desc</th>\n",
       "      <th>IPSTARTMODE</th>\n",
       "      <th>IPLEVEL</th>\n",
       "      <th>Outcome</th>\n",
       "    </tr>\n",
       "  </thead>\n",
       "  <tbody>\n",
       "    <tr>\n",
       "      <th>0</th>\n",
       "      <td>STU69375</td>\n",
       "      <td>41-50</td>\n",
       "      <td>White</td>\n",
       "      <td>Male</td>\n",
       "      <td>White</td>\n",
       "      <td>Yes</td>\n",
       "      <td>Quintile 1</td>\n",
       "      <td>Quintile 2</td>\n",
       "      <td>Quintile 1</td>\n",
       "      <td>Quintile 1</td>\n",
       "      <td>...</td>\n",
       "      <td>Buddhist</td>\n",
       "      <td>Heterosexual</td>\n",
       "      <td>No</td>\n",
       "      <td>Sensory, medical or physical impairments</td>\n",
       "      <td>Disability_Reported</td>\n",
       "      <td>Care_experienced</td>\n",
       "      <td>UK first degree with honours</td>\n",
       "      <td>FT</td>\n",
       "      <td>DEG</td>\n",
       "      <td>Negative</td>\n",
       "    </tr>\n",
       "    <tr>\n",
       "      <th>1</th>\n",
       "      <td>STU68962</td>\n",
       "      <td>41-50</td>\n",
       "      <td>White</td>\n",
       "      <td>Male</td>\n",
       "      <td>White</td>\n",
       "      <td>Not available</td>\n",
       "      <td>Quintile 5</td>\n",
       "      <td>Quintile 5</td>\n",
       "      <td>Quintile 4</td>\n",
       "      <td>Quintile 3</td>\n",
       "      <td>...</td>\n",
       "      <td>Any_other_religion_or_belief</td>\n",
       "      <td>Heterosexual</td>\n",
       "      <td>Not_known</td>\n",
       "      <td>Mental health condition</td>\n",
       "      <td>Disability_Reported</td>\n",
       "      <td>Refused, unknown or not collected</td>\n",
       "      <td>Higher National Diploma (HND)</td>\n",
       "      <td>FT</td>\n",
       "      <td>DEG</td>\n",
       "      <td>Negative</td>\n",
       "    </tr>\n",
       "    <tr>\n",
       "      <th>2</th>\n",
       "      <td>STU65338</td>\n",
       "      <td>31-40</td>\n",
       "      <td>White</td>\n",
       "      <td>Female</td>\n",
       "      <td>White</td>\n",
       "      <td>Yes</td>\n",
       "      <td>Quintile 3</td>\n",
       "      <td>Quintile 4</td>\n",
       "      <td>Quintile 4</td>\n",
       "      <td>Quintile 5</td>\n",
       "      <td>...</td>\n",
       "      <td>Any_other_religion_or_belief</td>\n",
       "      <td>Heterosexual</td>\n",
       "      <td>Yes</td>\n",
       "      <td>Mental health condition</td>\n",
       "      <td>Disability_Reported</td>\n",
       "      <td>Care_experienced</td>\n",
       "      <td>Level 3 qualifications of which some are subje...</td>\n",
       "      <td>FT</td>\n",
       "      <td>DEG</td>\n",
       "      <td>Positive</td>\n",
       "    </tr>\n",
       "    <tr>\n",
       "      <th>3</th>\n",
       "      <td>STU62316</td>\n",
       "      <td>26-30</td>\n",
       "      <td>White</td>\n",
       "      <td>Female</td>\n",
       "      <td>White</td>\n",
       "      <td>Yes</td>\n",
       "      <td>Quintile 2</td>\n",
       "      <td>Quintile 1</td>\n",
       "      <td>Quintile 2</td>\n",
       "      <td>Quintile 2</td>\n",
       "      <td>...</td>\n",
       "      <td>Any_other_religion_or_belief</td>\n",
       "      <td>Lesbian_Gay_OR_Bisexual</td>\n",
       "      <td>No</td>\n",
       "      <td>Mental health condition</td>\n",
       "      <td>Disability_Reported</td>\n",
       "      <td>Care_experienced</td>\n",
       "      <td>Diploma at level 3</td>\n",
       "      <td>FT</td>\n",
       "      <td>DEG</td>\n",
       "      <td>Positive</td>\n",
       "    </tr>\n",
       "    <tr>\n",
       "      <th>4</th>\n",
       "      <td>STU56635</td>\n",
       "      <td>31-40</td>\n",
       "      <td>White</td>\n",
       "      <td>Female</td>\n",
       "      <td>White</td>\n",
       "      <td>Yes</td>\n",
       "      <td>Quintile 2</td>\n",
       "      <td>Quintile 2</td>\n",
       "      <td>Quintile 2</td>\n",
       "      <td>Quintile 2</td>\n",
       "      <td>...</td>\n",
       "      <td>Any_other_religion_or_belief</td>\n",
       "      <td>Refused_Unknown_or_not_collected</td>\n",
       "      <td>No</td>\n",
       "      <td>Mental health condition</td>\n",
       "      <td>Disability_Reported</td>\n",
       "      <td>Care_experienced</td>\n",
       "      <td>Level 3 qualifications of which some are subje...</td>\n",
       "      <td>FT</td>\n",
       "      <td>DEG</td>\n",
       "      <td>Positive</td>\n",
       "    </tr>\n",
       "    <tr>\n",
       "      <th>...</th>\n",
       "      <td>...</td>\n",
       "      <td>...</td>\n",
       "      <td>...</td>\n",
       "      <td>...</td>\n",
       "      <td>...</td>\n",
       "      <td>...</td>\n",
       "      <td>...</td>\n",
       "      <td>...</td>\n",
       "      <td>...</td>\n",
       "      <td>...</td>\n",
       "      <td>...</td>\n",
       "      <td>...</td>\n",
       "      <td>...</td>\n",
       "      <td>...</td>\n",
       "      <td>...</td>\n",
       "      <td>...</td>\n",
       "      <td>...</td>\n",
       "      <td>...</td>\n",
       "      <td>...</td>\n",
       "      <td>...</td>\n",
       "      <td>...</td>\n",
       "    </tr>\n",
       "    <tr>\n",
       "      <th>741</th>\n",
       "      <td>STU64519</td>\n",
       "      <td>20</td>\n",
       "      <td>White</td>\n",
       "      <td>Female</td>\n",
       "      <td>White</td>\n",
       "      <td>Yes</td>\n",
       "      <td>Quintile 3</td>\n",
       "      <td>Quintile 3</td>\n",
       "      <td>Quintile 3</td>\n",
       "      <td>Quintile 1</td>\n",
       "      <td>...</td>\n",
       "      <td>Christian</td>\n",
       "      <td>Heterosexual</td>\n",
       "      <td>No</td>\n",
       "      <td>No disability reported</td>\n",
       "      <td>No_Disability_Reported</td>\n",
       "      <td>Care_experienced</td>\n",
       "      <td>A/AS level</td>\n",
       "      <td>FT</td>\n",
       "      <td>DEG</td>\n",
       "      <td>Positive</td>\n",
       "    </tr>\n",
       "    <tr>\n",
       "      <th>742</th>\n",
       "      <td>STU83875</td>\n",
       "      <td>41-50</td>\n",
       "      <td>White</td>\n",
       "      <td>Female</td>\n",
       "      <td>White</td>\n",
       "      <td>Yes</td>\n",
       "      <td>Quintile 2</td>\n",
       "      <td>Quintile 2</td>\n",
       "      <td>Quintile 2</td>\n",
       "      <td>Quintile 1</td>\n",
       "      <td>...</td>\n",
       "      <td>Christian</td>\n",
       "      <td>Heterosexual</td>\n",
       "      <td>No</td>\n",
       "      <td>No disability reported</td>\n",
       "      <td>No_Disability_Reported</td>\n",
       "      <td>Care_experienced</td>\n",
       "      <td>Higher National Diploma (HND)</td>\n",
       "      <td>FT</td>\n",
       "      <td>DEG</td>\n",
       "      <td>Negative</td>\n",
       "    </tr>\n",
       "    <tr>\n",
       "      <th>743</th>\n",
       "      <td>STU66401</td>\n",
       "      <td>21-25</td>\n",
       "      <td>White</td>\n",
       "      <td>Female</td>\n",
       "      <td>White</td>\n",
       "      <td>Yes</td>\n",
       "      <td>Quintile 1</td>\n",
       "      <td>Quintile 1</td>\n",
       "      <td>Quintile 1</td>\n",
       "      <td>Quintile 1</td>\n",
       "      <td>...</td>\n",
       "      <td>Christian</td>\n",
       "      <td>Heterosexual</td>\n",
       "      <td>No</td>\n",
       "      <td>No disability reported</td>\n",
       "      <td>No_Disability_Reported</td>\n",
       "      <td>Care_experienced</td>\n",
       "      <td>Level 3 qualifications of which none are subje...</td>\n",
       "      <td>FT</td>\n",
       "      <td>DEG</td>\n",
       "      <td>Positive</td>\n",
       "    </tr>\n",
       "    <tr>\n",
       "      <th>744</th>\n",
       "      <td>STU91604</td>\n",
       "      <td>31-40</td>\n",
       "      <td>White</td>\n",
       "      <td>Female</td>\n",
       "      <td>White</td>\n",
       "      <td>Yes</td>\n",
       "      <td>Quintile 5</td>\n",
       "      <td>Quintile 4</td>\n",
       "      <td>Quintile 5</td>\n",
       "      <td>Quintile 5</td>\n",
       "      <td>...</td>\n",
       "      <td>Christian</td>\n",
       "      <td>Heterosexual</td>\n",
       "      <td>No</td>\n",
       "      <td>No disability reported</td>\n",
       "      <td>No_Disability_Reported</td>\n",
       "      <td>Care_experienced</td>\n",
       "      <td>Higher National Diploma (HND)</td>\n",
       "      <td>FT</td>\n",
       "      <td>DEG</td>\n",
       "      <td>Positive</td>\n",
       "    </tr>\n",
       "    <tr>\n",
       "      <th>745</th>\n",
       "      <td>STU95943</td>\n",
       "      <td>31-40</td>\n",
       "      <td>White</td>\n",
       "      <td>Female</td>\n",
       "      <td>White</td>\n",
       "      <td>Yes</td>\n",
       "      <td>Quintile 4</td>\n",
       "      <td>Quintile 5</td>\n",
       "      <td>Quintile 4</td>\n",
       "      <td>Quintile 3</td>\n",
       "      <td>...</td>\n",
       "      <td>Christian</td>\n",
       "      <td>Heterosexual</td>\n",
       "      <td>No</td>\n",
       "      <td>No disability reported</td>\n",
       "      <td>No_Disability_Reported</td>\n",
       "      <td>Care_experienced</td>\n",
       "      <td>Higher National Diploma (HND)</td>\n",
       "      <td>FT</td>\n",
       "      <td>DEG</td>\n",
       "      <td>Positive</td>\n",
       "    </tr>\n",
       "  </tbody>\n",
       "</table>\n",
       "<p>741 rows × 21 columns</p>\n",
       "</div>"
      ],
      "text/plain": [
       "    StudentNumber age_on_entry ethnicity_16_groups     sex ethnicity_6_groups  \\\n",
       "0        STU69375        41-50               White    Male              White   \n",
       "1        STU68962        41-50               White    Male              White   \n",
       "2        STU65338        31-40               White  Female              White   \n",
       "3        STU62316        26-30               White  Female              White   \n",
       "4        STU56635        31-40               White  Female              White   \n",
       "..            ...          ...                 ...     ...                ...   \n",
       "741      STU64519           20               White  Female              White   \n",
       "742      STU83875        41-50               White  Female              White   \n",
       "743      STU66401        21-25               White  Female              White   \n",
       "744      STU91604        31-40               White  Female              White   \n",
       "745      STU95943        31-40               White  Female              White   \n",
       "\n",
       "    gender_identity tundra_msoa_quintile_desc adult_he_2011_quintile_desc  \\\n",
       "0               Yes                Quintile 1                  Quintile 2   \n",
       "1     Not available                Quintile 5                  Quintile 5   \n",
       "2               Yes                Quintile 3                  Quintile 4   \n",
       "3               Yes                Quintile 2                  Quintile 1   \n",
       "4               Yes                Quintile 2                  Quintile 2   \n",
       "..              ...                       ...                         ...   \n",
       "741             Yes                Quintile 3                  Quintile 3   \n",
       "742             Yes                Quintile 2                  Quintile 2   \n",
       "743             Yes                Quintile 1                  Quintile 1   \n",
       "744             Yes                Quintile 5                  Quintile 4   \n",
       "745             Yes                Quintile 4                  Quintile 5   \n",
       "\n",
       "    polar4_quintile_desc    imd_desc  ...            religion_or_belief  \\\n",
       "0             Quintile 1  Quintile 1  ...                      Buddhist   \n",
       "1             Quintile 4  Quintile 3  ...  Any_other_religion_or_belief   \n",
       "2             Quintile 4  Quintile 5  ...  Any_other_religion_or_belief   \n",
       "3             Quintile 2  Quintile 2  ...  Any_other_religion_or_belief   \n",
       "4             Quintile 2  Quintile 2  ...  Any_other_religion_or_belief   \n",
       "..                   ...         ...  ...                           ...   \n",
       "741           Quintile 3  Quintile 1  ...                     Christian   \n",
       "742           Quintile 2  Quintile 1  ...                     Christian   \n",
       "743           Quintile 1  Quintile 1  ...                     Christian   \n",
       "744           Quintile 5  Quintile 5  ...                     Christian   \n",
       "745           Quintile 4  Quintile 3  ...                     Christian   \n",
       "\n",
       "                   sexual_orientation parental_education  \\\n",
       "0                        Heterosexual                 No   \n",
       "1                        Heterosexual          Not_known   \n",
       "2                        Heterosexual                Yes   \n",
       "3             Lesbian_Gay_OR_Bisexual                 No   \n",
       "4    Refused_Unknown_or_not_collected                 No   \n",
       "..                                ...                ...   \n",
       "741                      Heterosexual                 No   \n",
       "742                      Heterosexual                 No   \n",
       "743                      Heterosexual                 No   \n",
       "744                      Heterosexual                 No   \n",
       "745                      Heterosexual                 No   \n",
       "\n",
       "                              disability_type       disability_status  \\\n",
       "0    Sensory, medical or physical impairments     Disability_Reported   \n",
       "1                     Mental health condition     Disability_Reported   \n",
       "2                     Mental health condition     Disability_Reported   \n",
       "3                     Mental health condition     Disability_Reported   \n",
       "4                     Mental health condition     Disability_Reported   \n",
       "..                                        ...                     ...   \n",
       "741                    No disability reported  No_Disability_Reported   \n",
       "742                    No disability reported  No_Disability_Reported   \n",
       "743                    No disability reported  No_Disability_Reported   \n",
       "744                    No disability reported  No_Disability_Reported   \n",
       "745                    No disability reported  No_Disability_Reported   \n",
       "\n",
       "                           care_leaver  \\\n",
       "0                     Care_experienced   \n",
       "1    Refused, unknown or not collected   \n",
       "2                     Care_experienced   \n",
       "3                     Care_experienced   \n",
       "4                     Care_experienced   \n",
       "..                                 ...   \n",
       "741                   Care_experienced   \n",
       "742                   Care_experienced   \n",
       "743                   Care_experienced   \n",
       "744                   Care_experienced   \n",
       "745                   Care_experienced   \n",
       "\n",
       "                              entry_qualification_desc IPSTARTMODE IPLEVEL  \\\n",
       "0                         UK first degree with honours          FT     DEG   \n",
       "1                        Higher National Diploma (HND)          FT     DEG   \n",
       "2    Level 3 qualifications of which some are subje...          FT     DEG   \n",
       "3                                   Diploma at level 3          FT     DEG   \n",
       "4    Level 3 qualifications of which some are subje...          FT     DEG   \n",
       "..                                                 ...         ...     ...   \n",
       "741                                         A/AS level          FT     DEG   \n",
       "742                      Higher National Diploma (HND)          FT     DEG   \n",
       "743  Level 3 qualifications of which none are subje...          FT     DEG   \n",
       "744                      Higher National Diploma (HND)          FT     DEG   \n",
       "745                      Higher National Diploma (HND)          FT     DEG   \n",
       "\n",
       "      Outcome  \n",
       "0    Negative  \n",
       "1    Negative  \n",
       "2    Positive  \n",
       "3    Positive  \n",
       "4    Positive  \n",
       "..        ...  \n",
       "741  Positive  \n",
       "742  Negative  \n",
       "743  Positive  \n",
       "744  Positive  \n",
       "745  Positive  \n",
       "\n",
       "[741 rows x 21 columns]"
      ]
     },
     "execution_count": 275,
     "metadata": {},
     "output_type": "execute_result"
    }
   ],
   "source": [
    "concat_hist_char_f"
   ]
  },
  {
   "cell_type": "markdown",
   "id": "f783184c-9253-4100-bda7-753cfe630366",
   "metadata": {
    "microsoft": {
     "language": "python",
     "language_group": "synapse_pyspark"
    },
    "nteract": {
     "transient": {
      "deleting": false
     }
    }
   },
   "source": [
    "**Selecting relevant columns from the below dataframe**"
   ]
  },
  {
   "cell_type": "code",
   "execution_count": 91,
   "id": "f6a715fc-04f4-4e9f-973d-68d89b64fdd7",
   "metadata": {
    "jupyter": {
     "outputs_hidden": false,
     "source_hidden": false
    },
    "microsoft": {
     "language": "python",
     "language_group": "synapse_pyspark"
    },
    "nteract": {
     "transient": {
      "deleting": false
     }
    }
   },
   "outputs": [
    {
     "data": {
      "application/vnd.livy.statement-meta+json": {
       "execution_finish_time": "2024-12-04T10:42:12.8180939Z",
       "execution_start_time": "2024-12-04T10:42:12.4629496Z",
       "livy_statement_state": "available",
       "normalized_state": "finished",
       "parent_msg_id": "e4a8556c-8111-4595-a5d1-30cc128d73bc",
       "queued_time": "2024-12-04T10:42:11.9875718Z",
       "session_id": "c3362933-4b99-4fc4-b98a-e8b07e6c5a39",
       "session_start_time": null,
       "spark_pool": null,
       "state": "finished",
       "statement_id": 93,
       "statement_ids": [
        93
       ]
      },
      "text/plain": [
       "StatementMeta(, c3362933-4b99-4fc4-b98a-e8b07e6c5a39, 93, Finished, Available, Finished)"
      ]
     },
     "metadata": {},
     "output_type": "display_data"
    }
   ],
   "source": [
    "concat_hist_char_f = concat_hist_char_f[['StudentNumber', 'age_on_entry', 'ethnicity_16_groups', 'sex',\n",
    "       'adult_he_2011_quintile_desc', 'imd_desc',\n",
    "       'idaci_desc',  'disability_type', 'IPLEVEL','IPSTARTMODE',\n",
    "       'Outcome']]"
   ]
  },
  {
   "cell_type": "markdown",
   "id": "cdc8159f-ca33-4a22-acce-9b89759755fd",
   "metadata": {
    "microsoft": {
     "language": "python",
     "language_group": "synapse_pyspark"
    },
    "nteract": {
     "transient": {
      "deleting": false
     }
    }
   },
   "source": [
    "**Creating copy of the below dataframe and saving in another dataframe**"
   ]
  },
  {
   "cell_type": "code",
   "execution_count": 92,
   "id": "28ed08cc-9d69-4ad1-af54-76ee1e40957e",
   "metadata": {
    "jupyter": {
     "outputs_hidden": false,
     "source_hidden": false
    },
    "microsoft": {
     "language": "python",
     "language_group": "synapse_pyspark"
    },
    "nteract": {
     "transient": {
      "deleting": false
     }
    }
   },
   "outputs": [
    {
     "data": {
      "application/vnd.livy.statement-meta+json": {
       "execution_finish_time": "2024-12-04T10:42:16.8506048Z",
       "execution_start_time": "2024-12-04T10:42:16.5793116Z",
       "livy_statement_state": "available",
       "normalized_state": "finished",
       "parent_msg_id": "dc7945e5-94a3-43f0-b6d3-dfa24f07863a",
       "queued_time": "2024-12-04T10:42:16.0788155Z",
       "session_id": "c3362933-4b99-4fc4-b98a-e8b07e6c5a39",
       "session_start_time": null,
       "spark_pool": null,
       "state": "finished",
       "statement_id": 94,
       "statement_ids": [
        94
       ]
      },
      "text/plain": [
       "StatementMeta(, c3362933-4b99-4fc4-b98a-e8b07e6c5a39, 94, Finished, Available, Finished)"
      ]
     },
     "metadata": {},
     "output_type": "display_data"
    }
   ],
   "source": [
    "concat_hist_char_export_f = concat_hist_char_f.copy()"
   ]
  },
  {
   "cell_type": "markdown",
   "id": "ef25a391-e46e-4aa1-960b-33a96d0d7094",
   "metadata": {
    "microsoft": {
     "language": "python",
     "language_group": "synapse_pyspark"
    },
    "nteract": {
     "transient": {
      "deleting": false
     }
    }
   },
   "source": [
    "**Creating concatenated column by joining characteristics in same order as above to map with external progression data**"
   ]
  },
  {
   "cell_type": "code",
   "execution_count": 93,
   "id": "511827e0-4123-4239-b40d-8f6893bcaecc",
   "metadata": {
    "jupyter": {
     "outputs_hidden": false,
     "source_hidden": false
    },
    "microsoft": {
     "language": "python",
     "language_group": "synapse_pyspark"
    },
    "nteract": {
     "transient": {
      "deleting": false
     }
    }
   },
   "outputs": [
    {
     "data": {
      "application/vnd.livy.statement-meta+json": {
       "execution_finish_time": "2024-12-04T10:42:20.2704165Z",
       "execution_start_time": "2024-12-04T10:42:19.8672076Z",
       "livy_statement_state": "available",
       "normalized_state": "finished",
       "parent_msg_id": "afea4836-40bd-486b-9c99-70c1f081d91c",
       "queued_time": "2024-12-04T10:42:19.4527909Z",
       "session_id": "c3362933-4b99-4fc4-b98a-e8b07e6c5a39",
       "session_start_time": null,
       "spark_pool": null,
       "state": "finished",
       "statement_id": 95,
       "statement_ids": [
        95
       ]
      },
      "text/plain": [
       "StatementMeta(, c3362933-4b99-4fc4-b98a-e8b07e6c5a39, 95, Finished, Available, Finished)"
      ]
     },
     "metadata": {},
     "output_type": "display_data"
    },
    {
     "data": {
      "text/html": [
       "<div>\n",
       "<style scoped>\n",
       "    .dataframe tbody tr th:only-of-type {\n",
       "        vertical-align: middle;\n",
       "    }\n",
       "\n",
       "    .dataframe tbody tr th {\n",
       "        vertical-align: top;\n",
       "    }\n",
       "\n",
       "    .dataframe thead th {\n",
       "        text-align: right;\n",
       "    }\n",
       "</style>\n",
       "<table border=\"1\" class=\"dataframe\">\n",
       "  <thead>\n",
       "    <tr style=\"text-align: right;\">\n",
       "      <th></th>\n",
       "      <th>StudentNumber</th>\n",
       "      <th>IPLEVEL</th>\n",
       "      <th>Actual_Outcome</th>\n",
       "      <th>Concatenated_column</th>\n",
       "    </tr>\n",
       "  </thead>\n",
       "  <tbody>\n",
       "    <tr>\n",
       "      <th>0</th>\n",
       "      <td>STU69375</td>\n",
       "      <td>DEG</td>\n",
       "      <td>Negative</td>\n",
       "      <td>Quintile 241-50Sensory, medical or physical im...</td>\n",
       "    </tr>\n",
       "    <tr>\n",
       "      <th>1</th>\n",
       "      <td>STU68962</td>\n",
       "      <td>DEG</td>\n",
       "      <td>Negative</td>\n",
       "      <td>Quintile 541-50Mental health conditionWhiteQui...</td>\n",
       "    </tr>\n",
       "    <tr>\n",
       "      <th>2</th>\n",
       "      <td>STU65338</td>\n",
       "      <td>DEG</td>\n",
       "      <td>Positive</td>\n",
       "      <td>Quintile 431-40Mental health conditionWhiteQui...</td>\n",
       "    </tr>\n",
       "    <tr>\n",
       "      <th>3</th>\n",
       "      <td>STU62316</td>\n",
       "      <td>DEG</td>\n",
       "      <td>Positive</td>\n",
       "      <td>Quintile 126-30Mental health conditionWhiteQui...</td>\n",
       "    </tr>\n",
       "    <tr>\n",
       "      <th>4</th>\n",
       "      <td>STU56635</td>\n",
       "      <td>DEG</td>\n",
       "      <td>Positive</td>\n",
       "      <td>Quintile 231-40Mental health conditionWhiteQui...</td>\n",
       "    </tr>\n",
       "    <tr>\n",
       "      <th>...</th>\n",
       "      <td>...</td>\n",
       "      <td>...</td>\n",
       "      <td>...</td>\n",
       "      <td>...</td>\n",
       "    </tr>\n",
       "    <tr>\n",
       "      <th>741</th>\n",
       "      <td>STU64519</td>\n",
       "      <td>DEG</td>\n",
       "      <td>Positive</td>\n",
       "      <td>Quintile 320No disability reportedWhiteQuintil...</td>\n",
       "    </tr>\n",
       "    <tr>\n",
       "      <th>742</th>\n",
       "      <td>STU83875</td>\n",
       "      <td>DEG</td>\n",
       "      <td>Negative</td>\n",
       "      <td>Quintile 241-50No disability reportedWhiteQuin...</td>\n",
       "    </tr>\n",
       "    <tr>\n",
       "      <th>743</th>\n",
       "      <td>STU66401</td>\n",
       "      <td>DEG</td>\n",
       "      <td>Positive</td>\n",
       "      <td>Quintile 121-25No disability reportedWhiteQuin...</td>\n",
       "    </tr>\n",
       "    <tr>\n",
       "      <th>744</th>\n",
       "      <td>STU91604</td>\n",
       "      <td>DEG</td>\n",
       "      <td>Positive</td>\n",
       "      <td>Quintile 431-40No disability reportedWhiteQuin...</td>\n",
       "    </tr>\n",
       "    <tr>\n",
       "      <th>745</th>\n",
       "      <td>STU95943</td>\n",
       "      <td>DEG</td>\n",
       "      <td>Positive</td>\n",
       "      <td>Quintile 531-40No disability reportedWhiteQuin...</td>\n",
       "    </tr>\n",
       "  </tbody>\n",
       "</table>\n",
       "<p>741 rows × 4 columns</p>\n",
       "</div>"
      ],
      "text/plain": [
       "    StudentNumber IPLEVEL Actual_Outcome  \\\n",
       "0        STU69375     DEG       Negative   \n",
       "1        STU68962     DEG       Negative   \n",
       "2        STU65338     DEG       Positive   \n",
       "3        STU62316     DEG       Positive   \n",
       "4        STU56635     DEG       Positive   \n",
       "..            ...     ...            ...   \n",
       "741      STU64519     DEG       Positive   \n",
       "742      STU83875     DEG       Negative   \n",
       "743      STU66401     DEG       Positive   \n",
       "744      STU91604     DEG       Positive   \n",
       "745      STU95943     DEG       Positive   \n",
       "\n",
       "                                   Concatenated_column  \n",
       "0    Quintile 241-50Sensory, medical or physical im...  \n",
       "1    Quintile 541-50Mental health conditionWhiteQui...  \n",
       "2    Quintile 431-40Mental health conditionWhiteQui...  \n",
       "3    Quintile 126-30Mental health conditionWhiteQui...  \n",
       "4    Quintile 231-40Mental health conditionWhiteQui...  \n",
       "..                                                 ...  \n",
       "741  Quintile 320No disability reportedWhiteQuintil...  \n",
       "742  Quintile 241-50No disability reportedWhiteQuin...  \n",
       "743  Quintile 121-25No disability reportedWhiteQuin...  \n",
       "744  Quintile 431-40No disability reportedWhiteQuin...  \n",
       "745  Quintile 531-40No disability reportedWhiteQuin...  \n",
       "\n",
       "[741 rows x 4 columns]"
      ]
     },
     "execution_count": 284,
     "metadata": {},
     "output_type": "execute_result"
    }
   ],
   "source": [
    "# Concatenate columns by converting all values to strings\n",
    "concat_hist_char_f['Concatenated_column'] = (\n",
    "    concat_hist_char_f['adult_he_2011_quintile_desc'].astype(str) + \n",
    "    concat_hist_char_f['age_on_entry'].astype(str) + \n",
    "    concat_hist_char_f['disability_type'].astype(str) + \n",
    "    concat_hist_char_f['ethnicity_16_groups'].astype(str) + \n",
    "    concat_hist_char_f['idaci_desc'].astype(str) + \n",
    "    concat_hist_char_f['imd_desc'].astype(str) + \n",
    "    concat_hist_char_f['IPSTARTMODE'].astype(str) + \n",
    "    concat_hist_char_f['sex'].astype(str)\n",
    ")\n",
    "\n",
    "#renaming col name and slecting some columns \n",
    "concat_hist_char_f.rename(columns={'Outcome': 'Actual_Outcome'}, inplace=True)\n",
    "concat_hist_char_f=concat_hist_char_f[['StudentNumber','IPLEVEL','Actual_Outcome','Concatenated_column']]\n",
    "concat_hist_char_f"
   ]
  },
  {
   "cell_type": "code",
   "execution_count": 94,
   "id": "acccb4a1-480e-45d4-bea0-0bb213162bfe",
   "metadata": {
    "jupyter": {
     "outputs_hidden": false,
     "source_hidden": false
    },
    "microsoft": {
     "language": "python",
     "language_group": "synapse_pyspark"
    },
    "nteract": {
     "transient": {
      "deleting": false
     }
    }
   },
   "outputs": [
    {
     "data": {
      "application/vnd.livy.statement-meta+json": {
       "execution_finish_time": "2024-12-04T10:42:24.3288982Z",
       "execution_start_time": "2024-12-04T10:42:23.5503905Z",
       "livy_statement_state": "available",
       "normalized_state": "finished",
       "parent_msg_id": "29212e1d-df9e-45a6-b1d2-f4ea0917b25a",
       "queued_time": "2024-12-04T10:42:23.0592176Z",
       "session_id": "c3362933-4b99-4fc4-b98a-e8b07e6c5a39",
       "session_start_time": null,
       "spark_pool": null,
       "state": "finished",
       "statement_id": 96,
       "statement_ids": [
        96
       ]
      },
      "text/plain": [
       "StatementMeta(, c3362933-4b99-4fc4-b98a-e8b07e6c5a39, 96, Finished, Available, Finished)"
      ]
     },
     "metadata": {},
     "output_type": "display_data"
    }
   ],
   "source": [
    "#dropping duplicates from the dataframe\n",
    "df_ft1 = df_ft1.drop_duplicates()"
   ]
  },
  {
   "cell_type": "markdown",
   "id": "0cf55922-7abf-4cd7-a8d9-0fcd5ec7a1a7",
   "metadata": {
    "microsoft": {
     "language": "python",
     "language_group": "synapse_pyspark"
    },
    "nteract": {
     "transient": {
      "deleting": false
     }
    }
   },
   "source": [
    "**Inner joining with historical Arden data with external progression data on concatenated column**"
   ]
  },
  {
   "cell_type": "code",
   "execution_count": 95,
   "id": "a0ab818f-2fed-4d94-bb3f-049bb3c8c760",
   "metadata": {
    "jupyter": {
     "outputs_hidden": false,
     "source_hidden": false
    },
    "microsoft": {
     "language": "python",
     "language_group": "synapse_pyspark"
    },
    "nteract": {
     "transient": {
      "deleting": false
     }
    }
   },
   "outputs": [
    {
     "data": {
      "application/vnd.livy.statement-meta+json": {
       "execution_finish_time": "2024-12-04T10:42:27.2893122Z",
       "execution_start_time": "2024-12-04T10:42:27.0552395Z",
       "livy_statement_state": "available",
       "normalized_state": "finished",
       "parent_msg_id": "07cb2407-4bbb-4d82-a36e-35cdb8d312f9",
       "queued_time": "2024-12-04T10:42:26.5701163Z",
       "session_id": "c3362933-4b99-4fc4-b98a-e8b07e6c5a39",
       "session_start_time": null,
       "spark_pool": null,
       "state": "finished",
       "statement_id": 97,
       "statement_ids": [
        97
       ]
      },
      "text/plain": [
       "StatementMeta(, c3362933-4b99-4fc4-b98a-e8b07e6c5a39, 97, Finished, Available, Finished)"
      ]
     },
     "metadata": {},
     "output_type": "display_data"
    }
   ],
   "source": [
    "joined_df_f = df_ft1.merge(concat_hist_char_f,on='Concatenated_column', how='inner')\n",
    "joined_df_f = joined_df_f.drop_duplicates()"
   ]
  },
  {
   "cell_type": "code",
   "execution_count": 96,
   "id": "ef5c1861-05c3-4629-8cad-ee0dd225997d",
   "metadata": {
    "jupyter": {
     "outputs_hidden": false,
     "source_hidden": false
    },
    "microsoft": {
     "language": "python",
     "language_group": "synapse_pyspark"
    },
    "nteract": {
     "transient": {
      "deleting": false
     }
    }
   },
   "outputs": [
    {
     "data": {
      "application/vnd.livy.statement-meta+json": {
       "execution_finish_time": "2024-12-04T10:42:31.510296Z",
       "execution_start_time": "2024-12-04T10:42:31.2208576Z",
       "livy_statement_state": "available",
       "normalized_state": "finished",
       "parent_msg_id": "e2da152d-1fd8-4dda-bf89-76ad5fe75f22",
       "queued_time": "2024-12-04T10:42:30.7534653Z",
       "session_id": "c3362933-4b99-4fc4-b98a-e8b07e6c5a39",
       "session_start_time": null,
       "spark_pool": null,
       "state": "finished",
       "statement_id": 98,
       "statement_ids": [
        98
       ]
      },
      "text/plain": [
       "StatementMeta(, c3362933-4b99-4fc4-b98a-e8b07e6c5a39, 98, Finished, Available, Finished)"
      ]
     },
     "metadata": {},
     "output_type": "display_data"
    },
    {
     "data": {
      "text/html": [
       "<div>\n",
       "<style scoped>\n",
       "    .dataframe tbody tr th:only-of-type {\n",
       "        vertical-align: middle;\n",
       "    }\n",
       "\n",
       "    .dataframe tbody tr th {\n",
       "        vertical-align: top;\n",
       "    }\n",
       "\n",
       "    .dataframe thead th {\n",
       "        text-align: right;\n",
       "    }\n",
       "</style>\n",
       "<table border=\"1\" class=\"dataframe\">\n",
       "  <thead>\n",
       "    <tr style=\"text-align: right;\">\n",
       "      <th></th>\n",
       "      <th>Predicted_outcome_rate</th>\n",
       "      <th>Derived_progression_quintile</th>\n",
       "      <th>Concatenated_column</th>\n",
       "      <th>StudentNumber</th>\n",
       "      <th>IPLEVEL</th>\n",
       "      <th>Actual_Outcome</th>\n",
       "    </tr>\n",
       "  </thead>\n",
       "  <tbody>\n",
       "    <tr>\n",
       "      <th>0</th>\n",
       "      <td>0.710000</td>\n",
       "      <td>1</td>\n",
       "      <td>Quintile 321-25Cognitive or learning difficult...</td>\n",
       "      <td>STU62768</td>\n",
       "      <td>DEG</td>\n",
       "      <td>Negative</td>\n",
       "    </tr>\n",
       "    <tr>\n",
       "      <th>1</th>\n",
       "      <td>0.740000</td>\n",
       "      <td>1</td>\n",
       "      <td>Quintile 521-25Cognitive or learning difficult...</td>\n",
       "      <td>STU62566</td>\n",
       "      <td>DEG</td>\n",
       "      <td>Positive</td>\n",
       "    </tr>\n",
       "    <tr>\n",
       "      <th>2</th>\n",
       "      <td>0.730000</td>\n",
       "      <td>1</td>\n",
       "      <td>Quintile 321-25Sensory, medical or physical im...</td>\n",
       "      <td>STU56459</td>\n",
       "      <td>DEG</td>\n",
       "      <td>Positive</td>\n",
       "    </tr>\n",
       "    <tr>\n",
       "      <th>3</th>\n",
       "      <td>0.690000</td>\n",
       "      <td>1</td>\n",
       "      <td>Quintile 521-25Sensory, medical or physical im...</td>\n",
       "      <td>STU56204</td>\n",
       "      <td>DEG</td>\n",
       "      <td>Negative</td>\n",
       "    </tr>\n",
       "    <tr>\n",
       "      <th>4</th>\n",
       "      <td>0.590000</td>\n",
       "      <td>1</td>\n",
       "      <td>Quintile 121-25Mental health conditionWhiteQui...</td>\n",
       "      <td>STU66660</td>\n",
       "      <td>DEG</td>\n",
       "      <td>Positive</td>\n",
       "    </tr>\n",
       "    <tr>\n",
       "      <th>...</th>\n",
       "      <td>...</td>\n",
       "      <td>...</td>\n",
       "      <td>...</td>\n",
       "      <td>...</td>\n",
       "      <td>...</td>\n",
       "      <td>...</td>\n",
       "    </tr>\n",
       "    <tr>\n",
       "      <th>687</th>\n",
       "      <td>0.820000</td>\n",
       "      <td>3</td>\n",
       "      <td>Quintile 331-40No disability reportedWhiteQuin...</td>\n",
       "      <td>STU87073</td>\n",
       "      <td>DEG</td>\n",
       "      <td>Positive</td>\n",
       "    </tr>\n",
       "    <tr>\n",
       "      <th>688</th>\n",
       "      <td>0.820000</td>\n",
       "      <td>3</td>\n",
       "      <td>Quintile 431-40No disability reportedBlack or ...</td>\n",
       "      <td>STU70051</td>\n",
       "      <td>DEG</td>\n",
       "      <td>Positive</td>\n",
       "    </tr>\n",
       "    <tr>\n",
       "      <th>689</th>\n",
       "      <td>0.820000</td>\n",
       "      <td>3</td>\n",
       "      <td>Quintile 231-40No disability reportedWhiteQuin...</td>\n",
       "      <td>STU58231</td>\n",
       "      <td>DEG</td>\n",
       "      <td>Positive</td>\n",
       "    </tr>\n",
       "    <tr>\n",
       "      <th>690</th>\n",
       "      <td>0.820000</td>\n",
       "      <td>3</td>\n",
       "      <td>Quintile 131-40No disability reportedAsian or ...</td>\n",
       "      <td>STU56997</td>\n",
       "      <td>DEG</td>\n",
       "      <td>Negative</td>\n",
       "    </tr>\n",
       "    <tr>\n",
       "      <th>691</th>\n",
       "      <td>0.890000</td>\n",
       "      <td>5</td>\n",
       "      <td>Quintile 331-40No disability reportedAsian or ...</td>\n",
       "      <td>STU92648</td>\n",
       "      <td>DEG</td>\n",
       "      <td>Positive</td>\n",
       "    </tr>\n",
       "  </tbody>\n",
       "</table>\n",
       "<p>692 rows × 6 columns</p>\n",
       "</div>"
      ],
      "text/plain": [
       "    Predicted_outcome_rate  Derived_progression_quintile  \\\n",
       "0                 0.710000                             1   \n",
       "1                 0.740000                             1   \n",
       "2                 0.730000                             1   \n",
       "3                 0.690000                             1   \n",
       "4                 0.590000                             1   \n",
       "..                     ...                           ...   \n",
       "687               0.820000                             3   \n",
       "688               0.820000                             3   \n",
       "689               0.820000                             3   \n",
       "690               0.820000                             3   \n",
       "691               0.890000                             5   \n",
       "\n",
       "                                   Concatenated_column StudentNumber IPLEVEL  \\\n",
       "0    Quintile 321-25Cognitive or learning difficult...      STU62768     DEG   \n",
       "1    Quintile 521-25Cognitive or learning difficult...      STU62566     DEG   \n",
       "2    Quintile 321-25Sensory, medical or physical im...      STU56459     DEG   \n",
       "3    Quintile 521-25Sensory, medical or physical im...      STU56204     DEG   \n",
       "4    Quintile 121-25Mental health conditionWhiteQui...      STU66660     DEG   \n",
       "..                                                 ...           ...     ...   \n",
       "687  Quintile 331-40No disability reportedWhiteQuin...      STU87073     DEG   \n",
       "688  Quintile 431-40No disability reportedBlack or ...      STU70051     DEG   \n",
       "689  Quintile 231-40No disability reportedWhiteQuin...      STU58231     DEG   \n",
       "690  Quintile 131-40No disability reportedAsian or ...      STU56997     DEG   \n",
       "691  Quintile 331-40No disability reportedAsian or ...      STU92648     DEG   \n",
       "\n",
       "    Actual_Outcome  \n",
       "0         Negative  \n",
       "1         Positive  \n",
       "2         Positive  \n",
       "3         Negative  \n",
       "4         Positive  \n",
       "..             ...  \n",
       "687       Positive  \n",
       "688       Positive  \n",
       "689       Positive  \n",
       "690       Negative  \n",
       "691       Positive  \n",
       "\n",
       "[692 rows x 6 columns]"
      ]
     },
     "execution_count": 293,
     "metadata": {},
     "output_type": "execute_result"
    }
   ],
   "source": [
    "#displaying the dataframe\n",
    "joined_df_f"
   ]
  },
  {
   "cell_type": "markdown",
   "id": "3034ec9f-94fb-4bc5-92e6-a2b6f7510cdd",
   "metadata": {
    "microsoft": {
     "language": "python",
     "language_group": "synapse_pyspark"
    },
    "nteract": {
     "transient": {
      "deleting": false
     }
    }
   },
   "source": [
    "**Applying inner join to tag predicted outcome rate and derive quintile to each student**"
   ]
  },
  {
   "cell_type": "code",
   "execution_count": 97,
   "id": "a00d28e2-df7e-4291-9cb7-ff8c017f2454",
   "metadata": {
    "jupyter": {
     "outputs_hidden": false,
     "source_hidden": false
    },
    "microsoft": {
     "language": "python",
     "language_group": "synapse_pyspark"
    },
    "nteract": {
     "transient": {
      "deleting": false
     }
    }
   },
   "outputs": [
    {
     "data": {
      "application/vnd.livy.statement-meta+json": {
       "execution_finish_time": "2024-12-04T10:42:35.31926Z",
       "execution_start_time": "2024-12-04T10:42:35.0623037Z",
       "livy_statement_state": "available",
       "normalized_state": "finished",
       "parent_msg_id": "3a60aaa2-b51b-4bd7-b9b7-412a91a878ec",
       "queued_time": "2024-12-04T10:42:34.4909094Z",
       "session_id": "c3362933-4b99-4fc4-b98a-e8b07e6c5a39",
       "session_start_time": null,
       "spark_pool": null,
       "state": "finished",
       "statement_id": 99,
       "statement_ids": [
        99
       ]
      },
      "text/plain": [
       "StatementMeta(, c3362933-4b99-4fc4-b98a-e8b07e6c5a39, 99, Finished, Available, Finished)"
      ]
     },
     "metadata": {},
     "output_type": "display_data"
    }
   ],
   "source": [
    "export_ft_df_f = pd.merge(joined_df_f,concat_hist_char_export_f,on='StudentNumber',how = 'inner')\n",
    "\n",
    "export_ft_df_f.drop(['IPLEVEL_y','Outcome'], axis=1, inplace=True)"
   ]
  },
  {
   "cell_type": "markdown",
   "id": "0aecf6d5-c5b5-479d-be16-0637cb6c0ea1",
   "metadata": {
    "microsoft": {
     "language": "python",
     "language_group": "synapse_pyspark"
    },
    "nteract": {
     "transient": {
      "deleting": false
     }
    }
   },
   "source": [
    "**Creating copy of the dataframe and saving in another dataframe**"
   ]
  },
  {
   "cell_type": "code",
   "execution_count": 98,
   "id": "02ab3cde-9f3b-4c49-819d-1128b0e73a59",
   "metadata": {
    "jupyter": {
     "outputs_hidden": false,
     "source_hidden": false
    },
    "microsoft": {
     "language": "python",
     "language_group": "synapse_pyspark"
    },
    "nteract": {
     "transient": {
      "deleting": false
     }
    }
   },
   "outputs": [
    {
     "data": {
      "application/vnd.livy.statement-meta+json": {
       "execution_finish_time": "2024-12-04T10:42:39.3262295Z",
       "execution_start_time": "2024-12-04T10:42:39.0115011Z",
       "livy_statement_state": "available",
       "normalized_state": "finished",
       "parent_msg_id": "7ac9bb06-360b-46d8-bbd0-620b493aa4fc",
       "queued_time": "2024-12-04T10:42:38.4970007Z",
       "session_id": "c3362933-4b99-4fc4-b98a-e8b07e6c5a39",
       "session_start_time": null,
       "spark_pool": null,
       "state": "finished",
       "statement_id": 100,
       "statement_ids": [
        100
       ]
      },
      "text/plain": [
       "StatementMeta(, c3362933-4b99-4fc4-b98a-e8b07e6c5a39, 100, Finished, Available, Finished)"
      ]
     },
     "metadata": {},
     "output_type": "display_data"
    }
   ],
   "source": [
    "raw_data_ft1=export_ft_df_f.copy()"
   ]
  },
  {
   "cell_type": "code",
   "execution_count": 99,
   "id": "0511b44c-944a-41dc-be87-6781b5c4fe94",
   "metadata": {
    "jupyter": {
     "outputs_hidden": false,
     "source_hidden": false
    },
    "microsoft": {
     "language": "python",
     "language_group": "synapse_pyspark"
    },
    "nteract": {
     "transient": {
      "deleting": false
     }
    }
   },
   "outputs": [
    {
     "data": {
      "application/vnd.livy.statement-meta+json": {
       "execution_finish_time": "2024-12-04T10:42:42.7025145Z",
       "execution_start_time": "2024-12-04T10:42:42.4136526Z",
       "livy_statement_state": "available",
       "normalized_state": "finished",
       "parent_msg_id": "cfb3c6f7-58ce-49f4-a531-8777fcb9bde4",
       "queued_time": "2024-12-04T10:42:41.967244Z",
       "session_id": "c3362933-4b99-4fc4-b98a-e8b07e6c5a39",
       "session_start_time": null,
       "spark_pool": null,
       "state": "finished",
       "statement_id": 101,
       "statement_ids": [
        101
       ]
      },
      "text/plain": [
       "StatementMeta(, c3362933-4b99-4fc4-b98a-e8b07e6c5a39, 101, Finished, Available, Finished)"
      ]
     },
     "metadata": {},
     "output_type": "display_data"
    },
    {
     "data": {
      "text/html": [
       "<div>\n",
       "<style scoped>\n",
       "    .dataframe tbody tr th:only-of-type {\n",
       "        vertical-align: middle;\n",
       "    }\n",
       "\n",
       "    .dataframe tbody tr th {\n",
       "        vertical-align: top;\n",
       "    }\n",
       "\n",
       "    .dataframe thead th {\n",
       "        text-align: right;\n",
       "    }\n",
       "</style>\n",
       "<table border=\"1\" class=\"dataframe\">\n",
       "  <thead>\n",
       "    <tr style=\"text-align: right;\">\n",
       "      <th></th>\n",
       "      <th>Predicted_outcome_rate</th>\n",
       "      <th>Derived_progression_quintile</th>\n",
       "      <th>Concatenated_column</th>\n",
       "      <th>StudentNumber</th>\n",
       "      <th>IPLEVEL_x</th>\n",
       "      <th>Actual_Outcome</th>\n",
       "      <th>age_on_entry</th>\n",
       "      <th>ethnicity_16_groups</th>\n",
       "      <th>sex</th>\n",
       "      <th>adult_he_2011_quintile_desc</th>\n",
       "      <th>imd_desc</th>\n",
       "      <th>idaci_desc</th>\n",
       "      <th>disability_type</th>\n",
       "      <th>IPSTARTMODE</th>\n",
       "    </tr>\n",
       "  </thead>\n",
       "  <tbody>\n",
       "    <tr>\n",
       "      <th>0</th>\n",
       "      <td>0.710000</td>\n",
       "      <td>1</td>\n",
       "      <td>Quintile 321-25Cognitive or learning difficult...</td>\n",
       "      <td>STU62768</td>\n",
       "      <td>DEG</td>\n",
       "      <td>Negative</td>\n",
       "      <td>21-25</td>\n",
       "      <td>Black or black British - African</td>\n",
       "      <td>Female</td>\n",
       "      <td>Quintile 3</td>\n",
       "      <td>Quintile 1</td>\n",
       "      <td>Quintile 1</td>\n",
       "      <td>Cognitive or learning difficulties</td>\n",
       "      <td>FT</td>\n",
       "    </tr>\n",
       "    <tr>\n",
       "      <th>1</th>\n",
       "      <td>0.740000</td>\n",
       "      <td>1</td>\n",
       "      <td>Quintile 521-25Cognitive or learning difficult...</td>\n",
       "      <td>STU62566</td>\n",
       "      <td>DEG</td>\n",
       "      <td>Positive</td>\n",
       "      <td>21-25</td>\n",
       "      <td>Black or black British - African</td>\n",
       "      <td>Female</td>\n",
       "      <td>Quintile 5</td>\n",
       "      <td>Quintile 1</td>\n",
       "      <td>Quintile 1</td>\n",
       "      <td>Cognitive or learning difficulties</td>\n",
       "      <td>FT</td>\n",
       "    </tr>\n",
       "    <tr>\n",
       "      <th>2</th>\n",
       "      <td>0.730000</td>\n",
       "      <td>1</td>\n",
       "      <td>Quintile 321-25Sensory, medical or physical im...</td>\n",
       "      <td>STU56459</td>\n",
       "      <td>DEG</td>\n",
       "      <td>Positive</td>\n",
       "      <td>21-25</td>\n",
       "      <td>White</td>\n",
       "      <td>Female</td>\n",
       "      <td>Quintile 3</td>\n",
       "      <td>Quintile 2</td>\n",
       "      <td>Quintile 2</td>\n",
       "      <td>Sensory, medical or physical impairments</td>\n",
       "      <td>FT</td>\n",
       "    </tr>\n",
       "    <tr>\n",
       "      <th>3</th>\n",
       "      <td>0.690000</td>\n",
       "      <td>1</td>\n",
       "      <td>Quintile 521-25Sensory, medical or physical im...</td>\n",
       "      <td>STU56204</td>\n",
       "      <td>DEG</td>\n",
       "      <td>Negative</td>\n",
       "      <td>21-25</td>\n",
       "      <td>Black or black British - African</td>\n",
       "      <td>Female</td>\n",
       "      <td>Quintile 5</td>\n",
       "      <td>Quintile 3</td>\n",
       "      <td>Quintile 3</td>\n",
       "      <td>Sensory, medical or physical impairments</td>\n",
       "      <td>FT</td>\n",
       "    </tr>\n",
       "    <tr>\n",
       "      <th>4</th>\n",
       "      <td>0.590000</td>\n",
       "      <td>1</td>\n",
       "      <td>Quintile 121-25Mental health conditionWhiteQui...</td>\n",
       "      <td>STU66660</td>\n",
       "      <td>DEG</td>\n",
       "      <td>Positive</td>\n",
       "      <td>21-25</td>\n",
       "      <td>White</td>\n",
       "      <td>Female</td>\n",
       "      <td>Quintile 1</td>\n",
       "      <td>Quintile 1</td>\n",
       "      <td>Quintile 1</td>\n",
       "      <td>Mental health condition</td>\n",
       "      <td>FT</td>\n",
       "    </tr>\n",
       "    <tr>\n",
       "      <th>...</th>\n",
       "      <td>...</td>\n",
       "      <td>...</td>\n",
       "      <td>...</td>\n",
       "      <td>...</td>\n",
       "      <td>...</td>\n",
       "      <td>...</td>\n",
       "      <td>...</td>\n",
       "      <td>...</td>\n",
       "      <td>...</td>\n",
       "      <td>...</td>\n",
       "      <td>...</td>\n",
       "      <td>...</td>\n",
       "      <td>...</td>\n",
       "      <td>...</td>\n",
       "    </tr>\n",
       "    <tr>\n",
       "      <th>689</th>\n",
       "      <td>0.820000</td>\n",
       "      <td>3</td>\n",
       "      <td>Quintile 331-40No disability reportedWhiteQuin...</td>\n",
       "      <td>STU87073</td>\n",
       "      <td>DEG</td>\n",
       "      <td>Positive</td>\n",
       "      <td>31-40</td>\n",
       "      <td>White</td>\n",
       "      <td>Male</td>\n",
       "      <td>Quintile 3</td>\n",
       "      <td>Quintile 2</td>\n",
       "      <td>Quintile 2</td>\n",
       "      <td>No disability reported</td>\n",
       "      <td>FT</td>\n",
       "    </tr>\n",
       "    <tr>\n",
       "      <th>690</th>\n",
       "      <td>0.820000</td>\n",
       "      <td>3</td>\n",
       "      <td>Quintile 431-40No disability reportedBlack or ...</td>\n",
       "      <td>STU70051</td>\n",
       "      <td>DEG</td>\n",
       "      <td>Positive</td>\n",
       "      <td>31-40</td>\n",
       "      <td>Black or black British - African</td>\n",
       "      <td>Male</td>\n",
       "      <td>Quintile 4</td>\n",
       "      <td>Quintile 2</td>\n",
       "      <td>Quintile 1</td>\n",
       "      <td>No disability reported</td>\n",
       "      <td>FT</td>\n",
       "    </tr>\n",
       "    <tr>\n",
       "      <th>691</th>\n",
       "      <td>0.820000</td>\n",
       "      <td>3</td>\n",
       "      <td>Quintile 231-40No disability reportedWhiteQuin...</td>\n",
       "      <td>STU58231</td>\n",
       "      <td>DEG</td>\n",
       "      <td>Positive</td>\n",
       "      <td>31-40</td>\n",
       "      <td>White</td>\n",
       "      <td>Male</td>\n",
       "      <td>Quintile 2</td>\n",
       "      <td>Quintile 2</td>\n",
       "      <td>Quintile 1</td>\n",
       "      <td>No disability reported</td>\n",
       "      <td>FT</td>\n",
       "    </tr>\n",
       "    <tr>\n",
       "      <th>692</th>\n",
       "      <td>0.820000</td>\n",
       "      <td>3</td>\n",
       "      <td>Quintile 131-40No disability reportedAsian or ...</td>\n",
       "      <td>STU56997</td>\n",
       "      <td>DEG</td>\n",
       "      <td>Negative</td>\n",
       "      <td>31-40</td>\n",
       "      <td>Asian or Asian British - Bangladeshi</td>\n",
       "      <td>Male</td>\n",
       "      <td>Quintile 1</td>\n",
       "      <td>Quintile 1</td>\n",
       "      <td>Quintile 1</td>\n",
       "      <td>No disability reported</td>\n",
       "      <td>FT</td>\n",
       "    </tr>\n",
       "    <tr>\n",
       "      <th>693</th>\n",
       "      <td>0.890000</td>\n",
       "      <td>5</td>\n",
       "      <td>Quintile 331-40No disability reportedAsian or ...</td>\n",
       "      <td>STU92648</td>\n",
       "      <td>DEG</td>\n",
       "      <td>Positive</td>\n",
       "      <td>31-40</td>\n",
       "      <td>Asian or Asian British - Indian</td>\n",
       "      <td>Male</td>\n",
       "      <td>Quintile 3</td>\n",
       "      <td>Quintile 4</td>\n",
       "      <td>Quintile 5</td>\n",
       "      <td>No disability reported</td>\n",
       "      <td>FT</td>\n",
       "    </tr>\n",
       "  </tbody>\n",
       "</table>\n",
       "<p>694 rows × 14 columns</p>\n",
       "</div>"
      ],
      "text/plain": [
       "    Predicted_outcome_rate  Derived_progression_quintile  \\\n",
       "0                 0.710000                             1   \n",
       "1                 0.740000                             1   \n",
       "2                 0.730000                             1   \n",
       "3                 0.690000                             1   \n",
       "4                 0.590000                             1   \n",
       "..                     ...                           ...   \n",
       "689               0.820000                             3   \n",
       "690               0.820000                             3   \n",
       "691               0.820000                             3   \n",
       "692               0.820000                             3   \n",
       "693               0.890000                             5   \n",
       "\n",
       "                                   Concatenated_column StudentNumber  \\\n",
       "0    Quintile 321-25Cognitive or learning difficult...      STU62768   \n",
       "1    Quintile 521-25Cognitive or learning difficult...      STU62566   \n",
       "2    Quintile 321-25Sensory, medical or physical im...      STU56459   \n",
       "3    Quintile 521-25Sensory, medical or physical im...      STU56204   \n",
       "4    Quintile 121-25Mental health conditionWhiteQui...      STU66660   \n",
       "..                                                 ...           ...   \n",
       "689  Quintile 331-40No disability reportedWhiteQuin...      STU87073   \n",
       "690  Quintile 431-40No disability reportedBlack or ...      STU70051   \n",
       "691  Quintile 231-40No disability reportedWhiteQuin...      STU58231   \n",
       "692  Quintile 131-40No disability reportedAsian or ...      STU56997   \n",
       "693  Quintile 331-40No disability reportedAsian or ...      STU92648   \n",
       "\n",
       "    IPLEVEL_x Actual_Outcome age_on_entry  \\\n",
       "0         DEG       Negative        21-25   \n",
       "1         DEG       Positive        21-25   \n",
       "2         DEG       Positive        21-25   \n",
       "3         DEG       Negative        21-25   \n",
       "4         DEG       Positive        21-25   \n",
       "..        ...            ...          ...   \n",
       "689       DEG       Positive        31-40   \n",
       "690       DEG       Positive        31-40   \n",
       "691       DEG       Positive        31-40   \n",
       "692       DEG       Negative        31-40   \n",
       "693       DEG       Positive        31-40   \n",
       "\n",
       "                      ethnicity_16_groups     sex adult_he_2011_quintile_desc  \\\n",
       "0        Black or black British - African  Female                  Quintile 3   \n",
       "1        Black or black British - African  Female                  Quintile 5   \n",
       "2                                   White  Female                  Quintile 3   \n",
       "3        Black or black British - African  Female                  Quintile 5   \n",
       "4                                   White  Female                  Quintile 1   \n",
       "..                                    ...     ...                         ...   \n",
       "689                                 White    Male                  Quintile 3   \n",
       "690      Black or black British - African    Male                  Quintile 4   \n",
       "691                                 White    Male                  Quintile 2   \n",
       "692  Asian or Asian British - Bangladeshi    Male                  Quintile 1   \n",
       "693       Asian or Asian British - Indian    Male                  Quintile 3   \n",
       "\n",
       "       imd_desc  idaci_desc                           disability_type  \\\n",
       "0    Quintile 1  Quintile 1        Cognitive or learning difficulties   \n",
       "1    Quintile 1  Quintile 1        Cognitive or learning difficulties   \n",
       "2    Quintile 2  Quintile 2  Sensory, medical or physical impairments   \n",
       "3    Quintile 3  Quintile 3  Sensory, medical or physical impairments   \n",
       "4    Quintile 1  Quintile 1                   Mental health condition   \n",
       "..          ...         ...                                       ...   \n",
       "689  Quintile 2  Quintile 2                    No disability reported   \n",
       "690  Quintile 2  Quintile 1                    No disability reported   \n",
       "691  Quintile 2  Quintile 1                    No disability reported   \n",
       "692  Quintile 1  Quintile 1                    No disability reported   \n",
       "693  Quintile 4  Quintile 5                    No disability reported   \n",
       "\n",
       "    IPSTARTMODE  \n",
       "0            FT  \n",
       "1            FT  \n",
       "2            FT  \n",
       "3            FT  \n",
       "4            FT  \n",
       "..          ...  \n",
       "689          FT  \n",
       "690          FT  \n",
       "691          FT  \n",
       "692          FT  \n",
       "693          FT  \n",
       "\n",
       "[694 rows x 14 columns]"
      ]
     },
     "execution_count": 302,
     "metadata": {},
     "output_type": "execute_result"
    }
   ],
   "source": [
    "#displaying the dataframe\n",
    "raw_data_ft1"
   ]
  },
  {
   "cell_type": "markdown",
   "id": "b3bf7941-3ead-4ddf-8fba-cb97387dc444",
   "metadata": {
    "microsoft": {
     "language": "python",
     "language_group": "synapse_pyspark"
    },
    "nteract": {
     "transient": {
      "deleting": false
     }
    }
   },
   "source": [
    "**Combining PT and FT data**"
   ]
  },
  {
   "cell_type": "code",
   "execution_count": 100,
   "id": "28e18cce-efba-44c2-9170-086f2bfe67fa",
   "metadata": {
    "jupyter": {
     "outputs_hidden": false,
     "source_hidden": false
    },
    "microsoft": {
     "language": "python",
     "language_group": "synapse_pyspark"
    },
    "nteract": {
     "transient": {
      "deleting": false
     }
    }
   },
   "outputs": [
    {
     "data": {
      "application/vnd.livy.statement-meta+json": {
       "execution_finish_time": "2024-12-04T10:42:46.6857464Z",
       "execution_start_time": "2024-12-04T10:42:46.4337297Z",
       "livy_statement_state": "available",
       "normalized_state": "finished",
       "parent_msg_id": "d5362dc2-37b6-4751-aac7-ac48499dd6a3",
       "queued_time": "2024-12-04T10:42:45.8761893Z",
       "session_id": "c3362933-4b99-4fc4-b98a-e8b07e6c5a39",
       "session_start_time": null,
       "spark_pool": null,
       "state": "finished",
       "statement_id": 102,
       "statement_ids": [
        102
       ]
      },
      "text/plain": [
       "StatementMeta(, c3362933-4b99-4fc4-b98a-e8b07e6c5a39, 102, Finished, Available, Finished)"
      ]
     },
     "metadata": {},
     "output_type": "display_data"
    },
    {
     "name": "stdout",
     "output_type": "stream",
     "text": [
      "Combined DataFrame shape: (1380, 14)\n"
     ]
    }
   ],
   "source": [
    "# Concatenate the DataFrames \n",
    "combined_df = pd.concat([raw_data_pt, raw_data_ft1], ignore_index=True) \n",
    "print(f\"Combined DataFrame shape: {combined_df.shape}\")"
   ]
  },
  {
   "cell_type": "code",
   "execution_count": 101,
   "id": "c721b439-d8b2-49e3-8f89-325dd4b237ac",
   "metadata": {
    "jupyter": {
     "outputs_hidden": false,
     "source_hidden": false
    },
    "microsoft": {
     "language": "python",
     "language_group": "synapse_pyspark"
    },
    "nteract": {
     "transient": {
      "deleting": false
     }
    }
   },
   "outputs": [
    {
     "data": {
      "application/vnd.livy.statement-meta+json": {
       "execution_finish_time": "2024-12-04T10:42:50.3838771Z",
       "execution_start_time": "2024-12-04T10:42:50.1411253Z",
       "livy_statement_state": "available",
       "normalized_state": "finished",
       "parent_msg_id": "f57f9d32-c096-4fed-b70c-e31d050476a8",
       "queued_time": "2024-12-04T10:42:49.6376805Z",
       "session_id": "c3362933-4b99-4fc4-b98a-e8b07e6c5a39",
       "session_start_time": null,
       "spark_pool": null,
       "state": "finished",
       "statement_id": 103,
       "statement_ids": [
        103
       ]
      },
      "text/plain": [
       "StatementMeta(, c3362933-4b99-4fc4-b98a-e8b07e6c5a39, 103, Finished, Available, Finished)"
      ]
     },
     "metadata": {},
     "output_type": "display_data"
    },
    {
     "data": {
      "text/html": [
       "<div>\n",
       "<style scoped>\n",
       "    .dataframe tbody tr th:only-of-type {\n",
       "        vertical-align: middle;\n",
       "    }\n",
       "\n",
       "    .dataframe tbody tr th {\n",
       "        vertical-align: top;\n",
       "    }\n",
       "\n",
       "    .dataframe thead th {\n",
       "        text-align: right;\n",
       "    }\n",
       "</style>\n",
       "<table border=\"1\" class=\"dataframe\">\n",
       "  <thead>\n",
       "    <tr style=\"text-align: right;\">\n",
       "      <th></th>\n",
       "      <th>StudentNumber</th>\n",
       "      <th>IPLEVEL_x</th>\n",
       "      <th>age_on_entry</th>\n",
       "      <th>ethnicity_16_groups</th>\n",
       "      <th>sex</th>\n",
       "      <th>adult_he_2011_quintile_desc</th>\n",
       "      <th>imd_desc</th>\n",
       "      <th>idaci_desc</th>\n",
       "      <th>disability_type</th>\n",
       "      <th>IPSTARTMODE</th>\n",
       "      <th>Concatenated_column</th>\n",
       "      <th>Actual_Outcome</th>\n",
       "      <th>Predicted_outcome_rate</th>\n",
       "      <th>Derived_progression_quintile</th>\n",
       "    </tr>\n",
       "  </thead>\n",
       "  <tbody>\n",
       "    <tr>\n",
       "      <th>0</th>\n",
       "      <td>STU59079</td>\n",
       "      <td>PGTM</td>\n",
       "      <td>21-25</td>\n",
       "      <td>White</td>\n",
       "      <td>Female</td>\n",
       "      <td>Quintile 3</td>\n",
       "      <td>Quintile 2</td>\n",
       "      <td>Quintile 4</td>\n",
       "      <td>Sensory, medical or physical impairments</td>\n",
       "      <td>PT</td>\n",
       "      <td>Quintile 321-25Sensory, medical or physical im...</td>\n",
       "      <td>Positive</td>\n",
       "      <td>0.730000</td>\n",
       "      <td>1</td>\n",
       "    </tr>\n",
       "    <tr>\n",
       "      <th>1</th>\n",
       "      <td>STU59158</td>\n",
       "      <td>PGTM</td>\n",
       "      <td>21-25</td>\n",
       "      <td>White</td>\n",
       "      <td>Female</td>\n",
       "      <td>Quintile 2</td>\n",
       "      <td>Quintile 3</td>\n",
       "      <td>Quintile 4</td>\n",
       "      <td>Sensory, medical or physical impairments</td>\n",
       "      <td>PT</td>\n",
       "      <td>Quintile 221-25Sensory, medical or physical im...</td>\n",
       "      <td>Negative</td>\n",
       "      <td>0.750000</td>\n",
       "      <td>1</td>\n",
       "    </tr>\n",
       "    <tr>\n",
       "      <th>2</th>\n",
       "      <td>STU69756</td>\n",
       "      <td>PGTM</td>\n",
       "      <td>21-25</td>\n",
       "      <td>White</td>\n",
       "      <td>Female</td>\n",
       "      <td>Quintile 3</td>\n",
       "      <td>Quintile 2</td>\n",
       "      <td>Quintile 2</td>\n",
       "      <td>Social or communication impairment</td>\n",
       "      <td>PT</td>\n",
       "      <td>Quintile 321-25Social or communication impairm...</td>\n",
       "      <td>Positive</td>\n",
       "      <td>0.660000</td>\n",
       "      <td>1</td>\n",
       "    </tr>\n",
       "    <tr>\n",
       "      <th>3</th>\n",
       "      <td>STU56579</td>\n",
       "      <td>DEG</td>\n",
       "      <td>21-25</td>\n",
       "      <td>White</td>\n",
       "      <td>Female</td>\n",
       "      <td>Quintile 1</td>\n",
       "      <td>Quintile 1</td>\n",
       "      <td>Quintile 1</td>\n",
       "      <td>Mental health condition</td>\n",
       "      <td>PT</td>\n",
       "      <td>Quintile 121-25Mental health conditionWhiteQui...</td>\n",
       "      <td>Negative</td>\n",
       "      <td>0.600000</td>\n",
       "      <td>1</td>\n",
       "    </tr>\n",
       "    <tr>\n",
       "      <th>4</th>\n",
       "      <td>STU74215</td>\n",
       "      <td>DEG</td>\n",
       "      <td>21-25</td>\n",
       "      <td>Asian or Asian British - Pakistani</td>\n",
       "      <td>Female</td>\n",
       "      <td>Quintile 2</td>\n",
       "      <td>Quintile 1</td>\n",
       "      <td>Quintile 1</td>\n",
       "      <td>Mental health condition</td>\n",
       "      <td>PT</td>\n",
       "      <td>Quintile 221-25Mental health conditionAsian or...</td>\n",
       "      <td>Negative</td>\n",
       "      <td>0.530000</td>\n",
       "      <td>1</td>\n",
       "    </tr>\n",
       "    <tr>\n",
       "      <th>...</th>\n",
       "      <td>...</td>\n",
       "      <td>...</td>\n",
       "      <td>...</td>\n",
       "      <td>...</td>\n",
       "      <td>...</td>\n",
       "      <td>...</td>\n",
       "      <td>...</td>\n",
       "      <td>...</td>\n",
       "      <td>...</td>\n",
       "      <td>...</td>\n",
       "      <td>...</td>\n",
       "      <td>...</td>\n",
       "      <td>...</td>\n",
       "      <td>...</td>\n",
       "    </tr>\n",
       "    <tr>\n",
       "      <th>1375</th>\n",
       "      <td>STU87073</td>\n",
       "      <td>DEG</td>\n",
       "      <td>31-40</td>\n",
       "      <td>White</td>\n",
       "      <td>Male</td>\n",
       "      <td>Quintile 3</td>\n",
       "      <td>Quintile 2</td>\n",
       "      <td>Quintile 2</td>\n",
       "      <td>No disability reported</td>\n",
       "      <td>FT</td>\n",
       "      <td>Quintile 331-40No disability reportedWhiteQuin...</td>\n",
       "      <td>Positive</td>\n",
       "      <td>0.820000</td>\n",
       "      <td>3</td>\n",
       "    </tr>\n",
       "    <tr>\n",
       "      <th>1376</th>\n",
       "      <td>STU70051</td>\n",
       "      <td>DEG</td>\n",
       "      <td>31-40</td>\n",
       "      <td>Black or black British - African</td>\n",
       "      <td>Male</td>\n",
       "      <td>Quintile 4</td>\n",
       "      <td>Quintile 2</td>\n",
       "      <td>Quintile 1</td>\n",
       "      <td>No disability reported</td>\n",
       "      <td>FT</td>\n",
       "      <td>Quintile 431-40No disability reportedBlack or ...</td>\n",
       "      <td>Positive</td>\n",
       "      <td>0.820000</td>\n",
       "      <td>3</td>\n",
       "    </tr>\n",
       "    <tr>\n",
       "      <th>1377</th>\n",
       "      <td>STU58231</td>\n",
       "      <td>DEG</td>\n",
       "      <td>31-40</td>\n",
       "      <td>White</td>\n",
       "      <td>Male</td>\n",
       "      <td>Quintile 2</td>\n",
       "      <td>Quintile 2</td>\n",
       "      <td>Quintile 1</td>\n",
       "      <td>No disability reported</td>\n",
       "      <td>FT</td>\n",
       "      <td>Quintile 231-40No disability reportedWhiteQuin...</td>\n",
       "      <td>Positive</td>\n",
       "      <td>0.820000</td>\n",
       "      <td>3</td>\n",
       "    </tr>\n",
       "    <tr>\n",
       "      <th>1378</th>\n",
       "      <td>STU56997</td>\n",
       "      <td>DEG</td>\n",
       "      <td>31-40</td>\n",
       "      <td>Asian or Asian British - Bangladeshi</td>\n",
       "      <td>Male</td>\n",
       "      <td>Quintile 1</td>\n",
       "      <td>Quintile 1</td>\n",
       "      <td>Quintile 1</td>\n",
       "      <td>No disability reported</td>\n",
       "      <td>FT</td>\n",
       "      <td>Quintile 131-40No disability reportedAsian or ...</td>\n",
       "      <td>Negative</td>\n",
       "      <td>0.820000</td>\n",
       "      <td>3</td>\n",
       "    </tr>\n",
       "    <tr>\n",
       "      <th>1379</th>\n",
       "      <td>STU92648</td>\n",
       "      <td>DEG</td>\n",
       "      <td>31-40</td>\n",
       "      <td>Asian or Asian British - Indian</td>\n",
       "      <td>Male</td>\n",
       "      <td>Quintile 3</td>\n",
       "      <td>Quintile 4</td>\n",
       "      <td>Quintile 5</td>\n",
       "      <td>No disability reported</td>\n",
       "      <td>FT</td>\n",
       "      <td>Quintile 331-40No disability reportedAsian or ...</td>\n",
       "      <td>Positive</td>\n",
       "      <td>0.890000</td>\n",
       "      <td>5</td>\n",
       "    </tr>\n",
       "  </tbody>\n",
       "</table>\n",
       "<p>1380 rows × 14 columns</p>\n",
       "</div>"
      ],
      "text/plain": [
       "     StudentNumber IPLEVEL_x age_on_entry  \\\n",
       "0         STU59079      PGTM        21-25   \n",
       "1         STU59158      PGTM        21-25   \n",
       "2         STU69756      PGTM        21-25   \n",
       "3         STU56579       DEG        21-25   \n",
       "4         STU74215       DEG        21-25   \n",
       "...            ...       ...          ...   \n",
       "1375      STU87073       DEG        31-40   \n",
       "1376      STU70051       DEG        31-40   \n",
       "1377      STU58231       DEG        31-40   \n",
       "1378      STU56997       DEG        31-40   \n",
       "1379      STU92648       DEG        31-40   \n",
       "\n",
       "                       ethnicity_16_groups     sex  \\\n",
       "0                                    White  Female   \n",
       "1                                    White  Female   \n",
       "2                                    White  Female   \n",
       "3                                    White  Female   \n",
       "4       Asian or Asian British - Pakistani  Female   \n",
       "...                                    ...     ...   \n",
       "1375                                 White    Male   \n",
       "1376      Black or black British - African    Male   \n",
       "1377                                 White    Male   \n",
       "1378  Asian or Asian British - Bangladeshi    Male   \n",
       "1379       Asian or Asian British - Indian    Male   \n",
       "\n",
       "     adult_he_2011_quintile_desc    imd_desc  idaci_desc  \\\n",
       "0                     Quintile 3  Quintile 2  Quintile 4   \n",
       "1                     Quintile 2  Quintile 3  Quintile 4   \n",
       "2                     Quintile 3  Quintile 2  Quintile 2   \n",
       "3                     Quintile 1  Quintile 1  Quintile 1   \n",
       "4                     Quintile 2  Quintile 1  Quintile 1   \n",
       "...                          ...         ...         ...   \n",
       "1375                  Quintile 3  Quintile 2  Quintile 2   \n",
       "1376                  Quintile 4  Quintile 2  Quintile 1   \n",
       "1377                  Quintile 2  Quintile 2  Quintile 1   \n",
       "1378                  Quintile 1  Quintile 1  Quintile 1   \n",
       "1379                  Quintile 3  Quintile 4  Quintile 5   \n",
       "\n",
       "                               disability_type IPSTARTMODE  \\\n",
       "0     Sensory, medical or physical impairments          PT   \n",
       "1     Sensory, medical or physical impairments          PT   \n",
       "2           Social or communication impairment          PT   \n",
       "3                      Mental health condition          PT   \n",
       "4                      Mental health condition          PT   \n",
       "...                                        ...         ...   \n",
       "1375                    No disability reported          FT   \n",
       "1376                    No disability reported          FT   \n",
       "1377                    No disability reported          FT   \n",
       "1378                    No disability reported          FT   \n",
       "1379                    No disability reported          FT   \n",
       "\n",
       "                                    Concatenated_column Actual_Outcome  \\\n",
       "0     Quintile 321-25Sensory, medical or physical im...       Positive   \n",
       "1     Quintile 221-25Sensory, medical or physical im...       Negative   \n",
       "2     Quintile 321-25Social or communication impairm...       Positive   \n",
       "3     Quintile 121-25Mental health conditionWhiteQui...       Negative   \n",
       "4     Quintile 221-25Mental health conditionAsian or...       Negative   \n",
       "...                                                 ...            ...   \n",
       "1375  Quintile 331-40No disability reportedWhiteQuin...       Positive   \n",
       "1376  Quintile 431-40No disability reportedBlack or ...       Positive   \n",
       "1377  Quintile 231-40No disability reportedWhiteQuin...       Positive   \n",
       "1378  Quintile 131-40No disability reportedAsian or ...       Negative   \n",
       "1379  Quintile 331-40No disability reportedAsian or ...       Positive   \n",
       "\n",
       "     Predicted_outcome_rate  Derived_progression_quintile  \n",
       "0                  0.730000                             1  \n",
       "1                  0.750000                             1  \n",
       "2                  0.660000                             1  \n",
       "3                  0.600000                             1  \n",
       "4                  0.530000                             1  \n",
       "...                     ...                           ...  \n",
       "1375               0.820000                             3  \n",
       "1376               0.820000                             3  \n",
       "1377               0.820000                             3  \n",
       "1378               0.820000                             3  \n",
       "1379               0.890000                             5  \n",
       "\n",
       "[1380 rows x 14 columns]"
      ]
     },
     "execution_count": 308,
     "metadata": {},
     "output_type": "execute_result"
    }
   ],
   "source": [
    "combined_df"
   ]
  },
  {
   "cell_type": "markdown",
   "id": "22e52bf6-d3f0-4705-88c2-8d028d8681bd",
   "metadata": {
    "microsoft": {
     "language": "python",
     "language_group": "synapse_pyspark"
    },
    "nteract": {
     "transient": {
      "deleting": false
     }
    }
   },
   "source": [
    "**Sorting the data in ascending by 'Predicted_outcome_rate'**"
   ]
  },
  {
   "cell_type": "code",
   "execution_count": 102,
   "id": "52c831bf-86e4-447a-a37e-ad9f3319c6a0",
   "metadata": {
    "jupyter": {
     "outputs_hidden": false,
     "source_hidden": false
    },
    "microsoft": {
     "language": "python",
     "language_group": "synapse_pyspark"
    },
    "nteract": {
     "transient": {
      "deleting": false
     }
    }
   },
   "outputs": [
    {
     "data": {
      "application/vnd.livy.statement-meta+json": {
       "execution_finish_time": "2024-12-04T10:42:54.5052393Z",
       "execution_start_time": "2024-12-04T10:42:54.2433704Z",
       "livy_statement_state": "available",
       "normalized_state": "finished",
       "parent_msg_id": "5ae1a6bd-5169-42e9-8a1e-75f15132ee92",
       "queued_time": "2024-12-04T10:42:53.7363077Z",
       "session_id": "c3362933-4b99-4fc4-b98a-e8b07e6c5a39",
       "session_start_time": null,
       "spark_pool": null,
       "state": "finished",
       "statement_id": 104,
       "statement_ids": [
        104
       ]
      },
      "text/plain": [
       "StatementMeta(, c3362933-4b99-4fc4-b98a-e8b07e6c5a39, 104, Finished, Available, Finished)"
      ]
     },
     "metadata": {},
     "output_type": "display_data"
    },
    {
     "data": {
      "text/html": [
       "<div>\n",
       "<style scoped>\n",
       "    .dataframe tbody tr th:only-of-type {\n",
       "        vertical-align: middle;\n",
       "    }\n",
       "\n",
       "    .dataframe tbody tr th {\n",
       "        vertical-align: top;\n",
       "    }\n",
       "\n",
       "    .dataframe thead th {\n",
       "        text-align: right;\n",
       "    }\n",
       "</style>\n",
       "<table border=\"1\" class=\"dataframe\">\n",
       "  <thead>\n",
       "    <tr style=\"text-align: right;\">\n",
       "      <th></th>\n",
       "      <th>StudentNumber</th>\n",
       "      <th>IPLEVEL_x</th>\n",
       "      <th>age_on_entry</th>\n",
       "      <th>ethnicity_16_groups</th>\n",
       "      <th>sex</th>\n",
       "      <th>adult_he_2011_quintile_desc</th>\n",
       "      <th>imd_desc</th>\n",
       "      <th>idaci_desc</th>\n",
       "      <th>disability_type</th>\n",
       "      <th>IPSTARTMODE</th>\n",
       "      <th>Concatenated_column</th>\n",
       "      <th>Actual_Outcome</th>\n",
       "      <th>Predicted_outcome_rate</th>\n",
       "      <th>Derived_progression_quintile</th>\n",
       "    </tr>\n",
       "  </thead>\n",
       "  <tbody>\n",
       "    <tr>\n",
       "      <th>533</th>\n",
       "      <td>STU96605</td>\n",
       "      <td>OPGT</td>\n",
       "      <td>31-40</td>\n",
       "      <td>Asian or Asian British - Bangladeshi</td>\n",
       "      <td>Female</td>\n",
       "      <td>Quintile 3</td>\n",
       "      <td>Quintile 3</td>\n",
       "      <td>Quintile 3</td>\n",
       "      <td>No disability reported</td>\n",
       "      <td>PT</td>\n",
       "      <td>Quintile 331-40No disability reportedAsian or ...</td>\n",
       "      <td>Positive</td>\n",
       "      <td>0.490000</td>\n",
       "      <td>1</td>\n",
       "    </tr>\n",
       "    <tr>\n",
       "      <th>4</th>\n",
       "      <td>STU74215</td>\n",
       "      <td>DEG</td>\n",
       "      <td>21-25</td>\n",
       "      <td>Asian or Asian British - Pakistani</td>\n",
       "      <td>Female</td>\n",
       "      <td>Quintile 2</td>\n",
       "      <td>Quintile 1</td>\n",
       "      <td>Quintile 1</td>\n",
       "      <td>Mental health condition</td>\n",
       "      <td>PT</td>\n",
       "      <td>Quintile 221-25Mental health conditionAsian or...</td>\n",
       "      <td>Negative</td>\n",
       "      <td>0.530000</td>\n",
       "      <td>1</td>\n",
       "    </tr>\n",
       "    <tr>\n",
       "      <th>535</th>\n",
       "      <td>STU97006</td>\n",
       "      <td>OPGT</td>\n",
       "      <td>31-40</td>\n",
       "      <td>Asian or Asian British - Bangladeshi</td>\n",
       "      <td>Female</td>\n",
       "      <td>Quintile 5</td>\n",
       "      <td>Quintile 3</td>\n",
       "      <td>Quintile 3</td>\n",
       "      <td>No disability reported</td>\n",
       "      <td>PT</td>\n",
       "      <td>Quintile 531-40No disability reportedAsian or ...</td>\n",
       "      <td>Positive</td>\n",
       "      <td>0.530000</td>\n",
       "      <td>1</td>\n",
       "    </tr>\n",
       "    <tr>\n",
       "      <th>537</th>\n",
       "      <td>STU48198</td>\n",
       "      <td>OUG</td>\n",
       "      <td>31-40</td>\n",
       "      <td>Asian or Asian British - Bangladeshi</td>\n",
       "      <td>Female</td>\n",
       "      <td>Quintile 1</td>\n",
       "      <td>Quintile 4</td>\n",
       "      <td>Quintile 4</td>\n",
       "      <td>No disability reported</td>\n",
       "      <td>PT</td>\n",
       "      <td>Quintile 131-40No disability reportedAsian or ...</td>\n",
       "      <td>Negative</td>\n",
       "      <td>0.550000</td>\n",
       "      <td>1</td>\n",
       "    </tr>\n",
       "    <tr>\n",
       "      <th>1172</th>\n",
       "      <td>STU57272</td>\n",
       "      <td>DEG</td>\n",
       "      <td>21-25</td>\n",
       "      <td>Asian or Asian British - Pakistani</td>\n",
       "      <td>Female</td>\n",
       "      <td>Quintile 1</td>\n",
       "      <td>Quintile 1</td>\n",
       "      <td>Quintile 2</td>\n",
       "      <td>No disability reported</td>\n",
       "      <td>FT</td>\n",
       "      <td>Quintile 121-25No disability reportedAsian or ...</td>\n",
       "      <td>Negative</td>\n",
       "      <td>0.550000</td>\n",
       "      <td>1</td>\n",
       "    </tr>\n",
       "    <tr>\n",
       "      <th>...</th>\n",
       "      <td>...</td>\n",
       "      <td>...</td>\n",
       "      <td>...</td>\n",
       "      <td>...</td>\n",
       "      <td>...</td>\n",
       "      <td>...</td>\n",
       "      <td>...</td>\n",
       "      <td>...</td>\n",
       "      <td>...</td>\n",
       "      <td>...</td>\n",
       "      <td>...</td>\n",
       "      <td>...</td>\n",
       "      <td>...</td>\n",
       "      <td>...</td>\n",
       "    </tr>\n",
       "    <tr>\n",
       "      <th>755</th>\n",
       "      <td>STU66494</td>\n",
       "      <td>DEG</td>\n",
       "      <td>51+</td>\n",
       "      <td>Black or black British - African</td>\n",
       "      <td>Female</td>\n",
       "      <td>Quintile 5</td>\n",
       "      <td>Quintile 3</td>\n",
       "      <td>Quintile 5</td>\n",
       "      <td>Sensory, medical or physical impairments</td>\n",
       "      <td>FT</td>\n",
       "      <td>Quintile 551+Sensory, medical or physical impa...</td>\n",
       "      <td>Negative</td>\n",
       "      <td>0.940000</td>\n",
       "      <td>5</td>\n",
       "    </tr>\n",
       "    <tr>\n",
       "      <th>181</th>\n",
       "      <td>STU50546</td>\n",
       "      <td>PGTM</td>\n",
       "      <td>26-30</td>\n",
       "      <td>Black or black British - African</td>\n",
       "      <td>Male</td>\n",
       "      <td>Quintile 5</td>\n",
       "      <td>Quintile 5</td>\n",
       "      <td>Quintile 5</td>\n",
       "      <td>No disability reported</td>\n",
       "      <td>PT</td>\n",
       "      <td>Quintile 526-30No disability reportedBlack or ...</td>\n",
       "      <td>Positive</td>\n",
       "      <td>0.940000</td>\n",
       "      <td>5</td>\n",
       "    </tr>\n",
       "    <tr>\n",
       "      <th>901</th>\n",
       "      <td>STU59347</td>\n",
       "      <td>DEG</td>\n",
       "      <td>51+</td>\n",
       "      <td>Black or black British - African</td>\n",
       "      <td>Male</td>\n",
       "      <td>Quintile 3</td>\n",
       "      <td>Quintile 4</td>\n",
       "      <td>Quintile 5</td>\n",
       "      <td>No disability reported</td>\n",
       "      <td>FT</td>\n",
       "      <td>Quintile 351+No disability reportedBlack or bl...</td>\n",
       "      <td>Positive</td>\n",
       "      <td>0.950000</td>\n",
       "      <td>5</td>\n",
       "    </tr>\n",
       "    <tr>\n",
       "      <th>889</th>\n",
       "      <td>STU68299</td>\n",
       "      <td>DEG</td>\n",
       "      <td>51+</td>\n",
       "      <td>Black or black British - African</td>\n",
       "      <td>Female</td>\n",
       "      <td>Quintile 5</td>\n",
       "      <td>Quintile 5</td>\n",
       "      <td>Quintile 5</td>\n",
       "      <td>No disability reported</td>\n",
       "      <td>FT</td>\n",
       "      <td>Quintile 551+No disability reportedBlack or bl...</td>\n",
       "      <td>Positive</td>\n",
       "      <td>0.950000</td>\n",
       "      <td>5</td>\n",
       "    </tr>\n",
       "    <tr>\n",
       "      <th>126</th>\n",
       "      <td>STU58791</td>\n",
       "      <td>PGTM</td>\n",
       "      <td>51+</td>\n",
       "      <td>Black or black British - African</td>\n",
       "      <td>Male</td>\n",
       "      <td>Quintile 5</td>\n",
       "      <td>Quintile 5</td>\n",
       "      <td>Quintile 5</td>\n",
       "      <td>No disability reported</td>\n",
       "      <td>PT</td>\n",
       "      <td>Quintile 551+No disability reportedBlack or bl...</td>\n",
       "      <td>Positive</td>\n",
       "      <td>0.960000</td>\n",
       "      <td>5</td>\n",
       "    </tr>\n",
       "  </tbody>\n",
       "</table>\n",
       "<p>1380 rows × 14 columns</p>\n",
       "</div>"
      ],
      "text/plain": [
       "     StudentNumber IPLEVEL_x age_on_entry  \\\n",
       "533       STU96605      OPGT        31-40   \n",
       "4         STU74215       DEG        21-25   \n",
       "535       STU97006      OPGT        31-40   \n",
       "537       STU48198       OUG        31-40   \n",
       "1172      STU57272       DEG        21-25   \n",
       "...            ...       ...          ...   \n",
       "755       STU66494       DEG          51+   \n",
       "181       STU50546      PGTM        26-30   \n",
       "901       STU59347       DEG          51+   \n",
       "889       STU68299       DEG          51+   \n",
       "126       STU58791      PGTM          51+   \n",
       "\n",
       "                       ethnicity_16_groups     sex  \\\n",
       "533   Asian or Asian British - Bangladeshi  Female   \n",
       "4       Asian or Asian British - Pakistani  Female   \n",
       "535   Asian or Asian British - Bangladeshi  Female   \n",
       "537   Asian or Asian British - Bangladeshi  Female   \n",
       "1172    Asian or Asian British - Pakistani  Female   \n",
       "...                                    ...     ...   \n",
       "755       Black or black British - African  Female   \n",
       "181       Black or black British - African    Male   \n",
       "901       Black or black British - African    Male   \n",
       "889       Black or black British - African  Female   \n",
       "126       Black or black British - African    Male   \n",
       "\n",
       "     adult_he_2011_quintile_desc    imd_desc  idaci_desc  \\\n",
       "533                   Quintile 3  Quintile 3  Quintile 3   \n",
       "4                     Quintile 2  Quintile 1  Quintile 1   \n",
       "535                   Quintile 5  Quintile 3  Quintile 3   \n",
       "537                   Quintile 1  Quintile 4  Quintile 4   \n",
       "1172                  Quintile 1  Quintile 1  Quintile 2   \n",
       "...                          ...         ...         ...   \n",
       "755                   Quintile 5  Quintile 3  Quintile 5   \n",
       "181                   Quintile 5  Quintile 5  Quintile 5   \n",
       "901                   Quintile 3  Quintile 4  Quintile 5   \n",
       "889                   Quintile 5  Quintile 5  Quintile 5   \n",
       "126                   Quintile 5  Quintile 5  Quintile 5   \n",
       "\n",
       "                               disability_type IPSTARTMODE  \\\n",
       "533                     No disability reported          PT   \n",
       "4                      Mental health condition          PT   \n",
       "535                     No disability reported          PT   \n",
       "537                     No disability reported          PT   \n",
       "1172                    No disability reported          FT   \n",
       "...                                        ...         ...   \n",
       "755   Sensory, medical or physical impairments          FT   \n",
       "181                     No disability reported          PT   \n",
       "901                     No disability reported          FT   \n",
       "889                     No disability reported          FT   \n",
       "126                     No disability reported          PT   \n",
       "\n",
       "                                    Concatenated_column Actual_Outcome  \\\n",
       "533   Quintile 331-40No disability reportedAsian or ...       Positive   \n",
       "4     Quintile 221-25Mental health conditionAsian or...       Negative   \n",
       "535   Quintile 531-40No disability reportedAsian or ...       Positive   \n",
       "537   Quintile 131-40No disability reportedAsian or ...       Negative   \n",
       "1172  Quintile 121-25No disability reportedAsian or ...       Negative   \n",
       "...                                                 ...            ...   \n",
       "755   Quintile 551+Sensory, medical or physical impa...       Negative   \n",
       "181   Quintile 526-30No disability reportedBlack or ...       Positive   \n",
       "901   Quintile 351+No disability reportedBlack or bl...       Positive   \n",
       "889   Quintile 551+No disability reportedBlack or bl...       Positive   \n",
       "126   Quintile 551+No disability reportedBlack or bl...       Positive   \n",
       "\n",
       "     Predicted_outcome_rate  Derived_progression_quintile  \n",
       "533                0.490000                             1  \n",
       "4                  0.530000                             1  \n",
       "535                0.530000                             1  \n",
       "537                0.550000                             1  \n",
       "1172               0.550000                             1  \n",
       "...                     ...                           ...  \n",
       "755                0.940000                             5  \n",
       "181                0.940000                             5  \n",
       "901                0.950000                             5  \n",
       "889                0.950000                             5  \n",
       "126                0.960000                             5  \n",
       "\n",
       "[1380 rows x 14 columns]"
      ]
     },
     "execution_count": 311,
     "metadata": {},
     "output_type": "execute_result"
    }
   ],
   "source": [
    "dfp1_sorted=combined_df.sort_values(by='Predicted_outcome_rate')\n",
    "dfp1_sorted"
   ]
  },
  {
   "cell_type": "markdown",
   "id": "902c717a-1925-43b2-ba21-1d272851ea6f",
   "metadata": {
    "microsoft": {
     "language": "python",
     "language_group": "synapse_pyspark"
    },
    "nteract": {
     "transient": {
      "deleting": false
     }
    }
   },
   "source": [
    "**We observed the categories of features influencing our positive and negative progression classes by sorting the progression rates in ascending order and analyzing which categories of characteristics have the greatest impact on either a negative or positive progression rate:**\n",
    "\n",
    "Top 30- top 100-top 200: \n",
    "\n",
    "    Adult HE Quintile: Quintile 1 has greater impact towards negative progression rate.\n",
    "\n",
    "    IMD: Quintile 1 has greater impact towards negative progression rate.\n",
    "\n",
    "\tIDACI: Quintile 1 has greater impact towards negative progression rate.\n",
    "\n",
    "\tAge: '21-25’ has greater impact towards negative progression rate.\n",
    "\n",
    "Bottom 30-Bottom 100-Bottom 200:\n",
    "\n",
    "\tAdult HE Quintile: Quintile 5 has greater impact towards positive progression rate.\n",
    "\n",
    "\tIMD: Quintile 5 has greater impact towards positive progression rate.\n",
    "\n",
    "\tIDACI: Quintile 5 has greater impact towards positive progression rate.\n",
    "\n",
    "\tAge: '51+’ has greater impact towards positive progression rate."
   ]
  },
  {
   "cell_type": "markdown",
   "id": "81acf838-65fa-494e-942c-210e553f0b66",
   "metadata": {
    "microsoft": {
     "language": "python",
     "language_group": "synapse_pyspark"
    },
    "nteract": {
     "transient": {
      "deleting": false
     }
    }
   },
   "source": [
    "<mark>TOP30</mark>"
   ]
  },
  {
   "cell_type": "markdown",
   "id": "6ac9e3d4-7351-451c-b86f-737b74cc08e9",
   "metadata": {
    "microsoft": {
     "language": "python",
     "language_group": "synapse_pyspark"
    },
    "nteract": {
     "transient": {
      "deleting": false
     }
    }
   },
   "source": [
    "**Selecting top 30 rows from the dataframe**"
   ]
  },
  {
   "cell_type": "code",
   "execution_count": 103,
   "id": "7da2708e-0d06-468d-b549-06afb6490f00",
   "metadata": {
    "jupyter": {
     "outputs_hidden": false,
     "source_hidden": false
    },
    "microsoft": {
     "language": "python",
     "language_group": "synapse_pyspark"
    },
    "nteract": {
     "transient": {
      "deleting": false
     }
    }
   },
   "outputs": [
    {
     "data": {
      "application/vnd.livy.statement-meta+json": {
       "execution_finish_time": "2024-12-04T10:42:59.1392023Z",
       "execution_start_time": "2024-12-04T10:42:58.8508039Z",
       "livy_statement_state": "available",
       "normalized_state": "finished",
       "parent_msg_id": "01b3bd32-5385-4e65-8d91-b86bb70ee4d6",
       "queued_time": "2024-12-04T10:42:58.3407234Z",
       "session_id": "c3362933-4b99-4fc4-b98a-e8b07e6c5a39",
       "session_start_time": null,
       "spark_pool": null,
       "state": "finished",
       "statement_id": 105,
       "statement_ids": [
        105
       ]
      },
      "text/plain": [
       "StatementMeta(, c3362933-4b99-4fc4-b98a-e8b07e6c5a39, 105, Finished, Available, Finished)"
      ]
     },
     "metadata": {},
     "output_type": "display_data"
    },
    {
     "data": {
      "text/plain": [
       "30"
      ]
     },
     "execution_count": 314,
     "metadata": {},
     "output_type": "execute_result"
    }
   ],
   "source": [
    "dfp1_sorted_top30=dfp1_sorted.head(30)\n",
    "len(dfp1_sorted_top30)"
   ]
  },
  {
   "cell_type": "markdown",
   "id": "c32da4cf-003a-44f7-816e-082711c5f5f7",
   "metadata": {
    "microsoft": {
     "language": "python",
     "language_group": "synapse_pyspark"
    },
    "nteract": {
     "transient": {
      "deleting": false
     }
    }
   },
   "source": [
    "**Value counts for 'age_on_entry' column**"
   ]
  },
  {
   "cell_type": "code",
   "execution_count": 104,
   "id": "dd89d2b5-eab7-4508-9a49-a5294839ca9a",
   "metadata": {
    "jupyter": {
     "outputs_hidden": false,
     "source_hidden": false
    },
    "microsoft": {
     "language": "python",
     "language_group": "synapse_pyspark"
    },
    "nteract": {
     "transient": {
      "deleting": false
     }
    }
   },
   "outputs": [
    {
     "data": {
      "application/vnd.livy.statement-meta+json": {
       "execution_finish_time": "2024-12-04T10:43:04.5510667Z",
       "execution_start_time": "2024-12-04T10:43:04.2879167Z",
       "livy_statement_state": "available",
       "normalized_state": "finished",
       "parent_msg_id": "18bc55f0-5db4-47b8-a4ea-638cc7d44914",
       "queued_time": "2024-12-04T10:43:03.753795Z",
       "session_id": "c3362933-4b99-4fc4-b98a-e8b07e6c5a39",
       "session_start_time": null,
       "spark_pool": null,
       "state": "finished",
       "statement_id": 106,
       "statement_ids": [
        106
       ]
      },
      "text/plain": [
       "StatementMeta(, c3362933-4b99-4fc4-b98a-e8b07e6c5a39, 106, Finished, Available, Finished)"
      ]
     },
     "metadata": {},
     "output_type": "display_data"
    },
    {
     "name": "stdout",
     "output_type": "stream",
     "text": [
      "age_on_entry\n",
      "21-25    15\n",
      "31-40    11\n",
      "26-30     2\n",
      "41-50     2\n",
      "Name: count, dtype: int64\n"
     ]
    }
   ],
   "source": [
    "age_on_entry_value_counts = dfp1_sorted_top30['age_on_entry'].value_counts()\n",
    "print(age_on_entry_value_counts)"
   ]
  },
  {
   "cell_type": "markdown",
   "id": "59e202e1-1e55-4e05-b27a-7e9ab858a72d",
   "metadata": {
    "microsoft": {
     "language": "python",
     "language_group": "synapse_pyspark"
    },
    "nteract": {
     "transient": {
      "deleting": false
     }
    }
   },
   "source": [
    "**Value counts for 'ethnicity_16_groups' column**"
   ]
  },
  {
   "cell_type": "code",
   "execution_count": 105,
   "id": "e1be3556-1440-4b71-974e-5a6a1ff55e7c",
   "metadata": {
    "jupyter": {
     "outputs_hidden": false,
     "source_hidden": false
    },
    "microsoft": {
     "language": "python",
     "language_group": "synapse_pyspark"
    },
    "nteract": {
     "transient": {
      "deleting": false
     }
    }
   },
   "outputs": [
    {
     "data": {
      "application/vnd.livy.statement-meta+json": {
       "execution_finish_time": "2024-12-04T10:43:09.5213771Z",
       "execution_start_time": "2024-12-04T10:43:09.2124482Z",
       "livy_statement_state": "available",
       "normalized_state": "finished",
       "parent_msg_id": "4575f465-21cb-4565-bb53-bed1aea5b072",
       "queued_time": "2024-12-04T10:43:08.7031073Z",
       "session_id": "c3362933-4b99-4fc4-b98a-e8b07e6c5a39",
       "session_start_time": null,
       "spark_pool": null,
       "state": "finished",
       "statement_id": 107,
       "statement_ids": [
        107
       ]
      },
      "text/plain": [
       "StatementMeta(, c3362933-4b99-4fc4-b98a-e8b07e6c5a39, 107, Finished, Available, Finished)"
      ]
     },
     "metadata": {},
     "output_type": "display_data"
    },
    {
     "name": "stdout",
     "output_type": "stream",
     "text": [
      "ethnicity_16_groups\n",
      "Asian or Asian British - Pakistani      13\n",
      "Other ethnic group                       4\n",
      "Black or black British - African         4\n",
      "Asian or Asian British - Bangladeshi     3\n",
      "Mixed - white and black African          2\n",
      "White                                    2\n",
      "Black or black British - Caribbean       1\n",
      "Mixed - white and Asian                  1\n",
      "Name: count, dtype: int64\n"
     ]
    }
   ],
   "source": [
    "ethnicity_16_groups_value_counts = dfp1_sorted_top30['ethnicity_16_groups'].value_counts()\n",
    "print(ethnicity_16_groups_value_counts)"
   ]
  },
  {
   "cell_type": "markdown",
   "id": "0a35551a-bcd9-424a-9479-7a6009e15a96",
   "metadata": {
    "microsoft": {
     "language": "python",
     "language_group": "synapse_pyspark"
    },
    "nteract": {
     "transient": {
      "deleting": false
     }
    }
   },
   "source": [
    "**Value counts for 'sex' column**"
   ]
  },
  {
   "cell_type": "code",
   "execution_count": 106,
   "id": "cd748871-684c-4876-bdc2-997490364b1d",
   "metadata": {
    "jupyter": {
     "outputs_hidden": false,
     "source_hidden": false
    },
    "microsoft": {
     "language": "python",
     "language_group": "synapse_pyspark"
    },
    "nteract": {
     "transient": {
      "deleting": false
     }
    }
   },
   "outputs": [
    {
     "data": {
      "application/vnd.livy.statement-meta+json": {
       "execution_finish_time": "2024-12-04T10:43:13.427865Z",
       "execution_start_time": "2024-12-04T10:43:13.1781369Z",
       "livy_statement_state": "available",
       "normalized_state": "finished",
       "parent_msg_id": "9b713a56-fd1f-4d8e-88ce-1b41724462a0",
       "queued_time": "2024-12-04T10:43:12.6712958Z",
       "session_id": "c3362933-4b99-4fc4-b98a-e8b07e6c5a39",
       "session_start_time": null,
       "spark_pool": null,
       "state": "finished",
       "statement_id": 108,
       "statement_ids": [
        108
       ]
      },
      "text/plain": [
       "StatementMeta(, c3362933-4b99-4fc4-b98a-e8b07e6c5a39, 108, Finished, Available, Finished)"
      ]
     },
     "metadata": {},
     "output_type": "display_data"
    },
    {
     "name": "stdout",
     "output_type": "stream",
     "text": [
      "sex\n",
      "Female    19\n",
      "Male      11\n",
      "Name: count, dtype: int64\n"
     ]
    }
   ],
   "source": [
    "sex_value_counts = dfp1_sorted_top30['sex'].value_counts()\n",
    "print(sex_value_counts)"
   ]
  },
  {
   "cell_type": "markdown",
   "id": "3df560a8-eeef-48ed-92b2-0d1eca9cde93",
   "metadata": {
    "microsoft": {
     "language": "python",
     "language_group": "synapse_pyspark"
    },
    "nteract": {
     "transient": {
      "deleting": false
     }
    }
   },
   "source": [
    "**Value counts for 'adult_he_2011_quintile_desc' column**"
   ]
  },
  {
   "cell_type": "code",
   "execution_count": 107,
   "id": "9828dba2-aa33-49cd-82e0-1655314664b5",
   "metadata": {
    "jupyter": {
     "outputs_hidden": false,
     "source_hidden": false
    },
    "microsoft": {
     "language": "python",
     "language_group": "synapse_pyspark"
    },
    "nteract": {
     "transient": {
      "deleting": false
     }
    }
   },
   "outputs": [
    {
     "data": {
      "application/vnd.livy.statement-meta+json": {
       "execution_finish_time": "2024-12-04T10:43:17.6113971Z",
       "execution_start_time": "2024-12-04T10:43:17.3531246Z",
       "livy_statement_state": "available",
       "normalized_state": "finished",
       "parent_msg_id": "74bd4fb6-4854-40f0-94bc-b16474a066ae",
       "queued_time": "2024-12-04T10:43:16.8922294Z",
       "session_id": "c3362933-4b99-4fc4-b98a-e8b07e6c5a39",
       "session_start_time": null,
       "spark_pool": null,
       "state": "finished",
       "statement_id": 109,
       "statement_ids": [
        109
       ]
      },
      "text/plain": [
       "StatementMeta(, c3362933-4b99-4fc4-b98a-e8b07e6c5a39, 109, Finished, Available, Finished)"
      ]
     },
     "metadata": {},
     "output_type": "display_data"
    },
    {
     "name": "stdout",
     "output_type": "stream",
     "text": [
      "adult_he_2011_quintile_desc\n",
      "Quintile 1    14\n",
      "Quintile 2     8\n",
      "Quintile 5     4\n",
      "Quintile 3     3\n",
      "Quintile 4     1\n",
      "Name: count, dtype: int64\n"
     ]
    }
   ],
   "source": [
    "adult_he_2011_quintile_desc_value_counts = dfp1_sorted_top30['adult_he_2011_quintile_desc'].value_counts()\n",
    "print(adult_he_2011_quintile_desc_value_counts)"
   ]
  },
  {
   "cell_type": "markdown",
   "id": "938ad611-f4f2-4fa2-b4de-6b58f2ee08b6",
   "metadata": {
    "microsoft": {
     "language": "python",
     "language_group": "synapse_pyspark"
    },
    "nteract": {
     "transient": {
      "deleting": false
     }
    }
   },
   "source": [
    "**Value counts for 'imd_desc' column**"
   ]
  },
  {
   "cell_type": "code",
   "execution_count": 108,
   "id": "09b7c260-5be5-408c-b3ec-f61da51ac617",
   "metadata": {
    "jupyter": {
     "outputs_hidden": false,
     "source_hidden": false
    },
    "microsoft": {
     "language": "python",
     "language_group": "synapse_pyspark"
    },
    "nteract": {
     "transient": {
      "deleting": false
     }
    }
   },
   "outputs": [
    {
     "data": {
      "application/vnd.livy.statement-meta+json": {
       "execution_finish_time": "2024-12-04T10:43:22.0828838Z",
       "execution_start_time": "2024-12-04T10:43:21.8348464Z",
       "livy_statement_state": "available",
       "normalized_state": "finished",
       "parent_msg_id": "24fa439c-841f-4926-a1bf-65ad2fe1c29a",
       "queued_time": "2024-12-04T10:43:21.2705737Z",
       "session_id": "c3362933-4b99-4fc4-b98a-e8b07e6c5a39",
       "session_start_time": null,
       "spark_pool": null,
       "state": "finished",
       "statement_id": 110,
       "statement_ids": [
        110
       ]
      },
      "text/plain": [
       "StatementMeta(, c3362933-4b99-4fc4-b98a-e8b07e6c5a39, 110, Finished, Available, Finished)"
      ]
     },
     "metadata": {},
     "output_type": "display_data"
    },
    {
     "name": "stdout",
     "output_type": "stream",
     "text": [
      "imd_desc\n",
      "Quintile 1    16\n",
      "Quintile 3     5\n",
      "Quintile 2     5\n",
      "Quintile 4     2\n",
      "Quintile 5     2\n",
      "Name: count, dtype: int64\n"
     ]
    }
   ],
   "source": [
    "imd_desc_value_counts = dfp1_sorted_top30['imd_desc'].value_counts()\n",
    "print(imd_desc_value_counts)"
   ]
  },
  {
   "cell_type": "markdown",
   "id": "92ab3627-f481-4012-b7b1-96dc45937f28",
   "metadata": {
    "microsoft": {
     "language": "python",
     "language_group": "synapse_pyspark"
    },
    "nteract": {
     "transient": {
      "deleting": false
     }
    }
   },
   "source": [
    "**Value counts for 'idaci_desc' column**"
   ]
  },
  {
   "cell_type": "code",
   "execution_count": 109,
   "id": "47b82d50-9705-432c-831a-76a2626697ac",
   "metadata": {
    "jupyter": {
     "outputs_hidden": false,
     "source_hidden": false
    },
    "microsoft": {
     "language": "python",
     "language_group": "synapse_pyspark"
    },
    "nteract": {
     "transient": {
      "deleting": false
     }
    }
   },
   "outputs": [
    {
     "data": {
      "application/vnd.livy.statement-meta+json": {
       "execution_finish_time": "2024-12-04T10:43:26.9056337Z",
       "execution_start_time": "2024-12-04T10:43:26.6439932Z",
       "livy_statement_state": "available",
       "normalized_state": "finished",
       "parent_msg_id": "5972e1a5-c2e2-46c2-86b9-738460521ac8",
       "queued_time": "2024-12-04T10:43:26.162106Z",
       "session_id": "c3362933-4b99-4fc4-b98a-e8b07e6c5a39",
       "session_start_time": null,
       "spark_pool": null,
       "state": "finished",
       "statement_id": 111,
       "statement_ids": [
        111
       ]
      },
      "text/plain": [
       "StatementMeta(, c3362933-4b99-4fc4-b98a-e8b07e6c5a39, 111, Finished, Available, Finished)"
      ]
     },
     "metadata": {},
     "output_type": "display_data"
    },
    {
     "name": "stdout",
     "output_type": "stream",
     "text": [
      "idaci_desc\n",
      "Quintile 1    15\n",
      "Quintile 3     4\n",
      "Quintile 2     4\n",
      "Quintile 5     4\n",
      "Quintile 4     3\n",
      "Name: count, dtype: int64\n"
     ]
    }
   ],
   "source": [
    "idaci_desc_value_counts = dfp1_sorted_top30['idaci_desc'].value_counts()\n",
    "print(idaci_desc_value_counts)"
   ]
  },
  {
   "cell_type": "markdown",
   "id": "2d8a19e9-0c69-4d40-8240-a89e55afbd51",
   "metadata": {
    "microsoft": {
     "language": "python",
     "language_group": "synapse_pyspark"
    },
    "nteract": {
     "transient": {
      "deleting": false
     }
    }
   },
   "source": [
    "**Value counts for 'disability_type' column**"
   ]
  },
  {
   "cell_type": "code",
   "execution_count": 110,
   "id": "f0ea27af-37e9-4019-94ec-85b63de49949",
   "metadata": {
    "jupyter": {
     "outputs_hidden": false,
     "source_hidden": false
    },
    "microsoft": {
     "language": "python",
     "language_group": "synapse_pyspark"
    },
    "nteract": {
     "transient": {
      "deleting": false
     }
    }
   },
   "outputs": [
    {
     "data": {
      "application/vnd.livy.statement-meta+json": {
       "execution_finish_time": "2024-12-04T10:43:30.8205676Z",
       "execution_start_time": "2024-12-04T10:43:30.5185174Z",
       "livy_statement_state": "available",
       "normalized_state": "finished",
       "parent_msg_id": "c1ae5375-cbc1-4305-9f18-406bc99c5614",
       "queued_time": "2024-12-04T10:43:29.9969721Z",
       "session_id": "c3362933-4b99-4fc4-b98a-e8b07e6c5a39",
       "session_start_time": null,
       "spark_pool": null,
       "state": "finished",
       "statement_id": 112,
       "statement_ids": [
        112
       ]
      },
      "text/plain": [
       "StatementMeta(, c3362933-4b99-4fc4-b98a-e8b07e6c5a39, 112, Finished, Available, Finished)"
      ]
     },
     "metadata": {},
     "output_type": "display_data"
    },
    {
     "name": "stdout",
     "output_type": "stream",
     "text": [
      "disability_type\n",
      "No disability reported                      22\n",
      "Mental health condition                      5\n",
      "Cognitive or learning difficulties           1\n",
      "Sensory, medical or physical impairments     1\n",
      "Multiple or other impairments                1\n",
      "Name: count, dtype: int64\n"
     ]
    }
   ],
   "source": [
    "\n",
    "disability_type_value_counts = dfp1_sorted_top30['disability_type'].value_counts()\n",
    "print(disability_type_value_counts)"
   ]
  },
  {
   "cell_type": "markdown",
   "id": "c6c6e90f-bec5-472b-b95a-de69f59043ed",
   "metadata": {
    "microsoft": {
     "language": "python",
     "language_group": "synapse_pyspark"
    },
    "nteract": {
     "transient": {
      "deleting": false
     }
    }
   },
   "source": [
    "**Value counts for 'iplevel' column**"
   ]
  },
  {
   "cell_type": "code",
   "execution_count": 111,
   "id": "ff5dbca5-db48-471d-b7c6-88f544c8cc69",
   "metadata": {
    "jupyter": {
     "outputs_hidden": false,
     "source_hidden": false
    },
    "microsoft": {
     "language": "python",
     "language_group": "synapse_pyspark"
    },
    "nteract": {
     "transient": {
      "deleting": false
     }
    }
   },
   "outputs": [
    {
     "data": {
      "application/vnd.livy.statement-meta+json": {
       "execution_finish_time": "2024-12-04T10:43:34.9856737Z",
       "execution_start_time": "2024-12-04T10:43:34.6212102Z",
       "livy_statement_state": "available",
       "normalized_state": "finished",
       "parent_msg_id": "962f1e1a-4c17-4c01-adf6-489deb6a31be",
       "queued_time": "2024-12-04T10:43:34.0769847Z",
       "session_id": "c3362933-4b99-4fc4-b98a-e8b07e6c5a39",
       "session_start_time": null,
       "spark_pool": null,
       "state": "finished",
       "statement_id": 113,
       "statement_ids": [
        113
       ]
      },
      "text/plain": [
       "StatementMeta(, c3362933-4b99-4fc4-b98a-e8b07e6c5a39, 113, Finished, Available, Finished)"
      ]
     },
     "metadata": {},
     "output_type": "display_data"
    },
    {
     "name": "stdout",
     "output_type": "stream",
     "text": [
      "IPLEVEL_x\n",
      "DEG     22\n",
      "PGTM     4\n",
      "OPGT     3\n",
      "OUG      1\n",
      "Name: count, dtype: int64\n"
     ]
    }
   ],
   "source": [
    "IPLEVEL_x_value_counts = dfp1_sorted_top30['IPLEVEL_x'].value_counts()\n",
    "print(IPLEVEL_x_value_counts)"
   ]
  },
  {
   "cell_type": "markdown",
   "id": "f3b28d49-dc07-4c58-a30b-2338344f2b3d",
   "metadata": {
    "microsoft": {
     "language": "python",
     "language_group": "synapse_pyspark"
    },
    "nteract": {
     "transient": {
      "deleting": false
     }
    }
   },
   "source": [
    "<mark>**BOTTOM 30**</mark>"
   ]
  },
  {
   "cell_type": "markdown",
   "id": "1a54fbd9-505a-4787-85e6-5ec943cb3e56",
   "metadata": {
    "microsoft": {
     "language": "python",
     "language_group": "synapse_pyspark"
    },
    "nteract": {
     "transient": {
      "deleting": false
     }
    }
   },
   "source": [
    "**Selecting bottom 30 rows**"
   ]
  },
  {
   "cell_type": "code",
   "execution_count": 112,
   "id": "ae62d991-65ec-45bc-866b-152b80459cbf",
   "metadata": {
    "jupyter": {
     "outputs_hidden": false,
     "source_hidden": false
    },
    "microsoft": {
     "language": "python",
     "language_group": "synapse_pyspark"
    },
    "nteract": {
     "transient": {
      "deleting": false
     }
    }
   },
   "outputs": [
    {
     "data": {
      "application/vnd.livy.statement-meta+json": {
       "execution_finish_time": "2024-12-04T10:43:39.6095291Z",
       "execution_start_time": "2024-12-04T10:43:39.3530046Z",
       "livy_statement_state": "available",
       "normalized_state": "finished",
       "parent_msg_id": "e9ad7db1-1b19-42a3-9914-5585fc5882a3",
       "queued_time": "2024-12-04T10:43:38.8647917Z",
       "session_id": "c3362933-4b99-4fc4-b98a-e8b07e6c5a39",
       "session_start_time": null,
       "spark_pool": null,
       "state": "finished",
       "statement_id": 114,
       "statement_ids": [
        114
       ]
      },
      "text/plain": [
       "StatementMeta(, c3362933-4b99-4fc4-b98a-e8b07e6c5a39, 114, Finished, Available, Finished)"
      ]
     },
     "metadata": {},
     "output_type": "display_data"
    },
    {
     "data": {
      "text/plain": [
       "30"
      ]
     },
     "execution_count": 341,
     "metadata": {},
     "output_type": "execute_result"
    }
   ],
   "source": [
    "dfp1_sorted_bottom30=dfp1_sorted.tail(30)\n",
    "len(dfp1_sorted_bottom30)"
   ]
  },
  {
   "cell_type": "markdown",
   "id": "cd603434-8d68-42e0-a62c-4236e8ccdcbd",
   "metadata": {
    "microsoft": {
     "language": "python",
     "language_group": "synapse_pyspark"
    },
    "nteract": {
     "transient": {
      "deleting": false
     }
    }
   },
   "source": [
    "**Value counts for 'iplevel' column**"
   ]
  },
  {
   "cell_type": "code",
   "execution_count": 113,
   "id": "e4397ee4-8e92-4138-8a6e-abed32502dab",
   "metadata": {
    "jupyter": {
     "outputs_hidden": false,
     "source_hidden": false
    },
    "microsoft": {
     "language": "python",
     "language_group": "synapse_pyspark"
    },
    "nteract": {
     "transient": {
      "deleting": false
     }
    }
   },
   "outputs": [
    {
     "data": {
      "application/vnd.livy.statement-meta+json": {
       "execution_finish_time": "2024-12-04T10:43:44.0962822Z",
       "execution_start_time": "2024-12-04T10:43:43.8240284Z",
       "livy_statement_state": "available",
       "normalized_state": "finished",
       "parent_msg_id": "db120a53-a48e-41a6-a5ee-bfbadc828092",
       "queued_time": "2024-12-04T10:43:43.354253Z",
       "session_id": "c3362933-4b99-4fc4-b98a-e8b07e6c5a39",
       "session_start_time": null,
       "spark_pool": null,
       "state": "finished",
       "statement_id": 115,
       "statement_ids": [
        115
       ]
      },
      "text/plain": [
       "StatementMeta(, c3362933-4b99-4fc4-b98a-e8b07e6c5a39, 115, Finished, Available, Finished)"
      ]
     },
     "metadata": {},
     "output_type": "display_data"
    },
    {
     "name": "stdout",
     "output_type": "stream",
     "text": [
      "IPLEVEL_x\n",
      "DEG     20\n",
      "PGTM     9\n",
      "OPGT     1\n",
      "Name: count, dtype: int64\n"
     ]
    }
   ],
   "source": [
    "IPLEVEL_x_value_counts_b30 = dfp1_sorted_bottom30['IPLEVEL_x'].value_counts()\n",
    "print(IPLEVEL_x_value_counts_b30)"
   ]
  },
  {
   "cell_type": "markdown",
   "id": "d496abc2-b956-4b56-9542-5f3d233f64b5",
   "metadata": {
    "microsoft": {
     "language": "python",
     "language_group": "synapse_pyspark"
    },
    "nteract": {
     "transient": {
      "deleting": false
     }
    }
   },
   "source": [
    "**Value counts for 'age_on_entry' column**"
   ]
  },
  {
   "cell_type": "code",
   "execution_count": 114,
   "id": "0ef9976f-c628-4551-a776-5186ccbb3889",
   "metadata": {
    "jupyter": {
     "outputs_hidden": false,
     "source_hidden": false
    },
    "microsoft": {
     "language": "python",
     "language_group": "synapse_pyspark"
    },
    "nteract": {
     "transient": {
      "deleting": false
     }
    }
   },
   "outputs": [
    {
     "data": {
      "application/vnd.livy.statement-meta+json": {
       "execution_finish_time": "2024-12-04T10:43:50.2841664Z",
       "execution_start_time": "2024-12-04T10:43:49.9403593Z",
       "livy_statement_state": "available",
       "normalized_state": "finished",
       "parent_msg_id": "c30e3ffe-4854-4650-8af7-3a7b46de297b",
       "queued_time": "2024-12-04T10:43:48.911173Z",
       "session_id": "c3362933-4b99-4fc4-b98a-e8b07e6c5a39",
       "session_start_time": null,
       "spark_pool": null,
       "state": "finished",
       "statement_id": 116,
       "statement_ids": [
        116
       ]
      },
      "text/plain": [
       "StatementMeta(, c3362933-4b99-4fc4-b98a-e8b07e6c5a39, 116, Finished, Available, Finished)"
      ]
     },
     "metadata": {},
     "output_type": "display_data"
    },
    {
     "name": "stdout",
     "output_type": "stream",
     "text": [
      "age_on_entry\n",
      "51+      13\n",
      "41-50     8\n",
      "31-40     5\n",
      "26-30     4\n",
      "Name: count, dtype: int64\n"
     ]
    }
   ],
   "source": [
    "age_on_entry_value_counts_b30 = dfp1_sorted_bottom30['age_on_entry'].value_counts()\n",
    "print(age_on_entry_value_counts_b30)"
   ]
  },
  {
   "cell_type": "markdown",
   "id": "f5a407f4-6a0a-4f8e-b0d5-2b05462e0e17",
   "metadata": {
    "microsoft": {
     "language": "python",
     "language_group": "synapse_pyspark"
    },
    "nteract": {
     "transient": {
      "deleting": false
     }
    }
   },
   "source": [
    "**Value counts for 'ethnicity_16_groups' column**"
   ]
  },
  {
   "cell_type": "code",
   "execution_count": 115,
   "id": "15dc145a-9178-4606-ac17-bede96be5a0d",
   "metadata": {
    "jupyter": {
     "outputs_hidden": false,
     "source_hidden": false
    },
    "microsoft": {
     "language": "python",
     "language_group": "synapse_pyspark"
    },
    "nteract": {
     "transient": {
      "deleting": false
     }
    }
   },
   "outputs": [
    {
     "data": {
      "application/vnd.livy.statement-meta+json": {
       "execution_finish_time": "2024-12-04T10:43:53.7427405Z",
       "execution_start_time": "2024-12-04T10:43:53.4894313Z",
       "livy_statement_state": "available",
       "normalized_state": "finished",
       "parent_msg_id": "ef43a724-6592-4bee-9415-c26d38b875a8",
       "queued_time": "2024-12-04T10:43:52.9917604Z",
       "session_id": "c3362933-4b99-4fc4-b98a-e8b07e6c5a39",
       "session_start_time": null,
       "spark_pool": null,
       "state": "finished",
       "statement_id": 117,
       "statement_ids": [
        117
       ]
      },
      "text/plain": [
       "StatementMeta(, c3362933-4b99-4fc4-b98a-e8b07e6c5a39, 117, Finished, Available, Finished)"
      ]
     },
     "metadata": {},
     "output_type": "display_data"
    },
    {
     "name": "stdout",
     "output_type": "stream",
     "text": [
      "ethnicity_16_groups\n",
      "Black or black British - African        14\n",
      "White                                    6\n",
      "Black or black British - Caribbean       2\n",
      "Mixed - white and black Caribbean        2\n",
      "Asian or Asian British - Indian          2\n",
      "Mixed - white and black African          2\n",
      "Refused or unknown                       1\n",
      "Asian or Asian British - Bangladeshi     1\n",
      "Name: count, dtype: int64\n"
     ]
    }
   ],
   "source": [
    "ethnicity_16_groups_value_counts_b30 = dfp1_sorted_bottom30['ethnicity_16_groups'].value_counts()\n",
    "print(ethnicity_16_groups_value_counts_b30)"
   ]
  },
  {
   "cell_type": "markdown",
   "id": "b25fc456-970b-498a-b5f4-50fdacc3e911",
   "metadata": {
    "microsoft": {
     "language": "python",
     "language_group": "synapse_pyspark"
    },
    "nteract": {
     "transient": {
      "deleting": false
     }
    }
   },
   "source": [
    "**Value counts for 'sex' column**"
   ]
  },
  {
   "cell_type": "code",
   "execution_count": 116,
   "id": "1b00adf5-348d-43fd-9fc4-c50af4c2b543",
   "metadata": {
    "jupyter": {
     "outputs_hidden": false,
     "source_hidden": false
    },
    "microsoft": {
     "language": "python",
     "language_group": "synapse_pyspark"
    },
    "nteract": {
     "transient": {
      "deleting": false
     }
    }
   },
   "outputs": [
    {
     "data": {
      "application/vnd.livy.statement-meta+json": {
       "execution_finish_time": "2024-12-04T10:43:57.3518783Z",
       "execution_start_time": "2024-12-04T10:43:57.0893404Z",
       "livy_statement_state": "available",
       "normalized_state": "finished",
       "parent_msg_id": "6fc390bf-726c-44ef-aed9-38cf8e23fd04",
       "queued_time": "2024-12-04T10:43:56.6000601Z",
       "session_id": "c3362933-4b99-4fc4-b98a-e8b07e6c5a39",
       "session_start_time": null,
       "spark_pool": null,
       "state": "finished",
       "statement_id": 118,
       "statement_ids": [
        118
       ]
      },
      "text/plain": [
       "StatementMeta(, c3362933-4b99-4fc4-b98a-e8b07e6c5a39, 118, Finished, Available, Finished)"
      ]
     },
     "metadata": {},
     "output_type": "display_data"
    },
    {
     "name": "stdout",
     "output_type": "stream",
     "text": [
      "sex\n",
      "Male      15\n",
      "Female    15\n",
      "Name: count, dtype: int64\n"
     ]
    }
   ],
   "source": [
    "sex_value_counts_b30 = dfp1_sorted_bottom30['sex'].value_counts()\n",
    "print(sex_value_counts_b30)"
   ]
  },
  {
   "cell_type": "markdown",
   "id": "b6a45fb2-b0ca-484c-b5d5-05446ec0b48e",
   "metadata": {
    "microsoft": {
     "language": "python",
     "language_group": "synapse_pyspark"
    },
    "nteract": {
     "transient": {
      "deleting": false
     }
    }
   },
   "source": [
    "**Value counts for 'adult_he_2011_quintile_desc' column**"
   ]
  },
  {
   "cell_type": "code",
   "execution_count": 117,
   "id": "eb43544b-192b-4389-880f-749323b1d062",
   "metadata": {
    "jupyter": {
     "outputs_hidden": false,
     "source_hidden": false
    },
    "microsoft": {
     "language": "python",
     "language_group": "synapse_pyspark"
    },
    "nteract": {
     "transient": {
      "deleting": false
     }
    }
   },
   "outputs": [
    {
     "data": {
      "application/vnd.livy.statement-meta+json": {
       "execution_finish_time": "2024-12-04T10:44:01.8428887Z",
       "execution_start_time": "2024-12-04T10:44:01.5039285Z",
       "livy_statement_state": "available",
       "normalized_state": "finished",
       "parent_msg_id": "461efe6c-5d38-4f58-9101-7e2632bc2142",
       "queued_time": "2024-12-04T10:44:01.0067688Z",
       "session_id": "c3362933-4b99-4fc4-b98a-e8b07e6c5a39",
       "session_start_time": null,
       "spark_pool": null,
       "state": "finished",
       "statement_id": 119,
       "statement_ids": [
        119
       ]
      },
      "text/plain": [
       "StatementMeta(, c3362933-4b99-4fc4-b98a-e8b07e6c5a39, 119, Finished, Available, Finished)"
      ]
     },
     "metadata": {},
     "output_type": "display_data"
    },
    {
     "name": "stdout",
     "output_type": "stream",
     "text": [
      "adult_he_2011_quintile_desc\n",
      "Quintile 5    20\n",
      "Quintile 4     7\n",
      "Quintile 1     1\n",
      "Quintile 2     1\n",
      "Quintile 3     1\n",
      "Name: count, dtype: int64\n"
     ]
    }
   ],
   "source": [
    "adult_he_2011_quintile_desc_value_counts_b30 = dfp1_sorted_bottom30['adult_he_2011_quintile_desc'].value_counts()\n",
    "print(adult_he_2011_quintile_desc_value_counts_b30)"
   ]
  },
  {
   "cell_type": "markdown",
   "id": "49e86192-3db8-4c87-be7d-8d601d16d3f8",
   "metadata": {
    "microsoft": {
     "language": "python",
     "language_group": "synapse_pyspark"
    },
    "nteract": {
     "transient": {
      "deleting": false
     }
    }
   },
   "source": [
    "**Value counts for 'imd_desc' column**"
   ]
  },
  {
   "cell_type": "code",
   "execution_count": 118,
   "id": "4c22bdb6-df75-4c1b-b9f1-ec20c5934b07",
   "metadata": {
    "jupyter": {
     "outputs_hidden": false,
     "source_hidden": false
    },
    "microsoft": {
     "language": "python",
     "language_group": "synapse_pyspark"
    },
    "nteract": {
     "transient": {
      "deleting": false
     }
    }
   },
   "outputs": [
    {
     "data": {
      "application/vnd.livy.statement-meta+json": {
       "execution_finish_time": "2024-12-04T10:44:06.0889857Z",
       "execution_start_time": "2024-12-04T10:44:05.7978231Z",
       "livy_statement_state": "available",
       "normalized_state": "finished",
       "parent_msg_id": "1cc079a1-07f9-4a3d-b992-2a61573f18c8",
       "queued_time": "2024-12-04T10:44:05.3428607Z",
       "session_id": "c3362933-4b99-4fc4-b98a-e8b07e6c5a39",
       "session_start_time": null,
       "spark_pool": null,
       "state": "finished",
       "statement_id": 120,
       "statement_ids": [
        120
       ]
      },
      "text/plain": [
       "StatementMeta(, c3362933-4b99-4fc4-b98a-e8b07e6c5a39, 120, Finished, Available, Finished)"
      ]
     },
     "metadata": {},
     "output_type": "display_data"
    },
    {
     "name": "stdout",
     "output_type": "stream",
     "text": [
      "imd_desc\n",
      "Quintile 5    15\n",
      "Quintile 4     6\n",
      "Quintile 3     3\n",
      "Quintile 2     3\n",
      "Quintile 1     2\n",
      "               1\n",
      "Name: count, dtype: int64\n"
     ]
    }
   ],
   "source": [
    "imd_desc_value_counts_b30 = dfp1_sorted_bottom30['imd_desc'].value_counts()\n",
    "print(imd_desc_value_counts_b30)"
   ]
  },
  {
   "cell_type": "markdown",
   "id": "c4da5ab9-47c7-4c63-af61-ec3f780c2642",
   "metadata": {
    "microsoft": {
     "language": "python",
     "language_group": "synapse_pyspark"
    },
    "nteract": {
     "transient": {
      "deleting": false
     }
    }
   },
   "source": [
    "**Value counts for 'idaci_desc' column**"
   ]
  },
  {
   "cell_type": "code",
   "execution_count": 119,
   "id": "dbd5e5bb-7ef2-497b-bf4d-db30dab1b263",
   "metadata": {
    "jupyter": {
     "outputs_hidden": false,
     "source_hidden": false
    },
    "microsoft": {
     "language": "python",
     "language_group": "synapse_pyspark"
    },
    "nteract": {
     "transient": {
      "deleting": false
     }
    }
   },
   "outputs": [
    {
     "data": {
      "application/vnd.livy.statement-meta+json": {
       "execution_finish_time": "2024-12-04T10:44:10.3996149Z",
       "execution_start_time": "2024-12-04T10:44:10.1463608Z",
       "livy_statement_state": "available",
       "normalized_state": "finished",
       "parent_msg_id": "3dcc7785-1d66-49b6-8ed3-a9f0ade7ef4a",
       "queued_time": "2024-12-04T10:44:09.6584373Z",
       "session_id": "c3362933-4b99-4fc4-b98a-e8b07e6c5a39",
       "session_start_time": null,
       "spark_pool": null,
       "state": "finished",
       "statement_id": 121,
       "statement_ids": [
        121
       ]
      },
      "text/plain": [
       "StatementMeta(, c3362933-4b99-4fc4-b98a-e8b07e6c5a39, 121, Finished, Available, Finished)"
      ]
     },
     "metadata": {},
     "output_type": "display_data"
    },
    {
     "name": "stdout",
     "output_type": "stream",
     "text": [
      "idaci_desc\n",
      "Quintile 5    19\n",
      "Quintile 1     4\n",
      "Quintile 3     3\n",
      "Quintile 4     3\n",
      "               1\n",
      "Name: count, dtype: int64\n"
     ]
    }
   ],
   "source": [
    "idaci_desc_value_counts_b30 = dfp1_sorted_bottom30['idaci_desc'].value_counts()\n",
    "print(idaci_desc_value_counts_b30)"
   ]
  },
  {
   "cell_type": "markdown",
   "id": "9485d449-31a6-41ea-b6d0-b5738ca25193",
   "metadata": {
    "microsoft": {
     "language": "python",
     "language_group": "synapse_pyspark"
    },
    "nteract": {
     "transient": {
      "deleting": false
     }
    }
   },
   "source": [
    "**Value counts for 'disability_type' column**"
   ]
  },
  {
   "cell_type": "code",
   "execution_count": 120,
   "id": "a3339d93-b934-4066-a896-a0f4fff922c1",
   "metadata": {
    "jupyter": {
     "outputs_hidden": false,
     "source_hidden": false
    },
    "microsoft": {
     "language": "python",
     "language_group": "synapse_pyspark"
    },
    "nteract": {
     "transient": {
      "deleting": false
     }
    }
   },
   "outputs": [
    {
     "data": {
      "application/vnd.livy.statement-meta+json": {
       "execution_finish_time": "2024-12-04T10:44:14.4950473Z",
       "execution_start_time": "2024-12-04T10:44:14.2336389Z",
       "livy_statement_state": "available",
       "normalized_state": "finished",
       "parent_msg_id": "5a29eb1c-caf8-40b0-a4c5-f03023da336c",
       "queued_time": "2024-12-04T10:44:13.8287018Z",
       "session_id": "c3362933-4b99-4fc4-b98a-e8b07e6c5a39",
       "session_start_time": null,
       "spark_pool": null,
       "state": "finished",
       "statement_id": 122,
       "statement_ids": [
        122
       ]
      },
      "text/plain": [
       "StatementMeta(, c3362933-4b99-4fc4-b98a-e8b07e6c5a39, 122, Finished, Available, Finished)"
      ]
     },
     "metadata": {},
     "output_type": "display_data"
    },
    {
     "name": "stdout",
     "output_type": "stream",
     "text": [
      "disability_type\n",
      "No disability reported                      25\n",
      "Sensory, medical or physical impairments     3\n",
      "Cognitive or learning difficulties           2\n",
      "Name: count, dtype: int64\n"
     ]
    }
   ],
   "source": [
    "disability_type_value_counts_b30 = dfp1_sorted_bottom30['disability_type'].value_counts()\n",
    "print(disability_type_value_counts_b30)"
   ]
  },
  {
   "cell_type": "markdown",
   "id": "d88cd9d3-18f6-4cc7-bd5b-209834daaea4",
   "metadata": {
    "microsoft": {
     "language": "python",
     "language_group": "synapse_pyspark"
    },
    "nteract": {
     "transient": {
      "deleting": false
     }
    }
   },
   "source": [
    "<mark> TOP 100 </mark>"
   ]
  },
  {
   "cell_type": "markdown",
   "id": "dd080cae-500d-4bb2-8c1d-e2faa1237b6e",
   "metadata": {
    "microsoft": {
     "language": "python",
     "language_group": "synapse_pyspark"
    },
    "nteract": {
     "transient": {
      "deleting": false
     }
    }
   },
   "source": [
    "**Selecting top 100 rows**"
   ]
  },
  {
   "cell_type": "code",
   "execution_count": 121,
   "id": "40179a72-ab0d-43d2-b255-f4967bad99e2",
   "metadata": {
    "jupyter": {
     "outputs_hidden": false,
     "source_hidden": false
    },
    "microsoft": {
     "language": "python",
     "language_group": "synapse_pyspark"
    },
    "nteract": {
     "transient": {
      "deleting": false
     }
    }
   },
   "outputs": [
    {
     "data": {
      "application/vnd.livy.statement-meta+json": {
       "execution_finish_time": "2024-12-04T10:44:18.765462Z",
       "execution_start_time": "2024-12-04T10:44:18.511718Z",
       "livy_statement_state": "available",
       "normalized_state": "finished",
       "parent_msg_id": "73555504-1041-4d89-ae4c-8f981df13384",
       "queued_time": "2024-12-04T10:44:17.9741962Z",
       "session_id": "c3362933-4b99-4fc4-b98a-e8b07e6c5a39",
       "session_start_time": null,
       "spark_pool": null,
       "state": "finished",
       "statement_id": 123,
       "statement_ids": [
        123
       ]
      },
      "text/plain": [
       "StatementMeta(, c3362933-4b99-4fc4-b98a-e8b07e6c5a39, 123, Finished, Available, Finished)"
      ]
     },
     "metadata": {},
     "output_type": "display_data"
    },
    {
     "data": {
      "text/html": [
       "<div>\n",
       "<style scoped>\n",
       "    .dataframe tbody tr th:only-of-type {\n",
       "        vertical-align: middle;\n",
       "    }\n",
       "\n",
       "    .dataframe tbody tr th {\n",
       "        vertical-align: top;\n",
       "    }\n",
       "\n",
       "    .dataframe thead th {\n",
       "        text-align: right;\n",
       "    }\n",
       "</style>\n",
       "<table border=\"1\" class=\"dataframe\">\n",
       "  <thead>\n",
       "    <tr style=\"text-align: right;\">\n",
       "      <th></th>\n",
       "      <th>StudentNumber</th>\n",
       "      <th>IPLEVEL_x</th>\n",
       "      <th>age_on_entry</th>\n",
       "      <th>ethnicity_16_groups</th>\n",
       "      <th>sex</th>\n",
       "      <th>adult_he_2011_quintile_desc</th>\n",
       "      <th>imd_desc</th>\n",
       "      <th>idaci_desc</th>\n",
       "      <th>disability_type</th>\n",
       "      <th>IPSTARTMODE</th>\n",
       "      <th>Concatenated_column</th>\n",
       "      <th>Actual_Outcome</th>\n",
       "      <th>Predicted_outcome_rate</th>\n",
       "      <th>Derived_progression_quintile</th>\n",
       "    </tr>\n",
       "  </thead>\n",
       "  <tbody>\n",
       "    <tr>\n",
       "      <th>533</th>\n",
       "      <td>STU96605</td>\n",
       "      <td>OPGT</td>\n",
       "      <td>31-40</td>\n",
       "      <td>Asian or Asian British - Bangladeshi</td>\n",
       "      <td>Female</td>\n",
       "      <td>Quintile 3</td>\n",
       "      <td>Quintile 3</td>\n",
       "      <td>Quintile 3</td>\n",
       "      <td>No disability reported</td>\n",
       "      <td>PT</td>\n",
       "      <td>Quintile 331-40No disability reportedAsian or ...</td>\n",
       "      <td>Positive</td>\n",
       "      <td>0.490000</td>\n",
       "      <td>1</td>\n",
       "    </tr>\n",
       "    <tr>\n",
       "      <th>4</th>\n",
       "      <td>STU74215</td>\n",
       "      <td>DEG</td>\n",
       "      <td>21-25</td>\n",
       "      <td>Asian or Asian British - Pakistani</td>\n",
       "      <td>Female</td>\n",
       "      <td>Quintile 2</td>\n",
       "      <td>Quintile 1</td>\n",
       "      <td>Quintile 1</td>\n",
       "      <td>Mental health condition</td>\n",
       "      <td>PT</td>\n",
       "      <td>Quintile 221-25Mental health conditionAsian or...</td>\n",
       "      <td>Negative</td>\n",
       "      <td>0.530000</td>\n",
       "      <td>1</td>\n",
       "    </tr>\n",
       "    <tr>\n",
       "      <th>535</th>\n",
       "      <td>STU97006</td>\n",
       "      <td>OPGT</td>\n",
       "      <td>31-40</td>\n",
       "      <td>Asian or Asian British - Bangladeshi</td>\n",
       "      <td>Female</td>\n",
       "      <td>Quintile 5</td>\n",
       "      <td>Quintile 3</td>\n",
       "      <td>Quintile 3</td>\n",
       "      <td>No disability reported</td>\n",
       "      <td>PT</td>\n",
       "      <td>Quintile 531-40No disability reportedAsian or ...</td>\n",
       "      <td>Positive</td>\n",
       "      <td>0.530000</td>\n",
       "      <td>1</td>\n",
       "    </tr>\n",
       "    <tr>\n",
       "      <th>537</th>\n",
       "      <td>STU48198</td>\n",
       "      <td>OUG</td>\n",
       "      <td>31-40</td>\n",
       "      <td>Asian or Asian British - Bangladeshi</td>\n",
       "      <td>Female</td>\n",
       "      <td>Quintile 1</td>\n",
       "      <td>Quintile 4</td>\n",
       "      <td>Quintile 4</td>\n",
       "      <td>No disability reported</td>\n",
       "      <td>PT</td>\n",
       "      <td>Quintile 131-40No disability reportedAsian or ...</td>\n",
       "      <td>Negative</td>\n",
       "      <td>0.550000</td>\n",
       "      <td>1</td>\n",
       "    </tr>\n",
       "    <tr>\n",
       "      <th>1172</th>\n",
       "      <td>STU57272</td>\n",
       "      <td>DEG</td>\n",
       "      <td>21-25</td>\n",
       "      <td>Asian or Asian British - Pakistani</td>\n",
       "      <td>Female</td>\n",
       "      <td>Quintile 1</td>\n",
       "      <td>Quintile 1</td>\n",
       "      <td>Quintile 2</td>\n",
       "      <td>No disability reported</td>\n",
       "      <td>FT</td>\n",
       "      <td>Quintile 121-25No disability reportedAsian or ...</td>\n",
       "      <td>Negative</td>\n",
       "      <td>0.550000</td>\n",
       "      <td>1</td>\n",
       "    </tr>\n",
       "    <tr>\n",
       "      <th>...</th>\n",
       "      <td>...</td>\n",
       "      <td>...</td>\n",
       "      <td>...</td>\n",
       "      <td>...</td>\n",
       "      <td>...</td>\n",
       "      <td>...</td>\n",
       "      <td>...</td>\n",
       "      <td>...</td>\n",
       "      <td>...</td>\n",
       "      <td>...</td>\n",
       "      <td>...</td>\n",
       "      <td>...</td>\n",
       "      <td>...</td>\n",
       "      <td>...</td>\n",
       "    </tr>\n",
       "    <tr>\n",
       "      <th>1154</th>\n",
       "      <td>STU57541</td>\n",
       "      <td>DEG</td>\n",
       "      <td>21-25</td>\n",
       "      <td>Asian or Asian British - Pakistani</td>\n",
       "      <td>Male</td>\n",
       "      <td>Quintile 2</td>\n",
       "      <td>Quintile 2</td>\n",
       "      <td>Quintile 1</td>\n",
       "      <td>No disability reported</td>\n",
       "      <td>FT</td>\n",
       "      <td>Quintile 221-25No disability reportedAsian or ...</td>\n",
       "      <td>Positive</td>\n",
       "      <td>0.690000</td>\n",
       "      <td>1</td>\n",
       "    </tr>\n",
       "    <tr>\n",
       "      <th>1235</th>\n",
       "      <td>STU66721</td>\n",
       "      <td>DEG</td>\n",
       "      <td>31-40</td>\n",
       "      <td>Asian or Asian British - Pakistani</td>\n",
       "      <td>Female</td>\n",
       "      <td>Quintile 2</td>\n",
       "      <td>Quintile 2</td>\n",
       "      <td>Quintile 2</td>\n",
       "      <td>No disability reported</td>\n",
       "      <td>FT</td>\n",
       "      <td>Quintile 231-40No disability reportedAsian or ...</td>\n",
       "      <td>Negative</td>\n",
       "      <td>0.690000</td>\n",
       "      <td>1</td>\n",
       "    </tr>\n",
       "    <tr>\n",
       "      <th>36</th>\n",
       "      <td>STU83187</td>\n",
       "      <td>PGTM</td>\n",
       "      <td>41-50</td>\n",
       "      <td>White</td>\n",
       "      <td>Female</td>\n",
       "      <td>Quintile 3</td>\n",
       "      <td>Quintile 5</td>\n",
       "      <td>Quintile 5</td>\n",
       "      <td>Mental health condition</td>\n",
       "      <td>PT</td>\n",
       "      <td>Quintile 341-50Mental health conditionWhiteQui...</td>\n",
       "      <td>Positive</td>\n",
       "      <td>0.690000</td>\n",
       "      <td>1</td>\n",
       "    </tr>\n",
       "    <tr>\n",
       "      <th>1247</th>\n",
       "      <td>STU64166</td>\n",
       "      <td>DEG</td>\n",
       "      <td>31-40</td>\n",
       "      <td>Black or black British - Caribbean</td>\n",
       "      <td>Female</td>\n",
       "      <td>Quintile 1</td>\n",
       "      <td>Quintile 1</td>\n",
       "      <td>Quintile 1</td>\n",
       "      <td>No disability reported</td>\n",
       "      <td>FT</td>\n",
       "      <td>Quintile 131-40No disability reportedBlack or ...</td>\n",
       "      <td>Negative</td>\n",
       "      <td>0.690000</td>\n",
       "      <td>1</td>\n",
       "    </tr>\n",
       "    <tr>\n",
       "      <th>1164</th>\n",
       "      <td>STU56754</td>\n",
       "      <td>DEG</td>\n",
       "      <td>21-25</td>\n",
       "      <td>Black or black British - African</td>\n",
       "      <td>Female</td>\n",
       "      <td>Quintile 4</td>\n",
       "      <td>Quintile 3</td>\n",
       "      <td>Quintile 3</td>\n",
       "      <td>No disability reported</td>\n",
       "      <td>FT</td>\n",
       "      <td>Quintile 421-25No disability reportedBlack or ...</td>\n",
       "      <td>Positive</td>\n",
       "      <td>0.690000</td>\n",
       "      <td>1</td>\n",
       "    </tr>\n",
       "  </tbody>\n",
       "</table>\n",
       "<p>100 rows × 14 columns</p>\n",
       "</div>"
      ],
      "text/plain": [
       "     StudentNumber IPLEVEL_x age_on_entry  \\\n",
       "533       STU96605      OPGT        31-40   \n",
       "4         STU74215       DEG        21-25   \n",
       "535       STU97006      OPGT        31-40   \n",
       "537       STU48198       OUG        31-40   \n",
       "1172      STU57272       DEG        21-25   \n",
       "...            ...       ...          ...   \n",
       "1154      STU57541       DEG        21-25   \n",
       "1235      STU66721       DEG        31-40   \n",
       "36        STU83187      PGTM        41-50   \n",
       "1247      STU64166       DEG        31-40   \n",
       "1164      STU56754       DEG        21-25   \n",
       "\n",
       "                       ethnicity_16_groups     sex  \\\n",
       "533   Asian or Asian British - Bangladeshi  Female   \n",
       "4       Asian or Asian British - Pakistani  Female   \n",
       "535   Asian or Asian British - Bangladeshi  Female   \n",
       "537   Asian or Asian British - Bangladeshi  Female   \n",
       "1172    Asian or Asian British - Pakistani  Female   \n",
       "...                                    ...     ...   \n",
       "1154    Asian or Asian British - Pakistani    Male   \n",
       "1235    Asian or Asian British - Pakistani  Female   \n",
       "36                                   White  Female   \n",
       "1247    Black or black British - Caribbean  Female   \n",
       "1164      Black or black British - African  Female   \n",
       "\n",
       "     adult_he_2011_quintile_desc    imd_desc  idaci_desc  \\\n",
       "533                   Quintile 3  Quintile 3  Quintile 3   \n",
       "4                     Quintile 2  Quintile 1  Quintile 1   \n",
       "535                   Quintile 5  Quintile 3  Quintile 3   \n",
       "537                   Quintile 1  Quintile 4  Quintile 4   \n",
       "1172                  Quintile 1  Quintile 1  Quintile 2   \n",
       "...                          ...         ...         ...   \n",
       "1154                  Quintile 2  Quintile 2  Quintile 1   \n",
       "1235                  Quintile 2  Quintile 2  Quintile 2   \n",
       "36                    Quintile 3  Quintile 5  Quintile 5   \n",
       "1247                  Quintile 1  Quintile 1  Quintile 1   \n",
       "1164                  Quintile 4  Quintile 3  Quintile 3   \n",
       "\n",
       "              disability_type IPSTARTMODE  \\\n",
       "533    No disability reported          PT   \n",
       "4     Mental health condition          PT   \n",
       "535    No disability reported          PT   \n",
       "537    No disability reported          PT   \n",
       "1172   No disability reported          FT   \n",
       "...                       ...         ...   \n",
       "1154   No disability reported          FT   \n",
       "1235   No disability reported          FT   \n",
       "36    Mental health condition          PT   \n",
       "1247   No disability reported          FT   \n",
       "1164   No disability reported          FT   \n",
       "\n",
       "                                    Concatenated_column Actual_Outcome  \\\n",
       "533   Quintile 331-40No disability reportedAsian or ...       Positive   \n",
       "4     Quintile 221-25Mental health conditionAsian or...       Negative   \n",
       "535   Quintile 531-40No disability reportedAsian or ...       Positive   \n",
       "537   Quintile 131-40No disability reportedAsian or ...       Negative   \n",
       "1172  Quintile 121-25No disability reportedAsian or ...       Negative   \n",
       "...                                                 ...            ...   \n",
       "1154  Quintile 221-25No disability reportedAsian or ...       Positive   \n",
       "1235  Quintile 231-40No disability reportedAsian or ...       Negative   \n",
       "36    Quintile 341-50Mental health conditionWhiteQui...       Positive   \n",
       "1247  Quintile 131-40No disability reportedBlack or ...       Negative   \n",
       "1164  Quintile 421-25No disability reportedBlack or ...       Positive   \n",
       "\n",
       "     Predicted_outcome_rate  Derived_progression_quintile  \n",
       "533                0.490000                             1  \n",
       "4                  0.530000                             1  \n",
       "535                0.530000                             1  \n",
       "537                0.550000                             1  \n",
       "1172               0.550000                             1  \n",
       "...                     ...                           ...  \n",
       "1154               0.690000                             1  \n",
       "1235               0.690000                             1  \n",
       "36                 0.690000                             1  \n",
       "1247               0.690000                             1  \n",
       "1164               0.690000                             1  \n",
       "\n",
       "[100 rows x 14 columns]"
      ]
     },
     "execution_count": 368,
     "metadata": {},
     "output_type": "execute_result"
    }
   ],
   "source": [
    "dfp1_sorted_top100=dfp1_sorted.head(100)\n",
    "dfp1_sorted_top100"
   ]
  },
  {
   "cell_type": "markdown",
   "id": "2f0d7601-d41e-4bfe-97a6-9e53de8ae4db",
   "metadata": {
    "microsoft": {
     "language": "python",
     "language_group": "synapse_pyspark"
    },
    "nteract": {
     "transient": {
      "deleting": false
     }
    }
   },
   "source": [
    "**Columns present in the dataframe**"
   ]
  },
  {
   "cell_type": "code",
   "execution_count": 122,
   "id": "4b3f8031-373c-4183-99d5-6fb4b921ae5f",
   "metadata": {
    "jupyter": {
     "outputs_hidden": false,
     "source_hidden": false
    },
    "microsoft": {
     "language": "python",
     "language_group": "synapse_pyspark"
    },
    "nteract": {
     "transient": {
      "deleting": false
     }
    }
   },
   "outputs": [
    {
     "data": {
      "application/vnd.livy.statement-meta+json": {
       "execution_finish_time": "2024-12-04T10:44:22.9897861Z",
       "execution_start_time": "2024-12-04T10:44:22.7174068Z",
       "livy_statement_state": "available",
       "normalized_state": "finished",
       "parent_msg_id": "a8933713-9da2-4052-8469-d0407d795b9f",
       "queued_time": "2024-12-04T10:44:22.10743Z",
       "session_id": "c3362933-4b99-4fc4-b98a-e8b07e6c5a39",
       "session_start_time": null,
       "spark_pool": null,
       "state": "finished",
       "statement_id": 124,
       "statement_ids": [
        124
       ]
      },
      "text/plain": [
       "StatementMeta(, c3362933-4b99-4fc4-b98a-e8b07e6c5a39, 124, Finished, Available, Finished)"
      ]
     },
     "metadata": {},
     "output_type": "display_data"
    },
    {
     "data": {
      "text/plain": [
       "Index(['StudentNumber', 'IPLEVEL_x', 'age_on_entry', 'ethnicity_16_groups',\n",
       "       'sex', 'adult_he_2011_quintile_desc', 'imd_desc', 'idaci_desc',\n",
       "       'disability_type', 'IPSTARTMODE', 'Concatenated_column',\n",
       "       'Actual_Outcome', 'Predicted_outcome_rate',\n",
       "       'Derived_progression_quintile'],\n",
       "      dtype='object')"
      ]
     },
     "execution_count": 371,
     "metadata": {},
     "output_type": "execute_result"
    }
   ],
   "source": [
    "dfp1_sorted_top100.columns"
   ]
  },
  {
   "cell_type": "markdown",
   "id": "da405cf9-8a69-4b2f-b276-e03292d745e8",
   "metadata": {
    "microsoft": {
     "language": "python",
     "language_group": "synapse_pyspark"
    },
    "nteract": {
     "transient": {
      "deleting": false
     }
    }
   },
   "source": [
    "**Value counts for 'age_on_entry' column**"
   ]
  },
  {
   "cell_type": "code",
   "execution_count": 123,
   "id": "fdb9b5b9-ddc6-41a7-87b4-a6f98ed71468",
   "metadata": {
    "jupyter": {
     "outputs_hidden": false,
     "source_hidden": false
    },
    "microsoft": {
     "language": "python",
     "language_group": "synapse_pyspark"
    },
    "nteract": {
     "transient": {
      "deleting": false
     }
    }
   },
   "outputs": [
    {
     "data": {
      "application/vnd.livy.statement-meta+json": {
       "execution_finish_time": "2024-12-04T10:44:27.8472665Z",
       "execution_start_time": "2024-12-04T10:44:27.5610385Z",
       "livy_statement_state": "available",
       "normalized_state": "finished",
       "parent_msg_id": "e64986e7-c847-413c-9a95-beeb645c7426",
       "queued_time": "2024-12-04T10:44:27.0567602Z",
       "session_id": "c3362933-4b99-4fc4-b98a-e8b07e6c5a39",
       "session_start_time": null,
       "spark_pool": null,
       "state": "finished",
       "statement_id": 125,
       "statement_ids": [
        125
       ]
      },
      "text/plain": [
       "StatementMeta(, c3362933-4b99-4fc4-b98a-e8b07e6c5a39, 125, Finished, Available, Finished)"
      ]
     },
     "metadata": {},
     "output_type": "display_data"
    },
    {
     "data": {
      "text/plain": [
       "age_on_entry\n",
       "21-25    39\n",
       "31-40    36\n",
       "41-50    13\n",
       "26-30    12\n",
       "Name: count, dtype: int64"
      ]
     },
     "execution_count": 374,
     "metadata": {},
     "output_type": "execute_result"
    }
   ],
   "source": [
    "dfp1_sorted_top100['age_on_entry'].value_counts()\n"
   ]
  },
  {
   "cell_type": "markdown",
   "id": "410da38c-5b12-40fb-b9fb-54e17a4e7ca8",
   "metadata": {
    "microsoft": {
     "language": "python",
     "language_group": "synapse_pyspark"
    },
    "nteract": {
     "transient": {
      "deleting": false
     }
    }
   },
   "source": [
    "**Value counts for 'ethnicity_16_groups' column**"
   ]
  },
  {
   "cell_type": "code",
   "execution_count": 124,
   "id": "f19c3d3f-6ad1-4fe6-8ffe-b6a53ada2def",
   "metadata": {
    "jupyter": {
     "outputs_hidden": false,
     "source_hidden": false
    },
    "microsoft": {
     "language": "python",
     "language_group": "synapse_pyspark"
    },
    "nteract": {
     "transient": {
      "deleting": false
     }
    }
   },
   "outputs": [
    {
     "data": {
      "application/vnd.livy.statement-meta+json": {
       "execution_finish_time": "2024-12-04T10:44:32.5526976Z",
       "execution_start_time": "2024-12-04T10:44:32.2470012Z",
       "livy_statement_state": "available",
       "normalized_state": "finished",
       "parent_msg_id": "208ae89d-9887-480e-b4ad-ec1044f81ecd",
       "queued_time": "2024-12-04T10:44:31.7522671Z",
       "session_id": "c3362933-4b99-4fc4-b98a-e8b07e6c5a39",
       "session_start_time": null,
       "spark_pool": null,
       "state": "finished",
       "statement_id": 126,
       "statement_ids": [
        126
       ]
      },
      "text/plain": [
       "StatementMeta(, c3362933-4b99-4fc4-b98a-e8b07e6c5a39, 126, Finished, Available, Finished)"
      ]
     },
     "metadata": {},
     "output_type": "display_data"
    },
    {
     "data": {
      "text/plain": [
       "ethnicity_16_groups\n",
       "Asian or Asian British - Pakistani      26\n",
       "Black or black British - African        24\n",
       "White                                   22\n",
       "Black or black British - Caribbean       7\n",
       "Other ethnic group                       6\n",
       "Asian or Asian British - Bangladeshi     5\n",
       "Asian or Asian British - Indian          3\n",
       "Mixed - white and black African          2\n",
       "Refused or unknown                       2\n",
       "Asian or Asian British - other           2\n",
       "Mixed - white and Asian                  1\n",
       "Name: count, dtype: int64"
      ]
     },
     "execution_count": 377,
     "metadata": {},
     "output_type": "execute_result"
    }
   ],
   "source": [
    "dfp1_sorted_top100['ethnicity_16_groups'].value_counts()"
   ]
  },
  {
   "cell_type": "markdown",
   "id": "023f6ae9-4727-46e0-ad62-31fed9a83326",
   "metadata": {
    "microsoft": {
     "language": "python",
     "language_group": "synapse_pyspark"
    },
    "nteract": {
     "transient": {
      "deleting": false
     }
    }
   },
   "source": [
    "**Value counts for 'sex' column**"
   ]
  },
  {
   "cell_type": "code",
   "execution_count": 125,
   "id": "3cb1a65d-19fd-4f6e-ab65-62d3f5145f70",
   "metadata": {
    "jupyter": {
     "outputs_hidden": false,
     "source_hidden": false
    },
    "microsoft": {
     "language": "python",
     "language_group": "synapse_pyspark"
    },
    "nteract": {
     "transient": {
      "deleting": false
     }
    }
   },
   "outputs": [
    {
     "data": {
      "application/vnd.livy.statement-meta+json": {
       "execution_finish_time": "2024-12-04T10:44:36.6838232Z",
       "execution_start_time": "2024-12-04T10:44:36.428524Z",
       "livy_statement_state": "available",
       "normalized_state": "finished",
       "parent_msg_id": "db9be534-f92d-444d-b998-18dcc82aa00d",
       "queued_time": "2024-12-04T10:44:35.9428501Z",
       "session_id": "c3362933-4b99-4fc4-b98a-e8b07e6c5a39",
       "session_start_time": null,
       "spark_pool": null,
       "state": "finished",
       "statement_id": 127,
       "statement_ids": [
        127
       ]
      },
      "text/plain": [
       "StatementMeta(, c3362933-4b99-4fc4-b98a-e8b07e6c5a39, 127, Finished, Available, Finished)"
      ]
     },
     "metadata": {},
     "output_type": "display_data"
    },
    {
     "data": {
      "text/plain": [
       "sex\n",
       "Female    79\n",
       "Male      21\n",
       "Name: count, dtype: int64"
      ]
     },
     "execution_count": 380,
     "metadata": {},
     "output_type": "execute_result"
    }
   ],
   "source": [
    "dfp1_sorted_top100['sex'].value_counts()"
   ]
  },
  {
   "cell_type": "markdown",
   "id": "58f0135a-841c-49b3-8588-f2e319c86447",
   "metadata": {
    "microsoft": {
     "language": "python",
     "language_group": "synapse_pyspark"
    },
    "nteract": {
     "transient": {
      "deleting": false
     }
    }
   },
   "source": [
    "**Value counts for 'adult_he_2011_quintile_desc' column**"
   ]
  },
  {
   "cell_type": "code",
   "execution_count": 126,
   "id": "8420a1c2-0bca-4529-99ef-1e734cb4cf70",
   "metadata": {
    "jupyter": {
     "outputs_hidden": false,
     "source_hidden": false
    },
    "microsoft": {
     "language": "python",
     "language_group": "synapse_pyspark"
    },
    "nteract": {
     "transient": {
      "deleting": false
     }
    }
   },
   "outputs": [
    {
     "data": {
      "application/vnd.livy.statement-meta+json": {
       "execution_finish_time": "2024-12-04T10:44:41.140078Z",
       "execution_start_time": "2024-12-04T10:44:40.8977142Z",
       "livy_statement_state": "available",
       "normalized_state": "finished",
       "parent_msg_id": "9ca5caa9-324c-4ae0-826e-a35926f74192",
       "queued_time": "2024-12-04T10:44:40.4241017Z",
       "session_id": "c3362933-4b99-4fc4-b98a-e8b07e6c5a39",
       "session_start_time": null,
       "spark_pool": null,
       "state": "finished",
       "statement_id": 128,
       "statement_ids": [
        128
       ]
      },
      "text/plain": [
       "StatementMeta(, c3362933-4b99-4fc4-b98a-e8b07e6c5a39, 128, Finished, Available, Finished)"
      ]
     },
     "metadata": {},
     "output_type": "display_data"
    },
    {
     "data": {
      "text/plain": [
       "adult_he_2011_quintile_desc\n",
       "Quintile 1    41\n",
       "Quintile 2    27\n",
       "Quintile 3    12\n",
       "Quintile 5    10\n",
       "Quintile 4     9\n",
       "               1\n",
       "Name: count, dtype: int64"
      ]
     },
     "execution_count": 383,
     "metadata": {},
     "output_type": "execute_result"
    }
   ],
   "source": [
    "dfp1_sorted_top100['adult_he_2011_quintile_desc'].value_counts()"
   ]
  },
  {
   "cell_type": "markdown",
   "id": "d43152b2-1291-4ad1-aa8a-a6e226b5a7ce",
   "metadata": {
    "microsoft": {
     "language": "python",
     "language_group": "synapse_pyspark"
    },
    "nteract": {
     "transient": {
      "deleting": false
     }
    }
   },
   "source": [
    "**Value counts for 'imd_desc' column**"
   ]
  },
  {
   "cell_type": "code",
   "execution_count": 127,
   "id": "6126ba7b-108d-4eb2-bf2d-70619dad206c",
   "metadata": {
    "jupyter": {
     "outputs_hidden": false,
     "source_hidden": false
    },
    "microsoft": {
     "language": "python",
     "language_group": "synapse_pyspark"
    },
    "nteract": {
     "transient": {
      "deleting": false
     }
    }
   },
   "outputs": [
    {
     "data": {
      "application/vnd.livy.statement-meta+json": {
       "execution_finish_time": "2024-12-04T10:44:45.3617695Z",
       "execution_start_time": "2024-12-04T10:44:45.0753073Z",
       "livy_statement_state": "available",
       "normalized_state": "finished",
       "parent_msg_id": "0543f822-40ae-4deb-bcca-4bf0251f835d",
       "queued_time": "2024-12-04T10:44:44.5842962Z",
       "session_id": "c3362933-4b99-4fc4-b98a-e8b07e6c5a39",
       "session_start_time": null,
       "spark_pool": null,
       "state": "finished",
       "statement_id": 129,
       "statement_ids": [
        129
       ]
      },
      "text/plain": [
       "StatementMeta(, c3362933-4b99-4fc4-b98a-e8b07e6c5a39, 129, Finished, Available, Finished)"
      ]
     },
     "metadata": {},
     "output_type": "display_data"
    },
    {
     "data": {
      "text/plain": [
       "imd_desc\n",
       "Quintile 1    49\n",
       "Quintile 3    20\n",
       "Quintile 2    18\n",
       "Quintile 4     7\n",
       "Quintile 5     5\n",
       "               1\n",
       "Name: count, dtype: int64"
      ]
     },
     "execution_count": 386,
     "metadata": {},
     "output_type": "execute_result"
    }
   ],
   "source": [
    "dfp1_sorted_top100['imd_desc'].value_counts()"
   ]
  },
  {
   "cell_type": "markdown",
   "id": "8e2b9fb4-8d60-4f29-8197-6106694210b8",
   "metadata": {
    "microsoft": {
     "language": "python",
     "language_group": "synapse_pyspark"
    },
    "nteract": {
     "transient": {
      "deleting": false
     }
    }
   },
   "source": [
    "**Value counts for 'idaci_desc' column**"
   ]
  },
  {
   "cell_type": "code",
   "execution_count": 128,
   "id": "9a061b3a-ac27-4f43-b5ca-82f0ec1c1c75",
   "metadata": {
    "jupyter": {
     "outputs_hidden": false,
     "source_hidden": false
    },
    "microsoft": {
     "language": "python",
     "language_group": "synapse_pyspark"
    },
    "nteract": {
     "transient": {
      "deleting": false
     }
    }
   },
   "outputs": [
    {
     "data": {
      "application/vnd.livy.statement-meta+json": {
       "execution_finish_time": "2024-12-04T10:44:50.3721338Z",
       "execution_start_time": "2024-12-04T10:44:50.120155Z",
       "livy_statement_state": "available",
       "normalized_state": "finished",
       "parent_msg_id": "5b22d74e-0148-401b-8af1-f282751e8599",
       "queued_time": "2024-12-04T10:44:49.6419673Z",
       "session_id": "c3362933-4b99-4fc4-b98a-e8b07e6c5a39",
       "session_start_time": null,
       "spark_pool": null,
       "state": "finished",
       "statement_id": 130,
       "statement_ids": [
        130
       ]
      },
      "text/plain": [
       "StatementMeta(, c3362933-4b99-4fc4-b98a-e8b07e6c5a39, 130, Finished, Available, Finished)"
      ]
     },
     "metadata": {},
     "output_type": "display_data"
    },
    {
     "data": {
      "text/plain": [
       "idaci_desc\n",
       "Quintile 1    44\n",
       "Quintile 3    20\n",
       "Quintile 2    17\n",
       "Quintile 4    11\n",
       "Quintile 5     7\n",
       "               1\n",
       "Name: count, dtype: int64"
      ]
     },
     "execution_count": 389,
     "metadata": {},
     "output_type": "execute_result"
    }
   ],
   "source": [
    "dfp1_sorted_top100['idaci_desc'].value_counts()"
   ]
  },
  {
   "cell_type": "markdown",
   "id": "d1ef1216-dc69-4769-8f5e-fa4b45fb471b",
   "metadata": {
    "microsoft": {
     "language": "python",
     "language_group": "synapse_pyspark"
    },
    "nteract": {
     "transient": {
      "deleting": false
     }
    }
   },
   "source": [
    "**Value counts for 'disability_desc' column**"
   ]
  },
  {
   "cell_type": "code",
   "execution_count": 129,
   "id": "4feba5f1-9ec6-4cb6-ba1f-f53837d10334",
   "metadata": {
    "jupyter": {
     "outputs_hidden": false,
     "source_hidden": false
    },
    "microsoft": {
     "language": "python",
     "language_group": "synapse_pyspark"
    },
    "nteract": {
     "transient": {
      "deleting": false
     }
    }
   },
   "outputs": [
    {
     "data": {
      "application/vnd.livy.statement-meta+json": {
       "execution_finish_time": "2024-12-04T10:44:54.5930089Z",
       "execution_start_time": "2024-12-04T10:44:54.282067Z",
       "livy_statement_state": "available",
       "normalized_state": "finished",
       "parent_msg_id": "6c20634c-f0e0-4221-bb01-1d25b4ae862e",
       "queued_time": "2024-12-04T10:44:53.7793679Z",
       "session_id": "c3362933-4b99-4fc4-b98a-e8b07e6c5a39",
       "session_start_time": null,
       "spark_pool": null,
       "state": "finished",
       "statement_id": 131,
       "statement_ids": [
        131
       ]
      },
      "text/plain": [
       "StatementMeta(, c3362933-4b99-4fc4-b98a-e8b07e6c5a39, 131, Finished, Available, Finished)"
      ]
     },
     "metadata": {},
     "output_type": "display_data"
    },
    {
     "data": {
      "text/plain": [
       "disability_type\n",
       "No disability reported                      67\n",
       "Mental health condition                     21\n",
       "Sensory, medical or physical impairments     5\n",
       "Multiple or other impairments                3\n",
       "Social or communication impairment           3\n",
       "Cognitive or learning difficulties           1\n",
       "Name: count, dtype: int64"
      ]
     },
     "execution_count": 392,
     "metadata": {},
     "output_type": "execute_result"
    }
   ],
   "source": [
    "dfp1_sorted_top100['disability_type'].value_counts()"
   ]
  },
  {
   "cell_type": "markdown",
   "id": "f9c10c09-8eea-4243-ab21-0439b99bb649",
   "metadata": {
    "microsoft": {
     "language": "python",
     "language_group": "synapse_pyspark"
    },
    "nteract": {
     "transient": {
      "deleting": false
     }
    }
   },
   "source": [
    "**Value counts for 'IPLEVEL_x' column**"
   ]
  },
  {
   "cell_type": "code",
   "execution_count": 130,
   "id": "7d205611-0261-4710-a699-5f196d94fbd5",
   "metadata": {
    "jupyter": {
     "outputs_hidden": false,
     "source_hidden": false
    },
    "microsoft": {
     "language": "python",
     "language_group": "synapse_pyspark"
    },
    "nteract": {
     "transient": {
      "deleting": false
     }
    }
   },
   "outputs": [
    {
     "data": {
      "application/vnd.livy.statement-meta+json": {
       "execution_finish_time": "2024-12-04T10:44:58.8486168Z",
       "execution_start_time": "2024-12-04T10:44:58.5599Z",
       "livy_statement_state": "available",
       "normalized_state": "finished",
       "parent_msg_id": "e4f61112-c949-4e71-a4fe-3e25d8ecc802",
       "queued_time": "2024-12-04T10:44:58.1045612Z",
       "session_id": "c3362933-4b99-4fc4-b98a-e8b07e6c5a39",
       "session_start_time": null,
       "spark_pool": null,
       "state": "finished",
       "statement_id": 132,
       "statement_ids": [
        132
       ]
      },
      "text/plain": [
       "StatementMeta(, c3362933-4b99-4fc4-b98a-e8b07e6c5a39, 132, Finished, Available, Finished)"
      ]
     },
     "metadata": {},
     "output_type": "display_data"
    },
    {
     "data": {
      "text/plain": [
       "IPLEVEL_x\n",
       "DEG     70\n",
       "PGTM    24\n",
       "OPGT     4\n",
       "OUG      2\n",
       "Name: count, dtype: int64"
      ]
     },
     "execution_count": 395,
     "metadata": {},
     "output_type": "execute_result"
    }
   ],
   "source": [
    "dfp1_sorted_top100['IPLEVEL_x'].value_counts()"
   ]
  },
  {
   "cell_type": "markdown",
   "id": "4ca6b857-334d-4815-aabd-7682e6dd33e1",
   "metadata": {
    "microsoft": {
     "language": "python",
     "language_group": "synapse_pyspark"
    },
    "nteract": {
     "transient": {
      "deleting": false
     }
    }
   },
   "source": [
    "<mark>**Bottom 100**</mark>"
   ]
  },
  {
   "cell_type": "markdown",
   "id": "64c787a9-4840-473b-924f-aaa8d37d5b4c",
   "metadata": {
    "microsoft": {
     "language": "python",
     "language_group": "synapse_pyspark"
    },
    "nteract": {
     "transient": {
      "deleting": false
     }
    }
   },
   "source": [
    "**Selecting bottom 100 rows**"
   ]
  },
  {
   "cell_type": "code",
   "execution_count": 131,
   "id": "2727ad3c-ae33-4a27-a863-7fbd3f5e73db",
   "metadata": {
    "jupyter": {
     "outputs_hidden": false,
     "source_hidden": false
    },
    "microsoft": {
     "language": "python",
     "language_group": "synapse_pyspark"
    },
    "nteract": {
     "transient": {
      "deleting": false
     }
    }
   },
   "outputs": [
    {
     "data": {
      "application/vnd.livy.statement-meta+json": {
       "execution_finish_time": "2024-12-04T10:45:03.424829Z",
       "execution_start_time": "2024-12-04T10:45:03.1836237Z",
       "livy_statement_state": "available",
       "normalized_state": "finished",
       "parent_msg_id": "89e9d238-6bea-4fb3-bfca-9eb275d41a0a",
       "queued_time": "2024-12-04T10:45:02.7591556Z",
       "session_id": "c3362933-4b99-4fc4-b98a-e8b07e6c5a39",
       "session_start_time": null,
       "spark_pool": null,
       "state": "finished",
       "statement_id": 133,
       "statement_ids": [
        133
       ]
      },
      "text/plain": [
       "StatementMeta(, c3362933-4b99-4fc4-b98a-e8b07e6c5a39, 133, Finished, Available, Finished)"
      ]
     },
     "metadata": {},
     "output_type": "display_data"
    },
    {
     "data": {
      "text/plain": [
       "100"
      ]
     },
     "execution_count": 398,
     "metadata": {},
     "output_type": "execute_result"
    }
   ],
   "source": [
    "dfp1_sorted_bottom100=dfp1_sorted.tail(100)\n",
    "len(dfp1_sorted_bottom100)"
   ]
  },
  {
   "cell_type": "markdown",
   "id": "23911e9b-0b9f-4867-b0aa-ee6d9806a7e5",
   "metadata": {
    "microsoft": {
     "language": "python",
     "language_group": "synapse_pyspark"
    },
    "nteract": {
     "transient": {
      "deleting": false
     }
    }
   },
   "source": [
    "**Value counts for 'IPLEVEL_x' column**"
   ]
  },
  {
   "cell_type": "code",
   "execution_count": 132,
   "id": "8bba819f-df77-4dc6-9e0e-8d6e68934c26",
   "metadata": {
    "jupyter": {
     "outputs_hidden": false,
     "source_hidden": false
    },
    "microsoft": {
     "language": "python",
     "language_group": "synapse_pyspark"
    },
    "nteract": {
     "transient": {
      "deleting": false
     }
    }
   },
   "outputs": [
    {
     "data": {
      "application/vnd.livy.statement-meta+json": {
       "execution_finish_time": "2024-12-04T10:45:08.0045345Z",
       "execution_start_time": "2024-12-04T10:45:07.7625483Z",
       "livy_statement_state": "available",
       "normalized_state": "finished",
       "parent_msg_id": "ef1384c0-0926-4d97-9672-b6f7e8c51156",
       "queued_time": "2024-12-04T10:45:07.3130215Z",
       "session_id": "c3362933-4b99-4fc4-b98a-e8b07e6c5a39",
       "session_start_time": null,
       "spark_pool": null,
       "state": "finished",
       "statement_id": 134,
       "statement_ids": [
        134
       ]
      },
      "text/plain": [
       "StatementMeta(, c3362933-4b99-4fc4-b98a-e8b07e6c5a39, 134, Finished, Available, Finished)"
      ]
     },
     "metadata": {},
     "output_type": "display_data"
    },
    {
     "data": {
      "text/plain": [
       "IPLEVEL_x\n",
       "DEG     73\n",
       "PGTM    19\n",
       "OUG      5\n",
       "OPGT     2\n",
       "PUGO     1\n",
       "Name: count, dtype: int64"
      ]
     },
     "execution_count": 401,
     "metadata": {},
     "output_type": "execute_result"
    }
   ],
   "source": [
    "dfp1_sorted_bottom100['IPLEVEL_x'].value_counts()"
   ]
  },
  {
   "cell_type": "markdown",
   "id": "92709920-b05e-4286-b4d1-1c92c69b44c1",
   "metadata": {
    "microsoft": {
     "language": "python",
     "language_group": "synapse_pyspark"
    },
    "nteract": {
     "transient": {
      "deleting": false
     }
    }
   },
   "source": [
    "**Value counts for 'age_on_entry' column**"
   ]
  },
  {
   "cell_type": "code",
   "execution_count": 133,
   "id": "f44cc997-19dd-4846-a03f-2fc3e36db3b5",
   "metadata": {
    "jupyter": {
     "outputs_hidden": false,
     "source_hidden": false
    },
    "microsoft": {
     "language": "python",
     "language_group": "synapse_pyspark"
    },
    "nteract": {
     "transient": {
      "deleting": false
     }
    }
   },
   "outputs": [
    {
     "data": {
      "application/vnd.livy.statement-meta+json": {
       "execution_finish_time": "2024-12-04T10:45:12.1315158Z",
       "execution_start_time": "2024-12-04T10:45:11.8945372Z",
       "livy_statement_state": "available",
       "normalized_state": "finished",
       "parent_msg_id": "e95f112e-5586-4090-88d0-41bc25c717a9",
       "queued_time": "2024-12-04T10:45:11.3216694Z",
       "session_id": "c3362933-4b99-4fc4-b98a-e8b07e6c5a39",
       "session_start_time": null,
       "spark_pool": null,
       "state": "finished",
       "statement_id": 135,
       "statement_ids": [
        135
       ]
      },
      "text/plain": [
       "StatementMeta(, c3362933-4b99-4fc4-b98a-e8b07e6c5a39, 135, Finished, Available, Finished)"
      ]
     },
     "metadata": {},
     "output_type": "display_data"
    },
    {
     "data": {
      "text/plain": [
       "age_on_entry\n",
       "51+      37\n",
       "41-50    27\n",
       "26-30    21\n",
       "31-40    12\n",
       "21-25     3\n",
       "Name: count, dtype: int64"
      ]
     },
     "execution_count": 404,
     "metadata": {},
     "output_type": "execute_result"
    }
   ],
   "source": [
    "dfp1_sorted_bottom100['age_on_entry'].value_counts()"
   ]
  },
  {
   "cell_type": "markdown",
   "id": "cb309c17-b87d-4e95-a884-51b043c7f97b",
   "metadata": {
    "microsoft": {
     "language": "python",
     "language_group": "synapse_pyspark"
    },
    "nteract": {
     "transient": {
      "deleting": false
     }
    }
   },
   "source": [
    "**Value counts for 'ethnicity_16_groups' column**"
   ]
  },
  {
   "cell_type": "code",
   "execution_count": 134,
   "id": "b02b00f2-805c-4587-be33-5021f305768f",
   "metadata": {
    "jupyter": {
     "outputs_hidden": false,
     "source_hidden": false
    },
    "microsoft": {
     "language": "python",
     "language_group": "synapse_pyspark"
    },
    "nteract": {
     "transient": {
      "deleting": false
     }
    }
   },
   "outputs": [
    {
     "data": {
      "application/vnd.livy.statement-meta+json": {
       "execution_finish_time": "2024-12-04T10:45:16.5380476Z",
       "execution_start_time": "2024-12-04T10:45:16.2921656Z",
       "livy_statement_state": "available",
       "normalized_state": "finished",
       "parent_msg_id": "aeba30b2-0cde-4525-82ce-8bd3d884e522",
       "queued_time": "2024-12-04T10:45:15.727152Z",
       "session_id": "c3362933-4b99-4fc4-b98a-e8b07e6c5a39",
       "session_start_time": null,
       "spark_pool": null,
       "state": "finished",
       "statement_id": 136,
       "statement_ids": [
        136
       ]
      },
      "text/plain": [
       "StatementMeta(, c3362933-4b99-4fc4-b98a-e8b07e6c5a39, 136, Finished, Available, Finished)"
      ]
     },
     "metadata": {},
     "output_type": "display_data"
    },
    {
     "data": {
      "text/plain": [
       "ethnicity_16_groups\n",
       "White                                   35\n",
       "Black or black British - African        26\n",
       "Refused or unknown                      15\n",
       "Asian or Asian British - Indian          7\n",
       "Black or black British - Caribbean       7\n",
       "Asian or Asian British - Bangladeshi     3\n",
       "Asian or Asian British - Pakistani       2\n",
       "Mixed - white and black Caribbean        2\n",
       "Mixed - white and black African          2\n",
       "Other ethnic group                       1\n",
       "Name: count, dtype: int64"
      ]
     },
     "execution_count": 407,
     "metadata": {},
     "output_type": "execute_result"
    }
   ],
   "source": [
    "dfp1_sorted_bottom100['ethnicity_16_groups'].value_counts()"
   ]
  },
  {
   "cell_type": "markdown",
   "id": "a8525f46-2a5d-4c2a-9e12-6850e38c3ffb",
   "metadata": {
    "microsoft": {
     "language": "python",
     "language_group": "synapse_pyspark"
    },
    "nteract": {
     "transient": {
      "deleting": false
     }
    }
   },
   "source": [
    "**Value counts for 'sex' column**"
   ]
  },
  {
   "cell_type": "code",
   "execution_count": 135,
   "id": "5519158e-8d98-4fc4-9f57-2ca03beacd06",
   "metadata": {
    "jupyter": {
     "outputs_hidden": false,
     "source_hidden": false
    },
    "microsoft": {
     "language": "python",
     "language_group": "synapse_pyspark"
    },
    "nteract": {
     "transient": {
      "deleting": false
     }
    }
   },
   "outputs": [
    {
     "data": {
      "application/vnd.livy.statement-meta+json": {
       "execution_finish_time": "2024-12-04T10:45:20.515614Z",
       "execution_start_time": "2024-12-04T10:45:20.2196282Z",
       "livy_statement_state": "available",
       "normalized_state": "finished",
       "parent_msg_id": "5271f0f9-9648-441d-ac90-10720804686e",
       "queued_time": "2024-12-04T10:45:19.8088389Z",
       "session_id": "c3362933-4b99-4fc4-b98a-e8b07e6c5a39",
       "session_start_time": null,
       "spark_pool": null,
       "state": "finished",
       "statement_id": 137,
       "statement_ids": [
        137
       ]
      },
      "text/plain": [
       "StatementMeta(, c3362933-4b99-4fc4-b98a-e8b07e6c5a39, 137, Finished, Available, Finished)"
      ]
     },
     "metadata": {},
     "output_type": "display_data"
    },
    {
     "data": {
      "text/plain": [
       "sex\n",
       "Male      62\n",
       "Female    38\n",
       "Name: count, dtype: int64"
      ]
     },
     "execution_count": 410,
     "metadata": {},
     "output_type": "execute_result"
    }
   ],
   "source": [
    "dfp1_sorted_bottom100['sex'].value_counts()"
   ]
  },
  {
   "cell_type": "markdown",
   "id": "6495b0b4-c44b-4c51-906c-cd34811131d3",
   "metadata": {
    "microsoft": {
     "language": "python",
     "language_group": "synapse_pyspark"
    },
    "nteract": {
     "transient": {
      "deleting": false
     }
    }
   },
   "source": [
    "**Value counts for 'adult_he_2011_quintile_desc' column**"
   ]
  },
  {
   "cell_type": "code",
   "execution_count": 136,
   "id": "580eb35f-9a5d-4ed6-9f9d-eedb4b82803f",
   "metadata": {
    "jupyter": {
     "outputs_hidden": false,
     "source_hidden": false
    },
    "microsoft": {
     "language": "python",
     "language_group": "synapse_pyspark"
    },
    "nteract": {
     "transient": {
      "deleting": false
     }
    }
   },
   "outputs": [
    {
     "data": {
      "application/vnd.livy.statement-meta+json": {
       "execution_finish_time": "2024-12-04T10:45:25.117187Z",
       "execution_start_time": "2024-12-04T10:45:24.8804788Z",
       "livy_statement_state": "available",
       "normalized_state": "finished",
       "parent_msg_id": "0bf5e8c4-9756-4956-b5b4-9bffa235275c",
       "queued_time": "2024-12-04T10:45:24.3998558Z",
       "session_id": "c3362933-4b99-4fc4-b98a-e8b07e6c5a39",
       "session_start_time": null,
       "spark_pool": null,
       "state": "finished",
       "statement_id": 138,
       "statement_ids": [
        138
       ]
      },
      "text/plain": [
       "StatementMeta(, c3362933-4b99-4fc4-b98a-e8b07e6c5a39, 138, Finished, Available, Finished)"
      ]
     },
     "metadata": {},
     "output_type": "display_data"
    },
    {
     "data": {
      "text/plain": [
       "adult_he_2011_quintile_desc\n",
       "Quintile 5    61\n",
       "Quintile 4    25\n",
       "Quintile 3     6\n",
       "Quintile 2     6\n",
       "Quintile 1     2\n",
       "Name: count, dtype: int64"
      ]
     },
     "execution_count": 413,
     "metadata": {},
     "output_type": "execute_result"
    }
   ],
   "source": [
    "dfp1_sorted_bottom100['adult_he_2011_quintile_desc'].value_counts()"
   ]
  },
  {
   "cell_type": "markdown",
   "id": "ed23abde-caed-44a2-ba1d-d5582d512fc4",
   "metadata": {
    "microsoft": {
     "language": "python",
     "language_group": "synapse_pyspark"
    },
    "nteract": {
     "transient": {
      "deleting": false
     }
    }
   },
   "source": [
    "**Value counts for 'imd_desc' column**"
   ]
  },
  {
   "cell_type": "code",
   "execution_count": 137,
   "id": "d7bd8fa1-832d-4ed4-b072-43e083b05d89",
   "metadata": {
    "jupyter": {
     "outputs_hidden": false,
     "source_hidden": false
    },
    "microsoft": {
     "language": "python",
     "language_group": "synapse_pyspark"
    },
    "nteract": {
     "transient": {
      "deleting": false
     }
    }
   },
   "outputs": [
    {
     "data": {
      "application/vnd.livy.statement-meta+json": {
       "execution_finish_time": "2024-12-04T10:45:29.0457022Z",
       "execution_start_time": "2024-12-04T10:45:28.7488118Z",
       "livy_statement_state": "available",
       "normalized_state": "finished",
       "parent_msg_id": "0948f244-52ec-49de-805e-b9994466461e",
       "queued_time": "2024-12-04T10:45:28.2614575Z",
       "session_id": "c3362933-4b99-4fc4-b98a-e8b07e6c5a39",
       "session_start_time": null,
       "spark_pool": null,
       "state": "finished",
       "statement_id": 139,
       "statement_ids": [
        139
       ]
      },
      "text/plain": [
       "StatementMeta(, c3362933-4b99-4fc4-b98a-e8b07e6c5a39, 139, Finished, Available, Finished)"
      ]
     },
     "metadata": {},
     "output_type": "display_data"
    },
    {
     "data": {
      "text/plain": [
       "imd_desc\n",
       "Quintile 5    37\n",
       "Quintile 4    25\n",
       "Quintile 2    20\n",
       "Quintile 3    13\n",
       "Quintile 1     4\n",
       "               1\n",
       "Name: count, dtype: int64"
      ]
     },
     "execution_count": 416,
     "metadata": {},
     "output_type": "execute_result"
    }
   ],
   "source": [
    "dfp1_sorted_bottom100['imd_desc'].value_counts()"
   ]
  },
  {
   "cell_type": "markdown",
   "id": "fc733046-4e99-4c6a-b829-56738a2ec152",
   "metadata": {
    "microsoft": {
     "language": "python",
     "language_group": "synapse_pyspark"
    },
    "nteract": {
     "transient": {
      "deleting": false
     }
    }
   },
   "source": [
    "**Value counts for 'idaci_desc' column**"
   ]
  },
  {
   "cell_type": "code",
   "execution_count": 138,
   "id": "0ddb3e48-68c1-42f9-8666-ca025345d061",
   "metadata": {
    "jupyter": {
     "outputs_hidden": false,
     "source_hidden": false
    },
    "microsoft": {
     "language": "python",
     "language_group": "synapse_pyspark"
    },
    "nteract": {
     "transient": {
      "deleting": false
     }
    }
   },
   "outputs": [
    {
     "data": {
      "application/vnd.livy.statement-meta+json": {
       "execution_finish_time": "2024-12-04T10:45:33.4058247Z",
       "execution_start_time": "2024-12-04T10:45:33.1553089Z",
       "livy_statement_state": "available",
       "normalized_state": "finished",
       "parent_msg_id": "1d86acc8-809d-4d25-9e8a-57bc424cff3d",
       "queued_time": "2024-12-04T10:45:32.7106315Z",
       "session_id": "c3362933-4b99-4fc4-b98a-e8b07e6c5a39",
       "session_start_time": null,
       "spark_pool": null,
       "state": "finished",
       "statement_id": 140,
       "statement_ids": [
        140
       ]
      },
      "text/plain": [
       "StatementMeta(, c3362933-4b99-4fc4-b98a-e8b07e6c5a39, 140, Finished, Available, Finished)"
      ]
     },
     "metadata": {},
     "output_type": "display_data"
    },
    {
     "data": {
      "text/plain": [
       "idaci_desc\n",
       "Quintile 5    43\n",
       "Quintile 2    19\n",
       "Quintile 4    15\n",
       "Quintile 3    11\n",
       "Quintile 1    11\n",
       "               1\n",
       "Name: count, dtype: int64"
      ]
     },
     "execution_count": 419,
     "metadata": {},
     "output_type": "execute_result"
    }
   ],
   "source": [
    "dfp1_sorted_bottom100['idaci_desc'].value_counts()"
   ]
  },
  {
   "cell_type": "markdown",
   "id": "11a5d153-bfb9-4e53-b0b1-e72bd490351a",
   "metadata": {
    "microsoft": {
     "language": "python",
     "language_group": "synapse_pyspark"
    },
    "nteract": {
     "transient": {
      "deleting": false
     }
    }
   },
   "source": [
    "**Value counts for 'disability_type' column**"
   ]
  },
  {
   "cell_type": "code",
   "execution_count": 139,
   "id": "f55f5ef1-f8b4-4a9e-a1eb-876bb056909e",
   "metadata": {
    "jupyter": {
     "outputs_hidden": false,
     "source_hidden": false
    },
    "microsoft": {
     "language": "python",
     "language_group": "synapse_pyspark"
    },
    "nteract": {
     "transient": {
      "deleting": false
     }
    }
   },
   "outputs": [
    {
     "data": {
      "application/vnd.livy.statement-meta+json": {
       "execution_finish_time": "2024-12-04T10:45:38.4750844Z",
       "execution_start_time": "2024-12-04T10:45:38.234294Z",
       "livy_statement_state": "available",
       "normalized_state": "finished",
       "parent_msg_id": "253fed9d-6994-45eb-96b6-5740b783777d",
       "queued_time": "2024-12-04T10:45:37.8016343Z",
       "session_id": "c3362933-4b99-4fc4-b98a-e8b07e6c5a39",
       "session_start_time": null,
       "spark_pool": null,
       "state": "finished",
       "statement_id": 141,
       "statement_ids": [
        141
       ]
      },
      "text/plain": [
       "StatementMeta(, c3362933-4b99-4fc4-b98a-e8b07e6c5a39, 141, Finished, Available, Finished)"
      ]
     },
     "metadata": {},
     "output_type": "display_data"
    },
    {
     "data": {
      "text/plain": [
       "disability_type\n",
       "No disability reported                      91\n",
       "Sensory, medical or physical impairments     5\n",
       "Cognitive or learning difficulties           3\n",
       "Multiple or other impairments                1\n",
       "Name: count, dtype: int64"
      ]
     },
     "execution_count": 422,
     "metadata": {},
     "output_type": "execute_result"
    }
   ],
   "source": [
    "dfp1_sorted_bottom100['disability_type'].value_counts()"
   ]
  },
  {
   "cell_type": "markdown",
   "id": "5cd297d7-5cb5-4a01-9e2f-c058e7f0fd98",
   "metadata": {
    "microsoft": {
     "language": "python",
     "language_group": "synapse_pyspark"
    },
    "nteract": {
     "transient": {
      "deleting": false
     }
    }
   },
   "source": [
    "<mark>**TOP 200**</mark>"
   ]
  },
  {
   "cell_type": "markdown",
   "id": "3aa6980c-266a-4649-bd08-ef53164ec940",
   "metadata": {
    "microsoft": {
     "language": "python",
     "language_group": "synapse_pyspark"
    },
    "nteract": {
     "transient": {
      "deleting": false
     }
    }
   },
   "source": [
    "**Selecting top 200 rows**"
   ]
  },
  {
   "cell_type": "code",
   "execution_count": 140,
   "id": "90ccdb2e-b927-479e-8173-d18cd6b4da6e",
   "metadata": {
    "jupyter": {
     "outputs_hidden": false,
     "source_hidden": false
    },
    "microsoft": {
     "language": "python",
     "language_group": "synapse_pyspark"
    },
    "nteract": {
     "transient": {
      "deleting": false
     }
    }
   },
   "outputs": [
    {
     "data": {
      "application/vnd.livy.statement-meta+json": {
       "execution_finish_time": "2024-12-04T10:45:43.0864684Z",
       "execution_start_time": "2024-12-04T10:45:42.824547Z",
       "livy_statement_state": "available",
       "normalized_state": "finished",
       "parent_msg_id": "adebfad2-8600-4959-834a-e5332ab3e54b",
       "queued_time": "2024-12-04T10:45:42.3120002Z",
       "session_id": "c3362933-4b99-4fc4-b98a-e8b07e6c5a39",
       "session_start_time": null,
       "spark_pool": null,
       "state": "finished",
       "statement_id": 142,
       "statement_ids": [
        142
       ]
      },
      "text/plain": [
       "StatementMeta(, c3362933-4b99-4fc4-b98a-e8b07e6c5a39, 142, Finished, Available, Finished)"
      ]
     },
     "metadata": {},
     "output_type": "display_data"
    },
    {
     "data": {
      "text/plain": [
       "Index(['StudentNumber', 'IPLEVEL_x', 'age_on_entry', 'ethnicity_16_groups',\n",
       "       'sex', 'adult_he_2011_quintile_desc', 'imd_desc', 'idaci_desc',\n",
       "       'disability_type', 'IPSTARTMODE', 'Concatenated_column',\n",
       "       'Actual_Outcome', 'Predicted_outcome_rate',\n",
       "       'Derived_progression_quintile'],\n",
       "      dtype='object')"
      ]
     },
     "execution_count": 425,
     "metadata": {},
     "output_type": "execute_result"
    }
   ],
   "source": [
    "dfp1_sorted_top200=dfp1_sorted.head(200)\n",
    "dfp1_sorted_top200.columns"
   ]
  },
  {
   "cell_type": "markdown",
   "id": "34ddcf22-991c-4b14-afff-94a4f95a1dff",
   "metadata": {
    "microsoft": {
     "language": "python",
     "language_group": "synapse_pyspark"
    },
    "nteract": {
     "transient": {
      "deleting": false
     }
    }
   },
   "source": [
    "**Value counts for 'age_on_entry' column**"
   ]
  },
  {
   "cell_type": "code",
   "execution_count": 141,
   "id": "463fd0c1-0a2e-422a-aece-144d13f20d31",
   "metadata": {
    "jupyter": {
     "outputs_hidden": false,
     "source_hidden": false
    },
    "microsoft": {
     "language": "python",
     "language_group": "synapse_pyspark"
    },
    "nteract": {
     "transient": {
      "deleting": false
     }
    }
   },
   "outputs": [
    {
     "data": {
      "application/vnd.livy.statement-meta+json": {
       "execution_finish_time": "2024-12-04T10:45:46.8016705Z",
       "execution_start_time": "2024-12-04T10:45:46.4929191Z",
       "livy_statement_state": "available",
       "normalized_state": "finished",
       "parent_msg_id": "d0333dd8-7756-49f2-9674-fb78f5321951",
       "queued_time": "2024-12-04T10:45:46.0379899Z",
       "session_id": "c3362933-4b99-4fc4-b98a-e8b07e6c5a39",
       "session_start_time": null,
       "spark_pool": null,
       "state": "finished",
       "statement_id": 143,
       "statement_ids": [
        143
       ]
      },
      "text/plain": [
       "StatementMeta(, c3362933-4b99-4fc4-b98a-e8b07e6c5a39, 143, Finished, Available, Finished)"
      ]
     },
     "metadata": {},
     "output_type": "display_data"
    },
    {
     "data": {
      "text/plain": [
       "age_on_entry\n",
       "31-40    72\n",
       "21-25    71\n",
       "41-50    36\n",
       "26-30    21\n",
       "Name: count, dtype: int64"
      ]
     },
     "execution_count": 428,
     "metadata": {},
     "output_type": "execute_result"
    }
   ],
   "source": [
    "dfp1_sorted_top200['age_on_entry'].value_counts()"
   ]
  },
  {
   "cell_type": "markdown",
   "id": "87c58262-38fb-441c-86b9-c12c6255bf5a",
   "metadata": {
    "microsoft": {
     "language": "python",
     "language_group": "synapse_pyspark"
    },
    "nteract": {
     "transient": {
      "deleting": false
     }
    }
   },
   "source": [
    "**Value counts for 'ethnicity_16_groups' column**"
   ]
  },
  {
   "cell_type": "code",
   "execution_count": 142,
   "id": "7e99241f-749c-49af-8458-c674987c6cb0",
   "metadata": {
    "jupyter": {
     "outputs_hidden": false,
     "source_hidden": false
    },
    "microsoft": {
     "language": "python",
     "language_group": "synapse_pyspark"
    },
    "nteract": {
     "transient": {
      "deleting": false
     }
    }
   },
   "outputs": [
    {
     "data": {
      "application/vnd.livy.statement-meta+json": {
       "execution_finish_time": "2024-12-04T10:45:50.8937436Z",
       "execution_start_time": "2024-12-04T10:45:50.6617408Z",
       "livy_statement_state": "available",
       "normalized_state": "finished",
       "parent_msg_id": "a2478a10-da6c-4161-8ab0-5b791dd9c96c",
       "queued_time": "2024-12-04T10:45:50.2017632Z",
       "session_id": "c3362933-4b99-4fc4-b98a-e8b07e6c5a39",
       "session_start_time": null,
       "spark_pool": null,
       "state": "finished",
       "statement_id": 144,
       "statement_ids": [
        144
       ]
      },
      "text/plain": [
       "StatementMeta(, c3362933-4b99-4fc4-b98a-e8b07e6c5a39, 144, Finished, Available, Finished)"
      ]
     },
     "metadata": {},
     "output_type": "display_data"
    },
    {
     "data": {
      "text/plain": [
       "ethnicity_16_groups\n",
       "White                                   62\n",
       "Black or black British - African        56\n",
       "Asian or Asian British - Pakistani      34\n",
       "Black or black British - Caribbean      17\n",
       "Other ethnic group                       8\n",
       "Asian or Asian British - Bangladeshi     5\n",
       "Asian or Asian British - Indian          5\n",
       "Asian or Asian British - other           4\n",
       "Mixed - white and black African          3\n",
       "Refused or unknown                       3\n",
       "Mixed - white and black Caribbean        2\n",
       "Mixed - white and Asian                  1\n",
       "Name: count, dtype: int64"
      ]
     },
     "execution_count": 431,
     "metadata": {},
     "output_type": "execute_result"
    }
   ],
   "source": [
    "dfp1_sorted_top200['ethnicity_16_groups'].value_counts()\n"
   ]
  },
  {
   "cell_type": "markdown",
   "id": "8b12f63d-ec7e-49cd-ab4d-e15c3981d4f9",
   "metadata": {
    "microsoft": {
     "language": "python",
     "language_group": "synapse_pyspark"
    },
    "nteract": {
     "transient": {
      "deleting": false
     }
    }
   },
   "source": [
    "**Value counts for 'sex' column**"
   ]
  },
  {
   "cell_type": "code",
   "execution_count": 143,
   "id": "d818d617-8cc5-4ac3-b8f3-5d1c8f217452",
   "metadata": {
    "jupyter": {
     "outputs_hidden": false,
     "source_hidden": false
    },
    "microsoft": {
     "language": "python",
     "language_group": "synapse_pyspark"
    },
    "nteract": {
     "transient": {
      "deleting": false
     }
    }
   },
   "outputs": [
    {
     "data": {
      "application/vnd.livy.statement-meta+json": {
       "execution_finish_time": "2024-12-04T10:45:55.577377Z",
       "execution_start_time": "2024-12-04T10:45:55.2933635Z",
       "livy_statement_state": "available",
       "normalized_state": "finished",
       "parent_msg_id": "72079f9b-5cfd-4c7f-8b9e-76476dec4486",
       "queued_time": "2024-12-04T10:45:54.8109202Z",
       "session_id": "c3362933-4b99-4fc4-b98a-e8b07e6c5a39",
       "session_start_time": null,
       "spark_pool": null,
       "state": "finished",
       "statement_id": 145,
       "statement_ids": [
        145
       ]
      },
      "text/plain": [
       "StatementMeta(, c3362933-4b99-4fc4-b98a-e8b07e6c5a39, 145, Finished, Available, Finished)"
      ]
     },
     "metadata": {},
     "output_type": "display_data"
    },
    {
     "data": {
      "text/plain": [
       "sex\n",
       "Female    164\n",
       "Male       36\n",
       "Name: count, dtype: int64"
      ]
     },
     "execution_count": 434,
     "metadata": {},
     "output_type": "execute_result"
    }
   ],
   "source": [
    "dfp1_sorted_top200['sex'].value_counts()\n"
   ]
  },
  {
   "cell_type": "markdown",
   "id": "0d7d345c-2757-4b8e-a411-92f8ed94d91d",
   "metadata": {
    "microsoft": {
     "language": "python",
     "language_group": "synapse_pyspark"
    },
    "nteract": {
     "transient": {
      "deleting": false
     }
    }
   },
   "source": [
    "**Value counts for 'adult_he_2011_quintile_desc' column**"
   ]
  },
  {
   "cell_type": "code",
   "execution_count": 144,
   "id": "5d11b135-662f-4e8e-8425-c8c7018f08aa",
   "metadata": {
    "jupyter": {
     "outputs_hidden": false,
     "source_hidden": false
    },
    "microsoft": {
     "language": "python",
     "language_group": "synapse_pyspark"
    },
    "nteract": {
     "transient": {
      "deleting": false
     }
    }
   },
   "outputs": [
    {
     "data": {
      "application/vnd.livy.statement-meta+json": {
       "execution_finish_time": "2024-12-04T10:45:58.9227459Z",
       "execution_start_time": "2024-12-04T10:45:58.6324664Z",
       "livy_statement_state": "available",
       "normalized_state": "finished",
       "parent_msg_id": "d2e6856f-1133-4350-bfe6-30fb7726afe8",
       "queued_time": "2024-12-04T10:45:58.1840752Z",
       "session_id": "c3362933-4b99-4fc4-b98a-e8b07e6c5a39",
       "session_start_time": null,
       "spark_pool": null,
       "state": "finished",
       "statement_id": 146,
       "statement_ids": [
        146
       ]
      },
      "text/plain": [
       "StatementMeta(, c3362933-4b99-4fc4-b98a-e8b07e6c5a39, 146, Finished, Available, Finished)"
      ]
     },
     "metadata": {},
     "output_type": "display_data"
    },
    {
     "data": {
      "text/plain": [
       "adult_he_2011_quintile_desc\n",
       "Quintile 1    74\n",
       "Quintile 2    55\n",
       "Quintile 3    30\n",
       "Quintile 4    22\n",
       "Quintile 5    17\n",
       "               2\n",
       "Name: count, dtype: int64"
      ]
     },
     "execution_count": 437,
     "metadata": {},
     "output_type": "execute_result"
    }
   ],
   "source": [
    "dfp1_sorted_top200['adult_he_2011_quintile_desc'].value_counts()\n"
   ]
  },
  {
   "cell_type": "markdown",
   "id": "ab931b6b-f523-4d78-b54f-7223716f7801",
   "metadata": {
    "microsoft": {
     "language": "python",
     "language_group": "synapse_pyspark"
    },
    "nteract": {
     "transient": {
      "deleting": false
     }
    }
   },
   "source": [
    "**Value counts for 'imd_desc' column**"
   ]
  },
  {
   "cell_type": "code",
   "execution_count": 145,
   "id": "8cf711d7-cfe7-4d84-84eb-832f79f67528",
   "metadata": {
    "jupyter": {
     "outputs_hidden": false,
     "source_hidden": false
    },
    "microsoft": {
     "language": "python",
     "language_group": "synapse_pyspark"
    },
    "nteract": {
     "transient": {
      "deleting": false
     }
    }
   },
   "outputs": [
    {
     "data": {
      "application/vnd.livy.statement-meta+json": {
       "execution_finish_time": "2024-12-04T10:46:02.4418329Z",
       "execution_start_time": "2024-12-04T10:46:02.2035088Z",
       "livy_statement_state": "available",
       "normalized_state": "finished",
       "parent_msg_id": "9d03cfb7-2881-4836-b255-a80ff87d34fe",
       "queued_time": "2024-12-04T10:46:01.6700787Z",
       "session_id": "c3362933-4b99-4fc4-b98a-e8b07e6c5a39",
       "session_start_time": null,
       "spark_pool": null,
       "state": "finished",
       "statement_id": 147,
       "statement_ids": [
        147
       ]
      },
      "text/plain": [
       "StatementMeta(, c3362933-4b99-4fc4-b98a-e8b07e6c5a39, 147, Finished, Available, Finished)"
      ]
     },
     "metadata": {},
     "output_type": "display_data"
    },
    {
     "data": {
      "text/plain": [
       "imd_desc\n",
       "Quintile 1    99\n",
       "Quintile 2    44\n",
       "Quintile 3    34\n",
       "Quintile 4    11\n",
       "Quintile 5     7\n",
       "               5\n",
       "Name: count, dtype: int64"
      ]
     },
     "execution_count": 440,
     "metadata": {},
     "output_type": "execute_result"
    }
   ],
   "source": [
    "dfp1_sorted_top200['imd_desc'].value_counts()\n"
   ]
  },
  {
   "cell_type": "markdown",
   "id": "eff9fb71-6266-4367-a834-59d5ec920594",
   "metadata": {
    "microsoft": {
     "language": "python",
     "language_group": "synapse_pyspark"
    },
    "nteract": {
     "transient": {
      "deleting": false
     }
    }
   },
   "source": [
    "**Value counts for 'idaci_desc' column**"
   ]
  },
  {
   "cell_type": "code",
   "execution_count": 146,
   "id": "bdd4c844-8a47-42e4-9a7e-8031c87d97c3",
   "metadata": {
    "jupyter": {
     "outputs_hidden": false,
     "source_hidden": false
    },
    "microsoft": {
     "language": "python",
     "language_group": "synapse_pyspark"
    },
    "nteract": {
     "transient": {
      "deleting": false
     }
    }
   },
   "outputs": [
    {
     "data": {
      "application/vnd.livy.statement-meta+json": {
       "execution_finish_time": "2024-12-04T10:46:04.6237219Z",
       "execution_start_time": "2024-12-04T10:46:04.3873578Z",
       "livy_statement_state": "available",
       "normalized_state": "finished",
       "parent_msg_id": "d7e6f896-214a-4ead-889b-ec06bd2e2d4d",
       "queued_time": "2024-12-04T10:46:03.9054954Z",
       "session_id": "c3362933-4b99-4fc4-b98a-e8b07e6c5a39",
       "session_start_time": null,
       "spark_pool": null,
       "state": "finished",
       "statement_id": 148,
       "statement_ids": [
        148
       ]
      },
      "text/plain": [
       "StatementMeta(, c3362933-4b99-4fc4-b98a-e8b07e6c5a39, 148, Finished, Available, Finished)"
      ]
     },
     "metadata": {},
     "output_type": "display_data"
    },
    {
     "data": {
      "text/plain": [
       "idaci_desc\n",
       "Quintile 1    95\n",
       "Quintile 3    43\n",
       "Quintile 2    33\n",
       "Quintile 4    16\n",
       "Quintile 5     8\n",
       "               5\n",
       "Name: count, dtype: int64"
      ]
     },
     "execution_count": 443,
     "metadata": {},
     "output_type": "execute_result"
    }
   ],
   "source": [
    "dfp1_sorted_top200['idaci_desc'].value_counts()\n"
   ]
  },
  {
   "cell_type": "markdown",
   "id": "95a520b0-2c46-43c7-a8e0-9487008c4d48",
   "metadata": {
    "microsoft": {
     "language": "python",
     "language_group": "synapse_pyspark"
    },
    "nteract": {
     "transient": {
      "deleting": false
     }
    }
   },
   "source": [
    "**Value counts for 'disability_type' column**"
   ]
  },
  {
   "cell_type": "code",
   "execution_count": 147,
   "id": "ca601e49-95e8-4b62-a8ca-9fa39cae37ef",
   "metadata": {
    "jupyter": {
     "outputs_hidden": false,
     "source_hidden": false
    },
    "microsoft": {
     "language": "python",
     "language_group": "synapse_pyspark"
    },
    "nteract": {
     "transient": {
      "deleting": false
     }
    }
   },
   "outputs": [
    {
     "data": {
      "application/vnd.livy.statement-meta+json": {
       "execution_finish_time": "2024-12-04T10:46:09.3783816Z",
       "execution_start_time": "2024-12-04T10:46:09.0814744Z",
       "livy_statement_state": "available",
       "normalized_state": "finished",
       "parent_msg_id": "76846fee-7fb2-47e1-ba8a-5a3b1c283dda",
       "queued_time": "2024-12-04T10:46:08.6148226Z",
       "session_id": "c3362933-4b99-4fc4-b98a-e8b07e6c5a39",
       "session_start_time": null,
       "spark_pool": null,
       "state": "finished",
       "statement_id": 149,
       "statement_ids": [
        149
       ]
      },
      "text/plain": [
       "StatementMeta(, c3362933-4b99-4fc4-b98a-e8b07e6c5a39, 149, Finished, Available, Finished)"
      ]
     },
     "metadata": {},
     "output_type": "display_data"
    },
    {
     "data": {
      "text/plain": [
       "disability_type\n",
       "No disability reported                      150\n",
       "Mental health condition                      28\n",
       "Sensory, medical or physical impairments     11\n",
       "Multiple or other impairments                 5\n",
       "Cognitive or learning difficulties            3\n",
       "Social or communication impairment            3\n",
       "Name: count, dtype: int64"
      ]
     },
     "execution_count": 446,
     "metadata": {},
     "output_type": "execute_result"
    }
   ],
   "source": [
    "dfp1_sorted_top200['disability_type'].value_counts()\n"
   ]
  },
  {
   "cell_type": "markdown",
   "id": "f0736bb3-fd07-423e-b443-f7e15f3ba3c7",
   "metadata": {
    "microsoft": {
     "language": "python",
     "language_group": "synapse_pyspark"
    },
    "nteract": {
     "transient": {
      "deleting": false
     }
    }
   },
   "source": [
    "**<mark>Bottom 200</mark>**"
   ]
  },
  {
   "cell_type": "markdown",
   "id": "9eb4c340-24a8-4ca4-a1c8-9083010d80c8",
   "metadata": {
    "microsoft": {
     "language": "python",
     "language_group": "synapse_pyspark"
    },
    "nteract": {
     "transient": {
      "deleting": false
     }
    }
   },
   "source": [
    "**Selecting bottom 200 rows**"
   ]
  },
  {
   "cell_type": "code",
   "execution_count": 148,
   "id": "61e74da4-895e-42bf-87f7-a72fc29652eb",
   "metadata": {
    "jupyter": {
     "outputs_hidden": false,
     "source_hidden": false
    },
    "microsoft": {
     "language": "python",
     "language_group": "synapse_pyspark"
    },
    "nteract": {
     "transient": {
      "deleting": false
     }
    }
   },
   "outputs": [
    {
     "data": {
      "application/vnd.livy.statement-meta+json": {
       "execution_finish_time": "2024-12-04T10:46:13.3439419Z",
       "execution_start_time": "2024-12-04T10:46:13.0702381Z",
       "livy_statement_state": "available",
       "normalized_state": "finished",
       "parent_msg_id": "d11c883e-b1c5-4451-9333-cdb12f431e3a",
       "queued_time": "2024-12-04T10:46:12.6200491Z",
       "session_id": "c3362933-4b99-4fc4-b98a-e8b07e6c5a39",
       "session_start_time": null,
       "spark_pool": null,
       "state": "finished",
       "statement_id": 150,
       "statement_ids": [
        150
       ]
      },
      "text/plain": [
       "StatementMeta(, c3362933-4b99-4fc4-b98a-e8b07e6c5a39, 150, Finished, Available, Finished)"
      ]
     },
     "metadata": {},
     "output_type": "display_data"
    },
    {
     "data": {
      "text/plain": [
       "Index(['StudentNumber', 'IPLEVEL_x', 'age_on_entry', 'ethnicity_16_groups',\n",
       "       'sex', 'adult_he_2011_quintile_desc', 'imd_desc', 'idaci_desc',\n",
       "       'disability_type', 'IPSTARTMODE', 'Concatenated_column',\n",
       "       'Actual_Outcome', 'Predicted_outcome_rate',\n",
       "       'Derived_progression_quintile'],\n",
       "      dtype='object')"
      ]
     },
     "execution_count": 449,
     "metadata": {},
     "output_type": "execute_result"
    }
   ],
   "source": [
    "dfp1_sorted_bottom200=dfp1_sorted.tail(200)\n",
    "dfp1_sorted_bottom200.columns"
   ]
  },
  {
   "cell_type": "markdown",
   "id": "65a97d68-c5e1-44e5-b119-ed1e9e9997c2",
   "metadata": {
    "microsoft": {
     "language": "python",
     "language_group": "synapse_pyspark"
    },
    "nteract": {
     "transient": {
      "deleting": false
     }
    }
   },
   "source": [
    "**Value counts for 'age_on_entry' column**"
   ]
  },
  {
   "cell_type": "code",
   "execution_count": 149,
   "id": "73856097-2d55-470e-a42f-afcdc3801fc9",
   "metadata": {
    "jupyter": {
     "outputs_hidden": false,
     "source_hidden": false
    },
    "microsoft": {
     "language": "python",
     "language_group": "synapse_pyspark"
    },
    "nteract": {
     "transient": {
      "deleting": false
     }
    }
   },
   "outputs": [
    {
     "data": {
      "application/vnd.livy.statement-meta+json": {
       "execution_finish_time": "2024-12-04T10:46:16.6040145Z",
       "execution_start_time": "2024-12-04T10:46:16.3485548Z",
       "livy_statement_state": "available",
       "normalized_state": "finished",
       "parent_msg_id": "de569328-8eb7-4976-8272-6e2698d8657a",
       "queued_time": "2024-12-04T10:46:15.8044231Z",
       "session_id": "c3362933-4b99-4fc4-b98a-e8b07e6c5a39",
       "session_start_time": null,
       "spark_pool": null,
       "state": "finished",
       "statement_id": 151,
       "statement_ids": [
        151
       ]
      },
      "text/plain": [
       "StatementMeta(, c3362933-4b99-4fc4-b98a-e8b07e6c5a39, 151, Finished, Available, Finished)"
      ]
     },
     "metadata": {},
     "output_type": "display_data"
    },
    {
     "data": {
      "text/plain": [
       "age_on_entry\n",
       "51+      71\n",
       "41-50    49\n",
       "26-30    41\n",
       "31-40    31\n",
       "21-25     8\n",
       "Name: count, dtype: int64"
      ]
     },
     "execution_count": 452,
     "metadata": {},
     "output_type": "execute_result"
    }
   ],
   "source": [
    "dfp1_sorted_bottom200['age_on_entry'].value_counts()"
   ]
  },
  {
   "cell_type": "markdown",
   "id": "d2b333ac-669d-4140-9f85-43984cd224ce",
   "metadata": {
    "microsoft": {
     "language": "python",
     "language_group": "synapse_pyspark"
    },
    "nteract": {
     "transient": {
      "deleting": false
     }
    }
   },
   "source": [
    "**Value counts for 'ethnicity_16_groups' column**"
   ]
  },
  {
   "cell_type": "code",
   "execution_count": 150,
   "id": "99e9430e-70d9-48f7-88ea-98d6ae0e0d57",
   "metadata": {
    "jupyter": {
     "outputs_hidden": false,
     "source_hidden": false
    },
    "microsoft": {
     "language": "python",
     "language_group": "synapse_pyspark"
    },
    "nteract": {
     "transient": {
      "deleting": false
     }
    }
   },
   "outputs": [
    {
     "data": {
      "application/vnd.livy.statement-meta+json": {
       "execution_finish_time": "2024-12-04T10:46:20.462861Z",
       "execution_start_time": "2024-12-04T10:46:20.2254614Z",
       "livy_statement_state": "available",
       "normalized_state": "finished",
       "parent_msg_id": "6255613d-eea6-4213-9994-ed781be26662",
       "queued_time": "2024-12-04T10:46:19.7854263Z",
       "session_id": "c3362933-4b99-4fc4-b98a-e8b07e6c5a39",
       "session_start_time": null,
       "spark_pool": null,
       "state": "finished",
       "statement_id": 152,
       "statement_ids": [
        152
       ]
      },
      "text/plain": [
       "StatementMeta(, c3362933-4b99-4fc4-b98a-e8b07e6c5a39, 152, Finished, Available, Finished)"
      ]
     },
     "metadata": {},
     "output_type": "display_data"
    },
    {
     "data": {
      "text/plain": [
       "ethnicity_16_groups\n",
       "White                                   90\n",
       "Black or black British - African        54\n",
       "Refused or unknown                      19\n",
       "Black or black British - Caribbean      12\n",
       "Asian or Asian British - Indian          8\n",
       "Asian or Asian British - Bangladeshi     7\n",
       "Asian or Asian British - Pakistani       3\n",
       "Other ethnic group                       2\n",
       "Mixed - white and black Caribbean        2\n",
       "Mixed - white and black African          2\n",
       "Asian or Asian British - other           1\n",
       "Name: count, dtype: int64"
      ]
     },
     "execution_count": 455,
     "metadata": {},
     "output_type": "execute_result"
    }
   ],
   "source": [
    "dfp1_sorted_bottom200['ethnicity_16_groups'].value_counts()\n"
   ]
  },
  {
   "cell_type": "markdown",
   "id": "a063ceb7-5846-4410-87fa-11bb429a3580",
   "metadata": {
    "microsoft": {
     "language": "python",
     "language_group": "synapse_pyspark"
    },
    "nteract": {
     "transient": {
      "deleting": false
     }
    }
   },
   "source": [
    "**Value counts for 'sex' column**"
   ]
  },
  {
   "cell_type": "code",
   "execution_count": 151,
   "id": "4b8aabcf-2225-4a71-a984-0850d35f98d9",
   "metadata": {
    "jupyter": {
     "outputs_hidden": false,
     "source_hidden": false
    },
    "microsoft": {
     "language": "python",
     "language_group": "synapse_pyspark"
    },
    "nteract": {
     "transient": {
      "deleting": false
     }
    }
   },
   "outputs": [
    {
     "data": {
      "application/vnd.livy.statement-meta+json": {
       "execution_finish_time": "2024-12-04T10:46:22.6333029Z",
       "execution_start_time": "2024-12-04T10:46:22.3605994Z",
       "livy_statement_state": "available",
       "normalized_state": "finished",
       "parent_msg_id": "b1abab09-09d9-4101-a4b3-f6ae9630a393",
       "queued_time": "2024-12-04T10:46:21.795635Z",
       "session_id": "c3362933-4b99-4fc4-b98a-e8b07e6c5a39",
       "session_start_time": null,
       "spark_pool": null,
       "state": "finished",
       "statement_id": 153,
       "statement_ids": [
        153
       ]
      },
      "text/plain": [
       "StatementMeta(, c3362933-4b99-4fc4-b98a-e8b07e6c5a39, 153, Finished, Available, Finished)"
      ]
     },
     "metadata": {},
     "output_type": "display_data"
    },
    {
     "data": {
      "text/plain": [
       "sex\n",
       "Male      119\n",
       "Female     81\n",
       "Name: count, dtype: int64"
      ]
     },
     "execution_count": 458,
     "metadata": {},
     "output_type": "execute_result"
    }
   ],
   "source": [
    "dfp1_sorted_bottom200['sex'].value_counts()\n"
   ]
  },
  {
   "cell_type": "markdown",
   "id": "ab170a05-38f9-4f93-a2c7-6ceecba1e1ba",
   "metadata": {
    "microsoft": {
     "language": "python",
     "language_group": "synapse_pyspark"
    },
    "nteract": {
     "transient": {
      "deleting": false
     }
    }
   },
   "source": [
    "**Value counts for 'adult_he_2011_quintile_desc' column**"
   ]
  },
  {
   "cell_type": "code",
   "execution_count": 152,
   "id": "bdb6edd7-4de3-40f6-b385-6d3d7fc9fbfe",
   "metadata": {
    "jupyter": {
     "outputs_hidden": false,
     "source_hidden": false
    },
    "microsoft": {
     "language": "python",
     "language_group": "synapse_pyspark"
    },
    "nteract": {
     "transient": {
      "deleting": false
     }
    }
   },
   "outputs": [
    {
     "data": {
      "application/vnd.livy.statement-meta+json": {
       "execution_finish_time": "2024-12-04T10:46:26.7808792Z",
       "execution_start_time": "2024-12-04T10:46:26.5470722Z",
       "livy_statement_state": "available",
       "normalized_state": "finished",
       "parent_msg_id": "89e8cf1a-af8b-4641-9021-d20e3cec87da",
       "queued_time": "2024-12-04T10:46:26.0334712Z",
       "session_id": "c3362933-4b99-4fc4-b98a-e8b07e6c5a39",
       "session_start_time": null,
       "spark_pool": null,
       "state": "finished",
       "statement_id": 154,
       "statement_ids": [
        154
       ]
      },
      "text/plain": [
       "StatementMeta(, c3362933-4b99-4fc4-b98a-e8b07e6c5a39, 154, Finished, Available, Finished)"
      ]
     },
     "metadata": {},
     "output_type": "display_data"
    },
    {
     "data": {
      "text/plain": [
       "adult_he_2011_quintile_desc\n",
       "Quintile 5    107\n",
       "Quintile 4     58\n",
       "Quintile 3     18\n",
       "Quintile 2     10\n",
       "Quintile 1      6\n",
       "                1\n",
       "Name: count, dtype: int64"
      ]
     },
     "execution_count": 461,
     "metadata": {},
     "output_type": "execute_result"
    }
   ],
   "source": [
    "dfp1_sorted_bottom200['adult_he_2011_quintile_desc'].value_counts()"
   ]
  },
  {
   "cell_type": "markdown",
   "id": "56bc8005-7658-440a-a44f-2eaa03effce0",
   "metadata": {
    "microsoft": {
     "language": "python",
     "language_group": "synapse_pyspark"
    },
    "nteract": {
     "transient": {
      "deleting": false
     }
    }
   },
   "source": [
    "**Value counts for 'imd_desc' column**"
   ]
  },
  {
   "cell_type": "code",
   "execution_count": 153,
   "id": "1e1ac063-62b4-46d1-a1ab-94e890c7092b",
   "metadata": {
    "jupyter": {
     "outputs_hidden": false,
     "source_hidden": false
    },
    "microsoft": {
     "language": "python",
     "language_group": "synapse_pyspark"
    },
    "nteract": {
     "transient": {
      "deleting": false
     }
    }
   },
   "outputs": [
    {
     "data": {
      "application/vnd.livy.statement-meta+json": {
       "execution_finish_time": "2024-12-04T10:46:28.8176096Z",
       "execution_start_time": "2024-12-04T10:46:28.5890668Z",
       "livy_statement_state": "available",
       "normalized_state": "finished",
       "parent_msg_id": "738223af-ec34-40ae-99b6-ee2dd78d3dd1",
       "queued_time": "2024-12-04T10:46:27.9656173Z",
       "session_id": "c3362933-4b99-4fc4-b98a-e8b07e6c5a39",
       "session_start_time": null,
       "spark_pool": null,
       "state": "finished",
       "statement_id": 155,
       "statement_ids": [
        155
       ]
      },
      "text/plain": [
       "StatementMeta(, c3362933-4b99-4fc4-b98a-e8b07e6c5a39, 155, Finished, Available, Finished)"
      ]
     },
     "metadata": {},
     "output_type": "display_data"
    },
    {
     "data": {
      "text/plain": [
       "imd_desc\n",
       "Quintile 2    50\n",
       "Quintile 5    48\n",
       "Quintile 4    48\n",
       "Quintile 3    37\n",
       "Quintile 1    14\n",
       "               3\n",
       "Name: count, dtype: int64"
      ]
     },
     "execution_count": 464,
     "metadata": {},
     "output_type": "execute_result"
    }
   ],
   "source": [
    "dfp1_sorted_bottom200['imd_desc'].value_counts()\n"
   ]
  },
  {
   "cell_type": "markdown",
   "id": "ce8b035f-64a1-41ce-bfc2-60aed00b5d6d",
   "metadata": {
    "microsoft": {
     "language": "python",
     "language_group": "synapse_pyspark"
    },
    "nteract": {
     "transient": {
      "deleting": false
     }
    }
   },
   "source": [
    "**Value counts for 'idaci_desc' column**"
   ]
  },
  {
   "cell_type": "code",
   "execution_count": 154,
   "id": "7409c064-b6fd-4194-9a0f-a7c3e7be73fd",
   "metadata": {
    "jupyter": {
     "outputs_hidden": false,
     "source_hidden": false
    },
    "microsoft": {
     "language": "python",
     "language_group": "synapse_pyspark"
    },
    "nteract": {
     "transient": {
      "deleting": false
     }
    }
   },
   "outputs": [
    {
     "data": {
      "application/vnd.livy.statement-meta+json": {
       "execution_finish_time": "2024-12-04T10:46:33.0815462Z",
       "execution_start_time": "2024-12-04T10:46:32.8184135Z",
       "livy_statement_state": "available",
       "normalized_state": "finished",
       "parent_msg_id": "6959123c-21af-4b1b-bff4-db92b1de33b6",
       "queued_time": "2024-12-04T10:46:32.3398956Z",
       "session_id": "c3362933-4b99-4fc4-b98a-e8b07e6c5a39",
       "session_start_time": null,
       "spark_pool": null,
       "state": "finished",
       "statement_id": 156,
       "statement_ids": [
        156
       ]
      },
      "text/plain": [
       "StatementMeta(, c3362933-4b99-4fc4-b98a-e8b07e6c5a39, 156, Finished, Available, Finished)"
      ]
     },
     "metadata": {},
     "output_type": "display_data"
    },
    {
     "data": {
      "text/plain": [
       "idaci_desc\n",
       "Quintile 5    58\n",
       "Quintile 2    46\n",
       "Quintile 4    42\n",
       "Quintile 1    36\n",
       "Quintile 3    15\n",
       "               3\n",
       "Name: count, dtype: int64"
      ]
     },
     "execution_count": 467,
     "metadata": {},
     "output_type": "execute_result"
    }
   ],
   "source": [
    "dfp1_sorted_bottom200['idaci_desc'].value_counts()\n"
   ]
  },
  {
   "cell_type": "markdown",
   "id": "0f90272f-7fc1-4e73-8f53-7400bc7cb0f1",
   "metadata": {
    "microsoft": {
     "language": "python",
     "language_group": "synapse_pyspark"
    },
    "nteract": {
     "transient": {
      "deleting": false
     }
    }
   },
   "source": [
    "**Value counts for 'disability_type' column**"
   ]
  },
  {
   "cell_type": "code",
   "execution_count": 155,
   "id": "0d25ee8f-4dfa-4806-8db0-f22d69ed00a0",
   "metadata": {
    "jupyter": {
     "outputs_hidden": false,
     "source_hidden": false
    },
    "microsoft": {
     "language": "python",
     "language_group": "synapse_pyspark"
    },
    "nteract": {
     "transient": {
      "deleting": false
     }
    }
   },
   "outputs": [
    {
     "data": {
      "application/vnd.livy.statement-meta+json": {
       "execution_finish_time": "2024-12-04T10:46:37.3593799Z",
       "execution_start_time": "2024-12-04T10:46:37.1233421Z",
       "livy_statement_state": "available",
       "normalized_state": "finished",
       "parent_msg_id": "5f2eeca2-bec8-46ae-97a7-fb86f64480a9",
       "queued_time": "2024-12-04T10:46:36.7005358Z",
       "session_id": "c3362933-4b99-4fc4-b98a-e8b07e6c5a39",
       "session_start_time": null,
       "spark_pool": null,
       "state": "finished",
       "statement_id": 157,
       "statement_ids": [
        157
       ]
      },
      "text/plain": [
       "StatementMeta(, c3362933-4b99-4fc4-b98a-e8b07e6c5a39, 157, Finished, Available, Finished)"
      ]
     },
     "metadata": {},
     "output_type": "display_data"
    },
    {
     "data": {
      "text/plain": [
       "disability_type\n",
       "No disability reported                      183\n",
       "Sensory, medical or physical impairments     10\n",
       "Cognitive or learning difficulties            6\n",
       "Multiple or other impairments                 1\n",
       "Name: count, dtype: int64"
      ]
     },
     "execution_count": 470,
     "metadata": {},
     "output_type": "execute_result"
    }
   ],
   "source": [
    "dfp1_sorted_bottom200['disability_type'].value_counts()\n"
   ]
  }
 ],
 "metadata": {
  "dependencies": {
   "lakehouse": {
    "default_lakehouse": "345cc153-7d3a-431b-a080-e6ffb83063f8",
    "default_lakehouse_name": "SilverData",
    "default_lakehouse_workspace_id": "21762bb0-73d6-4005-852d-a2d1ab125ffe"
   }
  },
  "kernel_info": {
   "name": "synapse_pyspark"
  },
  "kernelspec": {
   "display_name": "Synapse PySpark",
   "language": "Python",
   "name": "synapse_pyspark"
  },
  "language_info": {
   "name": "python"
  },
  "microsoft": {
   "language": "python",
   "language_group": "synapse_pyspark",
   "ms_spell_check": {
    "ms_spell_check_language": "en"
   }
  },
  "nteract": {
   "version": "nteract-front-end@1.0.0"
  },
  "spark_compute": {
   "compute_id": "/trident/default",
   "session_options": {
    "conf": {
     "spark.synapse.nbs.session.timeout": "1200000"
    }
   }
  }
 },
 "nbformat": 4,
 "nbformat_minor": 5
}
